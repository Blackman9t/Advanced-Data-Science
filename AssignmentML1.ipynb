{
  "nbformat": 4,
  "nbformat_minor": 0,
  "metadata": {
    "kernelspec": {
      "name": "python3",
      "display_name": "Python 3"
    },
    "language_info": {
      "codemirror_mode": {
        "name": "ipython",
        "version": 3
      },
      "file_extension": ".py",
      "mimetype": "text/x-python",
      "name": "python",
      "nbconvert_exporter": "python",
      "pygments_lexer": "ipython3",
      "version": "3.7.4"
    },
    "colab": {
      "name": "AssignmentML1.ipynb",
      "provenance": [],
      "include_colab_link": true
    },
    "accelerator": "GPU"
  },
  "cells": [
    {
      "cell_type": "markdown",
      "metadata": {
        "id": "view-in-github",
        "colab_type": "text"
      },
      "source": [
        "<a href=\"https://colab.research.google.com/github/Blackman9t/Advanced-Data-Science/blob/master/AssignmentML1.ipynb\" target=\"_parent\"><img src=\"https://colab.research.google.com/assets/colab-badge.svg\" alt=\"Open In Colab\"/></a>"
      ]
    },
    {
      "cell_type": "markdown",
      "metadata": {
        "id": "wgnnW8XyZ83I",
        "colab_type": "text"
      },
      "source": [
        "This is the first assignment for the Coursera course \"Advanced Machine Learning and Signal Processing\"\n",
        "\n",
        "Just execute all cells one after the other and you are done - just note that in the last one you have to update your email address (the one you've used for coursera) and obtain a submission token, you get this from the programming assignment directly on coursera."
      ]
    },
    {
      "cell_type": "code",
      "metadata": {
        "id": "FX1kgH9MZ83L",
        "colab_type": "code",
        "outputId": "6c3e6bfd-cd17-4647-be3d-2a1e9d481371",
        "colab": {
          "base_uri": "https://localhost:8080/",
          "height": 286
        }
      },
      "source": [
        "!wget https://github.com/IBM/coursera/raw/master/coursera_ml/a2.parquet\n",
        "#https://raw.githubusercontent.com/IBM/coursera/master/coursera_ml/AssignmentML1.ipynb"
      ],
      "execution_count": 6,
      "outputs": [
        {
          "output_type": "stream",
          "text": [
            "--2020-02-17 20:04:30--  https://github.com/IBM/coursera/raw/master/coursera_ml/a2.parquet\n",
            "Resolving github.com (github.com)... 140.82.113.4\n",
            "Connecting to github.com (github.com)|140.82.113.4|:443... connected.\n",
            "HTTP request sent, awaiting response... 302 Found\n",
            "Location: https://raw.githubusercontent.com/IBM/coursera/master/coursera_ml/a2.parquet [following]\n",
            "--2020-02-17 20:04:30--  https://raw.githubusercontent.com/IBM/coursera/master/coursera_ml/a2.parquet\n",
            "Resolving raw.githubusercontent.com (raw.githubusercontent.com)... 151.101.0.133, 151.101.64.133, 151.101.128.133, ...\n",
            "Connecting to raw.githubusercontent.com (raw.githubusercontent.com)|151.101.0.133|:443... connected.\n",
            "HTTP request sent, awaiting response... 200 OK\n",
            "Length: 59032 (58K) [application/octet-stream]\n",
            "Saving to: ‘a2.parquet’\n",
            "\n",
            "\ra2.parquet            0%[                    ]       0  --.-KB/s               \ra2.parquet          100%[===================>]  57.65K  --.-KB/s    in 0.02s   \n",
            "\n",
            "2020-02-17 20:04:30 (2.37 MB/s) - ‘a2.parquet’ saved [59032/59032]\n",
            "\n"
          ],
          "name": "stdout"
        }
      ]
    },
    {
      "cell_type": "markdown",
      "metadata": {
        "id": "uRmYPseCbf0h",
        "colab_type": "text"
      },
      "source": [
        "Now let's load pyspark and its dependencies in Colab"
      ]
    },
    {
      "cell_type": "code",
      "metadata": {
        "id": "D3HsDWXnbpC9",
        "colab_type": "code",
        "outputId": "38a11fd0-4da0-4a51-ddba-87a1d42a4f8c",
        "colab": {
          "base_uri": "https://localhost:8080/",
          "height": 50
        }
      },
      "source": [
        "!apt-get install openjdk-8-jdk-headless -qq > /dev/null\n",
        "!wget -q http://apache.osuosl.org/spark/spark-2.4.5/spark-2.4.5-bin-hadoop2.7.tgz\n",
        "!tar xf spark-2.4.5-bin-hadoop2.7.tgz\n",
        "\n",
        "!pip install -q findspark\n",
        "!pip install pyspark\n",
        "# Set up required environment variables\n",
        "\n",
        "import os\n",
        "os.environ[\"JAVA_HOME\"] = \"/usr/lib/jvm/java-8-openjdk-amd64\"\n",
        "os.environ[\"SPARK_HOME\"] = \"/content/spark-2.4.5-bin-hadoop2.7\""
      ],
      "execution_count": 7,
      "outputs": [
        {
          "output_type": "stream",
          "text": [
            "Requirement already satisfied: pyspark in /usr/local/lib/python3.6/dist-packages (2.4.5)\n",
            "Requirement already satisfied: py4j==0.10.7 in /usr/local/lib/python3.6/dist-packages (from pyspark) (0.10.7)\n"
          ],
          "name": "stdout"
        }
      ]
    },
    {
      "cell_type": "markdown",
      "metadata": {
        "id": "oWzDWykWcNOF",
        "colab_type": "text"
      },
      "source": [
        "Next we set up a Spark Context if none exists"
      ]
    },
    {
      "cell_type": "code",
      "metadata": {
        "id": "3oO34sQ7cTEX",
        "colab_type": "code",
        "outputId": "224ec98b-7b9b-41f0-924e-d1f4adfe8f20",
        "colab": {
          "base_uri": "https://localhost:8080/",
          "height": 34
        }
      },
      "source": [
        "from pyspark import SparkConf, SparkContext\n",
        "try:\n",
        "    conf = SparkConf().setMaster('local').setAppName('my_app')\n",
        "    sc = SparkContext(conf = conf)\n",
        "    print('SparkContext initialised successfully!')\n",
        "except Exception as e:\n",
        "    print(type(e),e)"
      ],
      "execution_count": 8,
      "outputs": [
        {
          "output_type": "stream",
          "text": [
            "<class 'ValueError'> Cannot run multiple SparkContexts at once; existing SparkContext(app=my_app, master=local) created by __init__ at <ipython-input-3-57a84026bec8>:4 \n"
          ],
          "name": "stdout"
        }
      ]
    },
    {
      "cell_type": "markdown",
      "metadata": {
        "id": "S0E0YberdWyo",
        "colab_type": "text"
      },
      "source": [
        "Next we create a SparkSession named spark"
      ]
    },
    {
      "cell_type": "code",
      "metadata": {
        "id": "BuUdJ7k4dea5",
        "colab_type": "code",
        "outputId": "3be69365-f95e-4de9-aa52-300baf6599a6",
        "colab": {
          "base_uri": "https://localhost:8080/",
          "height": 214
        }
      },
      "source": [
        "from pyspark.sql import SparkSession\n",
        "spark = SparkSession.builder.appName('my_app').getOrCreate()\n",
        "spark"
      ],
      "execution_count": 9,
      "outputs": [
        {
          "output_type": "execute_result",
          "data": {
            "text/html": [
              "\n",
              "            <div>\n",
              "                <p><b>SparkSession - in-memory</b></p>\n",
              "                \n",
              "        <div>\n",
              "            <p><b>SparkContext</b></p>\n",
              "\n",
              "            <p><a href=\"http://36317d1e3424:4040\">Spark UI</a></p>\n",
              "\n",
              "            <dl>\n",
              "              <dt>Version</dt>\n",
              "                <dd><code>v2.4.5</code></dd>\n",
              "              <dt>Master</dt>\n",
              "                <dd><code>local</code></dd>\n",
              "              <dt>AppName</dt>\n",
              "                <dd><code>my_app</code></dd>\n",
              "            </dl>\n",
              "        </div>\n",
              "        \n",
              "            </div>\n",
              "        "
            ],
            "text/plain": [
              "<pyspark.sql.session.SparkSession at 0x7f64eea4ed30>"
            ]
          },
          "metadata": {
            "tags": []
          },
          "execution_count": 9
        }
      ]
    },
    {
      "cell_type": "markdown",
      "metadata": {
        "id": "cILzc-2Ad_ky",
        "colab_type": "text"
      },
      "source": [
        "Let's now ontinue processing the parquet file"
      ]
    },
    {
      "cell_type": "code",
      "metadata": {
        "id": "Md0To-dmZ83R",
        "colab_type": "code",
        "outputId": "ec13b79e-f104-4226-e48c-af8efbb2eb05",
        "colab": {
          "base_uri": "https://localhost:8080/",
          "height": 454
        }
      },
      "source": [
        "df=spark.read.load('a2.parquet')\n",
        "\n",
        "df.createOrReplaceTempView(\"df\")\n",
        "spark.sql(\"SELECT * from df\").show()"
      ],
      "execution_count": 10,
      "outputs": [
        {
          "output_type": "stream",
          "text": [
            "+-----+-----------+-------------------+-------------------+-------------------+\n",
            "|CLASS|   SENSORID|                  X|                  Y|                  Z|\n",
            "+-----+-----------+-------------------+-------------------+-------------------+\n",
            "|    0|         26| 380.66434005495194| -139.3470983812975|-247.93697521077704|\n",
            "|    0|         29| 104.74324299209692| -32.27421440203938|-25.105013725863852|\n",
            "|    0| 8589934658| 118.11469236129976| 45.916682927433534| -87.97203782706572|\n",
            "|    0|34359738398| 246.55394030642543|-0.6122810693132044|-398.18662513951506|\n",
            "|    0|17179869241|-190.32584900181487|  234.7849657520335|-206.34483804019288|\n",
            "|    0|25769803830| 178.62396382387422| -47.07529438881511|  84.38310769821979|\n",
            "|    0|25769803831|  85.03128805189493|-4.3024316644854546|-1.1841857567516714|\n",
            "|    0|34359738411| 26.786262674736566| -46.33193951911338| 20.880756008396055|\n",
            "|    0| 8589934592|-16.203752396859194| 51.080957032176954| -96.80526656416971|\n",
            "|    0|25769803852|   47.2048142440404|  -78.2950899652916| 181.99604091494786|\n",
            "|    0|34359738369| 15.608872398939273| -79.90322809181754|  69.62150711098005|\n",
            "|    0|         19|-4.8281721129789315| -67.38050508399905| 221.24876396496404|\n",
            "|    0|         54| -98.40725712852762|-19.989364074314732|  -302.695196085276|\n",
            "|    0|17179869313| 22.835845394816594|   17.1633660118843| 32.877914832011385|\n",
            "|    0|34359738454|  84.20178070080324| -32.81572075916947| -48.63517643958031|\n",
            "|    0|          0|  56.54732521345129| -7.980106018032676|  95.05162719436447|\n",
            "|    0|17179869201|  -57.6008655247749|  5.135393798773895| 236.99158698947267|\n",
            "|    0|17179869308| -65.59264738389012| -48.92660057215126| -61.58970715383383|\n",
            "|    0|25769803790|  34.82337351291005|  9.483542084393937|  197.6066372962772|\n",
            "|    0|25769803825|  39.80573823439121|-0.7955236412785212| -79.66652640650325|\n",
            "+-----+-----------+-------------------+-------------------+-------------------+\n",
            "only showing top 20 rows\n",
            "\n"
          ],
          "name": "stdout"
        }
      ]
    },
    {
      "cell_type": "code",
      "metadata": {
        "id": "PF6IAo7WeOvt",
        "colab_type": "code",
        "outputId": "4fc867e9-3e53-4c8b-93bd-7118bc2276c4",
        "colab": {
          "base_uri": "https://localhost:8080/",
          "height": 34
        }
      },
      "source": [
        "spark.catalog.listTables()"
      ],
      "execution_count": 11,
      "outputs": [
        {
          "output_type": "execute_result",
          "data": {
            "text/plain": [
              "[Table(name='df', database=None, description=None, tableType='TEMPORARY', isTemporary=True)]"
            ]
          },
          "metadata": {
            "tags": []
          },
          "execution_count": 11
        }
      ]
    },
    {
      "cell_type": "code",
      "metadata": {
        "id": "O12_USTOeZP1",
        "colab_type": "code",
        "outputId": "7a44dd84-8b46-4150-bdd0-328d6e806218",
        "colab": {
          "base_uri": "https://localhost:8080/",
          "height": 34
        }
      },
      "source": [
        "type(df)"
      ],
      "execution_count": 12,
      "outputs": [
        {
          "output_type": "execute_result",
          "data": {
            "text/plain": [
              "pyspark.sql.dataframe.DataFrame"
            ]
          },
          "metadata": {
            "tags": []
          },
          "execution_count": 12
        }
      ]
    },
    {
      "cell_type": "code",
      "metadata": {
        "id": "ddFA1QX-e_V9",
        "colab_type": "code",
        "outputId": "0ebc6e6f-fb02-4ce7-d188-095b8abe46d7",
        "colab": {
          "base_uri": "https://localhost:8080/",
          "height": 134
        }
      },
      "source": [
        "df.printSchema()"
      ],
      "execution_count": 13,
      "outputs": [
        {
          "output_type": "stream",
          "text": [
            "root\n",
            " |-- CLASS: integer (nullable = true)\n",
            " |-- SENSORID: long (nullable = true)\n",
            " |-- X: double (nullable = true)\n",
            " |-- Y: double (nullable = true)\n",
            " |-- Z: double (nullable = true)\n",
            "\n"
          ],
          "name": "stdout"
        }
      ]
    },
    {
      "cell_type": "code",
      "metadata": {
        "id": "Nnvn4Uo4Z83U",
        "colab_type": "code",
        "colab": {}
      },
      "source": [
        "!rm -Rf a2_m1.json"
      ],
      "execution_count": 0,
      "outputs": []
    },
    {
      "cell_type": "code",
      "metadata": {
        "id": "h3KZz9LnZ83Y",
        "colab_type": "code",
        "colab": {}
      },
      "source": [
        "df = df.repartition(1)\n",
        "df.write.json('a2_m1.json')"
      ],
      "execution_count": 0,
      "outputs": []
    },
    {
      "cell_type": "code",
      "metadata": {
        "id": "95spBLkrZ83b",
        "colab_type": "code",
        "outputId": "f9674d7d-f80a-4360-fd54-7b5304c0fcfb",
        "colab": {
          "base_uri": "https://localhost:8080/",
          "height": 202
        }
      },
      "source": [
        "!rm -f rklib.py\n",
        "!wget https://raw.githubusercontent.com/IBM/coursera/master/rklib.py"
      ],
      "execution_count": 16,
      "outputs": [
        {
          "output_type": "stream",
          "text": [
            "--2020-02-17 20:06:20--  https://raw.githubusercontent.com/IBM/coursera/master/rklib.py\n",
            "Resolving raw.githubusercontent.com (raw.githubusercontent.com)... 151.101.0.133, 151.101.64.133, 151.101.128.133, ...\n",
            "Connecting to raw.githubusercontent.com (raw.githubusercontent.com)|151.101.0.133|:443... connected.\n",
            "HTTP request sent, awaiting response... 200 OK\n",
            "Length: 2540 (2.5K) [text/plain]\n",
            "Saving to: ‘rklib.py’\n",
            "\n",
            "\rrklib.py              0%[                    ]       0  --.-KB/s               \rrklib.py            100%[===================>]   2.48K  --.-KB/s    in 0s      \n",
            "\n",
            "2020-02-17 20:06:20 (88.4 MB/s) - ‘rklib.py’ saved [2540/2540]\n",
            "\n"
          ],
          "name": "stdout"
        }
      ]
    },
    {
      "cell_type": "code",
      "metadata": {
        "id": "1cHkZ4qkZ83e",
        "colab_type": "code",
        "colab": {}
      },
      "source": [
        "import zipfile\n",
        "\n",
        "def zipdir(path, ziph):\n",
        "    for root, dirs, files in os.walk(path):\n",
        "        for file in files:\n",
        "            ziph.write(os.path.join(root, file))\n",
        "\n",
        "zipf = zipfile.ZipFile('a2_m1.json.zip', 'w', zipfile.ZIP_DEFLATED)\n",
        "zipdir('a2_m1.json', zipf)\n",
        "zipf.close()"
      ],
      "execution_count": 0,
      "outputs": []
    },
    {
      "cell_type": "code",
      "metadata": {
        "id": "lRwssQoVZ83h",
        "colab_type": "code",
        "colab": {}
      },
      "source": [
        "!base64 a2_m1.json.zip > a2_m1.json.zip.base64"
      ],
      "execution_count": 0,
      "outputs": []
    },
    {
      "cell_type": "code",
      "metadata": {
        "id": "rmwxiDwJZ83k",
        "colab_type": "code",
        "outputId": "b6c19308-dd14-4126-c938-6224669d4aac",
        "colab": {
          "base_uri": "https://localhost:8080/",
          "height": 104
        }
      },
      "source": [
        "from rklib import submit\n",
        "key = \"1injH2F0EeiLlRJ3eJKoXA\"\n",
        "part = \"wNLDt\"\n",
        "email = \"sisokels@gmail.com\"\n",
        "token = \"Wb8YujFos5bEGfAl\" #(have a look here if you need more information on how to obtain the token https://youtu.be/GcDo0Rwe06U?t=276)\n",
        "\n",
        "with open('a2_m1.json.zip.base64', 'r') as myfile:\n",
        "    data=myfile.read()\n",
        "submit(email, token, key, part, [part], data)"
      ],
      "execution_count": 19,
      "outputs": [
        {
          "output_type": "stream",
          "text": [
            "Something went wrong, please have a look at the reponse of the grader\n",
            "-------------------------\n",
            "{\"errorCode\":\"invalidEmailOrToken\",\"message\":\"Invalid email or token.\",\"details\":{\"learnerMessage\":\"You used an invalid email or your token may have expired. Please make sure you have entered all fields correctly. Try generating a new token if the issue still persists.\"}}\n",
            "-------------------------\n"
          ],
          "name": "stdout"
        }
      ]
    }
  ]
}