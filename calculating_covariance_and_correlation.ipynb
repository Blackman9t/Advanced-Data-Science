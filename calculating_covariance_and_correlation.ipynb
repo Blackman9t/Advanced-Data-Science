{
  "nbformat": 4,
  "nbformat_minor": 0,
  "metadata": {
    "kernelspec": {
      "name": "python36",
      "display_name": "Python 3.6 with Spark",
      "language": "python3"
    },
    "language_info": {
      "codemirror_mode": {
        "name": "ipython",
        "version": 3
      },
      "file_extension": ".py",
      "mimetype": "text/x-python",
      "name": "python",
      "nbconvert_exporter": "python",
      "pygments_lexer": "ipython3",
      "version": "3.5.4"
    },
    "colab": {
      "name": "calculating_covariance_and_correlation.ipynb",
      "provenance": [],
      "include_colab_link": true
    }
  },
  "cells": [
    {
      "cell_type": "markdown",
      "metadata": {
        "id": "view-in-github",
        "colab_type": "text"
      },
      "source": [
        "<a href=\"https://colab.research.google.com/github/Blackman9t/Advanced-Data-Science/blob/master/calculating_covariance_and_correlation.ipynb\" target=\"_parent\"><img src=\"https://colab.research.google.com/assets/colab-badge.svg\" alt=\"Open In Colab\"/></a>"
      ]
    },
    {
      "cell_type": "markdown",
      "metadata": {
        "id": "i3ZH89--0wZ9",
        "colab_type": "text"
      },
      "source": [
        "# Exercise 2\n",
        "\n"
      ]
    },
    {
      "cell_type": "markdown",
      "metadata": {
        "id": "ijUk5PP8qtQl",
        "colab_type": "text"
      },
      "source": [
        "First let's load spark dependencies"
      ]
    },
    {
      "cell_type": "code",
      "metadata": {
        "id": "Q3jDDzluqx63",
        "colab_type": "code",
        "colab": {
          "base_uri": "https://localhost:8080/",
          "height": 50
        },
        "outputId": "5b395f78-ef4f-4639-8960-4508fa3d80a8"
      },
      "source": [
        "!apt-get install openjdk-8-jdk-headless -qq > /dev/null\n",
        "!wget -q http://apache.osuosl.org/spark/spark-2.4.5/spark-2.4.5-bin-hadoop2.7.tgz\n",
        "!tar xf spark-2.4.5-bin-hadoop2.7.tgz\n",
        "\n",
        "!pip install -q findspark\n",
        "!pip install pyspark\n",
        "# Set up required environment variables\n",
        "\n",
        "import os\n",
        "os.environ[\"JAVA_HOME\"] = \"/usr/lib/jvm/java-8-openjdk-amd64\"\n",
        "os.environ[\"SPARK_HOME\"] = \"/content/spark-2.4.5-bin-hadoop2.7\""
      ],
      "execution_count": 4,
      "outputs": [
        {
          "output_type": "stream",
          "text": [
            "Requirement already satisfied: pyspark in /usr/local/lib/python3.6/dist-packages (2.4.5)\n",
            "Requirement already satisfied: py4j==0.10.7 in /usr/local/lib/python3.6/dist-packages (from pyspark) (0.10.7)\n"
          ],
          "name": "stdout"
        }
      ]
    },
    {
      "cell_type": "markdown",
      "metadata": {
        "id": "f7IS5NOZrFNO",
        "colab_type": "text"
      },
      "source": [
        "Next let's set up a Spark context object if none exists"
      ]
    },
    {
      "cell_type": "code",
      "metadata": {
        "id": "x54g6ixtrL__",
        "colab_type": "code",
        "colab": {
          "base_uri": "https://localhost:8080/",
          "height": 34
        },
        "outputId": "05ecb93c-af03-484d-f503-209a3e4cbc09"
      },
      "source": [
        "from pyspark import SparkConf, SparkContext\n",
        "\n",
        "try:\n",
        "    conf = SparkConf().setMaster('local').setAppName('myApp')\n",
        "    sc = SparkContext(conf=conf)\n",
        "    print('Spark Context Initialised Successfully')\n",
        "except Exception as e:\n",
        "    print(e)"
      ],
      "execution_count": 5,
      "outputs": [
        {
          "output_type": "stream",
          "text": [
            "Spark Context Initialised Successfully\n"
          ],
          "name": "stdout"
        }
      ]
    },
    {
      "cell_type": "markdown",
      "metadata": {
        "id": "oBatTadHsJAi",
        "colab_type": "text"
      },
      "source": [
        "Let's see our Spark Context object"
      ]
    },
    {
      "cell_type": "code",
      "metadata": {
        "id": "ekq0UgZgsPgR",
        "colab_type": "code",
        "colab": {
          "base_uri": "https://localhost:8080/",
          "height": 191
        },
        "outputId": "2feac62b-792e-4dfd-ca9b-15c692867187"
      },
      "source": [
        "sc"
      ],
      "execution_count": 6,
      "outputs": [
        {
          "output_type": "execute_result",
          "data": {
            "text/html": [
              "\n",
              "        <div>\n",
              "            <p><b>SparkContext</b></p>\n",
              "\n",
              "            <p><a href=\"http://8bd59deaa25d:4040\">Spark UI</a></p>\n",
              "\n",
              "            <dl>\n",
              "              <dt>Version</dt>\n",
              "                <dd><code>v2.4.5</code></dd>\n",
              "              <dt>Master</dt>\n",
              "                <dd><code>local</code></dd>\n",
              "              <dt>AppName</dt>\n",
              "                <dd><code>myApp</code></dd>\n",
              "            </dl>\n",
              "        </div>\n",
              "        "
            ],
            "text/plain": [
              "<SparkContext master=local appName=myApp>"
            ]
          },
          "metadata": {
            "tags": []
          },
          "execution_count": 6
        }
      ]
    },
    {
      "cell_type": "markdown",
      "metadata": {
        "id": "93_tWuCWsbpJ",
        "colab_type": "text"
      },
      "source": [
        "## Part 1\n",
        "Now let's calculate covariance and correlation by ourselves using ApacheSpark\n",
        "\n",
        "1st we crate two random RDD’s, which shouldn't correlate at all."
      ]
    },
    {
      "cell_type": "code",
      "metadata": {
        "id": "i5h_wXbp0wZ_",
        "colab_type": "code",
        "colab": {}
      },
      "source": [
        "import random\n",
        "rddX = sc.parallelize(random.sample(list(range(100)),100))\n",
        "rddY = sc.parallelize(random.sample(list(range(100)),100))"
      ],
      "execution_count": 0,
      "outputs": []
    },
    {
      "cell_type": "markdown",
      "metadata": {
        "id": "DSIrj8aO0waG",
        "colab_type": "text"
      },
      "source": [
        "Now we calculate the mean, note that we explicitly cast the denominator to float in order to obtain a float instead of int"
      ]
    },
    {
      "cell_type": "code",
      "metadata": {
        "id": "R4q2C6XV0waI",
        "colab_type": "code",
        "colab": {
          "base_uri": "https://localhost:8080/",
          "height": 50
        },
        "outputId": "aace11dc-a5ef-4faa-e6bf-9f0b56f5cc97"
      },
      "source": [
        "meanX = rddX.sum()/float(rddX.count())\n",
        "meanY = rddY.sum()/float(rddY.count())\n",
        "print (meanX)\n",
        "print (meanY)"
      ],
      "execution_count": 8,
      "outputs": [
        {
          "output_type": "stream",
          "text": [
            "49.5\n",
            "49.5\n"
          ],
          "name": "stdout"
        }
      ]
    },
    {
      "cell_type": "markdown",
      "metadata": {
        "id": "Bup-xd2i0waL",
        "colab_type": "text"
      },
      "source": [
        "Now we calculate the covariance"
      ]
    },
    {
      "cell_type": "code",
      "metadata": {
        "id": "EQit2Yfm0waN",
        "colab_type": "code",
        "colab": {
          "base_uri": "https://localhost:8080/",
          "height": 34
        },
        "outputId": "6990e70a-b3d2-4185-bd6d-e712d39ea554"
      },
      "source": [
        "rddXY = rddX.zip(rddY)\n",
        "covXY = rddXY.map(lambda x_y : (x_y[0]-meanX)*(x_y[1]-meanY)).sum()/rddXY.count()\n",
        "covXY"
      ],
      "execution_count": 9,
      "outputs": [
        {
          "output_type": "execute_result",
          "data": {
            "text/plain": [
              "64.32"
            ]
          },
          "metadata": {
            "tags": []
          },
          "execution_count": 9
        }
      ]
    },
    {
      "cell_type": "markdown",
      "metadata": {
        "id": "Pv__kwtl0waR",
        "colab_type": "text"
      },
      "source": [
        "Covariance is not a normalized measure. Therefore we use it to calculate correlation. But before that we need to calculate the indivicual standard deviations first"
      ]
    },
    {
      "cell_type": "code",
      "metadata": {
        "id": "HVa2D6u90waT",
        "colab_type": "code",
        "colab": {
          "base_uri": "https://localhost:8080/",
          "height": 50
        },
        "outputId": "ffce1748-cb8d-4bfb-b214-722e8bdf0ace"
      },
      "source": [
        "from math import sqrt\n",
        "n = rddXY.count()\n",
        "sdX = sqrt(rddX.map(lambda x : pow(x-meanX,2)).sum()/n)\n",
        "sdY = sqrt(rddY.map(lambda x : pow(x-meanY,2)).sum()/n)\n",
        "print (sdX)\n",
        "print (sdY)"
      ],
      "execution_count": 10,
      "outputs": [
        {
          "output_type": "stream",
          "text": [
            "28.86607004772212\n",
            "28.86607004772212\n"
          ],
          "name": "stdout"
        }
      ]
    },
    {
      "cell_type": "markdown",
      "metadata": {
        "id": "D-jCQ1Ml0waX",
        "colab_type": "text"
      },
      "source": [
        "Now we calculate the correlation"
      ]
    },
    {
      "cell_type": "code",
      "metadata": {
        "id": "jnikUxTB0waY",
        "colab_type": "code",
        "colab": {
          "base_uri": "https://localhost:8080/",
          "height": 34
        },
        "outputId": "05c65ee0-187a-46d3-9934-142de18f4055"
      },
      "source": [
        "corrXY = covXY / (sdX * sdY)\n",
        "corrXY"
      ],
      "execution_count": 11,
      "outputs": [
        {
          "output_type": "execute_result",
          "data": {
            "text/plain": [
              "0.07719171917191718"
            ]
          },
          "metadata": {
            "tags": []
          },
          "execution_count": 11
        }
      ]
    },
    {
      "cell_type": "markdown",
      "metadata": {
        "id": "AnwLlAXJ0wab",
        "colab_type": "text"
      },
      "source": [
        "## Part 2\n",
        "No we want to create a correlation matrix out of the four RDDs used in the lecture"
      ]
    },
    {
      "cell_type": "code",
      "metadata": {
        "id": "K4xS9HpG0wac",
        "colab_type": "code",
        "colab": {
          "base_uri": "https://localhost:8080/",
          "height": 84
        },
        "outputId": "77f1a0ec-db21-449f-982b-77db4ef5d061"
      },
      "source": [
        "from pyspark.mllib.stat import Statistics\n",
        "import random\n",
        "column1 = sc.parallelize(range(100))\n",
        "column2 = sc.parallelize(range(100,200))\n",
        "column3 = sc.parallelize(list(reversed(range(100))))\n",
        "column4 = sc.parallelize(random.sample(range(100),100))\n",
        "data = column1.zip(column2).zip(column3).zip(column4).map(lambda a_b_c_d : (a_b_c_d[0][0][0],a_b_c_d[0][0][1],a_b_c_d[0][1],a_b_c_d[1]) ).map(lambda a_b_c_d : [a_b_c_d[0],a_b_c_d[1],a_b_c_d[2],a_b_c_d[3]])\n",
        "print(Statistics.corr(data))"
      ],
      "execution_count": 12,
      "outputs": [
        {
          "output_type": "stream",
          "text": [
            "[[ 1.         1.        -1.        -0.0239664]\n",
            " [ 1.         1.        -1.        -0.0239664]\n",
            " [-1.        -1.         1.         0.0239664]\n",
            " [-0.0239664 -0.0239664  0.0239664  1.       ]]\n"
          ],
          "name": "stdout"
        }
      ]
    },
    {
      "cell_type": "markdown",
      "metadata": {
        "collapsed": true,
        "id": "CqQufMfp0waf",
        "colab_type": "text"
      },
      "source": [
        "Congratulations, you are done with Exercice 2"
      ]
    }
  ]
}