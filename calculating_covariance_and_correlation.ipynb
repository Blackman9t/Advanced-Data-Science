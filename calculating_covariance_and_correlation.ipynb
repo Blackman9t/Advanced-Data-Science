{
  "nbformat": 4,
  "nbformat_minor": 0,
  "metadata": {
    "kernelspec": {
      "name": "python36",
      "display_name": "Python 3.6 with Spark",
      "language": "python3"
    },
    "language_info": {
      "codemirror_mode": {
        "name": "ipython",
        "version": 3
      },
      "file_extension": ".py",
      "mimetype": "text/x-python",
      "name": "python",
      "nbconvert_exporter": "python",
      "pygments_lexer": "ipython3",
      "version": "3.5.4"
    },
    "colab": {
      "name": "calculating_covariance_and_correlation.ipynb",
      "provenance": [],
      "include_colab_link": true
    }
  },
  "cells": [
    {
      "cell_type": "markdown",
      "metadata": {
        "id": "view-in-github",
        "colab_type": "text"
      },
      "source": [
        "<a href=\"https://colab.research.google.com/github/Blackman9t/Advanced-Data-Science/blob/master/calculating_covariance_and_correlation.ipynb\" target=\"_parent\"><img src=\"https://colab.research.google.com/assets/colab-badge.svg\" alt=\"Open In Colab\"/></a>"
      ]
    },
    {
      "cell_type": "markdown",
      "metadata": {
        "id": "sK-Xy_FSrKmO",
        "colab_type": "text"
      },
      "source": [
        "# Exercise 2\n",
        "## Part 1\n",
        "Now let's calculate covariance and correlation by ourselves using ApacheSpark\n",
        "\n",
        "1st we crate two random RDD’s, which shouldn't correlate at all.\n"
      ]
    },
    {
      "cell_type": "code",
      "metadata": {
        "id": "aODe6c7VrKmQ",
        "colab_type": "code",
        "colab": {},
        "outputId": "2ecdddc6-7727-4ab7-9408-61856c4e3f97"
      },
      "source": [
        "import random\n",
        "rddX = sc.parallelize(random.sample(list(range(100)),100))\n",
        "rddY = sc.parallelize(random.sample(list(range(100)),100))"
      ],
      "execution_count": 0,
      "outputs": [
        {
          "output_type": "stream",
          "text": [
            "Waiting for a Spark session to start...\n",
            "Spark Initialization Done! ApplicationId = app-20190311213801-0000\n",
            "KERNEL_ID = ad8b051e-eb20-41ff-80d6-cc41afd5724e\n"
          ],
          "name": "stdout"
        }
      ]
    },
    {
      "cell_type": "markdown",
      "metadata": {
        "id": "N_MkuYlNrKmU",
        "colab_type": "text"
      },
      "source": [
        "Now we calculate the mean, note that we explicitly cast the denominator to float in order to obtain a float instead of int"
      ]
    },
    {
      "cell_type": "code",
      "metadata": {
        "id": "nPRJGz9ArKmV",
        "colab_type": "code",
        "colab": {},
        "outputId": "746bcf05-e3d3-4e55-e11e-c740751eaf01"
      },
      "source": [
        "meanX = rddX.sum()/float(rddX.count())\n",
        "meanY = rddY.sum()/float(rddY.count())\n",
        "print (meanX)\n",
        "print (meanY)"
      ],
      "execution_count": 0,
      "outputs": [
        {
          "output_type": "stream",
          "text": [
            "49.5\n",
            "49.5\n"
          ],
          "name": "stdout"
        }
      ]
    },
    {
      "cell_type": "markdown",
      "metadata": {
        "id": "Hu9ArIVhrKmY",
        "colab_type": "text"
      },
      "source": [
        "Now we calculate the covariance"
      ]
    },
    {
      "cell_type": "code",
      "metadata": {
        "id": "DTxj3klSrKmZ",
        "colab_type": "code",
        "colab": {},
        "outputId": "b2232ada-a977-47a4-e699-8e9b76df62e2"
      },
      "source": [
        "rddXY = rddX.zip(rddY)\n",
        "covXY = rddXY.map(lambda x_y : (x_y[0]-meanX)*(x_y[1]-meanY)).sum()/rddXY.count()\n",
        "covXY"
      ],
      "execution_count": 0,
      "outputs": [
        {
          "output_type": "execute_result",
          "data": {
            "text/plain": [
              "-50.96"
            ]
          },
          "metadata": {
            "tags": []
          },
          "execution_count": 6
        }
      ]
    },
    {
      "cell_type": "markdown",
      "metadata": {
        "id": "45UfTS1GrKmb",
        "colab_type": "text"
      },
      "source": [
        "Covariance is not a normalized measure. Therefore we use it to calculate correlation. But before that we need to calculate the indivicual standard deviations first"
      ]
    },
    {
      "cell_type": "code",
      "metadata": {
        "id": "lVMwnHRKrKmc",
        "colab_type": "code",
        "colab": {},
        "outputId": "c4e7e6d7-0387-4707-8d4d-3d6a1ea962ea"
      },
      "source": [
        "from math import sqrt\n",
        "n = rddXY.count()\n",
        "sdX = sqrt(rddX.map(lambda x : pow(x-meanX,2)).sum()/n)\n",
        "sdY = sqrt(rddY.map(lambda x : pow(x-meanY,2)).sum()/n)\n",
        "print (sdX)\n",
        "print (sdY)"
      ],
      "execution_count": 0,
      "outputs": [
        {
          "output_type": "stream",
          "text": [
            "28.86607004772212\n",
            "28.86607004772212\n"
          ],
          "name": "stdout"
        }
      ]
    },
    {
      "cell_type": "markdown",
      "metadata": {
        "id": "6s_o2GyQrKme",
        "colab_type": "text"
      },
      "source": [
        "Now we calculate the correlation"
      ]
    },
    {
      "cell_type": "code",
      "metadata": {
        "id": "z4C1V1ZorKmf",
        "colab_type": "code",
        "colab": {},
        "outputId": "b5a47a51-195b-405f-938d-1f6121930a18"
      },
      "source": [
        "corrXY = covXY / (sdX * sdY)\n",
        "corrXY"
      ],
      "execution_count": 0,
      "outputs": [
        {
          "output_type": "execute_result",
          "data": {
            "text/plain": [
              "-0.06115811581158116"
            ]
          },
          "metadata": {
            "tags": []
          },
          "execution_count": 9
        }
      ]
    },
    {
      "cell_type": "markdown",
      "metadata": {
        "id": "F0UY41cfrKmh",
        "colab_type": "text"
      },
      "source": [
        "## Part 2\n",
        "No we want to create a correlation matrix out of the four RDDs used in the lecture"
      ]
    },
    {
      "cell_type": "code",
      "metadata": {
        "id": "HF1eYXfKrKmi",
        "colab_type": "code",
        "colab": {},
        "outputId": "dee5f9db-161c-4b0c-bb0e-aae987519cff"
      },
      "source": [
        "from pyspark.mllib.stat import Statistics\n",
        "import random\n",
        "column1 = sc.parallelize(range(100))\n",
        "column2 = sc.parallelize(range(100,200))\n",
        "column3 = sc.parallelize(list(reversed(range(100))))\n",
        "column4 = sc.parallelize(random.sample(range(100),100))\n",
        "data = column1.zip(column2).zip(column3).zip(column4).map(lambda a_b_c_d : (a_b_c_d[0][0][0],a_b_c_d[0][0][1],a_b_c_d[0][1],a_b_c_d[1]) ).map(lambda a_b_c_d : [a_b_c_d[0],a_b_c_d[1],a_b_c_d[2],a_b_c_d[3]])\n",
        "print(Statistics.corr(data))"
      ],
      "execution_count": 0,
      "outputs": [
        {
          "output_type": "stream",
          "text": [
            "[[ 1.          1.         -1.          0.06967897]\n",
            " [ 1.          1.         -1.          0.06967897]\n",
            " [-1.         -1.          1.         -0.06967897]\n",
            " [ 0.06967897  0.06967897 -0.06967897  1.        ]]\n"
          ],
          "name": "stdout"
        }
      ]
    },
    {
      "cell_type": "markdown",
      "metadata": {
        "collapsed": true,
        "id": "pHrwCDaMrKml",
        "colab_type": "text"
      },
      "source": [
        "Congratulations, you are done with Exercice 2"
      ]
    }
  ]
}