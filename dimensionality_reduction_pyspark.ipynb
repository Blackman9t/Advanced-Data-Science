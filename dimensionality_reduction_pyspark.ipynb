{
  "nbformat": 4,
  "nbformat_minor": 0,
  "metadata": {
    "colab": {
      "name": "dimensionality_reduction_pyspark.ipynb",
      "provenance": [],
      "collapsed_sections": [],
      "authorship_tag": "ABX9TyOZ1ONKNUUyKTWKjZNvthKH",
      "include_colab_link": true
    },
    "kernelspec": {
      "name": "python3",
      "display_name": "Python 3"
    },
    "accelerator": "GPU"
  },
  "cells": [
    {
      "cell_type": "markdown",
      "metadata": {
        "id": "view-in-github",
        "colab_type": "text"
      },
      "source": [
        "<a href=\"https://colab.research.google.com/github/Blackman9t/Advanced-Data-Science/blob/master/dimensionality_reduction_pyspark.ipynb\" target=\"_parent\"><img src=\"https://colab.research.google.com/assets/colab-badge.svg\" alt=\"Open In Colab\"/></a>"
      ]
    },
    {
      "cell_type": "markdown",
      "metadata": {
        "id": "giKCSW3NB0uo",
        "colab_type": "text"
      },
      "source": [
        "## Dimensionality Reduction (DR):\n",
        "\n",
        "It sometimes becomes hard to choose the correct dimensions for plotting. So we will learn how an algorithm can do this for us. DR is more than just getting rid of columns in a dataset. it's more on transforming everything to a new dataset but preserving some key properties.\n",
        "\n",
        "### Principal Component Analysis (PCA):\n",
        "\n",
        "The idea is that we take an n-dimensional(n number of columns) dataset where every row can be seen as a point in an n-dimensional euclidean vector space and each column as one coordinate in that space.<br>Mathematicians call such a space $R^n$, because the values on each axes are real numbers and every vector representing a point in that space needs $n$-elements.<br>\n",
        "\n",
        "So PCA transforms a dataset by specifying the number of desired dimensions in a way that the new dataset represents the very same points with vectors of lower dimensions $k$<br>This process is also called projections.<br>\n",
        "PCA ensures that if two points in the original dataset are far apart from each other, they are also far awy in the reduced dataset with an equal ratio of distance. This is same for close points too.\n",
        "\n",
        "After this projection, the new dimensions returned are explaining the majority of variations in the dataset. in otherwords, the so-called Principal Components are chosen such that the information contents of each additional dimension is decreasing.\n",
        "\n",
        "This is a way of getting rid of highly-correlated dimensions in the original dataset because their additional information content is low. the principal component dimensions are all orthogonal to each other and made up of dimensions that are not highly correlated to each other.\n",
        "\n",
        "So this means that we can spot clusters, potential separations, planes and outliers also in the lower dimensional dataset, but with the added functionality that the lower dataset can be plotted, especially if we reduce the dimension to 3 (x,y,z).\n",
        "\n",
        "When applying PCA, we are losing some information, but PCA is very intelligent in deciding what parts of the info is less relevant. So that the pain of removing information is minimized.\n",
        "\n",
        "Ofcourse the lower we choose $k$, the higher the losses.\n",
        "\n",
        "Loss can be easily estimated by comparing the original dataset with the one that PCA was applied, and then the inverse function of PCA is applied again to reconstruct the original dataset.\n",
        "\n",
        "The function used for comparing those two datasets is SSE or Sum-0f-Squared-Errors. this way, we get an idea of the percentage of info we are losing in the PCA dataset.\n",
        "\n",
        "This means the amount of info lost can be easily quantified and kept track of as we apply PCA to our datasets.\n",
        "\n"
      ]
    },
    {
      "cell_type": "markdown",
      "metadata": {
        "id": "5cKG53U1KBhJ",
        "colab_type": "text"
      },
      "source": [
        "## Exercise 3.2\n",
        "Welcome to the last exercise of this course. This is also the most advanced one because it somehow glues everything together you've learned.\n",
        "\n",
        "These are the steps you will do:\n",
        "\n",
        "Load a data frame from cloudant/ApacheCouchDB.<br>\n",
        "Perform feature transformation by calculating minimal and maximal values of different properties on time windows (we'll explain what a time windows is later in here).<br>\n",
        "Reduce these now twelve dimensions to three using the PCA (Principal Component Analysis) algorithm of SparkML (Spark Machine Learning) => We'll actually make use of SparkML a lot more in the next course.<br>\n",
        "Plot the dimensionality reduced data set."
      ]
    },
    {
      "cell_type": "markdown",
      "metadata": {
        "id": "ac2iJOI-K1ND",
        "colab_type": "text"
      },
      "source": [
        "First, let's install Spark related dependencies."
      ]
    },
    {
      "cell_type": "code",
      "metadata": {
        "id": "0S1uOkbmKtMj",
        "colab_type": "code",
        "colab": {
          "base_uri": "https://localhost:8080/",
          "height": 235
        },
        "outputId": "4614f261-08a8-4d26-fd19-dd65e35a51b7"
      },
      "source": [
        "!apt-get install openjdk-8-jdk-headless -qq > /dev/null\n",
        "!wget -q http://apache.osuosl.org/spark/spark-2.4.4/spark-2.4.4-bin-hadoop2.7.tgz\n",
        "!tar xf spark-2.4.4-bin-hadoop2.7.tgz\n",
        "\n",
        "!pip install -q findspark\n",
        "!pip install pyspark\n",
        "# Set up required environment variables\n",
        "\n",
        "import os\n",
        "os.environ[\"JAVA_HOME\"] = \"/usr/lib/jvm/java-8-openjdk-amd64\"\n",
        "os.environ[\"SPARK_HOME\"] = \"/content/spark-2.4.4-bin-hadoop2.7\""
      ],
      "execution_count": 2,
      "outputs": [
        {
          "output_type": "stream",
          "text": [
            "Collecting pyspark\n",
            "\u001b[?25l  Downloading https://files.pythonhosted.org/packages/87/21/f05c186f4ddb01d15d0ddc36ef4b7e3cedbeb6412274a41f26b55a650ee5/pyspark-2.4.4.tar.gz (215.7MB)\n",
            "\u001b[K     |████████████████████████████████| 215.7MB 61kB/s \n",
            "\u001b[?25hCollecting py4j==0.10.7\n",
            "\u001b[?25l  Downloading https://files.pythonhosted.org/packages/e3/53/c737818eb9a7dc32a7cd4f1396e787bd94200c3997c72c1dbe028587bd76/py4j-0.10.7-py2.py3-none-any.whl (197kB)\n",
            "\u001b[K     |████████████████████████████████| 204kB 59.0MB/s \n",
            "\u001b[?25hBuilding wheels for collected packages: pyspark\n",
            "  Building wheel for pyspark (setup.py) ... \u001b[?25l\u001b[?25hdone\n",
            "  Created wheel for pyspark: filename=pyspark-2.4.4-py2.py3-none-any.whl size=216130387 sha256=b1f79ff6cfd421b0ef4ab559358b17298c0386657070332e51521804dcdfca94\n",
            "  Stored in directory: /root/.cache/pip/wheels/ab/09/4d/0d184230058e654eb1b04467dbc1292f00eaa186544604b471\n",
            "Successfully built pyspark\n",
            "Installing collected packages: py4j, pyspark\n",
            "Successfully installed py4j-0.10.7 pyspark-2.4.4\n"
          ],
          "name": "stdout"
        }
      ]
    },
    {
      "cell_type": "markdown",
      "metadata": {
        "id": "aqBVMzwFLGbt",
        "colab_type": "text"
      },
      "source": [
        "Next, let's initialise a Spark Context(sc) if one does not already exist."
      ]
    },
    {
      "cell_type": "code",
      "metadata": {
        "id": "wRrES4egLO2J",
        "colab_type": "code",
        "colab": {
          "base_uri": "https://localhost:8080/",
          "height": 34
        },
        "outputId": "41355f56-fb30-4a69-afdc-0bc4eabdd9d4"
      },
      "source": [
        "from pyspark import SparkConf, SparkContext\n",
        "try:\n",
        "    conf = SparkConf().setMaster(\"local\").setAppName(\"My App\")\n",
        "    sc = SparkContext(conf = conf)\n",
        "    print('SparkContext Initialised Successfully!')\n",
        "except Exception as e:\n",
        "    print(e)"
      ],
      "execution_count": 3,
      "outputs": [
        {
          "output_type": "stream",
          "text": [
            "SparkContext Initialised Successfully!\n"
          ],
          "name": "stdout"
        }
      ]
    },
    {
      "cell_type": "code",
      "metadata": {
        "id": "Qp3bGlqoLoLM",
        "colab_type": "code",
        "colab": {
          "base_uri": "https://localhost:8080/",
          "height": 191
        },
        "outputId": "8850cd57-3137-4892-d736-71e7db0526a8"
      },
      "source": [
        "# Let's see the Spark Context\n",
        "sc"
      ],
      "execution_count": 4,
      "outputs": [
        {
          "output_type": "execute_result",
          "data": {
            "text/html": [
              "\n",
              "        <div>\n",
              "            <p><b>SparkContext</b></p>\n",
              "\n",
              "            <p><a href=\"http://d2b81f5b1c86:4040\">Spark UI</a></p>\n",
              "\n",
              "            <dl>\n",
              "              <dt>Version</dt>\n",
              "                <dd><code>v2.4.4</code></dd>\n",
              "              <dt>Master</dt>\n",
              "                <dd><code>local</code></dd>\n",
              "              <dt>AppName</dt>\n",
              "                <dd><code>My App</code></dd>\n",
              "            </dl>\n",
              "        </div>\n",
              "        "
            ],
            "text/plain": [
              "<SparkContext master=local appName=My App>"
            ]
          },
          "metadata": {
            "tags": []
          },
          "execution_count": 4
        }
      ]
    },
    {
      "cell_type": "markdown",
      "metadata": {
        "id": "ioyIX7BjLaVB",
        "colab_type": "text"
      },
      "source": [
        "Next, let's create our Spark session wherein we will perform parallelized activities through the Spark context."
      ]
    },
    {
      "cell_type": "code",
      "metadata": {
        "id": "bpoN76E_Ll0Y",
        "colab_type": "code",
        "colab": {
          "base_uri": "https://localhost:8080/",
          "height": 214
        },
        "outputId": "56d9a51b-bc90-4116-cd4f-5fd08c5caf44"
      },
      "source": [
        "from pyspark.sql import SparkSession\n",
        "spark = SparkSession.builder.appName('My App').getOrCreate()\n",
        "spark"
      ],
      "execution_count": 5,
      "outputs": [
        {
          "output_type": "execute_result",
          "data": {
            "text/html": [
              "\n",
              "            <div>\n",
              "                <p><b>SparkSession - in-memory</b></p>\n",
              "                \n",
              "        <div>\n",
              "            <p><b>SparkContext</b></p>\n",
              "\n",
              "            <p><a href=\"http://d2b81f5b1c86:4040\">Spark UI</a></p>\n",
              "\n",
              "            <dl>\n",
              "              <dt>Version</dt>\n",
              "                <dd><code>v2.4.4</code></dd>\n",
              "              <dt>Master</dt>\n",
              "                <dd><code>local</code></dd>\n",
              "              <dt>AppName</dt>\n",
              "                <dd><code>My App</code></dd>\n",
              "            </dl>\n",
              "        </div>\n",
              "        \n",
              "            </div>\n",
              "        "
            ],
            "text/plain": [
              "<pyspark.sql.session.SparkSession at 0x7f73d66aa588>"
            ]
          },
          "metadata": {
            "tags": []
          },
          "execution_count": 5
        }
      ]
    },
    {
      "cell_type": "markdown",
      "metadata": {
        "id": "S4QIhd-AMmY8",
        "colab_type": "text"
      },
      "source": [
        "Since JSON data can be semi-structured and contain additional metadata, it is possible that you might face issues with the DataFrame layout.<br>\n",
        "Please read the documentation of 'SparkSession.read()' to learn more about the possibilities to adjust the data loading.<br>\n",
        "PySpark documentation: http://spark.apache.org/docs/2.0.2/api/python/pyspark.sql.html#pyspark.sql.DataFrameReader.json"
      ]
    },
    {
      "cell_type": "markdown",
      "metadata": {
        "id": "5s0eFfPTM0-l",
        "colab_type": "text"
      },
      "source": [
        "Now let's import the dataset"
      ]
    },
    {
      "cell_type": "code",
      "metadata": {
        "id": "reB5uEueNXXa",
        "colab_type": "code",
        "colab": {
          "base_uri": "https://localhost:8080/",
          "height": 353
        },
        "outputId": "e6bd5e69-fc9c-47bf-ae59-b9a3244e114a"
      },
      "source": [
        "!wget https://github.com/IBM/coursera/blob/master/coursera_ds/washing.parquet?raw=true\n",
        "!mv washing.parquet?raw=true washing.parquet"
      ],
      "execution_count": 6,
      "outputs": [
        {
          "output_type": "stream",
          "text": [
            "--2020-01-20 21:11:25--  https://github.com/IBM/coursera/blob/master/coursera_ds/washing.parquet?raw=true\n",
            "Resolving github.com (github.com)... 140.82.113.3\n",
            "Connecting to github.com (github.com)|140.82.113.3|:443... connected.\n",
            "HTTP request sent, awaiting response... 302 Found\n",
            "Location: https://github.com/IBM/coursera/raw/master/coursera_ds/washing.parquet [following]\n",
            "--2020-01-20 21:11:25--  https://github.com/IBM/coursera/raw/master/coursera_ds/washing.parquet\n",
            "Reusing existing connection to github.com:443.\n",
            "HTTP request sent, awaiting response... 302 Found\n",
            "Location: https://raw.githubusercontent.com/IBM/coursera/master/coursera_ds/washing.parquet [following]\n",
            "--2020-01-20 21:11:26--  https://raw.githubusercontent.com/IBM/coursera/master/coursera_ds/washing.parquet\n",
            "Resolving raw.githubusercontent.com (raw.githubusercontent.com)... 151.101.0.133, 151.101.64.133, 151.101.128.133, ...\n",
            "Connecting to raw.githubusercontent.com (raw.githubusercontent.com)|151.101.0.133|:443... connected.\n",
            "HTTP request sent, awaiting response... 200 OK\n",
            "Length: 112048 (109K) [application/octet-stream]\n",
            "Saving to: ‘washing.parquet?raw=true’\n",
            "\n",
            "\rwashing.parquet?raw   0%[                    ]       0  --.-KB/s               \rwashing.parquet?raw 100%[===================>] 109.42K  --.-KB/s    in 0.03s   \n",
            "\n",
            "2020-01-20 21:11:26 (3.57 MB/s) - ‘washing.parquet?raw=true’ saved [112048/112048]\n",
            "\n"
          ],
          "name": "stdout"
        }
      ]
    },
    {
      "cell_type": "code",
      "metadata": {
        "id": "sTbhN-kkMm8-",
        "colab_type": "code",
        "colab": {
          "base_uri": "https://localhost:8080/",
          "height": 454
        },
        "outputId": "6184b31c-8254-4e1f-c88b-1ebf96cdd8b3"
      },
      "source": [
        "df = spark.read.parquet(\"washing.parquet\")\n",
        "df.createOrReplaceTempView('washing')\n",
        "df.show()"
      ],
      "execution_count": 7,
      "outputs": [
        {
          "output_type": "stream",
          "text": [
            "+--------------------+--------------------+-----+--------+----------+---------+--------+-----+-----------+-------------+-------+\n",
            "|                 _id|                _rev|count|flowrate|fluidlevel|frequency|hardness|speed|temperature|           ts|voltage|\n",
            "+--------------------+--------------------+-----+--------+----------+---------+--------+-----+-----------+-------------+-------+\n",
            "|0d86485d0f88d1f9d...|1-57940679fb8a713...|    4|      11|acceptable|     null|      77| null|        100|1547808723923|   null|\n",
            "|0d86485d0f88d1f9d...|1-15ff3a0b304d789...|    2|    null|      null|     null|    null| 1046|       null|1547808729917|   null|\n",
            "|0d86485d0f88d1f9d...|1-97c2742b68c7b07...|    4|    null|      null|       71|    null| null|       null|1547808731918|    236|\n",
            "|0d86485d0f88d1f9d...|1-eefb903dbe45746...|   19|      11|acceptable|     null|      75| null|         86|1547808738999|   null|\n",
            "|0d86485d0f88d1f9d...|1-5f68b4c72813c25...|    7|    null|      null|       75|    null| null|       null|1547808740927|    235|\n",
            "|0d86485d0f88d1f9d...|1-cd4b6c57ddbe77e...|    5|    null|      null|     null|    null| 1014|       null|1547808744923|   null|\n",
            "|0d86485d0f88d1f9d...|1-a35b25b5bf43aaf...|   32|      11|acceptable|     null|      73| null|         84|1547808752028|   null|\n",
            "|0d86485d0f88d1f9d...|1-b717f7289a8476d...|   48|      11|acceptable|     null|      79| null|         84|1547808768065|   null|\n",
            "|0d86485d0f88d1f9d...|1-c2f1f8fcf178b2f...|   18|    null|      null|       73|    null| null|       null|1547808773944|    228|\n",
            "|0d86485d0f88d1f9d...|1-15033dd9eebb4a8...|   59|      11|acceptable|     null|      72| null|         96|1547808779093|   null|\n",
            "|0d86485d0f88d1f9d...|1-753dae825f9a6c2...|   62|      11|acceptable|     null|      73| null|         88|1547808782113|   null|\n",
            "|0d86485d0f88d1f9d...|1-b168089f44f03f0...|   13|    null|      null|     null|    null| 1097|       null|1547808784940|   null|\n",
            "|0d86485d0f88d1f9d...|1-403b687c6be0dea...|   23|    null|      null|       80|    null| null|       null|1547808788955|    236|\n",
            "|0d86485d0f88d1f9d...|1-195551e0455a24b...|   72|      11|acceptable|     null|      77| null|         87|1547808792134|   null|\n",
            "|0d86485d0f88d1f9d...|1-060a39fc6c2ddee...|   26|    null|      null|       62|    null| null|       null|1547808797959|    233|\n",
            "|0d86485d0f88d1f9d...|1-2234514bffee465...|   27|    null|      null|       61|    null| null|       null|1547808800960|    226|\n",
            "|0d86485d0f88d1f9d...|1-4265898bb401db0...|   82|      11|acceptable|     null|      79| null|         96|1547808802154|   null|\n",
            "|0d86485d0f88d1f9d...|1-2fbf7ca9a0425a0...|   94|      11|acceptable|     null|      73| null|         90|1547808814186|   null|\n",
            "|0d86485d0f88d1f9d...|1-203c0ee6d7fbd21...|   97|      11|acceptable|     null|      77| null|         88|1547808817190|   null|\n",
            "|0d86485d0f88d1f9d...|1-47e1965db94fcab...|  104|      11|acceptable|     null|      75| null|         80|1547808824198|   null|\n",
            "+--------------------+--------------------+-----+--------+----------+---------+--------+-----+-----------+-------------+-------+\n",
            "only showing top 20 rows\n",
            "\n"
          ],
          "name": "stdout"
        }
      ]
    },
    {
      "cell_type": "code",
      "metadata": {
        "id": "k5ne0iuvycLo",
        "colab_type": "code",
        "colab": {
          "base_uri": "https://localhost:8080/",
          "height": 34
        },
        "outputId": "ed0f1e50-89db-4437-ec48-aaaa7e63e2ac"
      },
      "source": [
        "# Let's see the number of rows in washing\n",
        "df.count()"
      ],
      "execution_count": 9,
      "outputs": [
        {
          "output_type": "execute_result",
          "data": {
            "text/plain": [
              "2058"
            ]
          },
          "metadata": {
            "tags": []
          },
          "execution_count": 9
        }
      ]
    },
    {
      "cell_type": "markdown",
      "metadata": {
        "id": "0C4zpvsQNxql",
        "colab_type": "text"
      },
      "source": [
        "### Feature Transformation"
      ]
    },
    {
      "cell_type": "markdown",
      "metadata": {
        "id": "ZAT5BN_WN3hR",
        "colab_type": "text"
      },
      "source": [
        "This is the feature transformation part of this exercise. <br>Since our table is mixing schemas from different sensor data sources we are creating new features. In other word we use existing columns to calculate new ones. <br>We only use min and max for now, but using more advanced aggregations as we've learned in week three may improve the results. We are calculating those aggregations over a sliding window \"w\". <br>This window is defined in the SQL statement and basically reads the table by a one by one stride in direction of increasing timestamp. <br>Whenever a row leaves the window a new one is included. Therefore this window is called sliding window (in contrast to tubling, time or count windows). <br>Generally speaking, a window defines a finite set of elements on an unbounded stream. This set can be based on time (as in our previous examples), element counts, a combination of counts and time, or some custom logic to assign elements to windows<br>More on this can be found here: https://flink.apache.org/news/2015/12/04/Introducing-windows.html"
      ]
    },
    {
      "cell_type": "code",
      "metadata": {
        "id": "6v4LHNokOYu2",
        "colab_type": "code",
        "colab": {}
      },
      "source": [
        "result = spark.sql(\"\"\"\n",
        "SELECT * from (\n",
        "    SELECT\n",
        "    min(temperature) over w as min_temperature,\n",
        "    max(temperature) over w as max_temperature, \n",
        "    min(voltage) over w as min_voltage,\n",
        "    max(voltage) over w as max_voltage,\n",
        "    min(flowrate) over w as min_flowrate,\n",
        "    max(flowrate) over w as max_flowrate,\n",
        "    min(frequency) over w as min_frequency,\n",
        "    max(frequency) over w as max_frequency,\n",
        "    min(hardness) over w as min_hardness,\n",
        "    max(hardness) over w as max_hardness,\n",
        "    min(speed) over w as min_speed,\n",
        "    max(speed) over w as max_speed\n",
        "    FROM washing \n",
        "    WINDOW w AS (ORDER BY ts ROWS BETWEEN CURRENT ROW AND 10 FOLLOWING) \n",
        ")\n",
        "WHERE min_temperature is not null \n",
        "AND max_temperature is not null\n",
        "AND min_voltage is not null\n",
        "AND max_voltage is not null\n",
        "AND min_flowrate is not null\n",
        "AND max_flowrate is not null\n",
        "AND min_frequency is not null\n",
        "AND max_frequency is not null\n",
        "AND min_hardness is not null\n",
        "AND min_speed is not null\n",
        "AND max_speed is not null   \n",
        "\"\"\")"
      ],
      "execution_count": 0,
      "outputs": []
    },
    {
      "cell_type": "code",
      "metadata": {
        "id": "1-68v7CazMBT",
        "colab_type": "code",
        "colab": {
          "base_uri": "https://localhost:8080/",
          "height": 34
        },
        "outputId": "8dcbeea6-cc8a-43aa-ba8e-594cd8d54faf"
      },
      "source": [
        "print(result.count(),len(result.columns))"
      ],
      "execution_count": 13,
      "outputs": [
        {
          "output_type": "stream",
          "text": [
            "2051 12\n"
          ],
          "name": "stdout"
        }
      ]
    },
    {
      "cell_type": "markdown",
      "metadata": {
        "id": "b54lYKCazvfm",
        "colab_type": "text"
      },
      "source": [
        "Since this table contains null values also our window might contain them. In case for a certain feature all values in that window are null we obtain also null. As we can see here (in my dataset) this is the case for 9 rows."
      ]
    },
    {
      "cell_type": "code",
      "metadata": {
        "id": "hztRGAa5zwSV",
        "colab_type": "code",
        "colab": {
          "base_uri": "https://localhost:8080/",
          "height": 34
        },
        "outputId": "da2d81d3-f44b-410e-95c5-9bf472dd5f56"
      },
      "source": [
        "df.count() - result.count()"
      ],
      "execution_count": 14,
      "outputs": [
        {
          "output_type": "execute_result",
          "data": {
            "text/plain": [
              "7"
            ]
          },
          "metadata": {
            "tags": []
          },
          "execution_count": 14
        }
      ]
    },
    {
      "cell_type": "markdown",
      "metadata": {
        "id": "65BJHpnKz9Wx",
        "colab_type": "text"
      },
      "source": [
        "Now we import some classes from SparkML. PCA for the actual algorithm. Vectors for the data structure expected by PCA and VectorAssembler to transform data into these vector structures."
      ]
    },
    {
      "cell_type": "code",
      "metadata": {
        "id": "6lRFLGFHz-A8",
        "colab_type": "code",
        "colab": {}
      },
      "source": [
        "from pyspark.ml.feature import PCA\n",
        "from pyspark.ml.linalg import Vectors\n",
        "from pyspark.ml.feature import VectorAssembler"
      ],
      "execution_count": 0,
      "outputs": []
    },
    {
      "cell_type": "markdown",
      "metadata": {
        "id": "xGaByhRv0qlK",
        "colab_type": "text"
      },
      "source": [
        "Let's define a vector transformation helper class which takes all our input features (result.columns) and created one additional column called \"features\" which contains all our input features as one single column wrapped in \"DenseVector\" objects"
      ]
    },
    {
      "cell_type": "code",
      "metadata": {
        "id": "MtaF9WMB0snp",
        "colab_type": "code",
        "colab": {}
      },
      "source": [
        "assembler = VectorAssembler(inputCols=result.columns, outputCol=\"features\")"
      ],
      "execution_count": 0,
      "outputs": []
    },
    {
      "cell_type": "markdown",
      "metadata": {
        "id": "1GQFqQXZ1FNC",
        "colab_type": "text"
      },
      "source": [
        "Now we actually transform the data, note that this is highly optimized code and runs really fast in contrast if we had implemented it."
      ]
    },
    {
      "cell_type": "code",
      "metadata": {
        "id": "tSEZLlCa01y8",
        "colab_type": "code",
        "colab": {}
      },
      "source": [
        "features = assembler.transform(result)"
      ],
      "execution_count": 0,
      "outputs": []
    },
    {
      "cell_type": "markdown",
      "metadata": {
        "id": "6JvLbvjG1epy",
        "colab_type": "text"
      },
      "source": [
        "Let's have a look at how this new additional column \"features\" looks like:"
      ]
    },
    {
      "cell_type": "code",
      "metadata": {
        "id": "T3Xkpt6G1Jwu",
        "colab_type": "code",
        "colab": {
          "base_uri": "https://localhost:8080/",
          "height": 454
        },
        "outputId": "8ef85e4f-6ffd-41e3-8c95-b8a145db41cc"
      },
      "source": [
        "features.show()"
      ],
      "execution_count": 20,
      "outputs": [
        {
          "output_type": "stream",
          "text": [
            "+---------------+---------------+-----------+-----------+------------+------------+-------------+-------------+------------+------------+---------+---------+--------------------+\n",
            "|min_temperature|max_temperature|min_voltage|max_voltage|min_flowrate|max_flowrate|min_frequency|max_frequency|min_hardness|max_hardness|min_speed|max_speed|            features|\n",
            "+---------------+---------------+-----------+-----------+------------+------------+-------------+-------------+------------+------------+---------+---------+--------------------+\n",
            "|             81|            100|        221|        223|          11|          11|           68|           76|          71|          78|     1033|     1033|[81.0,100.0,221.0...|\n",
            "|             81|            100|        221|        223|          11|          11|           68|           76|          72|          78|     1033|     1033|[81.0,100.0,221.0...|\n",
            "|             81|            100|        221|        223|          11|          11|           68|           76|          72|          80|     1033|     1033|[81.0,100.0,221.0...|\n",
            "|             81|            100|        222|        223|          11|          11|           68|           74|          72|          80|     1033|     1046|[81.0,100.0,222.0...|\n",
            "|             81|            100|        222|        223|          11|          11|           68|           74|          73|          80|     1033|     1046|[81.0,100.0,222.0...|\n",
            "|             80|             94|        222|        223|          11|          11|           68|           74|          73|          80|     1033|     1046|[80.0,94.0,222.0,...|\n",
            "|             80|             94|        222|        236|          11|          11|           68|           74|          73|          80|     1046|     1046|[80.0,94.0,222.0,...|\n",
            "|             80|             94|        222|        236|          11|          11|           68|           74|          73|          80|     1046|     1046|[80.0,94.0,222.0,...|\n",
            "|             80|             94|        222|        236|          11|          11|           71|           74|          73|          80|     1046|     1046|[80.0,94.0,222.0,...|\n",
            "|             80|             94|        222|        236|          11|          11|           71|           74|          73|          80|     1046|     1046|[80.0,94.0,222.0,...|\n",
            "|             80|             84|        222|        236|          11|          11|           71|           74|          73|          80|     1046|     1053|[80.0,84.0,222.0,...|\n",
            "|             80|             84|        222|        236|          11|          11|           60|           74|          75|          80|     1046|     1053|[80.0,84.0,222.0,...|\n",
            "|             80|             88|        234|        236|          11|          11|           60|           71|          73|          80|     1046|     1053|[80.0,88.0,234.0,...|\n",
            "|             80|             88|        234|        236|          11|          11|           60|           71|          73|          80|     1046|     1053|[80.0,88.0,234.0,...|\n",
            "|             80|             88|        234|        236|          11|          11|           60|           71|          72|          80|     1053|     1053|[80.0,88.0,234.0,...|\n",
            "|             80|             88|        234|        236|          11|          11|           60|           80|          72|          80|     1053|     1053|[80.0,88.0,234.0,...|\n",
            "|             80|             88|        234|        236|          11|          11|           60|           80|          72|          78|     1053|     1053|[80.0,88.0,234.0,...|\n",
            "|             80|             88|        234|        234|          11|          11|           60|           80|          72|          78|     1053|     1053|[80.0,88.0,234.0,...|\n",
            "|             81|             88|        234|        234|          11|          11|           60|           80|          72|          77|     1019|     1053|[81.0,88.0,234.0,...|\n",
            "|             81|             88|        234|        234|          11|          11|           60|           80|          72|          77|     1019|     1053|[81.0,88.0,234.0,...|\n",
            "+---------------+---------------+-----------+-----------+------------+------------+-------------+-------------+------------+------------+---------+---------+--------------------+\n",
            "only showing top 20 rows\n",
            "\n"
          ],
          "name": "stdout"
        }
      ]
    },
    {
      "cell_type": "markdown",
      "metadata": {
        "id": "qc2EmQxY2-9B",
        "colab_type": "text"
      },
      "source": [
        "Let's select only the features column of the Spark data frame"
      ]
    },
    {
      "cell_type": "code",
      "metadata": {
        "id": "1fk5GM1Q1_OQ",
        "colab_type": "code",
        "colab": {
          "base_uri": "https://localhost:8080/",
          "height": 286
        },
        "outputId": "88671e24-98b7-4e14-adfd-72fa23d7f9e7"
      },
      "source": [
        "features.select('features').show(10)"
      ],
      "execution_count": 28,
      "outputs": [
        {
          "output_type": "stream",
          "text": [
            "+--------------------+\n",
            "|            features|\n",
            "+--------------------+\n",
            "|[81.0,100.0,221.0...|\n",
            "|[81.0,100.0,221.0...|\n",
            "|[81.0,100.0,221.0...|\n",
            "|[81.0,100.0,222.0...|\n",
            "|[81.0,100.0,222.0...|\n",
            "|[80.0,94.0,222.0,...|\n",
            "|[80.0,94.0,222.0,...|\n",
            "|[80.0,94.0,222.0,...|\n",
            "|[80.0,94.0,222.0,...|\n",
            "|[80.0,94.0,222.0,...|\n",
            "+--------------------+\n",
            "only showing top 10 rows\n",
            "\n"
          ],
          "name": "stdout"
        }
      ]
    },
    {
      "cell_type": "markdown",
      "metadata": {
        "id": "YrpChNOB3Jm7",
        "colab_type": "text"
      },
      "source": [
        "Let's read the features Dataframe as an rdd object"
      ]
    },
    {
      "cell_type": "code",
      "metadata": {
        "id": "2QAI7hFu2tD_",
        "colab_type": "code",
        "colab": {
          "base_uri": "https://localhost:8080/",
          "height": 185
        },
        "outputId": "4ab26a03-d656-4a3a-ed50-31f97f72565c"
      },
      "source": [
        "features.rdd.map(lambda r: r.features).take(10)"
      ],
      "execution_count": 30,
      "outputs": [
        {
          "output_type": "execute_result",
          "data": {
            "text/plain": [
              "[DenseVector([81.0, 100.0, 221.0, 223.0, 11.0, 11.0, 68.0, 76.0, 71.0, 78.0, 1033.0, 1033.0]),\n",
              " DenseVector([81.0, 100.0, 221.0, 223.0, 11.0, 11.0, 68.0, 76.0, 72.0, 78.0, 1033.0, 1033.0]),\n",
              " DenseVector([81.0, 100.0, 221.0, 223.0, 11.0, 11.0, 68.0, 76.0, 72.0, 80.0, 1033.0, 1033.0]),\n",
              " DenseVector([81.0, 100.0, 222.0, 223.0, 11.0, 11.0, 68.0, 74.0, 72.0, 80.0, 1033.0, 1046.0]),\n",
              " DenseVector([81.0, 100.0, 222.0, 223.0, 11.0, 11.0, 68.0, 74.0, 73.0, 80.0, 1033.0, 1046.0]),\n",
              " DenseVector([80.0, 94.0, 222.0, 223.0, 11.0, 11.0, 68.0, 74.0, 73.0, 80.0, 1033.0, 1046.0]),\n",
              " DenseVector([80.0, 94.0, 222.0, 236.0, 11.0, 11.0, 68.0, 74.0, 73.0, 80.0, 1046.0, 1046.0]),\n",
              " DenseVector([80.0, 94.0, 222.0, 236.0, 11.0, 11.0, 68.0, 74.0, 73.0, 80.0, 1046.0, 1046.0]),\n",
              " DenseVector([80.0, 94.0, 222.0, 236.0, 11.0, 11.0, 71.0, 74.0, 73.0, 80.0, 1046.0, 1046.0]),\n",
              " DenseVector([80.0, 94.0, 222.0, 236.0, 11.0, 11.0, 71.0, 74.0, 73.0, 80.0, 1046.0, 1046.0])]"
            ]
          },
          "metadata": {
            "tags": []
          },
          "execution_count": 30
        }
      ]
    },
    {
      "cell_type": "markdown",
      "metadata": {
        "id": "ln2NVoeS4CI6",
        "colab_type": "text"
      },
      "source": [
        "Since the source data set has been prepared as a list of DenseVectors we can now apply PCA. Note that the first line again only prepares the algorithm by finding the transformation matrices (fit method)"
      ]
    },
    {
      "cell_type": "code",
      "metadata": {
        "id": "6HgJv38u4Dcg",
        "colab_type": "code",
        "colab": {}
      },
      "source": [
        "pca = PCA(k=3, inputCol= 'features', outputCol= 'PCAFeatures')\n",
        "model = pca.fit(features)"
      ],
      "execution_count": 0,
      "outputs": []
    },
    {
      "cell_type": "markdown",
      "metadata": {
        "id": "C3-9G5kM4_US",
        "colab_type": "text"
      },
      "source": [
        "Now we can actually transform the data. Let's have a look at the first 20 rows"
      ]
    },
    {
      "cell_type": "code",
      "metadata": {
        "id": "gApFm51g5AZt",
        "colab_type": "code",
        "colab": {
          "base_uri": "https://localhost:8080/",
          "height": 454
        },
        "outputId": "1a10ed52-78bd-47bd-f68a-da40ec6973e6"
      },
      "source": [
        "result_pca = model.transform(features).select('PCAFeatures')\n",
        "result_pca.show()  # This shows the truncated version, we can show the verbose version by"
      ],
      "execution_count": 34,
      "outputs": [
        {
          "output_type": "stream",
          "text": [
            "+--------------------+\n",
            "|         PCAFeatures|\n",
            "+--------------------+\n",
            "|[1459.97897058141...|\n",
            "|[1459.99548182867...|\n",
            "|[1460.08958435612...|\n",
            "|[1469.69939294195...|\n",
            "|[1469.71590418921...|\n",
            "|[1469.71283173387...|\n",
            "|[1478.35302645729...|\n",
            "|[1478.35302645729...|\n",
            "|[1478.36860361381...|\n",
            "|[1478.36860361381...|\n",
            "|[1483.54120276840...|\n",
            "|[1483.51710902233...|\n",
            "|[1483.42242685429...|\n",
            "|[1483.42242685429...|\n",
            "|[1488.10307354727...|\n",
            "|[1488.10769268496...|\n",
            "|[1488.01359015751...|\n",
            "|[1488.02637455661...|\n",
            "|[1465.16447384470...|\n",
            "|[1465.16447384470...|\n",
            "+--------------------+\n",
            "only showing top 20 rows\n",
            "\n"
          ],
          "name": "stdout"
        }
      ]
    },
    {
      "cell_type": "code",
      "metadata": {
        "id": "waLIunY45tcn",
        "colab_type": "code",
        "colab": {
          "base_uri": "https://localhost:8080/",
          "height": 454
        },
        "outputId": "9fd1d8c3-fc93-43ab-8544-c7b718b024b8"
      },
      "source": [
        "result_pca.show(truncate=False)  # This will not truncate the output visual"
      ],
      "execution_count": 35,
      "outputs": [
        {
          "output_type": "stream",
          "text": [
            "+-----------------------------------------------------------+\n",
            "|PCAFeatures                                                |\n",
            "+-----------------------------------------------------------+\n",
            "|[1459.9789705814187,-18.745237781780922,70.78430794796873] |\n",
            "|[1459.995481828676,-19.11343146165273,70.72738871425986]   |\n",
            "|[1460.0895843561282,-20.969471062922928,70.75630600322052] |\n",
            "|[1469.6993929419532,-20.403124647615513,62.013569674880955]|\n",
            "|[1469.7159041892107,-20.771318327487293,61.95665044117209] |\n",
            "|[1469.7128317338704,-20.790751117222456,61.896106678330966]|\n",
            "|[1478.3530264572928,-20.294557029728722,71.67550104809607] |\n",
            "|[1478.3530264572928,-20.294557029728722,71.67550104809607] |\n",
            "|[1478.3686036138165,-20.260626897636314,71.63355353606426] |\n",
            "|[1478.3686036138165,-20.260626897636314,71.63355353606426] |\n",
            "|[1483.5412027684088,-20.006222577501354,66.82710394284209] |\n",
            "|[1483.5171090223353,-20.867020421583753,66.86707301954084] |\n",
            "|[1483.4224268542928,-19.87574823665505,66.93027077913985]  |\n",
            "|[1483.4224268542928,-19.87574823665505,66.93027077913985]  |\n",
            "|[1488.103073547271,-19.311848573386925,72.1626182636411]   |\n",
            "|[1488.1076926849646,-19.311945711095063,72.27621605605316] |\n",
            "|[1488.0135901575127,-17.455906109824838,72.2472987670925]  |\n",
            "|[1488.026374556614,-17.47632766649086,72.2214703423]       |\n",
            "|[1465.1644738447062,-17.50333829280811,47.06072898272612]  |\n",
            "|[1465.1644738447062,-17.50333829280811,47.06072898272612]  |\n",
            "+-----------------------------------------------------------+\n",
            "only showing top 20 rows\n",
            "\n"
          ],
          "name": "stdout"
        }
      ]
    },
    {
      "cell_type": "markdown",
      "metadata": {
        "id": "H5E9m1kb6MdQ",
        "colab_type": "text"
      },
      "source": [
        "So we obtained three completely new columns which we can plot now. Let run a final check if the number of rows is the same."
      ]
    },
    {
      "cell_type": "code",
      "metadata": {
        "id": "2L9s9tX76H0M",
        "colab_type": "code",
        "colab": {
          "base_uri": "https://localhost:8080/",
          "height": 34
        },
        "outputId": "3a2182ea-dbe0-4485-de5a-31182f5d2da4"
      },
      "source": [
        "result_pca.count()"
      ],
      "execution_count": 36,
      "outputs": [
        {
          "output_type": "execute_result",
          "data": {
            "text/plain": [
              "2051"
            ]
          },
          "metadata": {
            "tags": []
          },
          "execution_count": 36
        }
      ]
    },
    {
      "cell_type": "markdown",
      "metadata": {
        "id": "939hePaf6TtS",
        "colab_type": "text"
      },
      "source": [
        "Yay! Luckily, it's the same number of rows returned. Now we obtain a sample and read each of the three columns into a python list"
      ]
    },
    {
      "cell_type": "markdown",
      "metadata": {
        "id": "ErCoC2A76hA9",
        "colab_type": "text"
      },
      "source": [
        "### Sampling The PCA data"
      ]
    },
    {
      "cell_type": "code",
      "metadata": {
        "id": "8ebbO3tz6gF8",
        "colab_type": "code",
        "colab": {
          "base_uri": "https://localhost:8080/",
          "height": 101
        },
        "outputId": "9bda930a-9c52-4a88-a4b3-4f2b28449d84"
      },
      "source": [
        "# let's return about 80% of the data\n",
        "rdd = result_pca.rdd.sample(False, 0.8)\n",
        "\n",
        "# Let's see the first five rows\n",
        "rdd.take(5)"
      ],
      "execution_count": 55,
      "outputs": [
        {
          "output_type": "execute_result",
          "data": {
            "text/plain": [
              "[Row(PCAFeatures=DenseVector([1459.979, -18.7452, 70.7843])),\n",
              " Row(PCAFeatures=DenseVector([1460.0896, -20.9695, 70.7563])),\n",
              " Row(PCAFeatures=DenseVector([1469.6994, -20.4031, 62.0136])),\n",
              " Row(PCAFeatures=DenseVector([1469.7159, -20.7713, 61.9567])),\n",
              " Row(PCAFeatures=DenseVector([1469.7128, -20.7908, 61.8961]))]"
            ]
          },
          "metadata": {
            "tags": []
          },
          "execution_count": 55
        }
      ]
    },
    {
      "cell_type": "markdown",
      "metadata": {
        "id": "5xQc-r51_Cvs",
        "colab_type": "text"
      },
      "source": [
        "Using simple python map() to extract the first list"
      ]
    },
    {
      "cell_type": "code",
      "metadata": {
        "id": "ZP6pbX5r8j1u",
        "colab_type": "code",
        "colab": {
          "base_uri": "https://localhost:8080/",
          "height": 101
        },
        "outputId": "3c5a9b1c-2c54-4bdf-f2dd-e64ed9f90e15"
      },
      "source": [
        "x = list(map(lambda x: x[0][0], rdd.collect()))\n",
        "x[:5]"
      ],
      "execution_count": 58,
      "outputs": [
        {
          "output_type": "execute_result",
          "data": {
            "text/plain": [
              "[1459.9789705814187,\n",
              " 1460.0895843561282,\n",
              " 1469.6993929419532,\n",
              " 1469.7159041892107,\n",
              " 1469.7128317338704]"
            ]
          },
          "metadata": {
            "tags": []
          },
          "execution_count": 58
        }
      ]
    },
    {
      "cell_type": "markdown",
      "metadata": {
        "id": "az0N8WI7_LJZ",
        "colab_type": "text"
      },
      "source": [
        "Using the rdd.map() to extarct same first list"
      ]
    },
    {
      "cell_type": "code",
      "metadata": {
        "id": "lFrRfnaN7J3W",
        "colab_type": "code",
        "colab": {
          "base_uri": "https://localhost:8080/",
          "height": 101
        },
        "outputId": "1f0bd8c9-954e-4747-91a4-2b5802ee7e71"
      },
      "source": [
        "x = rdd.map(lambda a : a.PCAFeatures).map(lambda a : a[0]).collect()\n",
        "x[:5]"
      ],
      "execution_count": 59,
      "outputs": [
        {
          "output_type": "execute_result",
          "data": {
            "text/plain": [
              "[1459.9789705814187,\n",
              " 1460.0895843561282,\n",
              " 1469.6993929419532,\n",
              " 1469.7159041892107,\n",
              " 1469.7128317338704]"
            ]
          },
          "metadata": {
            "tags": []
          },
          "execution_count": 59
        }
      ]
    },
    {
      "cell_type": "code",
      "metadata": {
        "id": "SxJgF6Jy_XDt",
        "colab_type": "code",
        "colab": {
          "base_uri": "https://localhost:8080/",
          "height": 101
        },
        "outputId": "654ee651-50f5-4a71-cf15-01171f483931"
      },
      "source": [
        "y = rdd.map(lambda a : a.PCAFeatures).map(lambda a : a[1]).collect()\n",
        "y[:5]"
      ],
      "execution_count": 60,
      "outputs": [
        {
          "output_type": "execute_result",
          "data": {
            "text/plain": [
              "[-18.745237781780922,\n",
              " -20.969471062922928,\n",
              " -20.403124647615513,\n",
              " -20.771318327487293,\n",
              " -20.790751117222456]"
            ]
          },
          "metadata": {
            "tags": []
          },
          "execution_count": 60
        }
      ]
    },
    {
      "cell_type": "code",
      "metadata": {
        "id": "Z0lXGCTQ_oXd",
        "colab_type": "code",
        "colab": {
          "base_uri": "https://localhost:8080/",
          "height": 101
        },
        "outputId": "a0728b6a-139e-401c-a2cf-5bba165b2519"
      },
      "source": [
        "z = rdd.map(lambda a : a.PCAFeatures).map(lambda a : a[2]).collect()\n",
        "z[:5]"
      ],
      "execution_count": 61,
      "outputs": [
        {
          "output_type": "execute_result",
          "data": {
            "text/plain": [
              "[70.78430794796873,\n",
              " 70.75630600322052,\n",
              " 62.013569674880955,\n",
              " 61.95665044117209,\n",
              " 61.896106678330966]"
            ]
          },
          "metadata": {
            "tags": []
          },
          "execution_count": 61
        }
      ]
    },
    {
      "cell_type": "markdown",
      "metadata": {
        "id": "6-9BkLOc_3NA",
        "colab_type": "text"
      },
      "source": [
        "Finally we plot the three lists and name each of them as dimension 1-3 in the plot"
      ]
    },
    {
      "cell_type": "code",
      "metadata": {
        "id": "AW7d1575_38q",
        "colab_type": "code",
        "colab": {
          "base_uri": "https://localhost:8080/",
          "height": 248
        },
        "outputId": "b60875fb-65ee-4a93-ab00-cf94ce174d31"
      },
      "source": [
        "import matplotlib.pyplot as plt\n",
        "from mpl_toolkits.mplot3d import Axes3D\n",
        "\n",
        "fig = plt.figure()\n",
        "ax = fig.add_subplot(111, projection='3d')\n",
        "\n",
        "ax.scatter(x,y,z, c='r', marker='o')\n",
        "\n",
        "ax.set_xlabel('dimension1')\n",
        "ax.set_ylabel('dimension2')\n",
        "ax.set_zlabel('dimension3')\n",
        "\n",
        "plt.show()"
      ],
      "execution_count": 65,
      "outputs": [
        {
          "output_type": "display_data",
          "data": {
            "image/png": "[encoded data removed]",
            "text/plain": [
              "<Figure size 432x288 with 1 Axes>"
            ]
          },
          "metadata": {
            "tags": []
          }
        }
      ]
    },
    {
      "cell_type": "markdown",
      "metadata": {
        "id": "-5c9qn8YBMP3",
        "colab_type": "text"
      },
      "source": [
        "Congratulations, we are done! We can see two clusters in the data set. We can also see a third cluster which either can be outliers or a real cluster. In the next course we will actually learn how to compute clusters automatically. For now we know that the data indicates that there are two semi-stable states of the machine and sometime we see some anomalies since those data points don't fit into one of the two clusters."
      ]
    },
    {
      "cell_type": "code",
      "metadata": {
        "id": "Umg5zJEXBNVl",
        "colab_type": "code",
        "colab": {}
      },
      "source": [
        ""
      ],
      "execution_count": 0,
      "outputs": []
    }
  ]
}