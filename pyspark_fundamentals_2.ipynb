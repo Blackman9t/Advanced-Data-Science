{
  "nbformat": 4,
  "nbformat_minor": 0,
  "metadata": {
    "colab": {
      "name": "pyspark_fundamentals_2.ipynb",
      "provenance": [],
      "authorship_tag": "ABX9TyOx1YGdTu8m+tte+rcAmx8W",
      "include_colab_link": true
    },
    "kernelspec": {
      "name": "python3",
      "display_name": "Python 3"
    },
    "accelerator": "GPU"
  },
  "cells": [
    {
      "cell_type": "markdown",
      "metadata": {
        "id": "view-in-github",
        "colab_type": "text"
      },
      "source": [
        "<a href=\"https://colab.research.google.com/github/Blackman9t/Advanced-Data-Science/blob/master/pyspark_fundamentals_2.ipynb\" target=\"_parent\"><img src=\"https://colab.research.google.com/assets/colab-badge.svg\" alt=\"Open In Colab\"/></a>"
      ]
    },
    {
      "cell_type": "markdown",
      "metadata": {
        "id": "Vcy_5X9JxQ7l",
        "colab_type": "text"
      },
      "source": [
        "# IBM intro to spark lab, part 3 and DataCamp intro to Pyspark, lessons 3 and 4."
      ]
    },
    {
      "cell_type": "markdown",
      "metadata": {
        "id": "xY84qZ83x86q",
        "colab_type": "text"
      },
      "source": [
        "**This is a very comprehensive notebook on pyspark. It's a sequel to the notebook pyspark_fundamentals_1. This notebook contains tutorials from IBM and DataCamp combined.<br>\n",
        "This notebook holds the IBM intro to spark tutorials part 3 and the DataCamp intro to pyspark course lessons 3 and 4.<br> A continuation link is provided at the end of this notebook**"
      ]
    },
    {
      "cell_type": "markdown",
      "metadata": {
        "id": "kk77Ps6Sxi8o",
        "colab_type": "text"
      },
      "source": [
        "First let's load spark dependencies to run in colab"
      ]
    },
    {
      "cell_type": "code",
      "metadata": {
        "id": "HvHYAgIrxLQ0",
        "colab_type": "code",
        "colab": {
          "base_uri": "https://localhost:8080/",
          "height": 235
        },
        "outputId": "40d46ed6-e5fc-4ee6-f16e-6b0fbd26a69d"
      },
      "source": [
        "!apt-get install openjdk-8-jdk-headless -qq > /dev/null\n",
        "!wget -q http://apache.osuosl.org/spark/spark-2.4.5/spark-2.4.5-bin-hadoop2.7.tgz\n",
        "!tar xf spark-2.4.5-bin-hadoop2.7.tgz\n",
        "\n",
        "!pip install -q findspark\n",
        "!pip install pyspark\n",
        "# Set up required environment variables\n",
        "\n",
        "import os\n",
        "os.environ[\"JAVA_HOME\"] = \"/usr/lib/jvm/java-8-openjdk-amd64\"\n",
        "os.environ[\"SPARK_HOME\"] = \"/content/spark-2.4.5-bin-hadoop2.7\""
      ],
      "execution_count": 1,
      "outputs": [
        {
          "output_type": "stream",
          "text": [
            "Collecting pyspark\n",
            "\u001b[?25l  Downloading https://files.pythonhosted.org/packages/9a/5a/271c416c1c2185b6cb0151b29a91fff6fcaed80173c8584ff6d20e46b465/pyspark-2.4.5.tar.gz (217.8MB)\n",
            "\u001b[K     |████████████████████████████████| 217.8MB 64kB/s \n",
            "\u001b[?25hCollecting py4j==0.10.7\n",
            "\u001b[?25l  Downloading https://files.pythonhosted.org/packages/e3/53/c737818eb9a7dc32a7cd4f1396e787bd94200c3997c72c1dbe028587bd76/py4j-0.10.7-py2.py3-none-any.whl (197kB)\n",
            "\u001b[K     |████████████████████████████████| 204kB 54.3MB/s \n",
            "\u001b[?25hBuilding wheels for collected packages: pyspark\n",
            "  Building wheel for pyspark (setup.py) ... \u001b[?25l\u001b[?25hdone\n",
            "  Created wheel for pyspark: filename=pyspark-2.4.5-py2.py3-none-any.whl size=218257927 sha256=5943cf00cbc410c8a4eb1a3cd8d2caff115d135c83192b20cfd9b20e49d17754\n",
            "  Stored in directory: /root/.cache/pip/wheels/bf/db/04/61d66a5939364e756eb1c1be4ec5bdce6e04047fc7929a3c3c\n",
            "Successfully built pyspark\n",
            "Installing collected packages: py4j, pyspark\n",
            "Successfully installed py4j-0.10.7 pyspark-2.4.5\n"
          ],
          "name": "stdout"
        }
      ]
    },
    {
      "cell_type": "markdown",
      "metadata": {
        "id": "cmvYChOZy9U_",
        "colab_type": "text"
      },
      "source": [
        "Next let's instantiate a SparkContext object to connect to the spark cluster if none exists"
      ]
    },
    {
      "cell_type": "code",
      "metadata": {
        "id": "PfGqlJcazIU4",
        "colab_type": "code",
        "colab": {
          "base_uri": "https://localhost:8080/",
          "height": 34
        },
        "outputId": "ba7d18b8-4586-42ef-ac26-f616fd517d9d"
      },
      "source": [
        "from pyspark import SparkConf, SparkContext\n",
        "\n",
        "try:\n",
        "    conf = SparkConf().setMaster('local').setAppName('myApp')\n",
        "    sc = SparkContext(conf=conf)\n",
        "    print('SparkContext Initialised successfully!')\n",
        "except Exception as e:\n",
        "    print(e)"
      ],
      "execution_count": 3,
      "outputs": [
        {
          "output_type": "stream",
          "text": [
            "SparkContext Initialised successfully!\n"
          ],
          "name": "stdout"
        }
      ]
    },
    {
      "cell_type": "code",
      "metadata": {
        "id": "xYYx5kET0oss",
        "colab_type": "code",
        "colab": {
          "base_uri": "https://localhost:8080/",
          "height": 191
        },
        "outputId": "cdbb6306-20be-4843-e92e-db52e8b69fd4"
      },
      "source": [
        "# Let's see the SparkContext Object\n",
        "sc"
      ],
      "execution_count": 4,
      "outputs": [
        {
          "output_type": "execute_result",
          "data": {
            "text/html": [
              "\n",
              "        <div>\n",
              "            <p><b>SparkContext</b></p>\n",
              "\n",
              "            <p><a href=\"http://3af793fa44fd:4040\">Spark UI</a></p>\n",
              "\n",
              "            <dl>\n",
              "              <dt>Version</dt>\n",
              "                <dd><code>v2.4.5</code></dd>\n",
              "              <dt>Master</dt>\n",
              "                <dd><code>local</code></dd>\n",
              "              <dt>AppName</dt>\n",
              "                <dd><code>myApp</code></dd>\n",
              "            </dl>\n",
              "        </div>\n",
              "        "
            ],
            "text/plain": [
              "<SparkContext master=local appName=myApp>"
            ]
          },
          "metadata": {
            "tags": []
          },
          "execution_count": 4
        }
      ]
    },
    {
      "cell_type": "markdown",
      "metadata": {
        "id": "w7twx-nB04Os",
        "colab_type": "text"
      },
      "source": [
        "Next let's create a SparkSession as our interface to the SparkContect we created above"
      ]
    },
    {
      "cell_type": "code",
      "metadata": {
        "id": "Ul_Yk_Dz1Bom",
        "colab_type": "code",
        "colab": {}
      },
      "source": [
        "from pyspark.sql import SparkSession\n",
        "\n",
        "spark = SparkSession.builder.appName('myApp').getOrCreate()"
      ],
      "execution_count": 0,
      "outputs": []
    },
    {
      "cell_type": "code",
      "metadata": {
        "id": "cZQerjkw1hKh",
        "colab_type": "code",
        "colab": {
          "base_uri": "https://localhost:8080/",
          "height": 214
        },
        "outputId": "5532ef30-0e4d-4e13-e161-cb05bd6bf024"
      },
      "source": [
        "# Let's see the SparkSession\n",
        "spark"
      ],
      "execution_count": 6,
      "outputs": [
        {
          "output_type": "execute_result",
          "data": {
            "text/html": [
              "\n",
              "            <div>\n",
              "                <p><b>SparkSession - in-memory</b></p>\n",
              "                \n",
              "        <div>\n",
              "            <p><b>SparkContext</b></p>\n",
              "\n",
              "            <p><a href=\"http://3af793fa44fd:4040\">Spark UI</a></p>\n",
              "\n",
              "            <dl>\n",
              "              <dt>Version</dt>\n",
              "                <dd><code>v2.4.5</code></dd>\n",
              "              <dt>Master</dt>\n",
              "                <dd><code>local</code></dd>\n",
              "              <dt>AppName</dt>\n",
              "                <dd><code>myApp</code></dd>\n",
              "            </dl>\n",
              "        </div>\n",
              "        \n",
              "            </div>\n",
              "        "
            ],
            "text/plain": [
              "<pyspark.sql.session.SparkSession at 0x7f25c3a710f0>"
            ]
          },
          "metadata": {
            "tags": []
          },
          "execution_count": 6
        }
      ]
    },
    {
      "cell_type": "code",
      "metadata": {
        "id": "fwr6oyJZ8WKD",
        "colab_type": "code",
        "colab": {}
      },
      "source": [
        "# Let's import other possible libraries we may use\n",
        "import pandas as pd\n",
        "import numpy as np"
      ],
      "execution_count": 0,
      "outputs": []
    },
    {
      "cell_type": "markdown",
      "metadata": {
        "id": "xoWgmNSIxlVe",
        "colab_type": "text"
      },
      "source": [
        "## DataCamp:\n",
        "**Lesson 3: Getting started with machine learning pipelines**"
      ]
    },
    {
      "cell_type": "markdown",
      "metadata": {
        "id": "aeipg1ZVIsxX",
        "colab_type": "text"
      },
      "source": [
        "________________________________________________________________________________"
      ]
    },
    {
      "cell_type": "markdown",
      "metadata": {
        "id": "Q4rnFR1D2IDK",
        "colab_type": "text"
      },
      "source": [
        "At the core of the pyspark.ml module are the Transformer and Estimator classes. Almost every other class in the module behaves similarly to these two basic classes.\n",
        "\n",
        "Transformer classes have a .transform() method that takes a DataFrame and returns a new DataFrame; usually the original one with a new column appended. For example, you might use the class Bucketizer to create discrete bins from a continuous feature or the class PCA to reduce the dimensionality of your dataset using principal component analysis.\n",
        "\n",
        "Estimator classes all implement a .fit() method. These methods also take a DataFrame, but instead of returning another DataFrame they return a model object. This can be something like a StringIndexerModel for including categorical data saved as strings in your models, or a RandomForestModel that uses the random forest algorithm for classification or regression."
      ]
    },
    {
      "cell_type": "markdown",
      "metadata": {
        "id": "AMTJN1CE9Blr",
        "colab_type": "text"
      },
      "source": [
        "First let's grab our Flights, Airports and Planes data sets using Wget and then read these into Spark DataFrames"
      ]
    },
    {
      "cell_type": "code",
      "metadata": {
        "id": "yr7MDzL7xtSf",
        "colab_type": "code",
        "colab": {
          "base_uri": "https://localhost:8080/",
          "height": 571
        },
        "outputId": "a8a2597c-31aa-4b38-daa6-4226309d42b3"
      },
      "source": [
        "! wget 'https://assets.datacamp.com/production/repositories/1237/datasets/fa47bb54e83abd422831cbd4f441bd30fd18bd15/flights_small.csv'\n",
        "! wget 'https://assets.datacamp.com/production/repositories/1237/datasets/6e5c4ac2a4799338ba7e13d54ce1fa918da644ba/airports.csv'\n",
        "! wget 'https://assets.datacamp.com/production/repositories/1237/datasets/231480a2696c55fde829ce76d936596123f12c0c/planes.csv'"
      ],
      "execution_count": 20,
      "outputs": [
        {
          "output_type": "stream",
          "text": [
            "--2020-03-06 22:27:26--  https://assets.datacamp.com/production/repositories/1237/datasets/fa47bb54e83abd422831cbd4f441bd30fd18bd15/flights_small.csv\n",
            "Resolving assets.datacamp.com (assets.datacamp.com)... 54.240.168.75, 54.240.168.76, 54.240.168.3, ...\n",
            "Connecting to assets.datacamp.com (assets.datacamp.com)|54.240.168.75|:443... connected.\n",
            "HTTP request sent, awaiting response... 200 OK\n",
            "Length: 614174 (600K)\n",
            "Saving to: ‘flights_small.csv.1’\n",
            "\n",
            "\rflights_small.csv.1   0%[                    ]       0  --.-KB/s               \rflights_small.csv.1 100%[===================>] 599.78K  --.-KB/s    in 0.02s   \n",
            "\n",
            "2020-03-06 22:27:26 (33.3 MB/s) - ‘flights_small.csv.1’ saved [614174/614174]\n",
            "\n",
            "--2020-03-06 22:27:32--  https://assets.datacamp.com/production/repositories/1237/datasets/6e5c4ac2a4799338ba7e13d54ce1fa918da644ba/airports.csv\n",
            "Resolving assets.datacamp.com (assets.datacamp.com)... 54.240.168.75, 54.240.168.76, 54.240.168.3, ...\n",
            "Connecting to assets.datacamp.com (assets.datacamp.com)|54.240.168.75|:443... connected.\n",
            "HTTP request sent, awaiting response... 200 OK\n",
            "Length: 84548 (83K)\n",
            "Saving to: ‘airports.csv’\n",
            "\n",
            "airports.csv        100%[===================>]  82.57K   536KB/s    in 0.2s    \n",
            "\n",
            "2020-03-06 22:27:33 (536 KB/s) - ‘airports.csv’ saved [84548/84548]\n",
            "\n",
            "--2020-03-06 22:27:34--  https://assets.datacamp.com/production/repositories/1237/datasets/231480a2696c55fde829ce76d936596123f12c0c/planes.csv\n",
            "Resolving assets.datacamp.com (assets.datacamp.com)... 54.240.168.75, 54.240.168.76, 54.240.168.3, ...\n",
            "Connecting to assets.datacamp.com (assets.datacamp.com)|54.240.168.75|:443... connected.\n",
            "HTTP request sent, awaiting response... 200 OK\n",
            "Length: 219326 (214K)\n",
            "Saving to: ‘planes.csv’\n",
            "\n",
            "planes.csv          100%[===================>] 214.19K   877KB/s    in 0.2s    \n",
            "\n",
            "2020-03-06 22:27:35 (877 KB/s) - ‘planes.csv’ saved [219326/219326]\n",
            "\n"
          ],
          "name": "stdout"
        }
      ]
    },
    {
      "cell_type": "code",
      "metadata": {
        "id": "Sm1noLzs7F9B",
        "colab_type": "code",
        "colab": {
          "base_uri": "https://localhost:8080/",
          "height": 202
        },
        "outputId": "905196e1-a4a9-49c1-af2b-a68351e45eb7"
      },
      "source": [
        "flights = spark.read.csv('flights_small.csv', header=True)\n",
        "flights.show(5)"
      ],
      "execution_count": 49,
      "outputs": [
        {
          "output_type": "stream",
          "text": [
            "+----+-----+---+--------+---------+--------+---------+-------+-------+------+------+----+--------+--------+----+------+\n",
            "|year|month|day|dep_time|dep_delay|arr_time|arr_delay|carrier|tailnum|flight|origin|dest|air_time|distance|hour|minute|\n",
            "+----+-----+---+--------+---------+--------+---------+-------+-------+------+------+----+--------+--------+----+------+\n",
            "|2014|   12|  8|     658|       -7|     935|       -5|     VX| N846VA|  1780|   SEA| LAX|     132|     954|   6|    58|\n",
            "|2014|    1| 22|    1040|        5|    1505|        5|     AS| N559AS|   851|   SEA| HNL|     360|    2677|  10|    40|\n",
            "|2014|    3|  9|    1443|       -2|    1652|        2|     VX| N847VA|   755|   SEA| SFO|     111|     679|  14|    43|\n",
            "|2014|    4|  9|    1705|       45|    1839|       34|     WN| N360SW|   344|   PDX| SJC|      83|     569|  17|     5|\n",
            "|2014|    3|  9|     754|       -1|    1015|        1|     AS| N612AS|   522|   SEA| BUR|     127|     937|   7|    54|\n",
            "+----+-----+---+--------+---------+--------+---------+-------+-------+------+------+----+--------+--------+----+------+\n",
            "only showing top 5 rows\n",
            "\n"
          ],
          "name": "stdout"
        }
      ]
    },
    {
      "cell_type": "code",
      "metadata": {
        "id": "CIn4Cuoo9kQK",
        "colab_type": "code",
        "colab": {
          "base_uri": "https://localhost:8080/",
          "height": 202
        },
        "outputId": "3a9b4877-c89d-4018-fc4d-2c5f59f5797c"
      },
      "source": [
        "airports = spark.read.csv('airports.csv',header=True)\n",
        "airports.show(5)"
      ],
      "execution_count": 50,
      "outputs": [
        {
          "output_type": "stream",
          "text": [
            "+---+--------------------+----------+-----------+----+---+---+\n",
            "|faa|                name|       lat|        lon| alt| tz|dst|\n",
            "+---+--------------------+----------+-----------+----+---+---+\n",
            "|04G|   Lansdowne Airport|41.1304722|-80.6195833|1044| -5|  A|\n",
            "|06A|Moton Field Munic...|32.4605722|-85.6800278| 264| -5|  A|\n",
            "|06C| Schaumburg Regional|41.9893408|-88.1012428| 801| -6|  A|\n",
            "|06N|     Randall Airport| 41.431912|-74.3915611| 523| -5|  A|\n",
            "|09J|Jekyll Island Air...|31.0744722|-81.4277778|  11| -4|  A|\n",
            "+---+--------------------+----------+-----------+----+---+---+\n",
            "only showing top 5 rows\n",
            "\n"
          ],
          "name": "stdout"
        }
      ]
    },
    {
      "cell_type": "code",
      "metadata": {
        "id": "rg9rphTc96dx",
        "colab_type": "code",
        "colab": {
          "base_uri": "https://localhost:8080/",
          "height": 202
        },
        "outputId": "6573c412-843e-4c68-9f61-77ab18699853"
      },
      "source": [
        "planes = spark.read.csv('planes.csv',header=True)\n",
        "planes.show(5)"
      ],
      "execution_count": 51,
      "outputs": [
        {
          "output_type": "stream",
          "text": [
            "+-------+----+--------------------+----------------+--------+-------+-----+-----+---------+\n",
            "|tailnum|year|                type|    manufacturer|   model|engines|seats|speed|   engine|\n",
            "+-------+----+--------------------+----------------+--------+-------+-----+-----+---------+\n",
            "| N102UW|1998|Fixed wing multi ...|AIRBUS INDUSTRIE|A320-214|      2|  182|   NA|Turbo-fan|\n",
            "| N103US|1999|Fixed wing multi ...|AIRBUS INDUSTRIE|A320-214|      2|  182|   NA|Turbo-fan|\n",
            "| N104UW|1999|Fixed wing multi ...|AIRBUS INDUSTRIE|A320-214|      2|  182|   NA|Turbo-fan|\n",
            "| N105UW|1999|Fixed wing multi ...|AIRBUS INDUSTRIE|A320-214|      2|  182|   NA|Turbo-fan|\n",
            "| N107US|1999|Fixed wing multi ...|AIRBUS INDUSTRIE|A320-214|      2|  182|   NA|Turbo-fan|\n",
            "+-------+----+--------------------+----------------+--------+-------+-----+-----+---------+\n",
            "only showing top 5 rows\n",
            "\n"
          ],
          "name": "stdout"
        }
      ]
    },
    {
      "cell_type": "markdown",
      "metadata": {
        "id": "O47C3lHM-_Zf",
        "colab_type": "text"
      },
      "source": [
        "**Join the DataFrames**\n",
        "\n",
        "In the next two chapters you'll be working to build a model that predicts whether or not a flight will be delayed based on the flights data. This model will also include information about the plane that flew the route, so the first step is to join the two tables: flights and planes!"
      ]
    },
    {
      "cell_type": "code",
      "metadata": {
        "id": "8Bdlzxk6_LyE",
        "colab_type": "code",
        "colab": {
          "base_uri": "https://localhost:8080/",
          "height": 202
        },
        "outputId": "17d0b841-b08d-4d9a-cdca-1c0813faf7dc"
      },
      "source": [
        "# First, rename the year column of planes to plane_year to avoid duplicate column names.\n",
        "planes = planes.withColumnRenamed('year','plane_year')\n",
        "planes.show(5)"
      ],
      "execution_count": 52,
      "outputs": [
        {
          "output_type": "stream",
          "text": [
            "+-------+----------+--------------------+----------------+--------+-------+-----+-----+---------+\n",
            "|tailnum|plane_year|                type|    manufacturer|   model|engines|seats|speed|   engine|\n",
            "+-------+----------+--------------------+----------------+--------+-------+-----+-----+---------+\n",
            "| N102UW|      1998|Fixed wing multi ...|AIRBUS INDUSTRIE|A320-214|      2|  182|   NA|Turbo-fan|\n",
            "| N103US|      1999|Fixed wing multi ...|AIRBUS INDUSTRIE|A320-214|      2|  182|   NA|Turbo-fan|\n",
            "| N104UW|      1999|Fixed wing multi ...|AIRBUS INDUSTRIE|A320-214|      2|  182|   NA|Turbo-fan|\n",
            "| N105UW|      1999|Fixed wing multi ...|AIRBUS INDUSTRIE|A320-214|      2|  182|   NA|Turbo-fan|\n",
            "| N107US|      1999|Fixed wing multi ...|AIRBUS INDUSTRIE|A320-214|      2|  182|   NA|Turbo-fan|\n",
            "+-------+----------+--------------------+----------------+--------+-------+-----+-----+---------+\n",
            "only showing top 5 rows\n",
            "\n"
          ],
          "name": "stdout"
        }
      ]
    },
    {
      "cell_type": "code",
      "metadata": {
        "id": "ir0ItrxG_7ok",
        "colab_type": "code",
        "colab": {
          "base_uri": "https://localhost:8080/",
          "height": 222
        },
        "outputId": "05d8fd61-bcf5-4f56-a94f-72065db23e8a"
      },
      "source": [
        "# Create a new DataFrame called model_data by joining the flights table with planes using the tailnum column as the key.\n",
        "model_data = flights.join(planes, on='tailnum', how='left_outer')\n",
        "model_data.show(5)"
      ],
      "execution_count": 53,
      "outputs": [
        {
          "output_type": "stream",
          "text": [
            "+-------+----+-----+---+--------+---------+--------+---------+-------+------+------+----+--------+--------+----+------+----------+--------------------+------------+--------+-------+-----+-----+---------+\n",
            "|tailnum|year|month|day|dep_time|dep_delay|arr_time|arr_delay|carrier|flight|origin|dest|air_time|distance|hour|minute|plane_year|                type|manufacturer|   model|engines|seats|speed|   engine|\n",
            "+-------+----+-----+---+--------+---------+--------+---------+-------+------+------+----+--------+--------+----+------+----------+--------------------+------------+--------+-------+-----+-----+---------+\n",
            "| N846VA|2014|   12|  8|     658|       -7|     935|       -5|     VX|  1780|   SEA| LAX|     132|     954|   6|    58|      2011|Fixed wing multi ...|      AIRBUS|A320-214|      2|  182|   NA|Turbo-fan|\n",
            "| N559AS|2014|    1| 22|    1040|        5|    1505|        5|     AS|   851|   SEA| HNL|     360|    2677|  10|    40|      2006|Fixed wing multi ...|      BOEING| 737-890|      2|  149|   NA|Turbo-fan|\n",
            "| N847VA|2014|    3|  9|    1443|       -2|    1652|        2|     VX|   755|   SEA| SFO|     111|     679|  14|    43|      2011|Fixed wing multi ...|      AIRBUS|A320-214|      2|  182|   NA|Turbo-fan|\n",
            "| N360SW|2014|    4|  9|    1705|       45|    1839|       34|     WN|   344|   PDX| SJC|      83|     569|  17|     5|      1992|Fixed wing multi ...|      BOEING| 737-3H4|      2|  149|   NA|Turbo-fan|\n",
            "| N612AS|2014|    3|  9|     754|       -1|    1015|        1|     AS|   522|   SEA| BUR|     127|     937|   7|    54|      1999|Fixed wing multi ...|      BOEING| 737-790|      2|  151|   NA|Turbo-jet|\n",
            "+-------+----+-----+---+--------+---------+--------+---------+-------+------+------+----+--------+--------+----+------+----------+--------------------+------------+--------+-------+-----+-----+---------+\n",
            "only showing top 5 rows\n",
            "\n"
          ],
          "name": "stdout"
        }
      ]
    },
    {
      "cell_type": "code",
      "metadata": {
        "id": "1P5urbQRiTI-",
        "colab_type": "code",
        "colab": {
          "base_uri": "https://localhost:8080/",
          "height": 34
        },
        "outputId": "78e14978-1c52-42cb-828e-f0677ea5154a"
      },
      "source": [
        "# Let's see how many rows exist\n",
        "model_data.count()"
      ],
      "execution_count": 54,
      "outputs": [
        {
          "output_type": "execute_result",
          "data": {
            "text/plain": [
              "10000"
            ]
          },
          "metadata": {
            "tags": []
          },
          "execution_count": 54
        }
      ]
    },
    {
      "cell_type": "code",
      "metadata": {
        "id": "ZKpx3L0EArez",
        "colab_type": "code",
        "colab": {
          "base_uri": "https://localhost:8080/",
          "height": 454
        },
        "outputId": "89938515-9005-4562-c2aa-93b81adc42cf"
      },
      "source": [
        "# let's print the schema and see how it's like\n",
        "model_data.printSchema()"
      ],
      "execution_count": 55,
      "outputs": [
        {
          "output_type": "stream",
          "text": [
            "root\n",
            " |-- tailnum: string (nullable = true)\n",
            " |-- year: string (nullable = true)\n",
            " |-- month: string (nullable = true)\n",
            " |-- day: string (nullable = true)\n",
            " |-- dep_time: string (nullable = true)\n",
            " |-- dep_delay: string (nullable = true)\n",
            " |-- arr_time: string (nullable = true)\n",
            " |-- arr_delay: string (nullable = true)\n",
            " |-- carrier: string (nullable = true)\n",
            " |-- flight: string (nullable = true)\n",
            " |-- origin: string (nullable = true)\n",
            " |-- dest: string (nullable = true)\n",
            " |-- air_time: string (nullable = true)\n",
            " |-- distance: string (nullable = true)\n",
            " |-- hour: string (nullable = true)\n",
            " |-- minute: string (nullable = true)\n",
            " |-- plane_year: string (nullable = true)\n",
            " |-- type: string (nullable = true)\n",
            " |-- manufacturer: string (nullable = true)\n",
            " |-- model: string (nullable = true)\n",
            " |-- engines: string (nullable = true)\n",
            " |-- seats: string (nullable = true)\n",
            " |-- speed: string (nullable = true)\n",
            " |-- engine: string (nullable = true)\n",
            "\n"
          ],
          "name": "stdout"
        }
      ]
    },
    {
      "cell_type": "markdown",
      "metadata": {
        "id": "3H1qNg8vB7dH",
        "colab_type": "text"
      },
      "source": [
        "**Data types**\n",
        "\n",
        "Good work! Before you get started modeling, it's important to know that Spark only handles numeric data. That means all of the columns in your DataFrame must be either integers or decimals (called 'doubles' in Spark).\n",
        "\n",
        "When we imported our data, we let Spark guess what kind of information each column held. Unfortunately, Spark doesn't always guess right and you can see that some of the columns in our DataFrame are strings containing numbers as opposed to actual numeric values.\n",
        "\n",
        "To remedy this, you can use the .cast() method in combination with the .withColumn() method. It's important to note that .cast() works on columns, while .withColumn() works on DataFrames.\n",
        "\n",
        "The only argument you need to pass to .cast() is the kind of value you want to create, in string form. For example, to create integers, you'll pass the argument \"integer\" and for decimal numbers you'll use \"double\".\n",
        "\n",
        "You can put this call to .cast() inside a call to .withColumn() to overwrite the already existing column, just like you did in the previous chapter!"
      ]
    },
    {
      "cell_type": "markdown",
      "metadata": {
        "id": "jz6uyn-KDCQW",
        "colab_type": "text"
      },
      "source": [
        "**String to integer**\n",
        "\n",
        "Now you'll use the .cast() method you learned in the previous exercise to convert all the appropriate columns from your DataFrame model_data to integers!\n",
        "\n",
        "To convert the type of a column using the .cast() method, you can write code like this:\n",
        "```\n",
        "dataframe = dataframe.withColumn(\"col\", dataframe.col.cast(\"new_type\"))\n",
        "```\n",
        "\n"
      ]
    },
    {
      "cell_type": "code",
      "metadata": {
        "id": "Yn7PXhzuCMxT",
        "colab_type": "code",
        "colab": {}
      },
      "source": [
        "# Use the method .withColumn() to .cast() the following columns to type \"integer\". Access the columns using the df.col notation:\n",
        "# model_data.arr_delay\n",
        "# model_data.air_time\n",
        "# model_data.month\n",
        "# model_data.plane_year\n",
        "\n",
        "model_data = model_data.withColumn(\"arr_delay\", model_data.arr_delay.cast('integer'))\n",
        "model_data = model_data.withColumn(\"air_time\", model_data.air_time.cast('integer'))\n",
        "model_data = model_data.withColumn(\"month\", model_data.month.cast('integer'))\n",
        "model_data = model_data.withColumn(\"plane_year\", model_data.plane_year.cast('integer'))"
      ],
      "execution_count": 0,
      "outputs": []
    },
    {
      "cell_type": "code",
      "metadata": {
        "id": "8nQQzhi3IHrO",
        "colab_type": "code",
        "colab": {
          "base_uri": "https://localhost:8080/",
          "height": 454
        },
        "outputId": "f26a0af1-0789-4f8a-8ba7-f61ecf923c8f"
      },
      "source": [
        "# Let'see the schema data types again\n",
        "model_data.printSchema()"
      ],
      "execution_count": 57,
      "outputs": [
        {
          "output_type": "stream",
          "text": [
            "root\n",
            " |-- tailnum: string (nullable = true)\n",
            " |-- year: string (nullable = true)\n",
            " |-- month: integer (nullable = true)\n",
            " |-- day: string (nullable = true)\n",
            " |-- dep_time: string (nullable = true)\n",
            " |-- dep_delay: string (nullable = true)\n",
            " |-- arr_time: string (nullable = true)\n",
            " |-- arr_delay: integer (nullable = true)\n",
            " |-- carrier: string (nullable = true)\n",
            " |-- flight: string (nullable = true)\n",
            " |-- origin: string (nullable = true)\n",
            " |-- dest: string (nullable = true)\n",
            " |-- air_time: integer (nullable = true)\n",
            " |-- distance: string (nullable = true)\n",
            " |-- hour: string (nullable = true)\n",
            " |-- minute: string (nullable = true)\n",
            " |-- plane_year: integer (nullable = true)\n",
            " |-- type: string (nullable = true)\n",
            " |-- manufacturer: string (nullable = true)\n",
            " |-- model: string (nullable = true)\n",
            " |-- engines: string (nullable = true)\n",
            " |-- seats: string (nullable = true)\n",
            " |-- speed: string (nullable = true)\n",
            " |-- engine: string (nullable = true)\n",
            "\n"
          ],
          "name": "stdout"
        }
      ]
    },
    {
      "cell_type": "markdown",
      "metadata": {
        "id": "hdYFGoHTIhan",
        "colab_type": "text"
      },
      "source": [
        "**Create a new column**\n",
        "\n",
        "In the last exercise, you converted the column plane_year to an integer. This column holds the year each plane was manufactured. However, your model will use the planes' age, which is slightly different from the year it was made!"
      ]
    },
    {
      "cell_type": "markdown",
      "metadata": {
        "id": "JceN4XPvRjB0",
        "colab_type": "text"
      },
      "source": [
        "Create the column plane_age using the .withColumn() method and subtracting the year of manufacture (column plane_year) from the year (column year) of the flight."
      ]
    },
    {
      "cell_type": "code",
      "metadata": {
        "id": "jQ1wpCjMIkj8",
        "colab_type": "code",
        "colab": {}
      },
      "source": [
        "model_data = model_data.withColumn('plane_age', model_data.year - model_data.plane_year)"
      ],
      "execution_count": 0,
      "outputs": []
    },
    {
      "cell_type": "code",
      "metadata": {
        "id": "KPx4UmO6S-NZ",
        "colab_type": "code",
        "colab": {
          "base_uri": "https://localhost:8080/",
          "height": 222
        },
        "outputId": "ccc230d6-dc55-4798-b667-8826a9d5af84"
      },
      "source": [
        "model_data.show(5)"
      ],
      "execution_count": 59,
      "outputs": [
        {
          "output_type": "stream",
          "text": [
            "+-------+----+-----+---+--------+---------+--------+---------+-------+------+------+----+--------+--------+----+------+----------+--------------------+------------+--------+-------+-----+-----+---------+---------+\n",
            "|tailnum|year|month|day|dep_time|dep_delay|arr_time|arr_delay|carrier|flight|origin|dest|air_time|distance|hour|minute|plane_year|                type|manufacturer|   model|engines|seats|speed|   engine|plane_age|\n",
            "+-------+----+-----+---+--------+---------+--------+---------+-------+------+------+----+--------+--------+----+------+----------+--------------------+------------+--------+-------+-----+-----+---------+---------+\n",
            "| N846VA|2014|   12|  8|     658|       -7|     935|       -5|     VX|  1780|   SEA| LAX|     132|     954|   6|    58|      2011|Fixed wing multi ...|      AIRBUS|A320-214|      2|  182|   NA|Turbo-fan|      3.0|\n",
            "| N559AS|2014|    1| 22|    1040|        5|    1505|        5|     AS|   851|   SEA| HNL|     360|    2677|  10|    40|      2006|Fixed wing multi ...|      BOEING| 737-890|      2|  149|   NA|Turbo-fan|      8.0|\n",
            "| N847VA|2014|    3|  9|    1443|       -2|    1652|        2|     VX|   755|   SEA| SFO|     111|     679|  14|    43|      2011|Fixed wing multi ...|      AIRBUS|A320-214|      2|  182|   NA|Turbo-fan|      3.0|\n",
            "| N360SW|2014|    4|  9|    1705|       45|    1839|       34|     WN|   344|   PDX| SJC|      83|     569|  17|     5|      1992|Fixed wing multi ...|      BOEING| 737-3H4|      2|  149|   NA|Turbo-fan|     22.0|\n",
            "| N612AS|2014|    3|  9|     754|       -1|    1015|        1|     AS|   522|   SEA| BUR|     127|     937|   7|    54|      1999|Fixed wing multi ...|      BOEING| 737-790|      2|  151|   NA|Turbo-jet|     15.0|\n",
            "+-------+----+-----+---+--------+---------+--------+---------+-------+------+------+----+--------+--------+----+------+----------+--------------------+------------+--------+-------+-----+-----+---------+---------+\n",
            "only showing top 5 rows\n",
            "\n"
          ],
          "name": "stdout"
        }
      ]
    },
    {
      "cell_type": "markdown",
      "metadata": {
        "id": "YQHykGESThEc",
        "colab_type": "text"
      },
      "source": [
        "**Making a Boolean**\n",
        "\n",
        "Consider that you're modeling a yes or no question: is the flight late? However, your data contains the arrival delay in minutes for each flight. Thus, you'll need to create a boolean column which indicates whether the flight was late or not!"
      ]
    },
    {
      "cell_type": "code",
      "metadata": {
        "id": "zipVzI7UT6qH",
        "colab_type": "code",
        "colab": {
          "base_uri": "https://localhost:8080/",
          "height": 188
        },
        "outputId": "b9b06e5f-3783-4b3c-bf91-1bf9657b7b1a"
      },
      "source": [
        "#Use the .withColumn() method to create the column is_late. This column is equal to model_data.arr_delay > 0.\n",
        "model_data = model_data.withColumn('is_arrival_late', model_data.arr_delay > 0)\n",
        "model_data.show(3)"
      ],
      "execution_count": 60,
      "outputs": [
        {
          "output_type": "stream",
          "text": [
            "+-------+----+-----+---+--------+---------+--------+---------+-------+------+------+----+--------+--------+----+------+----------+--------------------+------------+--------+-------+-----+-----+---------+---------+---------------+\n",
            "|tailnum|year|month|day|dep_time|dep_delay|arr_time|arr_delay|carrier|flight|origin|dest|air_time|distance|hour|minute|plane_year|                type|manufacturer|   model|engines|seats|speed|   engine|plane_age|is_arrival_late|\n",
            "+-------+----+-----+---+--------+---------+--------+---------+-------+------+------+----+--------+--------+----+------+----------+--------------------+------------+--------+-------+-----+-----+---------+---------+---------------+\n",
            "| N846VA|2014|   12|  8|     658|       -7|     935|       -5|     VX|  1780|   SEA| LAX|     132|     954|   6|    58|      2011|Fixed wing multi ...|      AIRBUS|A320-214|      2|  182|   NA|Turbo-fan|      3.0|          false|\n",
            "| N559AS|2014|    1| 22|    1040|        5|    1505|        5|     AS|   851|   SEA| HNL|     360|    2677|  10|    40|      2006|Fixed wing multi ...|      BOEING| 737-890|      2|  149|   NA|Turbo-fan|      8.0|           true|\n",
            "| N847VA|2014|    3|  9|    1443|       -2|    1652|        2|     VX|   755|   SEA| SFO|     111|     679|  14|    43|      2011|Fixed wing multi ...|      AIRBUS|A320-214|      2|  182|   NA|Turbo-fan|      3.0|           true|\n",
            "+-------+----+-----+---+--------+---------+--------+---------+-------+------+------+----+--------+--------+----+------+----------+--------------------+------------+--------+-------+-----+-----+---------+---------+---------------+\n",
            "only showing top 3 rows\n",
            "\n"
          ],
          "name": "stdout"
        }
      ]
    },
    {
      "cell_type": "code",
      "metadata": {
        "id": "-2LAHdzcUoHB",
        "colab_type": "code",
        "colab": {
          "base_uri": "https://localhost:8080/",
          "height": 188
        },
        "outputId": "b320ddcc-1ec1-4271-f45a-46a78c407537"
      },
      "source": [
        "# Convert this column to an integer column so that you can use it in your model and name it label \n",
        "# (this is the default name for the response variable in Spark's machine learning routines).\n",
        "\n",
        "model_data = model_data.withColumn('label', model_data.is_arrival_late.cast('integer'))\n",
        "model_data.show(3)"
      ],
      "execution_count": 61,
      "outputs": [
        {
          "output_type": "stream",
          "text": [
            "+-------+----+-----+---+--------+---------+--------+---------+-------+------+------+----+--------+--------+----+------+----------+--------------------+------------+--------+-------+-----+-----+---------+---------+---------------+-----+\n",
            "|tailnum|year|month|day|dep_time|dep_delay|arr_time|arr_delay|carrier|flight|origin|dest|air_time|distance|hour|minute|plane_year|                type|manufacturer|   model|engines|seats|speed|   engine|plane_age|is_arrival_late|label|\n",
            "+-------+----+-----+---+--------+---------+--------+---------+-------+------+------+----+--------+--------+----+------+----------+--------------------+------------+--------+-------+-----+-----+---------+---------+---------------+-----+\n",
            "| N846VA|2014|   12|  8|     658|       -7|     935|       -5|     VX|  1780|   SEA| LAX|     132|     954|   6|    58|      2011|Fixed wing multi ...|      AIRBUS|A320-214|      2|  182|   NA|Turbo-fan|      3.0|          false|    0|\n",
            "| N559AS|2014|    1| 22|    1040|        5|    1505|        5|     AS|   851|   SEA| HNL|     360|    2677|  10|    40|      2006|Fixed wing multi ...|      BOEING| 737-890|      2|  149|   NA|Turbo-fan|      8.0|           true|    1|\n",
            "| N847VA|2014|    3|  9|    1443|       -2|    1652|        2|     VX|   755|   SEA| SFO|     111|     679|  14|    43|      2011|Fixed wing multi ...|      AIRBUS|A320-214|      2|  182|   NA|Turbo-fan|      3.0|           true|    1|\n",
            "+-------+----+-----+---+--------+---------+--------+---------+-------+------+------+----+--------+--------+----+------+----------+--------------------+------------+--------+-------+-----+-----+---------+---------+---------------+-----+\n",
            "only showing top 3 rows\n",
            "\n"
          ],
          "name": "stdout"
        }
      ]
    },
    {
      "cell_type": "markdown",
      "metadata": {
        "id": "2HpTNkP4hSA-",
        "colab_type": "text"
      },
      "source": [
        "**Remove missing values**"
      ]
    },
    {
      "cell_type": "code",
      "metadata": {
        "id": "b8W4MyrRhbbj",
        "colab_type": "code",
        "colab": {}
      },
      "source": [
        "cols = model_data.columns\n",
        "\n",
        "for col_name in cols:\n",
        "    model_data = model_data.filter(col_name + ' is not Null')"
      ],
      "execution_count": 0,
      "outputs": []
    },
    {
      "cell_type": "code",
      "metadata": {
        "id": "H7-dq5Qjh_CY",
        "colab_type": "code",
        "colab": {
          "base_uri": "https://localhost:8080/",
          "height": 34
        },
        "outputId": "b7fe059c-1907-42ae-9408-0eaeac6e7508"
      },
      "source": [
        "# Let's see how many rows are left from the filter exercise above\n",
        "model_data.count()"
      ],
      "execution_count": 63,
      "outputs": [
        {
          "output_type": "execute_result",
          "data": {
            "text/plain": [
              "9303"
            ]
          },
          "metadata": {
            "tags": []
          },
          "execution_count": 63
        }
      ]
    },
    {
      "cell_type": "markdown",
      "metadata": {
        "id": "6r2C1Rw5jmbO",
        "colab_type": "text"
      },
      "source": [
        "**Strings and factors**\n",
        "\n",
        "As you know, Spark requires numeric data for modeling. So far this hasn't been an issue; even boolean columns can easily be converted to integers without any trouble. But you'll also be using the airline and the plane's destination as features in your model. These are coded as strings and there isn't any obvious way to convert them to a numeric data type.\n",
        "\n",
        "Fortunately, PySpark has functions for handling this built into the pyspark.ml.features submodule. You can create what are called 'one-hot vectors' to represent the carrier and the destination of each flight. A one-hot vector is a way of representing a categorical feature where every observation has a vector in which all elements are zero except for at most one element, which has a value of one (1).\n",
        "\n",
        "Each element in the vector corresponds to a level of the feature, so it's possible to tell what the right level is by seeing which element of the vector is equal to one (1)."
      ]
    },
    {
      "cell_type": "markdown",
      "metadata": {
        "id": "pQLbFt39kEix",
        "colab_type": "text"
      },
      "source": [
        "The first step to encoding your categorical feature is to create a StringIndexer. Members of this class are Estimators that take a DataFrame with a column of strings and map each unique string to a number. Then, the Estimator returns a Transformer that takes a DataFrame, attaches the mapping to it as metadata, and returns a new DataFrame with a numeric column corresponding to the string column.\n",
        "\n",
        "The second step is to encode this numeric column as a one-hot vector using a OneHotEncoder. This works exactly the same way as the StringIndexer by creating an Estimator and then a Transformer. The end result is a column that encodes your categorical feature as a vector that's suitable for machine learning routines!\n",
        "\n",
        "This may seem complicated, but don't worry! All you have to remember is that you need to create a StringIndexer and a OneHotEncoder, and the Pipeline will take care of the rest."
      ]
    },
    {
      "cell_type": "markdown",
      "metadata": {
        "id": "k5c_FI1hl8Qv",
        "colab_type": "text"
      },
      "source": [
        "**Carrier column**\n",
        "\n",
        "In this exercise you'll create a StringIndexer and a OneHotEncoder to code the carrier column. To do this, you'll call the class constructors with the arguments inputCol and outputCol.\n",
        "\n",
        "The inputCol is the name of the column you want to index or encode, and the outputCol is the name of the new column that the Transformer should create."
      ]
    },
    {
      "cell_type": "code",
      "metadata": {
        "id": "fQ0K0_XWjlZ3",
        "colab_type": "code",
        "colab": {
          "base_uri": "https://localhost:8080/",
          "height": 222
        },
        "outputId": "1cd71585-da1d-4005-918d-b3d13e858f4e"
      },
      "source": [
        "# Create a StringIndexer called carr_indexer by calling StringIndexer() with inputCol=\"carrier\" and outputCol=\"carrier_index\".\n",
        "from pyspark.ml.feature import StringIndexer\n",
        "\n",
        "carr_indexer = StringIndexer(inputCol='carrier', outputCol='carrier_index')\n",
        "# to immediately see the effect of the StringIndexer, lets say...\n",
        "indexed = carr_indexer.fit(model_data).transform(model_data)  # This creates a new data frame\n",
        "indexed.show(3)"
      ],
      "execution_count": 66,
      "outputs": [
        {
          "output_type": "stream",
          "text": [
            "+-------+----+-----+---+--------+---------+--------+---------+-------+------+------+----+--------+--------+----+------+----------+--------------------+------------+--------+-------+-----+-----+---------+---------+---------------+-----+-------------+\n",
            "|tailnum|year|month|day|dep_time|dep_delay|arr_time|arr_delay|carrier|flight|origin|dest|air_time|distance|hour|minute|plane_year|                type|manufacturer|   model|engines|seats|speed|   engine|plane_age|is_arrival_late|label|carrier_index|\n",
            "+-------+----+-----+---+--------+---------+--------+---------+-------+------+------+----+--------+--------+----+------+----------+--------------------+------------+--------+-------+-----+-----+---------+---------+---------------+-----+-------------+\n",
            "| N846VA|2014|   12|  8|     658|       -7|     935|       -5|     VX|  1780|   SEA| LAX|     132|     954|   6|    58|      2011|Fixed wing multi ...|      AIRBUS|A320-214|      2|  182|   NA|Turbo-fan|      3.0|          false|    0|          7.0|\n",
            "| N559AS|2014|    1| 22|    1040|        5|    1505|        5|     AS|   851|   SEA| HNL|     360|    2677|  10|    40|      2006|Fixed wing multi ...|      BOEING| 737-890|      2|  149|   NA|Turbo-fan|      8.0|           true|    1|          0.0|\n",
            "| N847VA|2014|    3|  9|    1443|       -2|    1652|        2|     VX|   755|   SEA| SFO|     111|     679|  14|    43|      2011|Fixed wing multi ...|      AIRBUS|A320-214|      2|  182|   NA|Turbo-fan|      3.0|           true|    1|          7.0|\n",
            "| N360SW|2014|    4|  9|    1705|       45|    1839|       34|     WN|   344|   PDX| SJC|      83|     569|  17|     5|      1992|Fixed wing multi ...|      BOEING| 737-3H4|      2|  149|   NA|Turbo-fan|     22.0|           true|    1|          1.0|\n",
            "| N612AS|2014|    3|  9|     754|       -1|    1015|        1|     AS|   522|   SEA| BUR|     127|     937|   7|    54|      1999|Fixed wing multi ...|      BOEING| 737-790|      2|  151|   NA|Turbo-jet|     15.0|           true|    1|          0.0|\n",
            "+-------+----+-----+---+--------+---------+--------+---------+-------+------+------+----+--------+--------+----+------+----------+--------------------+------------+--------+-------+-----+-----+---------+---------+---------------+-----+-------------+\n",
            "only showing top 5 rows\n",
            "\n"
          ],
          "name": "stdout"
        }
      ]
    },
    {
      "cell_type": "code",
      "metadata": {
        "id": "JpfMZ5wYnXEX",
        "colab_type": "code",
        "colab": {
          "base_uri": "https://localhost:8080/",
          "height": 188
        },
        "outputId": "47b22ce9-e67b-4826-c8b4-66b8e62c01bc"
      },
      "source": [
        "# Create a OneHotEncoder called carr_encoder by calling OneHotEncoder() with inputCol=\"carrier_index\" and outputCol=\"carrier_fact\".\n",
        "from pyspark.ml.feature import OneHotEncoder\n",
        "\n",
        "carr_encoder = OneHotEncoder(inputCol='carrier_index', outputCol='carrier_fact')\n",
        "# to immediately see the effect of the OneHotEncoder, lets say...\n",
        "encoded = carr_encoder.transform(indexed)  # This creates a new data frame. Note that encoder is a transformer and has no fit method\n",
        "encoded.show(3)"
      ],
      "execution_count": 68,
      "outputs": [
        {
          "output_type": "stream",
          "text": [
            "+-------+----+-----+---+--------+---------+--------+---------+-------+------+------+----+--------+--------+----+------+----------+--------------------+------------+--------+-------+-----+-----+---------+---------+---------------+-----+-------------+--------------+\n",
            "|tailnum|year|month|day|dep_time|dep_delay|arr_time|arr_delay|carrier|flight|origin|dest|air_time|distance|hour|minute|plane_year|                type|manufacturer|   model|engines|seats|speed|   engine|plane_age|is_arrival_late|label|carrier_index|  carrier_fact|\n",
            "+-------+----+-----+---+--------+---------+--------+---------+-------+------+------+----+--------+--------+----+------+----------+--------------------+------------+--------+-------+-----+-----+---------+---------+---------------+-----+-------------+--------------+\n",
            "| N846VA|2014|   12|  8|     658|       -7|     935|       -5|     VX|  1780|   SEA| LAX|     132|     954|   6|    58|      2011|Fixed wing multi ...|      AIRBUS|A320-214|      2|  182|   NA|Turbo-fan|      3.0|          false|    0|          7.0|(10,[7],[1.0])|\n",
            "| N559AS|2014|    1| 22|    1040|        5|    1505|        5|     AS|   851|   SEA| HNL|     360|    2677|  10|    40|      2006|Fixed wing multi ...|      BOEING| 737-890|      2|  149|   NA|Turbo-fan|      8.0|           true|    1|          0.0|(10,[0],[1.0])|\n",
            "| N847VA|2014|    3|  9|    1443|       -2|    1652|        2|     VX|   755|   SEA| SFO|     111|     679|  14|    43|      2011|Fixed wing multi ...|      AIRBUS|A320-214|      2|  182|   NA|Turbo-fan|      3.0|           true|    1|          7.0|(10,[7],[1.0])|\n",
            "+-------+----+-----+---+--------+---------+--------+---------+-------+------+------+----+--------+--------+----+------+----------+--------------------+------------+--------+-------+-----+-----+---------+---------+---------------+-----+-------------+--------------+\n",
            "only showing top 3 rows\n",
            "\n"
          ],
          "name": "stdout"
        }
      ]
    },
    {
      "cell_type": "markdown",
      "metadata": {
        "id": "Ov2HPqvAp51G",
        "colab_type": "text"
      },
      "source": [
        "**Destination Column**\n",
        "\n",
        "Now you'll encode the dest column just like we did the carrier column."
      ]
    },
    {
      "cell_type": "code",
      "metadata": {
        "id": "ETpjBuMZqMtJ",
        "colab_type": "code",
        "colab": {}
      },
      "source": [
        "# Create a StringIndexer called dest_indexer by calling StringIndexer() with inputCol=\"dest\" and outputCol=\"dest_index\".\n",
        "dest_indexer = StringIndexer(inputCol='dest', outputCol='dest_index')"
      ],
      "execution_count": 0,
      "outputs": []
    },
    {
      "cell_type": "code",
      "metadata": {
        "id": "TNWSsMsArRtV",
        "colab_type": "code",
        "colab": {}
      },
      "source": [
        "# Create a OneHotEncoder called dest_encoder by calling OneHotEncoder() with inputCol=\"dest_index\" and outputCol=\"dest_fact\".\n",
        "dest_encoder = OneHotEncoder(inputCol='dest_index', outputCol='dest_fact')"
      ],
      "execution_count": 0,
      "outputs": []
    },
    {
      "cell_type": "markdown",
      "metadata": {
        "id": "Xvune_m6t8sv",
        "colab_type": "text"
      },
      "source": [
        "**Assemble a vector**\n",
        "\n",
        "The last step in the Pipeline is to combine all of the columns containing our features into a single column. This has to be done before modeling can take place because every Spark modeling routine expects the data to be in this form. You can do this by storing each of the values from a column as an entry in a vector. Then, from the model's point of view, every observation is a vector that contains all of the information about it and a label that tells the modeler what value that observation corresponds to.\n",
        "\n",
        "Because of this, the pyspark.ml.feature submodule contains a class called VectorAssembler. This Transformer takes all of the columns you specify and combines them into a new vector column."
      ]
    },
    {
      "cell_type": "code",
      "metadata": {
        "id": "gD56q3qat_qL",
        "colab_type": "code",
        "colab": {}
      },
      "source": [
        "# Create a VectorAssembler by calling VectorAssembler() with the inputCols names as a list and the outputCol name \"features\".\n",
        "# The list of columns should be [\"month\", \"air_time\", \"carrier_fact\", \"dest_fact\", \"plane_age\"].\n",
        "from pyspark.ml.feature import VectorAssembler\n",
        "\n",
        "vec_assembler = VectorAssembler(inputCols=[\"month\", \"air_time\", \"carrier_fact\", \"dest_fact\", \"plane_age\"], outputCol='features')"
      ],
      "execution_count": 0,
      "outputs": []
    },
    {
      "cell_type": "markdown",
      "metadata": {
        "id": "73FVY3uGv5zj",
        "colab_type": "text"
      },
      "source": [
        "**Create the pipeline**\n",
        "\n",
        "You're finally ready to create a Pipeline!\n",
        "\n",
        "Pipeline is a class in the pyspark.ml module that combines all the Estimators and Transformers that you've already created. This lets you reuse the same modeling process over and over again by wrapping it up in one simple object. Neat, right?"
      ]
    },
    {
      "cell_type": "markdown",
      "metadata": {
        "id": "gSREdlwbwU4O",
        "colab_type": "text"
      },
      "source": [
        "_Import Pipeline from pyspark.ml._\n",
        "\n",
        "Call the Pipeline() constructor with the keyword argument stages to create a Pipeline called flights_pipe.<br>\n",
        "stages should be a list holding all the stages you want your data to go through in the pipeline. Here this is just:\n",
        "``` \n",
        "[dest_indexer, dest_encoder, carr_indexer, carr_encoder, vec_assembler]\n",
        "```"
      ]
    },
    {
      "cell_type": "code",
      "metadata": {
        "id": "yt0nanj0v9FZ",
        "colab_type": "code",
        "colab": {}
      },
      "source": [
        "from pyspark.ml import Pipeline\n",
        "flights_pipe = Pipeline(stages=[dest_indexer, dest_encoder, carr_indexer, carr_encoder, vec_assembler])"
      ],
      "execution_count": 0,
      "outputs": []
    },
    {
      "cell_type": "markdown",
      "metadata": {
        "id": "i1qvNmdGyxJS",
        "colab_type": "text"
      },
      "source": [
        "**Test vs Train**\n",
        "\n",
        "After you've cleaned your data and gotten it ready for modeling, one of the most important steps is to split the data into a test set and a train set. After that, don't touch your test data until you think you have a good model! As you're building models and forming hypotheses, you can test them on your training data to get an idea of their performance.\n",
        "\n",
        "Once you've got your favorite model, you can see how well it predicts the new data in your test set. This never-before-seen data will give you a much more realistic idea of your model's performance in the real world when you're trying to predict or classify new data.\n",
        "\n",
        "In Spark it's important to make sure you split the data after all the transformations. This is because operations like StringIndexer don't always produce the same index even when given the same list of strings.\n",
        "\n"
      ]
    },
    {
      "cell_type": "markdown",
      "metadata": {
        "id": "X1ArJefqzX8R",
        "colab_type": "text"
      },
      "source": [
        "**Transform the data:**\n",
        "\n",
        "Hooray, now you're finally ready to pass your data through the Pipeline you created!"
      ]
    },
    {
      "cell_type": "code",
      "metadata": {
        "id": "TerQ5bKWy7aL",
        "colab_type": "code",
        "colab": {}
      },
      "source": [
        "# Create the DataFrame piped_data by calling the Pipeline methods .fit() and .transform() in a chain. \n",
        "# Both of these methods take model_data as their only argument.\n",
        "\n",
        "piped_data = flights_pipe.fit(model_data).transform(model_data)"
      ],
      "execution_count": 0,
      "outputs": []
    },
    {
      "cell_type": "code",
      "metadata": {
        "id": "OQgUL1Bj1NXP",
        "colab_type": "code",
        "colab": {
          "base_uri": "https://localhost:8080/",
          "height": 188
        },
        "outputId": "e55b0cc1-d205-49e7-886b-9065d0fb5c8d"
      },
      "source": [
        "piped_data.show(3)"
      ],
      "execution_count": 74,
      "outputs": [
        {
          "output_type": "stream",
          "text": [
            "+-------+----+-----+---+--------+---------+--------+---------+-------+------+------+----+--------+--------+----+------+----------+--------------------+------------+--------+-------+-----+-----+---------+---------+---------------+-----+----------+---------------+-------------+--------------+--------------------+\n",
            "|tailnum|year|month|day|dep_time|dep_delay|arr_time|arr_delay|carrier|flight|origin|dest|air_time|distance|hour|minute|plane_year|                type|manufacturer|   model|engines|seats|speed|   engine|plane_age|is_arrival_late|label|dest_index|      dest_fact|carrier_index|  carrier_fact|            features|\n",
            "+-------+----+-----+---+--------+---------+--------+---------+-------+------+------+----+--------+--------+----+------+----------+--------------------+------------+--------+-------+-----+-----+---------+---------+---------------+-----+----------+---------------+-------------+--------------+--------------------+\n",
            "| N846VA|2014|   12|  8|     658|       -7|     935|       -5|     VX|  1780|   SEA| LAX|     132|     954|   6|    58|      2011|Fixed wing multi ...|      AIRBUS|A320-214|      2|  182|   NA|Turbo-fan|      3.0|          false|    0|       1.0| (68,[1],[1.0])|          7.0|(10,[7],[1.0])|(81,[0,1,9,13,80]...|\n",
            "| N559AS|2014|    1| 22|    1040|        5|    1505|        5|     AS|   851|   SEA| HNL|     360|    2677|  10|    40|      2006|Fixed wing multi ...|      BOEING| 737-890|      2|  149|   NA|Turbo-fan|      8.0|           true|    1|      19.0|(68,[19],[1.0])|          0.0|(10,[0],[1.0])|(81,[0,1,2,31,80]...|\n",
            "| N847VA|2014|    3|  9|    1443|       -2|    1652|        2|     VX|   755|   SEA| SFO|     111|     679|  14|    43|      2011|Fixed wing multi ...|      AIRBUS|A320-214|      2|  182|   NA|Turbo-fan|      3.0|           true|    1|       0.0| (68,[0],[1.0])|          7.0|(10,[7],[1.0])|(81,[0,1,9,12,80]...|\n",
            "+-------+----+-----+---+--------+---------+--------+---------+-------+------+------+----+--------+--------+----+------+----------+--------------------+------------+--------+-------+-----+-----+---------+---------+---------------+-----+----------+---------------+-------------+--------------+--------------------+\n",
            "only showing top 3 rows\n",
            "\n"
          ],
          "name": "stdout"
        }
      ]
    },
    {
      "cell_type": "markdown",
      "metadata": {
        "id": "8wlg1Orc1je-",
        "colab_type": "text"
      },
      "source": [
        "**Split the data**\n",
        "\n",
        "Now that you've done all your manipulations, the last step before modeling is to split the data!"
      ]
    },
    {
      "cell_type": "markdown",
      "metadata": {
        "id": "7Zd2DtxB1zbE",
        "colab_type": "text"
      },
      "source": [
        "Use the DataFrame method .randomSplit() to split piped_data into two pieces, training with 75% of the data, and test with 25% of the data by passing the list [.75, .25] to the .randomSplit() method."
      ]
    },
    {
      "cell_type": "code",
      "metadata": {
        "id": "AAzMGvjk1m68",
        "colab_type": "code",
        "colab": {}
      },
      "source": [
        "training, testing = piped_data.randomSplit([0.75, 0.25])"
      ],
      "execution_count": 0,
      "outputs": []
    },
    {
      "cell_type": "markdown",
      "metadata": {
        "id": "vW8hrK8_2WaJ",
        "colab_type": "text"
      },
      "source": [
        "Let's see howmany rows in both training and testing sets"
      ]
    },
    {
      "cell_type": "code",
      "metadata": {
        "id": "MjzAVTiC2cqf",
        "colab_type": "code",
        "colab": {
          "base_uri": "https://localhost:8080/",
          "height": 34
        },
        "outputId": "d0d25d15-f322-4edb-8506-9dfc82d6afc0"
      },
      "source": [
        "print('Training set has {}, while testing set has {} observations. Total is {} observations.'.format(training.count(), testing.count(), (training.count() + testing.count())))"
      ],
      "execution_count": 79,
      "outputs": [
        {
          "output_type": "stream",
          "text": [
            "Training set has 6979, while testing set has 2324 observations. Total is 9303 observations.\n"
          ],
          "name": "stdout"
        }
      ]
    },
    {
      "cell_type": "markdown",
      "metadata": {
        "id": "kCG2AsNR3pJX",
        "colab_type": "text"
      },
      "source": [
        ""
      ]
    },
    {
      "cell_type": "markdown",
      "metadata": {
        "id": "Fkx0OJgF3WcF",
        "colab_type": "text"
      },
      "source": [
        "## DataCamp:\n",
        "**Lesson 4: Model tuning and selection**"
      ]
    },
    {
      "cell_type": "markdown",
      "metadata": {
        "id": "ZsOVeHf03iyh",
        "colab_type": "text"
      },
      "source": [
        "________________________________________________________________________________"
      ]
    },
    {
      "cell_type": "code",
      "metadata": {
        "id": "X3wL1hLF3X76",
        "colab_type": "code",
        "colab": {}
      },
      "source": [
        ""
      ],
      "execution_count": 0,
      "outputs": []
    }
  ]
}