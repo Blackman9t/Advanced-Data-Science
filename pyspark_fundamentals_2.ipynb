{
  "nbformat": 4,
  "nbformat_minor": 0,
  "metadata": {
    "colab": {
      "name": "pyspark_fundamentals_2.ipynb",
      "provenance": [],
      "authorship_tag": "ABX9TyM+dYa+XbrBTXJ5CmBBUHMW",
      "include_colab_link": true
    },
    "kernelspec": {
      "name": "python3",
      "display_name": "Python 3"
    },
    "accelerator": "GPU"
  },
  "cells": [
    {
      "cell_type": "markdown",
      "metadata": {
        "id": "view-in-github",
        "colab_type": "text"
      },
      "source": [
        "<a href=\"https://colab.research.google.com/github/Blackman9t/Advanced-Data-Science/blob/master/pyspark_fundamentals_2.ipynb\" target=\"_parent\"><img src=\"https://colab.research.google.com/assets/colab-badge.svg\" alt=\"Open In Colab\"/></a>"
      ]
    },
    {
      "cell_type": "markdown",
      "metadata": {
        "id": "Vcy_5X9JxQ7l",
        "colab_type": "text"
      },
      "source": [
        "# IBM intro to spark lab, part 3 and DataCamp intro to Pyspark, lessons 3 and 4."
      ]
    },
    {
      "cell_type": "markdown",
      "metadata": {
        "id": "xY84qZ83x86q",
        "colab_type": "text"
      },
      "source": [
        "**This is a very comprehensive notebook on pyspark. It's a sequel to the notebook pyspark_fundamentals_1. This notebook contains tutorials from IBM and DataCamp combined.<br>\n",
        "This notebook holds the IBM intro to spark tutorials part 3 and the DataCamp intro to pyspark course lessons 3 and 4.<br> A continuation link is provided at the end of this notebook**"
      ]
    },
    {
      "cell_type": "markdown",
      "metadata": {
        "id": "kk77Ps6Sxi8o",
        "colab_type": "text"
      },
      "source": [
        "First let's load spark dependencies to run in colab"
      ]
    },
    {
      "cell_type": "code",
      "metadata": {
        "id": "HvHYAgIrxLQ0",
        "colab_type": "code",
        "outputId": "e5a6ab36-e64f-44f5-cf75-f4836ccc2278",
        "colab": {
          "base_uri": "https://localhost:8080/",
          "height": 235
        }
      },
      "source": [
        "!apt-get install openjdk-8-jdk-headless -qq > /dev/null\n",
        "!wget -q http://apache.osuosl.org/spark/spark-2.4.5/spark-2.4.5-bin-hadoop2.7.tgz\n",
        "!tar xf spark-2.4.5-bin-hadoop2.7.tgz\n",
        "\n",
        "!pip install -q findspark\n",
        "!pip install pyspark\n",
        "# Set up required environment variables\n",
        "\n",
        "import os\n",
        "os.environ[\"JAVA_HOME\"] = \"/usr/lib/jvm/java-8-openjdk-amd64\"\n",
        "os.environ[\"SPARK_HOME\"] = \"/content/spark-2.4.5-bin-hadoop2.7\""
      ],
      "execution_count": 1,
      "outputs": [
        {
          "output_type": "stream",
          "text": [
            "Collecting pyspark\n",
            "\u001b[?25l  Downloading https://files.pythonhosted.org/packages/9a/5a/271c416c1c2185b6cb0151b29a91fff6fcaed80173c8584ff6d20e46b465/pyspark-2.4.5.tar.gz (217.8MB)\n",
            "\u001b[K     |████████████████████████████████| 217.8MB 63kB/s \n",
            "\u001b[?25hCollecting py4j==0.10.7\n",
            "\u001b[?25l  Downloading https://files.pythonhosted.org/packages/e3/53/c737818eb9a7dc32a7cd4f1396e787bd94200c3997c72c1dbe028587bd76/py4j-0.10.7-py2.py3-none-any.whl (197kB)\n",
            "\u001b[K     |████████████████████████████████| 204kB 51.5MB/s \n",
            "\u001b[?25hBuilding wheels for collected packages: pyspark\n",
            "  Building wheel for pyspark (setup.py) ... \u001b[?25l\u001b[?25hdone\n",
            "  Created wheel for pyspark: filename=pyspark-2.4.5-py2.py3-none-any.whl size=218257927 sha256=28fe30c55ad6ee57152058768afa5196684b2277a3bb4e0e903309962dd3b781\n",
            "  Stored in directory: /root/.cache/pip/wheels/bf/db/04/61d66a5939364e756eb1c1be4ec5bdce6e04047fc7929a3c3c\n",
            "Successfully built pyspark\n",
            "Installing collected packages: py4j, pyspark\n",
            "Successfully installed py4j-0.10.7 pyspark-2.4.5\n"
          ],
          "name": "stdout"
        }
      ]
    },
    {
      "cell_type": "markdown",
      "metadata": {
        "id": "cmvYChOZy9U_",
        "colab_type": "text"
      },
      "source": [
        "Next let's instantiate a SparkContext object to connect to the spark cluster if none exists"
      ]
    },
    {
      "cell_type": "code",
      "metadata": {
        "id": "PfGqlJcazIU4",
        "colab_type": "code",
        "outputId": "f2130cc7-370b-4bc2-c1e1-11555dbb5e83",
        "colab": {
          "base_uri": "https://localhost:8080/",
          "height": 34
        }
      },
      "source": [
        "from pyspark import SparkConf, SparkContext\n",
        "\n",
        "try:\n",
        "    conf = SparkConf().setMaster('local').setAppName('myApp')\n",
        "    sc = SparkContext(conf=conf)\n",
        "    print('SparkContext Initialised successfully!')\n",
        "except Exception as e:\n",
        "    print(e)"
      ],
      "execution_count": 2,
      "outputs": [
        {
          "output_type": "stream",
          "text": [
            "SparkContext Initialised successfully!\n"
          ],
          "name": "stdout"
        }
      ]
    },
    {
      "cell_type": "code",
      "metadata": {
        "id": "xYYx5kET0oss",
        "colab_type": "code",
        "outputId": "e3839690-cd3e-4239-85c7-697ade44b2fc",
        "colab": {
          "base_uri": "https://localhost:8080/",
          "height": 191
        }
      },
      "source": [
        "# Let's see the SparkContext Object\n",
        "sc"
      ],
      "execution_count": 3,
      "outputs": [
        {
          "output_type": "execute_result",
          "data": {
            "text/html": [
              "\n",
              "        <div>\n",
              "            <p><b>SparkContext</b></p>\n",
              "\n",
              "            <p><a href=\"http://44786c5064ea:4040\">Spark UI</a></p>\n",
              "\n",
              "            <dl>\n",
              "              <dt>Version</dt>\n",
              "                <dd><code>v2.4.5</code></dd>\n",
              "              <dt>Master</dt>\n",
              "                <dd><code>local</code></dd>\n",
              "              <dt>AppName</dt>\n",
              "                <dd><code>myApp</code></dd>\n",
              "            </dl>\n",
              "        </div>\n",
              "        "
            ],
            "text/plain": [
              "<SparkContext master=local appName=myApp>"
            ]
          },
          "metadata": {
            "tags": []
          },
          "execution_count": 3
        }
      ]
    },
    {
      "cell_type": "markdown",
      "metadata": {
        "id": "w7twx-nB04Os",
        "colab_type": "text"
      },
      "source": [
        "Next let's create a SparkSession as our interface to the SparkContect we created above"
      ]
    },
    {
      "cell_type": "code",
      "metadata": {
        "id": "Ul_Yk_Dz1Bom",
        "colab_type": "code",
        "colab": {}
      },
      "source": [
        "from pyspark.sql import SparkSession\n",
        "\n",
        "spark = SparkSession.builder.appName('myApp').getOrCreate()"
      ],
      "execution_count": 0,
      "outputs": []
    },
    {
      "cell_type": "code",
      "metadata": {
        "id": "cZQerjkw1hKh",
        "colab_type": "code",
        "outputId": "63d5f1af-f747-464f-8c9e-9737d75ed6dc",
        "colab": {
          "base_uri": "https://localhost:8080/",
          "height": 214
        }
      },
      "source": [
        "# Let's see the SparkSession\n",
        "spark"
      ],
      "execution_count": 5,
      "outputs": [
        {
          "output_type": "execute_result",
          "data": {
            "text/html": [
              "\n",
              "            <div>\n",
              "                <p><b>SparkSession - in-memory</b></p>\n",
              "                \n",
              "        <div>\n",
              "            <p><b>SparkContext</b></p>\n",
              "\n",
              "            <p><a href=\"http://44786c5064ea:4040\">Spark UI</a></p>\n",
              "\n",
              "            <dl>\n",
              "              <dt>Version</dt>\n",
              "                <dd><code>v2.4.5</code></dd>\n",
              "              <dt>Master</dt>\n",
              "                <dd><code>local</code></dd>\n",
              "              <dt>AppName</dt>\n",
              "                <dd><code>myApp</code></dd>\n",
              "            </dl>\n",
              "        </div>\n",
              "        \n",
              "            </div>\n",
              "        "
            ],
            "text/plain": [
              "<pyspark.sql.session.SparkSession at 0x7fda44a6ccf8>"
            ]
          },
          "metadata": {
            "tags": []
          },
          "execution_count": 5
        }
      ]
    },
    {
      "cell_type": "code",
      "metadata": {
        "id": "fwr6oyJZ8WKD",
        "colab_type": "code",
        "colab": {}
      },
      "source": [
        "# Let's import other possible libraries we may use\n",
        "import pandas as pd\n",
        "import numpy as np"
      ],
      "execution_count": 0,
      "outputs": []
    },
    {
      "cell_type": "markdown",
      "metadata": {
        "id": "xoWgmNSIxlVe",
        "colab_type": "text"
      },
      "source": [
        "## DataCamp, Course 1 Contd..:\n",
        "**Lesson 3: Getting started with machine learning pipelines**"
      ]
    },
    {
      "cell_type": "markdown",
      "metadata": {
        "id": "aeipg1ZVIsxX",
        "colab_type": "text"
      },
      "source": [
        "________________________________________________________________________________"
      ]
    },
    {
      "cell_type": "markdown",
      "metadata": {
        "id": "Q4rnFR1D2IDK",
        "colab_type": "text"
      },
      "source": [
        "At the core of the pyspark.ml module are the Transformer and Estimator classes. Almost every other class in the module behaves similarly to these two basic classes.\n",
        "\n",
        "Transformer classes have a .transform() method that takes a DataFrame and returns a new DataFrame; usually the original one with a new column appended. For example, you might use the class Bucketizer to create discrete bins from a continuous feature or the class PCA to reduce the dimensionality of your dataset using principal component analysis.\n",
        "\n",
        "Estimator classes all implement a .fit() method. These methods also take a DataFrame, but instead of returning another DataFrame they return a model object. This can be something like a StringIndexerModel for including categorical data saved as strings in your models, or a RandomForestModel that uses the random forest algorithm for classification or regression."
      ]
    },
    {
      "cell_type": "markdown",
      "metadata": {
        "id": "AMTJN1CE9Blr",
        "colab_type": "text"
      },
      "source": [
        "First let's grab our Flights, Airports and Planes data sets using Wget and then read these into Spark DataFrames"
      ]
    },
    {
      "cell_type": "code",
      "metadata": {
        "id": "yr7MDzL7xtSf",
        "colab_type": "code",
        "outputId": "93397f7a-2677-470e-be8f-2ee4959995c6",
        "colab": {
          "base_uri": "https://localhost:8080/",
          "height": 571
        }
      },
      "source": [
        "! wget 'https://assets.datacamp.com/production/repositories/1237/datasets/fa47bb54e83abd422831cbd4f441bd30fd18bd15/flights_small.csv'\n",
        "! wget 'https://assets.datacamp.com/production/repositories/1237/datasets/6e5c4ac2a4799338ba7e13d54ce1fa918da644ba/airports.csv'\n",
        "! wget 'https://assets.datacamp.com/production/repositories/1237/datasets/231480a2696c55fde829ce76d936596123f12c0c/planes.csv'"
      ],
      "execution_count": 7,
      "outputs": [
        {
          "output_type": "stream",
          "text": [
            "--2020-03-20 00:25:47--  https://assets.datacamp.com/production/repositories/1237/datasets/fa47bb54e83abd422831cbd4f441bd30fd18bd15/flights_small.csv\n",
            "Resolving assets.datacamp.com (assets.datacamp.com)... 99.84.216.127, 99.84.216.5, 99.84.216.40, ...\n",
            "Connecting to assets.datacamp.com (assets.datacamp.com)|99.84.216.127|:443... connected.\n",
            "HTTP request sent, awaiting response... 200 OK\n",
            "Length: 614174 (600K)\n",
            "Saving to: ‘flights_small.csv’\n",
            "\n",
            "\rflights_small.csv     0%[                    ]       0  --.-KB/s               \rflights_small.csv   100%[===================>] 599.78K  --.-KB/s    in 0.007s  \n",
            "\n",
            "2020-03-20 00:25:47 (79.4 MB/s) - ‘flights_small.csv’ saved [614174/614174]\n",
            "\n",
            "--2020-03-20 00:25:49--  https://assets.datacamp.com/production/repositories/1237/datasets/6e5c4ac2a4799338ba7e13d54ce1fa918da644ba/airports.csv\n",
            "Resolving assets.datacamp.com (assets.datacamp.com)... 99.84.216.127, 99.84.216.5, 99.84.216.40, ...\n",
            "Connecting to assets.datacamp.com (assets.datacamp.com)|99.84.216.127|:443... connected.\n",
            "HTTP request sent, awaiting response... 200 OK\n",
            "Length: 84548 (83K)\n",
            "Saving to: ‘airports.csv’\n",
            "\n",
            "airports.csv        100%[===================>]  82.57K  --.-KB/s    in 0.001s  \n",
            "\n",
            "2020-03-20 00:25:49 (90.1 MB/s) - ‘airports.csv’ saved [84548/84548]\n",
            "\n",
            "--2020-03-20 00:25:51--  https://assets.datacamp.com/production/repositories/1237/datasets/231480a2696c55fde829ce76d936596123f12c0c/planes.csv\n",
            "Resolving assets.datacamp.com (assets.datacamp.com)... 99.84.216.127, 99.84.216.5, 99.84.216.40, ...\n",
            "Connecting to assets.datacamp.com (assets.datacamp.com)|99.84.216.127|:443... connected.\n",
            "HTTP request sent, awaiting response... 200 OK\n",
            "Length: 219326 (214K)\n",
            "Saving to: ‘planes.csv’\n",
            "\n",
            "planes.csv          100%[===================>] 214.19K  --.-KB/s    in 0.004s  \n",
            "\n",
            "2020-03-20 00:25:51 (52.2 MB/s) - ‘planes.csv’ saved [219326/219326]\n",
            "\n"
          ],
          "name": "stdout"
        }
      ]
    },
    {
      "cell_type": "code",
      "metadata": {
        "id": "Sm1noLzs7F9B",
        "colab_type": "code",
        "outputId": "d851933c-4cf6-4318-e48f-002d88e1adc8",
        "colab": {
          "base_uri": "https://localhost:8080/",
          "height": 202
        }
      },
      "source": [
        "flights = spark.read.csv('flights_small.csv', header=True)\n",
        "flights.show(5)"
      ],
      "execution_count": 8,
      "outputs": [
        {
          "output_type": "stream",
          "text": [
            "+----+-----+---+--------+---------+--------+---------+-------+-------+------+------+----+--------+--------+----+------+\n",
            "|year|month|day|dep_time|dep_delay|arr_time|arr_delay|carrier|tailnum|flight|origin|dest|air_time|distance|hour|minute|\n",
            "+----+-----+---+--------+---------+--------+---------+-------+-------+------+------+----+--------+--------+----+------+\n",
            "|2014|   12|  8|     658|       -7|     935|       -5|     VX| N846VA|  1780|   SEA| LAX|     132|     954|   6|    58|\n",
            "|2014|    1| 22|    1040|        5|    1505|        5|     AS| N559AS|   851|   SEA| HNL|     360|    2677|  10|    40|\n",
            "|2014|    3|  9|    1443|       -2|    1652|        2|     VX| N847VA|   755|   SEA| SFO|     111|     679|  14|    43|\n",
            "|2014|    4|  9|    1705|       45|    1839|       34|     WN| N360SW|   344|   PDX| SJC|      83|     569|  17|     5|\n",
            "|2014|    3|  9|     754|       -1|    1015|        1|     AS| N612AS|   522|   SEA| BUR|     127|     937|   7|    54|\n",
            "+----+-----+---+--------+---------+--------+---------+-------+-------+------+------+----+--------+--------+----+------+\n",
            "only showing top 5 rows\n",
            "\n"
          ],
          "name": "stdout"
        }
      ]
    },
    {
      "cell_type": "code",
      "metadata": {
        "id": "CIn4Cuoo9kQK",
        "colab_type": "code",
        "outputId": "f183f37c-854e-4b16-fcc3-f8a4cc5b6f6d",
        "colab": {
          "base_uri": "https://localhost:8080/",
          "height": 202
        }
      },
      "source": [
        "airports = spark.read.csv('airports.csv',header=True)\n",
        "airports.show(5)"
      ],
      "execution_count": 9,
      "outputs": [
        {
          "output_type": "stream",
          "text": [
            "+---+--------------------+----------+-----------+----+---+---+\n",
            "|faa|                name|       lat|        lon| alt| tz|dst|\n",
            "+---+--------------------+----------+-----------+----+---+---+\n",
            "|04G|   Lansdowne Airport|41.1304722|-80.6195833|1044| -5|  A|\n",
            "|06A|Moton Field Munic...|32.4605722|-85.6800278| 264| -5|  A|\n",
            "|06C| Schaumburg Regional|41.9893408|-88.1012428| 801| -6|  A|\n",
            "|06N|     Randall Airport| 41.431912|-74.3915611| 523| -5|  A|\n",
            "|09J|Jekyll Island Air...|31.0744722|-81.4277778|  11| -4|  A|\n",
            "+---+--------------------+----------+-----------+----+---+---+\n",
            "only showing top 5 rows\n",
            "\n"
          ],
          "name": "stdout"
        }
      ]
    },
    {
      "cell_type": "code",
      "metadata": {
        "id": "rg9rphTc96dx",
        "colab_type": "code",
        "outputId": "acb75b3e-7780-4972-8ed3-53dc038d1aaa",
        "colab": {
          "base_uri": "https://localhost:8080/",
          "height": 202
        }
      },
      "source": [
        "planes = spark.read.csv('planes.csv',header=True)\n",
        "planes.show(5)"
      ],
      "execution_count": 10,
      "outputs": [
        {
          "output_type": "stream",
          "text": [
            "+-------+----+--------------------+----------------+--------+-------+-----+-----+---------+\n",
            "|tailnum|year|                type|    manufacturer|   model|engines|seats|speed|   engine|\n",
            "+-------+----+--------------------+----------------+--------+-------+-----+-----+---------+\n",
            "| N102UW|1998|Fixed wing multi ...|AIRBUS INDUSTRIE|A320-214|      2|  182|   NA|Turbo-fan|\n",
            "| N103US|1999|Fixed wing multi ...|AIRBUS INDUSTRIE|A320-214|      2|  182|   NA|Turbo-fan|\n",
            "| N104UW|1999|Fixed wing multi ...|AIRBUS INDUSTRIE|A320-214|      2|  182|   NA|Turbo-fan|\n",
            "| N105UW|1999|Fixed wing multi ...|AIRBUS INDUSTRIE|A320-214|      2|  182|   NA|Turbo-fan|\n",
            "| N107US|1999|Fixed wing multi ...|AIRBUS INDUSTRIE|A320-214|      2|  182|   NA|Turbo-fan|\n",
            "+-------+----+--------------------+----------------+--------+-------+-----+-----+---------+\n",
            "only showing top 5 rows\n",
            "\n"
          ],
          "name": "stdout"
        }
      ]
    },
    {
      "cell_type": "markdown",
      "metadata": {
        "id": "O47C3lHM-_Zf",
        "colab_type": "text"
      },
      "source": [
        "**Join the DataFrames**\n",
        "\n",
        "In the next two chapters you'll be working to build a model that predicts whether or not a flight will be delayed based on the flights data. This model will also include information about the plane that flew the route, so the first step is to join the two tables: flights and planes!"
      ]
    },
    {
      "cell_type": "code",
      "metadata": {
        "id": "8Bdlzxk6_LyE",
        "colab_type": "code",
        "outputId": "e19c1131-60ca-43d4-d75e-6a2c266262ee",
        "colab": {
          "base_uri": "https://localhost:8080/",
          "height": 202
        }
      },
      "source": [
        "# First, rename the year column of planes to plane_year to avoid duplicate column names.\n",
        "planes = planes.withColumnRenamed('year','plane_year')\n",
        "planes.show(5)"
      ],
      "execution_count": 11,
      "outputs": [
        {
          "output_type": "stream",
          "text": [
            "+-------+----------+--------------------+----------------+--------+-------+-----+-----+---------+\n",
            "|tailnum|plane_year|                type|    manufacturer|   model|engines|seats|speed|   engine|\n",
            "+-------+----------+--------------------+----------------+--------+-------+-----+-----+---------+\n",
            "| N102UW|      1998|Fixed wing multi ...|AIRBUS INDUSTRIE|A320-214|      2|  182|   NA|Turbo-fan|\n",
            "| N103US|      1999|Fixed wing multi ...|AIRBUS INDUSTRIE|A320-214|      2|  182|   NA|Turbo-fan|\n",
            "| N104UW|      1999|Fixed wing multi ...|AIRBUS INDUSTRIE|A320-214|      2|  182|   NA|Turbo-fan|\n",
            "| N105UW|      1999|Fixed wing multi ...|AIRBUS INDUSTRIE|A320-214|      2|  182|   NA|Turbo-fan|\n",
            "| N107US|      1999|Fixed wing multi ...|AIRBUS INDUSTRIE|A320-214|      2|  182|   NA|Turbo-fan|\n",
            "+-------+----------+--------------------+----------------+--------+-------+-----+-----+---------+\n",
            "only showing top 5 rows\n",
            "\n"
          ],
          "name": "stdout"
        }
      ]
    },
    {
      "cell_type": "code",
      "metadata": {
        "id": "ir0ItrxG_7ok",
        "colab_type": "code",
        "outputId": "974401fd-db15-42bb-faf8-786940349685",
        "colab": {
          "base_uri": "https://localhost:8080/",
          "height": 222
        }
      },
      "source": [
        "# Create a new DataFrame called model_data by joining the flights table with planes using the tailnum column as the key.\n",
        "model_data = flights.join(planes, on='tailnum', how='left_outer')\n",
        "model_data.show(5)"
      ],
      "execution_count": 12,
      "outputs": [
        {
          "output_type": "stream",
          "text": [
            "+-------+----+-----+---+--------+---------+--------+---------+-------+------+------+----+--------+--------+----+------+----------+--------------------+------------+--------+-------+-----+-----+---------+\n",
            "|tailnum|year|month|day|dep_time|dep_delay|arr_time|arr_delay|carrier|flight|origin|dest|air_time|distance|hour|minute|plane_year|                type|manufacturer|   model|engines|seats|speed|   engine|\n",
            "+-------+----+-----+---+--------+---------+--------+---------+-------+------+------+----+--------+--------+----+------+----------+--------------------+------------+--------+-------+-----+-----+---------+\n",
            "| N846VA|2014|   12|  8|     658|       -7|     935|       -5|     VX|  1780|   SEA| LAX|     132|     954|   6|    58|      2011|Fixed wing multi ...|      AIRBUS|A320-214|      2|  182|   NA|Turbo-fan|\n",
            "| N559AS|2014|    1| 22|    1040|        5|    1505|        5|     AS|   851|   SEA| HNL|     360|    2677|  10|    40|      2006|Fixed wing multi ...|      BOEING| 737-890|      2|  149|   NA|Turbo-fan|\n",
            "| N847VA|2014|    3|  9|    1443|       -2|    1652|        2|     VX|   755|   SEA| SFO|     111|     679|  14|    43|      2011|Fixed wing multi ...|      AIRBUS|A320-214|      2|  182|   NA|Turbo-fan|\n",
            "| N360SW|2014|    4|  9|    1705|       45|    1839|       34|     WN|   344|   PDX| SJC|      83|     569|  17|     5|      1992|Fixed wing multi ...|      BOEING| 737-3H4|      2|  149|   NA|Turbo-fan|\n",
            "| N612AS|2014|    3|  9|     754|       -1|    1015|        1|     AS|   522|   SEA| BUR|     127|     937|   7|    54|      1999|Fixed wing multi ...|      BOEING| 737-790|      2|  151|   NA|Turbo-jet|\n",
            "+-------+----+-----+---+--------+---------+--------+---------+-------+------+------+----+--------+--------+----+------+----------+--------------------+------------+--------+-------+-----+-----+---------+\n",
            "only showing top 5 rows\n",
            "\n"
          ],
          "name": "stdout"
        }
      ]
    },
    {
      "cell_type": "code",
      "metadata": {
        "id": "1P5urbQRiTI-",
        "colab_type": "code",
        "outputId": "3e04ad5c-e913-4f54-9182-d242759eafba",
        "colab": {
          "base_uri": "https://localhost:8080/",
          "height": 34
        }
      },
      "source": [
        "# Let's see how many rows exist\n",
        "model_data.count()"
      ],
      "execution_count": 13,
      "outputs": [
        {
          "output_type": "execute_result",
          "data": {
            "text/plain": [
              "10000"
            ]
          },
          "metadata": {
            "tags": []
          },
          "execution_count": 13
        }
      ]
    },
    {
      "cell_type": "code",
      "metadata": {
        "id": "ZKpx3L0EArez",
        "colab_type": "code",
        "outputId": "64f1caa8-23fb-4580-dba0-d9101d01a2fa",
        "colab": {
          "base_uri": "https://localhost:8080/",
          "height": 454
        }
      },
      "source": [
        "# let's print the schema and see how it's like\n",
        "model_data.printSchema()"
      ],
      "execution_count": 14,
      "outputs": [
        {
          "output_type": "stream",
          "text": [
            "root\n",
            " |-- tailnum: string (nullable = true)\n",
            " |-- year: string (nullable = true)\n",
            " |-- month: string (nullable = true)\n",
            " |-- day: string (nullable = true)\n",
            " |-- dep_time: string (nullable = true)\n",
            " |-- dep_delay: string (nullable = true)\n",
            " |-- arr_time: string (nullable = true)\n",
            " |-- arr_delay: string (nullable = true)\n",
            " |-- carrier: string (nullable = true)\n",
            " |-- flight: string (nullable = true)\n",
            " |-- origin: string (nullable = true)\n",
            " |-- dest: string (nullable = true)\n",
            " |-- air_time: string (nullable = true)\n",
            " |-- distance: string (nullable = true)\n",
            " |-- hour: string (nullable = true)\n",
            " |-- minute: string (nullable = true)\n",
            " |-- plane_year: string (nullable = true)\n",
            " |-- type: string (nullable = true)\n",
            " |-- manufacturer: string (nullable = true)\n",
            " |-- model: string (nullable = true)\n",
            " |-- engines: string (nullable = true)\n",
            " |-- seats: string (nullable = true)\n",
            " |-- speed: string (nullable = true)\n",
            " |-- engine: string (nullable = true)\n",
            "\n"
          ],
          "name": "stdout"
        }
      ]
    },
    {
      "cell_type": "markdown",
      "metadata": {
        "id": "3H1qNg8vB7dH",
        "colab_type": "text"
      },
      "source": [
        "**Data types**\n",
        "\n",
        "Good work! Before you get started modeling, it's important to know that Spark only handles numeric data. That means all of the columns in your DataFrame must be either integers or decimals (called 'doubles' in Spark).\n",
        "\n",
        "When we imported our data, we let Spark guess what kind of information each column held. Unfortunately, Spark doesn't always guess right and you can see that some of the columns in our DataFrame are strings containing numbers as opposed to actual numeric values.\n",
        "\n",
        "To remedy this, you can use the .cast() method in combination with the .withColumn() method. It's important to note that .cast() works on columns, while .withColumn() works on DataFrames.\n",
        "\n",
        "The only argument you need to pass to .cast() is the kind of value you want to create, in string form. For example, to create integers, you'll pass the argument \"integer\" and for decimal numbers you'll use \"double\".\n",
        "\n",
        "You can put this call to .cast() inside a call to .withColumn() to overwrite the already existing column, just like you did in the previous chapter!"
      ]
    },
    {
      "cell_type": "markdown",
      "metadata": {
        "id": "jz6uyn-KDCQW",
        "colab_type": "text"
      },
      "source": [
        "**String to integer**\n",
        "\n",
        "Now you'll use the .cast() method you learned in the previous exercise to convert all the appropriate columns from your DataFrame model_data to integers!\n",
        "\n",
        "To convert the type of a column using the .cast() method, you can write code like this:\n",
        "```\n",
        "dataframe = dataframe.withColumn(\"col\", dataframe.col.cast(\"new_type\"))\n",
        "```\n",
        "\n"
      ]
    },
    {
      "cell_type": "code",
      "metadata": {
        "id": "Yn7PXhzuCMxT",
        "colab_type": "code",
        "colab": {}
      },
      "source": [
        "# Use the method .withColumn() to .cast() the following columns to type \"integer\". Access the columns using the df.col notation:\n",
        "# model_data.arr_delay\n",
        "# model_data.air_time\n",
        "# model_data.month\n",
        "# model_data.plane_year\n",
        "\n",
        "model_data = model_data.withColumn(\"arr_delay\", model_data.arr_delay.cast('integer'))\n",
        "model_data = model_data.withColumn(\"air_time\", model_data.air_time.cast('integer'))\n",
        "model_data = model_data.withColumn(\"month\", model_data.month.cast('integer'))\n",
        "model_data = model_data.withColumn(\"plane_year\", model_data.plane_year.cast('integer'))"
      ],
      "execution_count": 0,
      "outputs": []
    },
    {
      "cell_type": "code",
      "metadata": {
        "id": "8nQQzhi3IHrO",
        "colab_type": "code",
        "outputId": "97ff88dd-2a46-4005-c575-bbd0f2dc9141",
        "colab": {
          "base_uri": "https://localhost:8080/",
          "height": 454
        }
      },
      "source": [
        "# Let'see the schema data types again\n",
        "model_data.printSchema()"
      ],
      "execution_count": 16,
      "outputs": [
        {
          "output_type": "stream",
          "text": [
            "root\n",
            " |-- tailnum: string (nullable = true)\n",
            " |-- year: string (nullable = true)\n",
            " |-- month: integer (nullable = true)\n",
            " |-- day: string (nullable = true)\n",
            " |-- dep_time: string (nullable = true)\n",
            " |-- dep_delay: string (nullable = true)\n",
            " |-- arr_time: string (nullable = true)\n",
            " |-- arr_delay: integer (nullable = true)\n",
            " |-- carrier: string (nullable = true)\n",
            " |-- flight: string (nullable = true)\n",
            " |-- origin: string (nullable = true)\n",
            " |-- dest: string (nullable = true)\n",
            " |-- air_time: integer (nullable = true)\n",
            " |-- distance: string (nullable = true)\n",
            " |-- hour: string (nullable = true)\n",
            " |-- minute: string (nullable = true)\n",
            " |-- plane_year: integer (nullable = true)\n",
            " |-- type: string (nullable = true)\n",
            " |-- manufacturer: string (nullable = true)\n",
            " |-- model: string (nullable = true)\n",
            " |-- engines: string (nullable = true)\n",
            " |-- seats: string (nullable = true)\n",
            " |-- speed: string (nullable = true)\n",
            " |-- engine: string (nullable = true)\n",
            "\n"
          ],
          "name": "stdout"
        }
      ]
    },
    {
      "cell_type": "markdown",
      "metadata": {
        "id": "hdYFGoHTIhan",
        "colab_type": "text"
      },
      "source": [
        "**Create a new column**\n",
        "\n",
        "In the last exercise, you converted the column plane_year to an integer. This column holds the year each plane was manufactured. However, your model will use the planes' age, which is slightly different from the year it was made!"
      ]
    },
    {
      "cell_type": "markdown",
      "metadata": {
        "id": "JceN4XPvRjB0",
        "colab_type": "text"
      },
      "source": [
        "Create the column plane_age using the .withColumn() method and subtracting the year of manufacture (column plane_year) from the year (column year) of the flight."
      ]
    },
    {
      "cell_type": "code",
      "metadata": {
        "id": "jQ1wpCjMIkj8",
        "colab_type": "code",
        "colab": {}
      },
      "source": [
        "model_data = model_data.withColumn('plane_age', model_data.year - model_data.plane_year)"
      ],
      "execution_count": 0,
      "outputs": []
    },
    {
      "cell_type": "code",
      "metadata": {
        "id": "KPx4UmO6S-NZ",
        "colab_type": "code",
        "outputId": "d6a90314-ba10-459d-8960-43424e735a8d",
        "colab": {
          "base_uri": "https://localhost:8080/",
          "height": 222
        }
      },
      "source": [
        "model_data.show(5)"
      ],
      "execution_count": 18,
      "outputs": [
        {
          "output_type": "stream",
          "text": [
            "+-------+----+-----+---+--------+---------+--------+---------+-------+------+------+----+--------+--------+----+------+----------+--------------------+------------+--------+-------+-----+-----+---------+---------+\n",
            "|tailnum|year|month|day|dep_time|dep_delay|arr_time|arr_delay|carrier|flight|origin|dest|air_time|distance|hour|minute|plane_year|                type|manufacturer|   model|engines|seats|speed|   engine|plane_age|\n",
            "+-------+----+-----+---+--------+---------+--------+---------+-------+------+------+----+--------+--------+----+------+----------+--------------------+------------+--------+-------+-----+-----+---------+---------+\n",
            "| N846VA|2014|   12|  8|     658|       -7|     935|       -5|     VX|  1780|   SEA| LAX|     132|     954|   6|    58|      2011|Fixed wing multi ...|      AIRBUS|A320-214|      2|  182|   NA|Turbo-fan|      3.0|\n",
            "| N559AS|2014|    1| 22|    1040|        5|    1505|        5|     AS|   851|   SEA| HNL|     360|    2677|  10|    40|      2006|Fixed wing multi ...|      BOEING| 737-890|      2|  149|   NA|Turbo-fan|      8.0|\n",
            "| N847VA|2014|    3|  9|    1443|       -2|    1652|        2|     VX|   755|   SEA| SFO|     111|     679|  14|    43|      2011|Fixed wing multi ...|      AIRBUS|A320-214|      2|  182|   NA|Turbo-fan|      3.0|\n",
            "| N360SW|2014|    4|  9|    1705|       45|    1839|       34|     WN|   344|   PDX| SJC|      83|     569|  17|     5|      1992|Fixed wing multi ...|      BOEING| 737-3H4|      2|  149|   NA|Turbo-fan|     22.0|\n",
            "| N612AS|2014|    3|  9|     754|       -1|    1015|        1|     AS|   522|   SEA| BUR|     127|     937|   7|    54|      1999|Fixed wing multi ...|      BOEING| 737-790|      2|  151|   NA|Turbo-jet|     15.0|\n",
            "+-------+----+-----+---+--------+---------+--------+---------+-------+------+------+----+--------+--------+----+------+----------+--------------------+------------+--------+-------+-----+-----+---------+---------+\n",
            "only showing top 5 rows\n",
            "\n"
          ],
          "name": "stdout"
        }
      ]
    },
    {
      "cell_type": "markdown",
      "metadata": {
        "id": "YQHykGESThEc",
        "colab_type": "text"
      },
      "source": [
        "**Making a Boolean**\n",
        "\n",
        "Consider that you're modeling a yes or no question: is the flight late? However, your data contains the arrival delay in minutes for each flight. Thus, you'll need to create a boolean column which indicates whether the flight was late or not!"
      ]
    },
    {
      "cell_type": "code",
      "metadata": {
        "id": "zipVzI7UT6qH",
        "colab_type": "code",
        "outputId": "519360eb-cb6b-4910-8d2c-31944aadef7c",
        "colab": {
          "base_uri": "https://localhost:8080/",
          "height": 188
        }
      },
      "source": [
        "#Use the .withColumn() method to create the column is_late. This column is equal to model_data.arr_delay > 0.\n",
        "model_data = model_data.withColumn('is_arrival_late', model_data.arr_delay > 0)\n",
        "model_data.show(3)"
      ],
      "execution_count": 19,
      "outputs": [
        {
          "output_type": "stream",
          "text": [
            "+-------+----+-----+---+--------+---------+--------+---------+-------+------+------+----+--------+--------+----+------+----------+--------------------+------------+--------+-------+-----+-----+---------+---------+---------------+\n",
            "|tailnum|year|month|day|dep_time|dep_delay|arr_time|arr_delay|carrier|flight|origin|dest|air_time|distance|hour|minute|plane_year|                type|manufacturer|   model|engines|seats|speed|   engine|plane_age|is_arrival_late|\n",
            "+-------+----+-----+---+--------+---------+--------+---------+-------+------+------+----+--------+--------+----+------+----------+--------------------+------------+--------+-------+-----+-----+---------+---------+---------------+\n",
            "| N846VA|2014|   12|  8|     658|       -7|     935|       -5|     VX|  1780|   SEA| LAX|     132|     954|   6|    58|      2011|Fixed wing multi ...|      AIRBUS|A320-214|      2|  182|   NA|Turbo-fan|      3.0|          false|\n",
            "| N559AS|2014|    1| 22|    1040|        5|    1505|        5|     AS|   851|   SEA| HNL|     360|    2677|  10|    40|      2006|Fixed wing multi ...|      BOEING| 737-890|      2|  149|   NA|Turbo-fan|      8.0|           true|\n",
            "| N847VA|2014|    3|  9|    1443|       -2|    1652|        2|     VX|   755|   SEA| SFO|     111|     679|  14|    43|      2011|Fixed wing multi ...|      AIRBUS|A320-214|      2|  182|   NA|Turbo-fan|      3.0|           true|\n",
            "+-------+----+-----+---+--------+---------+--------+---------+-------+------+------+----+--------+--------+----+------+----------+--------------------+------------+--------+-------+-----+-----+---------+---------+---------------+\n",
            "only showing top 3 rows\n",
            "\n"
          ],
          "name": "stdout"
        }
      ]
    },
    {
      "cell_type": "code",
      "metadata": {
        "id": "-2LAHdzcUoHB",
        "colab_type": "code",
        "outputId": "c95c206b-d030-4f99-b010-896c1a2294d2",
        "colab": {
          "base_uri": "https://localhost:8080/",
          "height": 188
        }
      },
      "source": [
        "# Convert this column to an integer column so that you can use it in your model and name it label \n",
        "# (this is the default name for the response variable in Spark's machine learning routines).\n",
        "\n",
        "model_data = model_data.withColumn('label', model_data.is_arrival_late.cast('integer'))\n",
        "model_data.show(3)"
      ],
      "execution_count": 20,
      "outputs": [
        {
          "output_type": "stream",
          "text": [
            "+-------+----+-----+---+--------+---------+--------+---------+-------+------+------+----+--------+--------+----+------+----------+--------------------+------------+--------+-------+-----+-----+---------+---------+---------------+-----+\n",
            "|tailnum|year|month|day|dep_time|dep_delay|arr_time|arr_delay|carrier|flight|origin|dest|air_time|distance|hour|minute|plane_year|                type|manufacturer|   model|engines|seats|speed|   engine|plane_age|is_arrival_late|label|\n",
            "+-------+----+-----+---+--------+---------+--------+---------+-------+------+------+----+--------+--------+----+------+----------+--------------------+------------+--------+-------+-----+-----+---------+---------+---------------+-----+\n",
            "| N846VA|2014|   12|  8|     658|       -7|     935|       -5|     VX|  1780|   SEA| LAX|     132|     954|   6|    58|      2011|Fixed wing multi ...|      AIRBUS|A320-214|      2|  182|   NA|Turbo-fan|      3.0|          false|    0|\n",
            "| N559AS|2014|    1| 22|    1040|        5|    1505|        5|     AS|   851|   SEA| HNL|     360|    2677|  10|    40|      2006|Fixed wing multi ...|      BOEING| 737-890|      2|  149|   NA|Turbo-fan|      8.0|           true|    1|\n",
            "| N847VA|2014|    3|  9|    1443|       -2|    1652|        2|     VX|   755|   SEA| SFO|     111|     679|  14|    43|      2011|Fixed wing multi ...|      AIRBUS|A320-214|      2|  182|   NA|Turbo-fan|      3.0|           true|    1|\n",
            "+-------+----+-----+---+--------+---------+--------+---------+-------+------+------+----+--------+--------+----+------+----------+--------------------+------------+--------+-------+-----+-----+---------+---------+---------------+-----+\n",
            "only showing top 3 rows\n",
            "\n"
          ],
          "name": "stdout"
        }
      ]
    },
    {
      "cell_type": "markdown",
      "metadata": {
        "id": "2HpTNkP4hSA-",
        "colab_type": "text"
      },
      "source": [
        "**Remove missing values**"
      ]
    },
    {
      "cell_type": "code",
      "metadata": {
        "id": "b8W4MyrRhbbj",
        "colab_type": "code",
        "colab": {}
      },
      "source": [
        "cols = model_data.columns\n",
        "\n",
        "for col_name in cols:\n",
        "    model_data = model_data.filter(col_name + ' is not Null')"
      ],
      "execution_count": 0,
      "outputs": []
    },
    {
      "cell_type": "code",
      "metadata": {
        "id": "H7-dq5Qjh_CY",
        "colab_type": "code",
        "outputId": "1a6977e3-962e-4fc8-eee7-f0c5de9fa09c",
        "colab": {
          "base_uri": "https://localhost:8080/",
          "height": 34
        }
      },
      "source": [
        "# Let's see how many rows are left from the filter exercise above\n",
        "model_data.count()"
      ],
      "execution_count": 22,
      "outputs": [
        {
          "output_type": "execute_result",
          "data": {
            "text/plain": [
              "9303"
            ]
          },
          "metadata": {
            "tags": []
          },
          "execution_count": 22
        }
      ]
    },
    {
      "cell_type": "markdown",
      "metadata": {
        "id": "6r2C1Rw5jmbO",
        "colab_type": "text"
      },
      "source": [
        "**Strings and factors**\n",
        "\n",
        "As you know, Spark requires numeric data for modeling. So far this hasn't been an issue; even boolean columns can easily be converted to integers without any trouble. But you'll also be using the airline and the plane's destination as features in your model. These are coded as strings and there isn't any obvious way to convert them to a numeric data type.\n",
        "\n",
        "Fortunately, PySpark has functions for handling this built into the pyspark.ml.features submodule. You can create what are called 'one-hot vectors' to represent the carrier and the destination of each flight. A one-hot vector is a way of representing a categorical feature where every observation has a vector in which all elements are zero except for at most one element, which has a value of one (1).\n",
        "\n",
        "Each element in the vector corresponds to a level of the feature, so it's possible to tell what the right level is by seeing which element of the vector is equal to one (1)."
      ]
    },
    {
      "cell_type": "markdown",
      "metadata": {
        "id": "pQLbFt39kEix",
        "colab_type": "text"
      },
      "source": [
        "The first step to encoding your categorical feature is to create a StringIndexer. Members of this class are Estimators that take a DataFrame with a column of strings and map each unique string to a number. Then, the Estimator returns a Transformer that takes a DataFrame, attaches the mapping to it as metadata, and returns a new DataFrame with a numeric column corresponding to the string column.\n",
        "\n",
        "The second step is to encode this numeric column as a one-hot vector using a OneHotEncoder. This works exactly the same way as the StringIndexer by creating an Estimator and then a Transformer. The end result is a column that encodes your categorical feature as a vector that's suitable for machine learning routines!\n",
        "\n",
        "This may seem complicated, but don't worry! All you have to remember is that you need to create a StringIndexer and a OneHotEncoder, and the Pipeline will take care of the rest."
      ]
    },
    {
      "cell_type": "markdown",
      "metadata": {
        "id": "k5c_FI1hl8Qv",
        "colab_type": "text"
      },
      "source": [
        "**Carrier column**\n",
        "\n",
        "In this exercise you'll create a StringIndexer and a OneHotEncoder to code the carrier column. To do this, you'll call the class constructors with the arguments inputCol and outputCol.\n",
        "\n",
        "The inputCol is the name of the column you want to index or encode, and the outputCol is the name of the new column that the Transformer should create."
      ]
    },
    {
      "cell_type": "code",
      "metadata": {
        "id": "fQ0K0_XWjlZ3",
        "colab_type": "code",
        "outputId": "ff17d1e7-0f25-4631-eec5-619e2f40feac",
        "colab": {
          "base_uri": "https://localhost:8080/",
          "height": 188
        }
      },
      "source": [
        "# Create a StringIndexer called carr_indexer by calling StringIndexer() with inputCol=\"carrier\" and outputCol=\"carrier_index\".\n",
        "from pyspark.ml.feature import StringIndexer\n",
        "\n",
        "carr_indexer = StringIndexer(inputCol='carrier', outputCol='carrier_index')\n",
        "# to immediately see the effect of the StringIndexer, lets say...\n",
        "indexed = carr_indexer.fit(model_data).transform(model_data)  # This creates a new data frame\n",
        "indexed.show(3)"
      ],
      "execution_count": 23,
      "outputs": [
        {
          "output_type": "stream",
          "text": [
            "+-------+----+-----+---+--------+---------+--------+---------+-------+------+------+----+--------+--------+----+------+----------+--------------------+------------+--------+-------+-----+-----+---------+---------+---------------+-----+-------------+\n",
            "|tailnum|year|month|day|dep_time|dep_delay|arr_time|arr_delay|carrier|flight|origin|dest|air_time|distance|hour|minute|plane_year|                type|manufacturer|   model|engines|seats|speed|   engine|plane_age|is_arrival_late|label|carrier_index|\n",
            "+-------+----+-----+---+--------+---------+--------+---------+-------+------+------+----+--------+--------+----+------+----------+--------------------+------------+--------+-------+-----+-----+---------+---------+---------------+-----+-------------+\n",
            "| N846VA|2014|   12|  8|     658|       -7|     935|       -5|     VX|  1780|   SEA| LAX|     132|     954|   6|    58|      2011|Fixed wing multi ...|      AIRBUS|A320-214|      2|  182|   NA|Turbo-fan|      3.0|          false|    0|          7.0|\n",
            "| N559AS|2014|    1| 22|    1040|        5|    1505|        5|     AS|   851|   SEA| HNL|     360|    2677|  10|    40|      2006|Fixed wing multi ...|      BOEING| 737-890|      2|  149|   NA|Turbo-fan|      8.0|           true|    1|          0.0|\n",
            "| N847VA|2014|    3|  9|    1443|       -2|    1652|        2|     VX|   755|   SEA| SFO|     111|     679|  14|    43|      2011|Fixed wing multi ...|      AIRBUS|A320-214|      2|  182|   NA|Turbo-fan|      3.0|           true|    1|          7.0|\n",
            "+-------+----+-----+---+--------+---------+--------+---------+-------+------+------+----+--------+--------+----+------+----------+--------------------+------------+--------+-------+-----+-----+---------+---------+---------------+-----+-------------+\n",
            "only showing top 3 rows\n",
            "\n"
          ],
          "name": "stdout"
        }
      ]
    },
    {
      "cell_type": "code",
      "metadata": {
        "id": "JpfMZ5wYnXEX",
        "colab_type": "code",
        "outputId": "cb50ce1a-6f3d-4a3b-cc45-badc99c0201a",
        "colab": {
          "base_uri": "https://localhost:8080/",
          "height": 188
        }
      },
      "source": [
        "# Create a OneHotEncoder called carr_encoder by calling OneHotEncoder() with inputCol=\"carrier_index\" and outputCol=\"carrier_fact\".\n",
        "from pyspark.ml.feature import OneHotEncoder\n",
        "\n",
        "carr_encoder = OneHotEncoder(inputCol='carrier_index', outputCol='carrier_fact')\n",
        "# to immediately see the effect of the OneHotEncoder, lets say...\n",
        "encoded = carr_encoder.transform(indexed)  # This creates a new data frame. Note that encoder is a transformer and has no fit method\n",
        "encoded.show(3)"
      ],
      "execution_count": 24,
      "outputs": [
        {
          "output_type": "stream",
          "text": [
            "+-------+----+-----+---+--------+---------+--------+---------+-------+------+------+----+--------+--------+----+------+----------+--------------------+------------+--------+-------+-----+-----+---------+---------+---------------+-----+-------------+--------------+\n",
            "|tailnum|year|month|day|dep_time|dep_delay|arr_time|arr_delay|carrier|flight|origin|dest|air_time|distance|hour|minute|plane_year|                type|manufacturer|   model|engines|seats|speed|   engine|plane_age|is_arrival_late|label|carrier_index|  carrier_fact|\n",
            "+-------+----+-----+---+--------+---------+--------+---------+-------+------+------+----+--------+--------+----+------+----------+--------------------+------------+--------+-------+-----+-----+---------+---------+---------------+-----+-------------+--------------+\n",
            "| N846VA|2014|   12|  8|     658|       -7|     935|       -5|     VX|  1780|   SEA| LAX|     132|     954|   6|    58|      2011|Fixed wing multi ...|      AIRBUS|A320-214|      2|  182|   NA|Turbo-fan|      3.0|          false|    0|          7.0|(10,[7],[1.0])|\n",
            "| N559AS|2014|    1| 22|    1040|        5|    1505|        5|     AS|   851|   SEA| HNL|     360|    2677|  10|    40|      2006|Fixed wing multi ...|      BOEING| 737-890|      2|  149|   NA|Turbo-fan|      8.0|           true|    1|          0.0|(10,[0],[1.0])|\n",
            "| N847VA|2014|    3|  9|    1443|       -2|    1652|        2|     VX|   755|   SEA| SFO|     111|     679|  14|    43|      2011|Fixed wing multi ...|      AIRBUS|A320-214|      2|  182|   NA|Turbo-fan|      3.0|           true|    1|          7.0|(10,[7],[1.0])|\n",
            "+-------+----+-----+---+--------+---------+--------+---------+-------+------+------+----+--------+--------+----+------+----------+--------------------+------------+--------+-------+-----+-----+---------+---------+---------------+-----+-------------+--------------+\n",
            "only showing top 3 rows\n",
            "\n"
          ],
          "name": "stdout"
        }
      ]
    },
    {
      "cell_type": "markdown",
      "metadata": {
        "id": "Ov2HPqvAp51G",
        "colab_type": "text"
      },
      "source": [
        "**Destination Column**\n",
        "\n",
        "Now you'll encode the dest column just like we did the carrier column."
      ]
    },
    {
      "cell_type": "code",
      "metadata": {
        "id": "ETpjBuMZqMtJ",
        "colab_type": "code",
        "colab": {}
      },
      "source": [
        "# Create a StringIndexer called dest_indexer by calling StringIndexer() with inputCol=\"dest\" and outputCol=\"dest_index\".\n",
        "dest_indexer = StringIndexer(inputCol='dest', outputCol='dest_index')"
      ],
      "execution_count": 0,
      "outputs": []
    },
    {
      "cell_type": "code",
      "metadata": {
        "id": "TNWSsMsArRtV",
        "colab_type": "code",
        "colab": {}
      },
      "source": [
        "# Create a OneHotEncoder called dest_encoder by calling OneHotEncoder() with inputCol=\"dest_index\" and outputCol=\"dest_fact\".\n",
        "dest_encoder = OneHotEncoder(inputCol='dest_index', outputCol='dest_fact')"
      ],
      "execution_count": 0,
      "outputs": []
    },
    {
      "cell_type": "markdown",
      "metadata": {
        "id": "Xvune_m6t8sv",
        "colab_type": "text"
      },
      "source": [
        "**Assemble a vector**\n",
        "\n",
        "The last step in the Pipeline is to combine all of the columns containing our features into a single column. This has to be done before modeling can take place because every Spark modeling routine expects the data to be in this form. You can do this by storing each of the values from a column as an entry in a vector. Then, from the model's point of view, every observation is a vector that contains all of the information about it and a label that tells the modeler what value that observation corresponds to.\n",
        "\n",
        "Because of this, the pyspark.ml.feature submodule contains a class called VectorAssembler. This Transformer takes all of the columns you specify and combines them into a new vector column."
      ]
    },
    {
      "cell_type": "code",
      "metadata": {
        "id": "gD56q3qat_qL",
        "colab_type": "code",
        "colab": {}
      },
      "source": [
        "# Create a VectorAssembler by calling VectorAssembler() with the inputCols names as a list and the outputCol name \"features\".\n",
        "# The list of columns should be [\"month\", \"air_time\", \"carrier_fact\", \"dest_fact\", \"plane_age\"].\n",
        "from pyspark.ml.feature import VectorAssembler\n",
        "\n",
        "vec_assembler = VectorAssembler(inputCols=[\"month\", \"air_time\", \"carrier_fact\", \"dest_fact\", \"plane_age\"], outputCol='features')"
      ],
      "execution_count": 0,
      "outputs": []
    },
    {
      "cell_type": "markdown",
      "metadata": {
        "id": "73FVY3uGv5zj",
        "colab_type": "text"
      },
      "source": [
        "**Create the pipeline**\n",
        "\n",
        "You're finally ready to create a Pipeline!\n",
        "\n",
        "Pipeline is a class in the pyspark.ml module that combines all the Estimators and Transformers that you've already created. This lets you reuse the same modeling process over and over again by wrapping it up in one simple object. Neat, right?"
      ]
    },
    {
      "cell_type": "markdown",
      "metadata": {
        "id": "gSREdlwbwU4O",
        "colab_type": "text"
      },
      "source": [
        "_Import Pipeline from pyspark.ml._\n",
        "\n",
        "Call the Pipeline() constructor with the keyword argument stages to create a Pipeline called flights_pipe.<br>\n",
        "stages should be a list holding all the stages you want your data to go through in the pipeline. Here this is just:\n",
        "``` \n",
        "[dest_indexer, dest_encoder, carr_indexer, carr_encoder, vec_assembler]\n",
        "```"
      ]
    },
    {
      "cell_type": "code",
      "metadata": {
        "id": "yt0nanj0v9FZ",
        "colab_type": "code",
        "colab": {}
      },
      "source": [
        "from pyspark.ml import Pipeline\n",
        "flights_pipe = Pipeline(stages=[dest_indexer, dest_encoder, carr_indexer, carr_encoder, vec_assembler])"
      ],
      "execution_count": 0,
      "outputs": []
    },
    {
      "cell_type": "markdown",
      "metadata": {
        "id": "i1qvNmdGyxJS",
        "colab_type": "text"
      },
      "source": [
        "**Test vs Train**\n",
        "\n",
        "After you've cleaned your data and gotten it ready for modeling, one of the most important steps is to split the data into a test set and a train set. After that, don't touch your test data until you think you have a good model! As you're building models and forming hypotheses, you can test them on your training data to get an idea of their performance.\n",
        "\n",
        "Once you've got your favorite model, you can see how well it predicts the new data in your test set. This never-before-seen data will give you a much more realistic idea of your model's performance in the real world when you're trying to predict or classify new data.\n",
        "\n",
        "In Spark it's important to make sure you split the data after all the transformations. This is because operations like StringIndexer don't always produce the same index even when given the same list of strings.\n",
        "\n"
      ]
    },
    {
      "cell_type": "markdown",
      "metadata": {
        "id": "X1ArJefqzX8R",
        "colab_type": "text"
      },
      "source": [
        "**Transform the data:**\n",
        "\n",
        "Hooray, now you're finally ready to pass your data through the Pipeline you created!"
      ]
    },
    {
      "cell_type": "code",
      "metadata": {
        "id": "TerQ5bKWy7aL",
        "colab_type": "code",
        "colab": {}
      },
      "source": [
        "# Create the DataFrame piped_data by calling the Pipeline methods .fit() and .transform() in a chain. \n",
        "# Both of these methods take model_data as their only argument.\n",
        "\n",
        "piped_data = flights_pipe.fit(model_data).transform(model_data)"
      ],
      "execution_count": 0,
      "outputs": []
    },
    {
      "cell_type": "code",
      "metadata": {
        "id": "OQgUL1Bj1NXP",
        "colab_type": "code",
        "outputId": "f3c34fe1-411d-4cf4-fa91-3822266b5dad",
        "colab": {
          "base_uri": "https://localhost:8080/",
          "height": 188
        }
      },
      "source": [
        "piped_data.show(3)"
      ],
      "execution_count": 30,
      "outputs": [
        {
          "output_type": "stream",
          "text": [
            "+-------+----+-----+---+--------+---------+--------+---------+-------+------+------+----+--------+--------+----+------+----------+--------------------+------------+--------+-------+-----+-----+---------+---------+---------------+-----+----------+---------------+-------------+--------------+--------------------+\n",
            "|tailnum|year|month|day|dep_time|dep_delay|arr_time|arr_delay|carrier|flight|origin|dest|air_time|distance|hour|minute|plane_year|                type|manufacturer|   model|engines|seats|speed|   engine|plane_age|is_arrival_late|label|dest_index|      dest_fact|carrier_index|  carrier_fact|            features|\n",
            "+-------+----+-----+---+--------+---------+--------+---------+-------+------+------+----+--------+--------+----+------+----------+--------------------+------------+--------+-------+-----+-----+---------+---------+---------------+-----+----------+---------------+-------------+--------------+--------------------+\n",
            "| N846VA|2014|   12|  8|     658|       -7|     935|       -5|     VX|  1780|   SEA| LAX|     132|     954|   6|    58|      2011|Fixed wing multi ...|      AIRBUS|A320-214|      2|  182|   NA|Turbo-fan|      3.0|          false|    0|       1.0| (68,[1],[1.0])|          7.0|(10,[7],[1.0])|(81,[0,1,9,13,80]...|\n",
            "| N559AS|2014|    1| 22|    1040|        5|    1505|        5|     AS|   851|   SEA| HNL|     360|    2677|  10|    40|      2006|Fixed wing multi ...|      BOEING| 737-890|      2|  149|   NA|Turbo-fan|      8.0|           true|    1|      19.0|(68,[19],[1.0])|          0.0|(10,[0],[1.0])|(81,[0,1,2,31,80]...|\n",
            "| N847VA|2014|    3|  9|    1443|       -2|    1652|        2|     VX|   755|   SEA| SFO|     111|     679|  14|    43|      2011|Fixed wing multi ...|      AIRBUS|A320-214|      2|  182|   NA|Turbo-fan|      3.0|           true|    1|       0.0| (68,[0],[1.0])|          7.0|(10,[7],[1.0])|(81,[0,1,9,12,80]...|\n",
            "+-------+----+-----+---+--------+---------+--------+---------+-------+------+------+----+--------+--------+----+------+----------+--------------------+------------+--------+-------+-----+-----+---------+---------+---------------+-----+----------+---------------+-------------+--------------+--------------------+\n",
            "only showing top 3 rows\n",
            "\n"
          ],
          "name": "stdout"
        }
      ]
    },
    {
      "cell_type": "markdown",
      "metadata": {
        "id": "8wlg1Orc1je-",
        "colab_type": "text"
      },
      "source": [
        "**Split the data**\n",
        "\n",
        "Now that you've done all your manipulations, the last step before modeling is to split the data!"
      ]
    },
    {
      "cell_type": "markdown",
      "metadata": {
        "id": "7Zd2DtxB1zbE",
        "colab_type": "text"
      },
      "source": [
        "Use the DataFrame method .randomSplit() to split piped_data into two pieces, training with 75% of the data, and test with 25% of the data by passing the list [.75, .25] to the .randomSplit() method."
      ]
    },
    {
      "cell_type": "code",
      "metadata": {
        "id": "AAzMGvjk1m68",
        "colab_type": "code",
        "colab": {}
      },
      "source": [
        "training, testing = piped_data.randomSplit([0.75, 0.25])"
      ],
      "execution_count": 0,
      "outputs": []
    },
    {
      "cell_type": "markdown",
      "metadata": {
        "id": "vW8hrK8_2WaJ",
        "colab_type": "text"
      },
      "source": [
        "Let's see howmany rows in both training and testing sets"
      ]
    },
    {
      "cell_type": "code",
      "metadata": {
        "id": "MjzAVTiC2cqf",
        "colab_type": "code",
        "outputId": "e608eca6-458f-4144-a862-ddf227592358",
        "colab": {
          "base_uri": "https://localhost:8080/",
          "height": 34
        }
      },
      "source": [
        "print('Training set has {}, while testing set has {} observations. Total is {} observations.'.format(training.count(), testing.count(), (training.count() + testing.count())))"
      ],
      "execution_count": 32,
      "outputs": [
        {
          "output_type": "stream",
          "text": [
            "Training set has 6972, while testing set has 2331 observations. Total is 9303 observations.\n"
          ],
          "name": "stdout"
        }
      ]
    },
    {
      "cell_type": "markdown",
      "metadata": {
        "id": "kCG2AsNR3pJX",
        "colab_type": "text"
      },
      "source": [
        ""
      ]
    },
    {
      "cell_type": "markdown",
      "metadata": {
        "id": "Fkx0OJgF3WcF",
        "colab_type": "text"
      },
      "source": [
        "## DataCamp, Course 1 Contd...:\n",
        "**Lesson 4: Model tuning and selection**"
      ]
    },
    {
      "cell_type": "markdown",
      "metadata": {
        "id": "ZsOVeHf03iyh",
        "colab_type": "text"
      },
      "source": [
        "________________________________________________________________________________"
      ]
    },
    {
      "cell_type": "markdown",
      "metadata": {
        "id": "sfVl5p4X8-c9",
        "colab_type": "text"
      },
      "source": [
        "**What is logistic regression?**\n",
        "\n",
        "The model you'll be fitting in this chapter is called a logistic regression. This model is very similar to a linear regression, but instead of predicting a numeric variable, it predicts the probability (between 0 and 1) of an event.\n",
        "\n",
        "To use this as a classification algorithm, all you have to do is assign a cutoff point to these probabilities. If the predicted probability is above the cutoff point, you classify that observation as a 'yes' (in this case, the flight being late), if it's below, you classify it as a 'no'!\n",
        "\n",
        "You'll tune this model by testing different values for several hyperparameters. A hyperparameter is just a value in the model that's not estimated from the data, but rather is supplied by the user to maximize performance. For this course it's not necessary to understand the mathematics behind all of these values - what's important is that you'll try out a few different choices and pick the best one."
      ]
    },
    {
      "cell_type": "markdown",
      "metadata": {
        "id": "QYulg9Aa9PR4",
        "colab_type": "text"
      },
      "source": [
        "**Create the modeler**\n",
        "\n",
        "The Estimator you'll be using is a LogisticRegression from the pyspark.ml.classification submodule."
      ]
    },
    {
      "cell_type": "code",
      "metadata": {
        "id": "X3wL1hLF3X76",
        "colab_type": "code",
        "outputId": "a66eeb65-a154-4fe6-8432-89e995ba419e",
        "colab": {
          "base_uri": "https://localhost:8080/",
          "height": 34
        }
      },
      "source": [
        "# Import the LogisticRegression class from pyspark.ml.classification.\n",
        "# Create a LogisticRegression called lr by calling LogisticRegression() with no arguments.\n",
        "\n",
        "from pyspark.ml.classification import LogisticRegression\n",
        "\n",
        "lr = LogisticRegression()\n",
        "print(lr)"
      ],
      "execution_count": 33,
      "outputs": [
        {
          "output_type": "stream",
          "text": [
            "LogisticRegression_a096ec66d781\n"
          ],
          "name": "stdout"
        }
      ]
    },
    {
      "cell_type": "markdown",
      "metadata": {
        "id": "0ukZYGS--XtV",
        "colab_type": "text"
      },
      "source": [
        "**Cross validation**\n",
        "\n",
        "In the next few exercises you'll be tuning your logistic regression model using a procedure called k-fold cross validation. This is a method of estimating the model's performance on unseen data (like your test DataFrame).\n",
        "\n",
        "It works by splitting the training data into a few different partitions. The exact number is up to you, but in this course you'll be using PySpark's default value of three. Once the data is split up, one of the partitions is set aside, and the model is fit to the others. Then the error is measured against the held out partition. This is repeated for each of the partitions, so that every block of data is held out and used as a test set exactly once. Then the error on each of the partitions is averaged. This is called the cross validation error of the model, and is a good estimate of the actual error on the held out data.\n",
        "\n",
        "You'll be using cross validation to choose the hyperparameters by creating a grid of the possible pairs of values for the two hyperparameters, elasticNetParam and regParam, and using the cross validation error to compare all the different models so you can choose the best one!\n",
        "\n",
        "Cross validation helps us to estimate the model error on the held-out testing data set"
      ]
    },
    {
      "cell_type": "markdown",
      "metadata": {
        "id": "NeMfaolg_Ky6",
        "colab_type": "text"
      },
      "source": [
        "**Create the evaluator**\n",
        "\n",
        "The first thing you need when doing cross validation for model selection is a way to compare different models. Luckily, the pyspark.ml.evaluation submodule has classes for evaluating different kinds of models. Your model is a binary classification model, so you'll be using the BinaryClassificationEvaluator from the pyspark.ml.evaluation module.\n",
        "\n",
        "This evaluator calculates the area under the ROC. This is a metric that combines the two kinds of errors a binary classifier can make (false positives and false negatives) into a simple number. You'll learn more about this towards the end of the chapter!"
      ]
    },
    {
      "cell_type": "code",
      "metadata": {
        "id": "bsiW7ePS-Z2r",
        "colab_type": "code",
        "colab": {}
      },
      "source": [
        "# Import the submodule pyspark.ml.evaluation as evals.\n",
        "# Create evaluator by calling evals.BinaryClassificationEvaluator() with the argument metricName=\"areaUnderROC\".\n",
        "\n",
        "import pyspark.ml.evaluation as evals\n",
        "\n",
        "evaluator = evals.BinaryClassificationEvaluator(metricName='areaUnderROC')"
      ],
      "execution_count": 0,
      "outputs": []
    },
    {
      "cell_type": "markdown",
      "metadata": {
        "id": "o_loxRpvEHvI",
        "colab_type": "text"
      },
      "source": [
        "**Make a grid**\n",
        "\n",
        "Next, you need to create a grid of values to search over when looking for the optimal hyperparameters. The submodule pyspark.ml.tuning includes a class called ParamGridBuilder that does just that (maybe you're starting to notice a pattern here; PySpark has a submodule for just about everything!).\n",
        "\n",
        "You'll need to use the .addGrid() and .build() methods to create a grid that you can use for cross validation. The .addGrid() method takes a model parameter (an attribute of the model Estimator, lr, that you created a few exercises ago) and a list of values that you want to try. The .build() method takes no arguments, it just returns the grid that you'll use later."
      ]
    },
    {
      "cell_type": "code",
      "metadata": {
        "id": "HxaN93QpEKPV",
        "colab_type": "code",
        "colab": {}
      },
      "source": [
        "# Import the submodule pyspark.ml.tuning under the alias tune.\n",
        "import pyspark.ml.tuning as tune\n",
        "\n",
        "# Call the class constructor ParamGridBuilder() with no arguments. Save this as grid.\n",
        "grid = tune.ParamGridBuilder()\n",
        "\n",
        "# Call the .addGrid() method on grid with lr.regParam as the first argument and np.arange(0, .1, .01) as the second argument. \n",
        "# This second call is a function from the numpy module (imported as np) that creates a list of numbers from 0 to .1, incrementing by .01. Overwrite grid with the result.\n",
        "# Add the hyperparameter\n",
        "grid = grid.addGrid(lr.regParam, np.arange(0, .1, .01))\n",
        "\n",
        "# Update grid again by calling the .addGrid() method a second time create a grid for lr.elasticNetParam that includes only the values [0, 1].\n",
        "grid = grid.addGrid(lr.elasticNetParam, [0,1])\n",
        "\n",
        "# Build the grid\n",
        "grid = grid.build()"
      ],
      "execution_count": 0,
      "outputs": []
    },
    {
      "cell_type": "markdown",
      "metadata": {
        "id": "SMPpJllLVyqB",
        "colab_type": "text"
      },
      "source": [
        "**Make the validator**\n",
        "\n",
        "The submodule pyspark.ml.tuning also has a class called CrossValidator for performing cross validation. This Estimator takes the modeler you want to fit, the grid of hyperparameters you created, and the evaluator you want to use to compare your models.\n",
        "\n",
        "The submodule pyspark.ml.tune has already been imported as tune. You'll create the CrossValidator by passing it the logistic regression Estimator lr, the parameter grid, and the evaluator you created in the previous exercises.\n",
        "<br>Name this object cv.\n"
      ]
    },
    {
      "cell_type": "code",
      "metadata": {
        "id": "Yj1tLGlGV1c7",
        "colab_type": "code",
        "colab": {}
      },
      "source": [
        "# Create the CrossValidator\n",
        "cv = tune.CrossValidator(estimator=lr,\n",
        "               estimatorParamMaps=grid,\n",
        "               evaluator=evaluator)"
      ],
      "execution_count": 0,
      "outputs": []
    },
    {
      "cell_type": "markdown",
      "metadata": {
        "id": "IGWf4h2xZpkc",
        "colab_type": "text"
      },
      "source": [
        "**Fit the model(s)**\n",
        "\n",
        "You're finally ready to fit the models and select the best one!"
      ]
    },
    {
      "cell_type": "code",
      "metadata": {
        "id": "mu2XS4dJZwjj",
        "colab_type": "code",
        "colab": {}
      },
      "source": [
        "# Fit cross validation models\n",
        "models = cv.fit(training)\n",
        "\n",
        "# Extract the best model\n",
        "best_lr = models.bestModel"
      ],
      "execution_count": 0,
      "outputs": []
    },
    {
      "cell_type": "code",
      "metadata": {
        "id": "zyD51e1jbdQb",
        "colab_type": "code",
        "outputId": "a3bea270-ace4-44a9-c071-7755db00c6e0",
        "colab": {
          "base_uri": "https://localhost:8080/",
          "height": 34
        }
      },
      "source": [
        "print(best_lr)"
      ],
      "execution_count": 38,
      "outputs": [
        {
          "output_type": "stream",
          "text": [
            "LogisticRegressionModel: uid = LogisticRegression_a096ec66d781, numClasses = 2, numFeatures = 81\n"
          ],
          "name": "stdout"
        }
      ]
    },
    {
      "cell_type": "code",
      "metadata": {
        "id": "dDYhUhG-dhOM",
        "colab_type": "code",
        "outputId": "a3d836af-dcbf-4792-eff5-9b012b3276ef",
        "colab": {
          "base_uri": "https://localhost:8080/",
          "height": 70
        }
      },
      "source": [
        "# We can also print the coefficient and intercept of the Logistic Regression model by using the following command:\n",
        "\n",
        "#coefficient of the regression model\n",
        "coeff = best_lr.coefficients\n",
        "\n",
        "#X and Y intercept\n",
        "intrcpt = best_lr.intercept\n",
        "\n",
        "print (\"The coefficient of the model is : %a\" %coeff)\n",
        "print (\"The Intercept of the model is : %f\" %intrcpt)"
      ],
      "execution_count": 39,
      "outputs": [
        {
          "output_type": "stream",
          "text": [
            "The coefficient of the model is : DenseVector([0.0229, 0.0767, 0.388, 1.0505, 0.3535, 0.5491, 0.2765, 0.236, 0.8576, -0.6089, 0.8991, 1.1357, -1.797, -4.1159, -4.4733, -3.4376, -5.314, -9.3034, -1.5738, -1.9482, -1.4171, -0.1077, -5.0248, -9.902, -13.9349, -7.5439, -11.6399, -4.8378, -5.1044, -15.9588, 2.9324, -20.8595, -15.9695, 2.6813, -3.7953, -3.7808, -16.6652, -11.9803, -9.7055, 2.9887, -21.0564, -15.2431, -11.213, -9.8323, -15.3228, -14.7779, -4.2681, -1.8568, -15.885, -6.245, 2.7179, -21.0493, -6.2261, -2.6879, -4.5536, -3.6426, -8.701, -21.5675, 2.6312, -15.6197, -10.8209, -17.2288, -18.2425, -4.9374, -7.113, -9.9699, -0.151, -12.843, -12.515, -9.4691, -18.1167, -13.1716, -77.4042, 2.3272, 1.4296, -3.3072, -12.4057, 5.2589, -18.3409, -2.1278, 0.0001])\n",
            "The Intercept of the model is : -6.530859\n"
          ],
          "name": "stdout"
        }
      ]
    },
    {
      "cell_type": "markdown",
      "metadata": {
        "id": "aEcLAiJGcH7l",
        "colab_type": "text"
      },
      "source": [
        "**Evaluating binary classifiers**\n",
        "\n",
        "For this course we'll be using a common metric for binary classification algorithms call the AUC, or area under the curve. In this case, the curve is the ROC, or receiver operating curve. The details of what these things actually measure isn't important for this course. All you need to know is that for our purposes, the closer the AUC is to one (1), the better the model is!"
      ]
    },
    {
      "cell_type": "markdown",
      "metadata": {
        "id": "Xorlbj3qcX1B",
        "colab_type": "text"
      },
      "source": [
        "**Evaluate the model**\n",
        "\n",
        "Remember the test data that you set aside waaaaaay back in chapter 3? It's finally time to test your model on it! You can use the same evaluator you made to fit the model."
      ]
    },
    {
      "cell_type": "code",
      "metadata": {
        "id": "GMWYok4gcJ4Z",
        "colab_type": "code",
        "colab": {}
      },
      "source": [
        "# Use your model to generate predictions by applying best_lr.transform() to the test data. Save this as test_results.\n",
        "test_results = best_lr.transform(testing)"
      ],
      "execution_count": 0,
      "outputs": []
    },
    {
      "cell_type": "code",
      "metadata": {
        "id": "RFIqV6mVc72r",
        "colab_type": "code",
        "outputId": "4ec7f2fd-d7b1-4297-8af6-a3b16f4dfe2d",
        "colab": {
          "base_uri": "https://localhost:8080/",
          "height": 34
        }
      },
      "source": [
        "# Call evaluator.evaluate() on test_results to compute the AUC. Print the output.\n",
        "print(evaluator.evaluate(test_results))"
      ],
      "execution_count": 41,
      "outputs": [
        {
          "output_type": "stream",
          "text": [
            "0.6956451035620336\n"
          ],
          "name": "stdout"
        }
      ]
    },
    {
      "cell_type": "markdown",
      "metadata": {
        "id": "pU_V5mFviJGn",
        "colab_type": "text"
      },
      "source": [
        "# DataCamp Course 2: Big Data Fundamentals with PySpark."
      ]
    },
    {
      "cell_type": "markdown",
      "metadata": {
        "id": "nE0WVoFQiMS4",
        "colab_type": "text"
      },
      "source": [
        "### Lesson 1: Introduction to Big Data analysis with Spark"
      ]
    },
    {
      "cell_type": "markdown",
      "metadata": {
        "id": "ZbZNKBgKiSXF",
        "colab_type": "text"
      },
      "source": [
        "**Inspecting The SparkContext**\n",
        "\n",
        "SparkContext(sc) is an entry point into the world of spark functionality. An entry point is where control is transferred from operating system(os) to the provided program. in simpler terms, it's like a key to your house, without which there is no entry.\n",
        "<br>Let's inspect some of the attributes of teh SparkContect."
      ]
    },
    {
      "cell_type": "code",
      "metadata": {
        "id": "TVI4InmMks3I",
        "colab_type": "code",
        "outputId": "ecc48fb7-e5b2-4e19-a989-dbd9d9046932",
        "colab": {
          "base_uri": "https://localhost:8080/",
          "height": 34
        }
      },
      "source": [
        "# Let's print the SparkContext Version\n",
        "sc.version"
      ],
      "execution_count": 42,
      "outputs": [
        {
          "output_type": "execute_result",
          "data": {
            "text/plain": [
              "'2.4.5'"
            ]
          },
          "metadata": {
            "tags": []
          },
          "execution_count": 42
        }
      ]
    },
    {
      "cell_type": "code",
      "metadata": {
        "id": "hCZP0qc2n0cC",
        "colab_type": "code",
        "outputId": "5690dbd9-c7f3-4554-987d-35479875bd5f",
        "colab": {
          "base_uri": "https://localhost:8080/",
          "height": 34
        }
      },
      "source": [
        "# Let's print the Python Version that sc runs on.\n",
        "sc.pythonVer"
      ],
      "execution_count": 43,
      "outputs": [
        {
          "output_type": "execute_result",
          "data": {
            "text/plain": [
              "'3.6'"
            ]
          },
          "metadata": {
            "tags": []
          },
          "execution_count": 43
        }
      ]
    },
    {
      "cell_type": "code",
      "metadata": {
        "id": "A3Z0XcBJn8JM",
        "colab_type": "code",
        "outputId": "45c09218-3e37-4802-da8f-90fa5d93fd6d",
        "colab": {
          "base_uri": "https://localhost:8080/",
          "height": 34
        }
      },
      "source": [
        "# Let's print the Master. Master is the URL of the Cluster, or 'local' string to run in local mode.\n",
        "# sc.master returns 'local', meaning the SparkContext acts as a master on a local node, using all available threads on the computer where it is running.\n",
        "sc.master"
      ],
      "execution_count": 44,
      "outputs": [
        {
          "output_type": "execute_result",
          "data": {
            "text/plain": [
              "'local'"
            ]
          },
          "metadata": {
            "tags": []
          },
          "execution_count": 44
        }
      ]
    },
    {
      "cell_type": "markdown",
      "metadata": {
        "id": "252wqtbmoers",
        "colab_type": "text"
      },
      "source": [
        "**Loading Data in Pyspark:**\n",
        "\n",
        "We can load raw data in pyspark using SparkContext by two distinct means:\n",
        "<br>1. SparkContext parallelize() method on a list:\n",
        "```\n",
        "rdd = sc.parallelize(range(10))\n",
        "```\n",
        "<br>2. SparkContext textFile() method on a file:\n",
        "```\n",
        "rdd2 = sc.textFile('text.txt')\n",
        "```\n",
        "\n",
        "\n",
        "\n"
      ]
    },
    {
      "cell_type": "markdown",
      "metadata": {
        "id": "5XOqZniGI0Lt",
        "colab_type": "text"
      },
      "source": [
        "**Loading data in PySpark shell**\n",
        "\n",
        "In PySpark, we express our computation through operations on distributed collections that are automatically parallelized across the cluster. In the previous exercise, you have seen an example of loading a list as parallelized collections and in this exercise, you'll load the data from a local file in PySpark shell."
      ]
    },
    {
      "cell_type": "code",
      "metadata": {
        "id": "sPqEZgwfH0Et",
        "colab_type": "code",
        "colab": {}
      },
      "source": [
        "# Load a local file into PySpark shell\n",
        "lines = sc.textFile('movie_quotes.txt')"
      ],
      "execution_count": 0,
      "outputs": []
    },
    {
      "cell_type": "markdown",
      "metadata": {
        "id": "COHI2A9ALX7a",
        "colab_type": "text"
      },
      "source": [
        "**Use of lambda() with map()**\n",
        "\n",
        "The map() function in Python returns a list of the results after applying the given function to each item of a given iterable (list, tuple etc.). The general syntax of map() function is map(fun, iter). We can also use lambda functions with map(). The general syntax of map() function with lambda() is map(lambda <agument>:<expression>, iter). Refer to slide 5 of video 1.7 for general help of map() function with lambda()."
      ]
    },
    {
      "cell_type": "code",
      "metadata": {
        "id": "egLlvg2CLaSB",
        "colab_type": "code",
        "outputId": "8b8e7b8f-f507-4b49-c61a-9b3c724b9dc9",
        "colab": {
          "base_uri": "https://localhost:8080/",
          "height": 34
        }
      },
      "source": [
        "my_list = list(range(1,11))\n",
        "\n",
        "print(my_list)"
      ],
      "execution_count": 46,
      "outputs": [
        {
          "output_type": "stream",
          "text": [
            "[1, 2, 3, 4, 5, 6, 7, 8, 9, 10]\n"
          ],
          "name": "stdout"
        }
      ]
    },
    {
      "cell_type": "code",
      "metadata": {
        "id": "E1Xg2B9xLtEL",
        "colab_type": "code",
        "outputId": "ba128e61-b9fe-467d-c424-9a13273e2d83",
        "colab": {
          "base_uri": "https://localhost:8080/",
          "height": 34
        }
      },
      "source": [
        "# Square each item in my_list using map() and lambda().\n",
        "squrd_list = list(map(lambda x: x**2, my_list))\n",
        "\n",
        "print(squrd_list)"
      ],
      "execution_count": 47,
      "outputs": [
        {
          "output_type": "stream",
          "text": [
            "[1, 4, 9, 16, 25, 36, 49, 64, 81, 100]\n"
          ],
          "name": "stdout"
        }
      ]
    },
    {
      "cell_type": "markdown",
      "metadata": {
        "id": "0VbWJ9y_M1pV",
        "colab_type": "text"
      },
      "source": [
        "**Use of lambda() with filter():**\n",
        "\n",
        "Another function that is used extensively in Python is the filter() function. The filter() function in Python takes in a function and a list as arguments. The general syntax of the filter() function is filter(function, list_of_input). Similar to the map(), filter() can be used with lambda() function. The general syntax of the filter() function with lambda() is filter(lambda <argument>:<expression>, list). Refer to slide 6 of video 1.7 for general help of the filter() function with lambda()."
      ]
    },
    {
      "cell_type": "code",
      "metadata": {
        "id": "qjYWgFtzM6bf",
        "colab_type": "code",
        "colab": {}
      },
      "source": [
        "my_list2 = [10, 21, 31, 40, 51, 60, 72, 80, 93, 101]"
      ],
      "execution_count": 0,
      "outputs": []
    },
    {
      "cell_type": "code",
      "metadata": {
        "id": "jtR4sff-NPQu",
        "colab_type": "code",
        "outputId": "b046bc1f-fb49-4cc7-fc32-aba73b4a8f84",
        "colab": {
          "base_uri": "https://localhost:8080/",
          "height": 34
        }
      },
      "source": [
        "# Filter the numbers divisible by 10 from my_list2 using filter() and lambda().\n",
        "\n",
        "filtered_list2 = list(filter(lambda x: x % 10 == 0, my_list2))\n",
        "print(filtered_list2)"
      ],
      "execution_count": 49,
      "outputs": [
        {
          "output_type": "stream",
          "text": [
            "[10, 40, 60, 80]\n"
          ],
          "name": "stdout"
        }
      ]
    },
    {
      "cell_type": "markdown",
      "metadata": {
        "id": "w62Z6kT-QT6u",
        "colab_type": "text"
      },
      "source": [
        "### Lesson 2: Programming in PySpark RDD’s"
      ]
    },
    {
      "cell_type": "markdown",
      "metadata": {
        "id": "GEQZJuJWQZfx",
        "colab_type": "text"
      },
      "source": [
        "**RDDs** stand for _Resilient Distributed Dataset_, they are the first class citizen of Apache Spark.<br>It is simply a collection of data distributed across the cluster. RDD is the fundamental and backbone data type in Pyspark."
      ]
    },
    {
      "cell_type": "markdown",
      "metadata": {
        "id": "QPhQiKTrZP51",
        "colab_type": "text"
      },
      "source": [
        "**Decomposing RDDs:**\n",
        "\n",
        "Let's look at the different features of RDDs:\n",
        "1. **_Resilient :_** Means the ability to withstand failures and recompute missing or damaged partitions.\n",
        "\n",
        "2. **_Distributed :_** Means spanning the jobs across multiple nodes in the cluster for efficient computation.\n",
        "\n",
        "3. **_Datasets :_** These are a collection of partitioned data e.g Arrays, Tuples, Tables, E.t.c.\n",
        "\n"
      ]
    },
    {
      "cell_type": "markdown",
      "metadata": {
        "id": "OduZOBDAcVl0",
        "colab_type": "text"
      },
      "source": [
        "**Creating RDDs:**\n",
        "\n",
        "RDDs are created in 3 different ways:\n",
        "1. Using the Spark Context .parallelize() method on an iterable like a list or range\n",
        "```\n",
        "rdd = sc.parallelize(range(100))\n",
        "rdd2 = sc.parallelize('hello world')\n",
        "```\n",
        "2. creating RDDs from an external files like a text file or CSV file. This is by far the most common way to create RDDs in Pyspark. This method uses the Spark Context's textFile() method. Here we can read a README.md file stored locally on our computer.\n",
        "```\n",
        "rdd2 = sc.textFile('README.md')\n",
        "```\n",
        "3. Creating RDDs from other RDDs\n"
      ]
    },
    {
      "cell_type": "markdown",
      "metadata": {
        "id": "_l43nN_venD-",
        "colab_type": "text"
      },
      "source": [
        "**Understanding Partitioning in Pyspark**\n",
        "\n",
        "Understanding how Spark deals with partitions allows one to control parallelism\n",
        ". A partition in Spark is the division of the large dataset, with each part being stored in multiple locations across the cluster. By default Spark partitions the Data at the time of creating RDDs, based on several factors such as available resources, external datasets e.t.c\n",
        "\n",
        "However this behavior can be controlled when we create an RDD via textFile() by passing a second argument called minPartitions, which specifies the minimum number of partitions to be created for an RDD.\n",
        "\n",
        "In the parallelize() method, no need to use the keyword instead just pass the number of partitions you want as the second argument\n"
      ]
    },
    {
      "cell_type": "code",
      "metadata": {
        "id": "0vj58NuNYVon",
        "colab_type": "code",
        "outputId": "a57bd618-35e2-4c60-c7f2-1a9377fcd9c7",
        "colab": {
          "base_uri": "https://localhost:8080/",
          "height": 34
        }
      },
      "source": [
        "rdd1 = sc.parallelize(range(100), 6)\n",
        "# Let's see the type of rdd1\n",
        "type(rdd1)"
      ],
      "execution_count": 50,
      "outputs": [
        {
          "output_type": "execute_result",
          "data": {
            "text/plain": [
              "pyspark.rdd.PipelinedRDD"
            ]
          },
          "metadata": {
            "tags": []
          },
          "execution_count": 50
        }
      ]
    },
    {
      "cell_type": "code",
      "metadata": {
        "id": "wdDOIT8BiJlK",
        "colab_type": "code",
        "outputId": "ab2e8b0a-facb-4742-e8f0-54e4239bb4f4",
        "colab": {
          "base_uri": "https://localhost:8080/",
          "height": 34
        }
      },
      "source": [
        "# let's see the number of partitions in rdd1\n",
        "rdd1.getNumPartitions()"
      ],
      "execution_count": 51,
      "outputs": [
        {
          "output_type": "execute_result",
          "data": {
            "text/plain": [
              "6"
            ]
          },
          "metadata": {
            "tags": []
          },
          "execution_count": 51
        }
      ]
    },
    {
      "cell_type": "markdown",
      "metadata": {
        "id": "ENZvQIPMosbf",
        "colab_type": "text"
      },
      "source": [
        "**RDDs from Parallelized collections**\n",
        "\n",
        "Resilient Distributed Dataset (RDD) is the basic abstraction in Spark. It is an immutable distributed collection of objects. Since RDD is a fundamental and backbone data type in Spark, it is important that you understand how to create it. In this exercise, you'll create your first RDD in PySpark from a collection of words."
      ]
    },
    {
      "cell_type": "code",
      "metadata": {
        "id": "EEwdXz4Sox_u",
        "colab_type": "code",
        "outputId": "587f3cf0-32a6-4a28-8c0f-832219bcf52d",
        "colab": {
          "base_uri": "https://localhost:8080/",
          "height": 34
        }
      },
      "source": [
        "RDD = sc.parallelize([\"Spark\", \"is\", \"a\", \"framework\", \"for\", \"Big Data processing\"])\n",
        "RDD.collect()"
      ],
      "execution_count": 52,
      "outputs": [
        {
          "output_type": "execute_result",
          "data": {
            "text/plain": [
              "['Spark', 'is', 'a', 'framework', 'for', 'Big Data processing']"
            ]
          },
          "metadata": {
            "tags": []
          },
          "execution_count": 52
        }
      ]
    },
    {
      "cell_type": "code",
      "metadata": {
        "id": "zFYqmL7fpJWp",
        "colab_type": "code",
        "outputId": "239f6a63-ff1e-4424-bad2-7b64f76ba834",
        "colab": {
          "base_uri": "https://localhost:8080/",
          "height": 34
        }
      },
      "source": [
        "type(RDD)"
      ],
      "execution_count": 53,
      "outputs": [
        {
          "output_type": "execute_result",
          "data": {
            "text/plain": [
              "pyspark.rdd.RDD"
            ]
          },
          "metadata": {
            "tags": []
          },
          "execution_count": 53
        }
      ]
    },
    {
      "cell_type": "markdown",
      "metadata": {
        "id": "4QVtRY3npk1N",
        "colab_type": "text"
      },
      "source": [
        "**RDDs from External Datasets**\n",
        "\n",
        "PySpark can easily create RDDs from files that are stored in external storage devices such as HDFS (Hadoop Distributed File System), Amazon S3 buckets, etc. However, the most common method of creating RDD's is from files stored in your local file system. This method takes a file path and reads it as a collection of lines. In this exercise, you'll create an RDD from the file path"
      ]
    },
    {
      "cell_type": "code",
      "metadata": {
        "id": "xYnlO9pSqDys",
        "colab_type": "code",
        "outputId": "38920577-30d7-4b0e-acc3-27a15730ee80",
        "colab": {
          "resources": {
            "http://localhost:8080/nbextensions/google.colab/files.js": {
              "data": "Ly8gQ29weXJpZ2h0IDIwMTcgR29vZ2xlIExMQwovLwovLyBMaWNlbnNlZCB1bmRlciB0aGUgQXBhY2hlIExpY2Vuc2UsIFZlcnNpb24gMi4wICh0aGUgIkxpY2Vuc2UiKTsKLy8geW91IG1heSBub3QgdXNlIHRoaXMgZmlsZSBleGNlcHQgaW4gY29tcGxpYW5jZSB3aXRoIHRoZSBMaWNlbnNlLgovLyBZb3UgbWF5IG9idGFpbiBhIGNvcHkgb2YgdGhlIExpY2Vuc2UgYXQKLy8KLy8gICAgICBodHRwOi8vd3d3LmFwYWNoZS5vcmcvbGljZW5zZXMvTElDRU5TRS0yLjAKLy8KLy8gVW5sZXNzIHJlcXVpcmVkIGJ5IGFwcGxpY2FibGUgbGF3IG9yIGFncmVlZCB0byBpbiB3cml0aW5nLCBzb2Z0d2FyZQovLyBkaXN0cmlidXRlZCB1bmRlciB0aGUgTGljZW5zZSBpcyBkaXN0cmlidXRlZCBvbiBhbiAiQVMgSVMiIEJBU0lTLAovLyBXSVRIT1VUIFdBUlJBTlRJRVMgT1IgQ09ORElUSU9OUyBPRiBBTlkgS0lORCwgZWl0aGVyIGV4cHJlc3Mgb3IgaW1wbGllZC4KLy8gU2VlIHRoZSBMaWNlbnNlIGZvciB0aGUgc3BlY2lmaWMgbGFuZ3VhZ2UgZ292ZXJuaW5nIHBlcm1pc3Npb25zIGFuZAovLyBsaW1pdGF0aW9ucyB1bmRlciB0aGUgTGljZW5zZS4KCi8qKgogKiBAZmlsZW92ZXJ2aWV3IEhlbHBlcnMgZm9yIGdvb2dsZS5jb2xhYiBQeXRob24gbW9kdWxlLgogKi8KKGZ1bmN0aW9uKHNjb3BlKSB7CmZ1bmN0aW9uIHNwYW4odGV4dCwgc3R5bGVBdHRyaWJ1dGVzID0ge30pIHsKICBjb25zdCBlbGVtZW50ID0gZG9jdW1lbnQuY3JlYXRlRWxlbWVudCgnc3BhbicpOwogIGVsZW1lbnQudGV4dENvbnRlbnQgPSB0ZXh0OwogIGZvciAoY29uc3Qga2V5IG9mIE9iamVjdC5rZXlzKHN0eWxlQXR0cmlidXRlcykpIHsKICAgIGVsZW1lbnQuc3R5bGVba2V5XSA9IHN0eWxlQXR0cmlidXRlc1trZXldOwogIH0KICByZXR1cm4gZWxlbWVudDsKfQoKLy8gTWF4IG51bWJlciBvZiBieXRlcyB3aGljaCB3aWxsIGJlIHVwbG9hZGVkIGF0IGEgdGltZS4KY29uc3QgTUFYX1BBWUxPQURfU0laRSA9IDEwMCAqIDEwMjQ7Ci8vIE1heCBhbW91bnQgb2YgdGltZSB0byBibG9jayB3YWl0aW5nIGZvciB0aGUgdXNlci4KY29uc3QgRklMRV9DSEFOR0VfVElNRU9VVF9NUyA9IDMwICogMTAwMDsKCmZ1bmN0aW9uIF91cGxvYWRGaWxlcyhpbnB1dElkLCBvdXRwdXRJZCkgewogIGNvbnN0IHN0ZXBzID0gdXBsb2FkRmlsZXNTdGVwKGlucHV0SWQsIG91dHB1dElkKTsKICBjb25zdCBvdXRwdXRFbGVtZW50ID0gZG9jdW1lbnQuZ2V0RWxlbWVudEJ5SWQob3V0cHV0SWQpOwogIC8vIENhY2hlIHN0ZXBzIG9uIHRoZSBvdXRwdXRFbGVtZW50IHRvIG1ha2UgaXQgYXZhaWxhYmxlIGZvciB0aGUgbmV4dCBjYWxsCiAgLy8gdG8gdXBsb2FkRmlsZXNDb250aW51ZSBmcm9tIFB5dGhvbi4KICBvdXRwdXRFbGVtZW50LnN0ZXBzID0gc3RlcHM7CgogIHJldHVybiBfdXBsb2FkRmlsZXNDb250aW51ZShvdXRwdXRJZCk7Cn0KCi8vIFRoaXMgaXMgcm91Z2hseSBhbiBhc3luYyBnZW5lcmF0b3IgKG5vdCBzdXBwb3J0ZWQgaW4gdGhlIGJyb3dzZXIgeWV0KSwKLy8gd2hlcmUgdGhlcmUgYXJlIG11bHRpcGxlIGFzeW5jaHJvbm91cyBzdGVwcyBhbmQgdGhlIFB5dGhvbiBzaWRlIGlzIGdvaW5nCi8vIHRvIHBvbGwgZm9yIGNvbXBsZXRpb24gb2YgZWFjaCBzdGVwLgovLyBUaGlzIHVzZXMgYSBQcm9taXNlIHRvIGJsb2NrIHRoZSBweXRob24gc2lkZSBvbiBjb21wbGV0aW9uIG9mIGVhY2ggc3RlcCwKLy8gdGhlbiBwYXNzZXMgdGhlIHJlc3VsdCBvZiB0aGUgcHJldmlvdXMgc3RlcCBhcyB0aGUgaW5wdXQgdG8gdGhlIG5leHQgc3RlcC4KZnVuY3Rpb24gX3VwbG9hZEZpbGVzQ29udGludWUob3V0cHV0SWQpIHsKICBjb25zdCBvdXRwdXRFbGVtZW50ID0gZG9jdW1lbnQuZ2V0RWxlbWVudEJ5SWQob3V0cHV0SWQpOwogIGNvbnN0IHN0ZXBzID0gb3V0cHV0RWxlbWVudC5zdGVwczsKCiAgY29uc3QgbmV4dCA9IHN0ZXBzLm5leHQob3V0cHV0RWxlbWVudC5sYXN0UHJvbWlzZVZhbHVlKTsKICByZXR1cm4gUHJvbWlzZS5yZXNvbHZlKG5leHQudmFsdWUucHJvbWlzZSkudGhlbigodmFsdWUpID0+IHsKICAgIC8vIENhY2hlIHRoZSBsYXN0IHByb21pc2UgdmFsdWUgdG8gbWFrZSBpdCBhdmFpbGFibGUgdG8gdGhlIG5leHQKICAgIC8vIHN0ZXAgb2YgdGhlIGdlbmVyYXRvci4KICAgIG91dHB1dEVsZW1lbnQubGFzdFByb21pc2VWYWx1ZSA9IHZhbHVlOwogICAgcmV0dXJuIG5leHQudmFsdWUucmVzcG9uc2U7CiAgfSk7Cn0KCi8qKgogKiBHZW5lcmF0b3IgZnVuY3Rpb24gd2hpY2ggaXMgY2FsbGVkIGJldHdlZW4gZWFjaCBhc3luYyBzdGVwIG9mIHRoZSB1cGxvYWQKICogcHJvY2Vzcy4KICogQHBhcmFtIHtzdHJpbmd9IGlucHV0SWQgRWxlbWVudCBJRCBvZiB0aGUgaW5wdXQgZmlsZSBwaWNrZXIgZWxlbWVudC4KICogQHBhcmFtIHtzdHJpbmd9IG91dHB1dElkIEVsZW1lbnQgSUQgb2YgdGhlIG91dHB1dCBkaXNwbGF5LgogKiBAcmV0dXJuIHshSXRlcmFibGU8IU9iamVjdD59IEl0ZXJhYmxlIG9mIG5leHQgc3RlcHMuCiAqLwpmdW5jdGlvbiogdXBsb2FkRmlsZXNTdGVwKGlucHV0SWQsIG91dHB1dElkKSB7CiAgY29uc3QgaW5wdXRFbGVtZW50ID0gZG9jdW1lbnQuZ2V0RWxlbWVudEJ5SWQoaW5wdXRJZCk7CiAgaW5wdXRFbGVtZW50LmRpc2FibGVkID0gZmFsc2U7CgogIGNvbnN0IG91dHB1dEVsZW1lbnQgPSBkb2N1bWVudC5nZXRFbGVtZW50QnlJZChvdXRwdXRJZCk7CiAgb3V0cHV0RWxlbWVudC5pbm5lckhUTUwgPSAnJzsKCiAgY29uc3QgcGlja2VkUHJvbWlzZSA9IG5ldyBQcm9taXNlKChyZXNvbHZlKSA9PiB7CiAgICBpbnB1dEVsZW1lbnQuYWRkRXZlbnRMaXN0ZW5lcignY2hhbmdlJywgKGUpID0+IHsKICAgICAgcmVzb2x2ZShlLnRhcmdldC5maWxlcyk7CiAgICB9KTsKICB9KTsKCiAgY29uc3QgY2FuY2VsID0gZG9jdW1lbnQuY3JlYXRlRWxlbWVudCgnYnV0dG9uJyk7CiAgaW5wdXRFbGVtZW50LnBhcmVudEVsZW1lbnQuYXBwZW5kQ2hpbGQoY2FuY2VsKTsKICBjYW5jZWwudGV4dENvbnRlbnQgPSAnQ2FuY2VsIHVwbG9hZCc7CiAgY29uc3QgY2FuY2VsUHJvbWlzZSA9IG5ldyBQcm9taXNlKChyZXNvbHZlKSA9PiB7CiAgICBjYW5jZWwub25jbGljayA9ICgpID0+IHsKICAgICAgcmVzb2x2ZShudWxsKTsKICAgIH07CiAgfSk7CgogIC8vIENhbmNlbCB1cGxvYWQgaWYgdXNlciBoYXNuJ3QgcGlja2VkIGFueXRoaW5nIGluIHRpbWVvdXQuCiAgY29uc3QgdGltZW91dFByb21pc2UgPSBuZXcgUHJvbWlzZSgocmVzb2x2ZSkgPT4gewogICAgc2V0VGltZW91dCgoKSA9PiB7CiAgICAgIHJlc29sdmUobnVsbCk7CiAgICB9LCBGSUxFX0NIQU5HRV9USU1FT1VUX01TKTsKICB9KTsKCiAgLy8gV2FpdCBmb3IgdGhlIHVzZXIgdG8gcGljayB0aGUgZmlsZXMuCiAgY29uc3QgZmlsZXMgPSB5aWVsZCB7CiAgICBwcm9taXNlOiBQcm9taXNlLnJhY2UoW3BpY2tlZFByb21pc2UsIHRpbWVvdXRQcm9taXNlLCBjYW5jZWxQcm9taXNlXSksCiAgICByZXNwb25zZTogewogICAgICBhY3Rpb246ICdzdGFydGluZycsCiAgICB9CiAgfTsKCiAgaWYgKCFmaWxlcykgewogICAgcmV0dXJuIHsKICAgICAgcmVzcG9uc2U6IHsKICAgICAgICBhY3Rpb246ICdjb21wbGV0ZScsCiAgICAgIH0KICAgIH07CiAgfQoKICBjYW5jZWwucmVtb3ZlKCk7CgogIC8vIERpc2FibGUgdGhlIGlucHV0IGVsZW1lbnQgc2luY2UgZnVydGhlciBwaWNrcyBhcmUgbm90IGFsbG93ZWQuCiAgaW5wdXRFbGVtZW50LmRpc2FibGVkID0gdHJ1ZTsKCiAgZm9yIChjb25zdCBmaWxlIG9mIGZpbGVzKSB7CiAgICBjb25zdCBsaSA9IGRvY3VtZW50LmNyZWF0ZUVsZW1lbnQoJ2xpJyk7CiAgICBsaS5hcHBlbmQoc3BhbihmaWxlLm5hbWUsIHtmb250V2VpZ2h0OiAnYm9sZCd9KSk7CiAgICBsaS5hcHBlbmQoc3BhbigKICAgICAgICBgKCR7ZmlsZS50eXBlIHx8ICduL2EnfSkgLSAke2ZpbGUuc2l6ZX0gYnl0ZXMsIGAgKwogICAgICAgIGBsYXN0IG1vZGlmaWVkOiAkewogICAgICAgICAgICBmaWxlLmxhc3RNb2RpZmllZERhdGUgPyBmaWxlLmxhc3RNb2RpZmllZERhdGUudG9Mb2NhbGVEYXRlU3RyaW5nKCkgOgogICAgICAgICAgICAgICAgICAgICAgICAgICAgICAgICAgICAnbi9hJ30gLSBgKSk7CiAgICBjb25zdCBwZXJjZW50ID0gc3BhbignMCUgZG9uZScpOwogICAgbGkuYXBwZW5kQ2hpbGQocGVyY2VudCk7CgogICAgb3V0cHV0RWxlbWVudC5hcHBlbmRDaGlsZChsaSk7CgogICAgY29uc3QgZmlsZURhdGFQcm9taXNlID0gbmV3IFByb21pc2UoKHJlc29sdmUpID0+IHsKICAgICAgY29uc3QgcmVhZGVyID0gbmV3IEZpbGVSZWFkZXIoKTsKICAgICAgcmVhZGVyLm9ubG9hZCA9IChlKSA9PiB7CiAgICAgICAgcmVzb2x2ZShlLnRhcmdldC5yZXN1bHQpOwogICAgICB9OwogICAgICByZWFkZXIucmVhZEFzQXJyYXlCdWZmZXIoZmlsZSk7CiAgICB9KTsKICAgIC8vIFdhaXQgZm9yIHRoZSBkYXRhIHRvIGJlIHJlYWR5LgogICAgbGV0IGZpbGVEYXRhID0geWllbGQgewogICAgICBwcm9taXNlOiBmaWxlRGF0YVByb21pc2UsCiAgICAgIHJlc3BvbnNlOiB7CiAgICAgICAgYWN0aW9uOiAnY29udGludWUnLAogICAgICB9CiAgICB9OwoKICAgIC8vIFVzZSBhIGNodW5rZWQgc2VuZGluZyB0byBhdm9pZCBtZXNzYWdlIHNpemUgbGltaXRzLiBTZWUgYi82MjExNTY2MC4KICAgIGxldCBwb3NpdGlvbiA9IDA7CiAgICB3aGlsZSAocG9zaXRpb24gPCBmaWxlRGF0YS5ieXRlTGVuZ3RoKSB7CiAgICAgIGNvbnN0IGxlbmd0aCA9IE1hdGgubWluKGZpbGVEYXRhLmJ5dGVMZW5ndGggLSBwb3NpdGlvbiwgTUFYX1BBWUxPQURfU0laRSk7CiAgICAgIGNvbnN0IGNodW5rID0gbmV3IFVpbnQ4QXJyYXkoZmlsZURhdGEsIHBvc2l0aW9uLCBsZW5ndGgpOwogICAgICBwb3NpdGlvbiArPSBsZW5ndGg7CgogICAgICBjb25zdCBiYXNlNjQgPSBidG9hKFN0cmluZy5mcm9tQ2hhckNvZGUuYXBwbHkobnVsbCwgY2h1bmspKTsKICAgICAgeWllbGQgewogICAgICAgIHJlc3BvbnNlOiB7CiAgICAgICAgICBhY3Rpb246ICdhcHBlbmQnLAogICAgICAgICAgZmlsZTogZmlsZS5uYW1lLAogICAgICAgICAgZGF0YTogYmFzZTY0LAogICAgICAgIH0sCiAgICAgIH07CiAgICAgIHBlcmNlbnQudGV4dENvbnRlbnQgPQogICAgICAgICAgYCR7TWF0aC5yb3VuZCgocG9zaXRpb24gLyBmaWxlRGF0YS5ieXRlTGVuZ3RoKSAqIDEwMCl9JSBkb25lYDsKICAgIH0KICB9CgogIC8vIEFsbCBkb25lLgogIHlpZWxkIHsKICAgIHJlc3BvbnNlOiB7CiAgICAgIGFjdGlvbjogJ2NvbXBsZXRlJywKICAgIH0KICB9Owp9CgpzY29wZS5nb29nbGUgPSBzY29wZS5nb29nbGUgfHwge307CnNjb3BlLmdvb2dsZS5jb2xhYiA9IHNjb3BlLmdvb2dsZS5jb2xhYiB8fCB7fTsKc2NvcGUuZ29vZ2xlLmNvbGFiLl9maWxlcyA9IHsKICBfdXBsb2FkRmlsZXMsCiAgX3VwbG9hZEZpbGVzQ29udGludWUsCn07Cn0pKHNlbGYpOwo=",
              "ok": true,
              "headers": [
                [
                  "content-type",
                  "application/javascript"
                ]
              ],
              "status": 200,
              "status_text": ""
            }
          },
          "base_uri": "https://localhost:8080/",
          "height": 74
        }
      },
      "source": [
        "from google.colab import files\n",
        "uploaded = files.upload()"
      ],
      "execution_count": 55,
      "outputs": [
        {
          "output_type": "display_data",
          "data": {
            "text/html": [
              "\n",
              "     <input type=\"file\" id=\"files-c6dd4635-af3a-486e-bba9-a3e378338aa6\" name=\"files[]\" multiple disabled />\n",
              "     <output id=\"result-c6dd4635-af3a-486e-bba9-a3e378338aa6\">\n",
              "      Upload widget is only available when the cell has been executed in the\n",
              "      current browser session. Please rerun this cell to enable.\n",
              "      </output>\n",
              "      <script src=\"/nbextensions/google.colab/files.js\"></script> "
            ],
            "text/plain": [
              "<IPython.core.display.HTML object>"
            ]
          },
          "metadata": {
            "tags": []
          }
        },
        {
          "output_type": "stream",
          "text": [
            "Saving movie_quotes.txt to movie_quotes.txt\n"
          ],
          "name": "stdout"
        }
      ]
    },
    {
      "cell_type": "code",
      "metadata": {
        "id": "eelv3BTHpm4F",
        "colab_type": "code",
        "outputId": "85a18478-2b37-4ee4-9b0e-fcd774201268",
        "colab": {
          "base_uri": "https://localhost:8080/",
          "height": 118
        }
      },
      "source": [
        "file_rdd = sc.textFile('movie_quotes.txt')\n",
        "# Let's see the first 6 items\n",
        "file_rdd.take(6)"
      ],
      "execution_count": 56,
      "outputs": [
        {
          "output_type": "execute_result",
          "data": {
            "text/plain": [
              "[\"1.Frankly, my dear, I don't give a damn--Gone With the Wind, 1939\",\n",
              " '',\n",
              " \"2.I'm going to make him an offer he can't refuse.--The Godfather, 1972\",\n",
              " '',\n",
              " \"3.You don't understand! I coulda had class. I coulda been a contender. I could've been somebody, instead of a bum, which is what I am.--On the Waterfront, 1954\",\n",
              " '']"
            ]
          },
          "metadata": {
            "tags": []
          },
          "execution_count": 56
        }
      ]
    },
    {
      "cell_type": "code",
      "metadata": {
        "id": "yhcsyY56v0Ee",
        "colab_type": "code",
        "outputId": "ed65c84e-0ab0-4b0e-cd99-355745e5a648",
        "colab": {
          "base_uri": "https://localhost:8080/",
          "height": 34
        }
      },
      "source": [
        "type(file_rdd)"
      ],
      "execution_count": 57,
      "outputs": [
        {
          "output_type": "execute_result",
          "data": {
            "text/plain": [
              "pyspark.rdd.RDD"
            ]
          },
          "metadata": {
            "tags": []
          },
          "execution_count": 57
        }
      ]
    },
    {
      "cell_type": "code",
      "metadata": {
        "id": "Gn72RXGp0bh2",
        "colab_type": "code",
        "outputId": "020c9d47-77cc-499e-c8b1-0d35fc63d00b",
        "colab": {
          "base_uri": "https://localhost:8080/",
          "height": 34
        }
      },
      "source": [
        "file_rdd.getNumPartitions()"
      ],
      "execution_count": 58,
      "outputs": [
        {
          "output_type": "execute_result",
          "data": {
            "text/plain": [
              "1"
            ]
          },
          "metadata": {
            "tags": []
          },
          "execution_count": 58
        }
      ]
    },
    {
      "cell_type": "markdown",
      "metadata": {
        "id": "VTk3ZdXpvP3K",
        "colab_type": "text"
      },
      "source": [
        "**Partitions in your data**\n",
        "\n",
        "SparkContext's textFile() method takes an optional second argument called minPartitions for specifying the minimum number of partitions. In this exercise, you'll create an RDD named fileRDD_part with 5 partitions and then compare that with fileRDD that you created in the previous"
      ]
    },
    {
      "cell_type": "code",
      "metadata": {
        "id": "sTO0pLKdvSra",
        "colab_type": "code",
        "colab": {}
      },
      "source": [
        "fileRDD_part = sc.textFile('movie_quotes.txt', minPartitions=5)"
      ],
      "execution_count": 0,
      "outputs": []
    },
    {
      "cell_type": "code",
      "metadata": {
        "id": "yuof3Op8zvgU",
        "colab_type": "code",
        "outputId": "ad086f4e-3ee7-4512-8bb2-c03e3c75159c",
        "colab": {
          "base_uri": "https://localhost:8080/",
          "height": 34
        }
      },
      "source": [
        "type(fileRDD_part)"
      ],
      "execution_count": 60,
      "outputs": [
        {
          "output_type": "execute_result",
          "data": {
            "text/plain": [
              "pyspark.rdd.RDD"
            ]
          },
          "metadata": {
            "tags": []
          },
          "execution_count": 60
        }
      ]
    },
    {
      "cell_type": "code",
      "metadata": {
        "id": "W6nAYASmz4HG",
        "colab_type": "code",
        "outputId": "64072d2d-ee75-43af-c578-ef0da2b370de",
        "colab": {
          "base_uri": "https://localhost:8080/",
          "height": 34
        }
      },
      "source": [
        "fileRDD_part.getNumPartitions()"
      ],
      "execution_count": 61,
      "outputs": [
        {
          "output_type": "execute_result",
          "data": {
            "text/plain": [
              "5"
            ]
          },
          "metadata": {
            "tags": []
          },
          "execution_count": 61
        }
      ]
    },
    {
      "cell_type": "markdown",
      "metadata": {
        "id": "OjNApQ5s1Jfu",
        "colab_type": "text"
      },
      "source": [
        "**Overview of Pyspark Operations**\n",
        "\n",
        "RDDs in Pyspark support two different types of operations:\n",
        "1. **Transformations :** Transformations are operations on an RDD that return a new RDD\n",
        "2. **Actions :** Are operations that perform some computation on an RDD.\n",
        "\n",
        "**RDD Transformations:**\n",
        "\n",
        "Transformations follow lazy evaluation\n",
        "<br>Lazy evaluations denote that Spark creates a graph from all the operations we perform on an RDD. And execution of the graph only starts when an action is performed on an RDD. This is called **_lazy evaluation_** in Spark.\n",
        "\n",
        "**The RDD Transformations we will look at are :**\n",
        "1. map()\n",
        "2. filter()\n",
        "3. flatmap()\n",
        "4. union()\n",
        "\n",
        "_map() transformation :_ Takes in a function and applies it to each element in an RDD, with the result of the func being the new value of each element in the resulting RDD.\n",
        "\n",
        "_filter() transformation :_ Takes in a function and returns an RDD that only has elements that pass the filter condition.\n",
        "\n",
        "_flatMap() transformation :_ This is like map() but with the exception that it returns multiple values for each element in the source RDD.\n",
        "\n",
        "_union() transformation :_ returns the union of one RDD with another RDD"
      ]
    },
    {
      "cell_type": "code",
      "metadata": {
        "id": "sclN6hvZ1ysn",
        "colab_type": "code",
        "outputId": "4ac2eca7-c37e-4c0c-add0-67f46a05cb4e",
        "colab": {
          "base_uri": "https://localhost:8080/",
          "height": 34
        }
      },
      "source": [
        "# Example of flatMap() transformation\n",
        "rdd = sc.parallelize(['Hello world','How are you?'])\n",
        "flat_map_rdd = rdd.flatMap(lambda x: x.split(' '))\n",
        "\n",
        "flat_map_rdd.collect()"
      ],
      "execution_count": 62,
      "outputs": [
        {
          "output_type": "execute_result",
          "data": {
            "text/plain": [
              "['Hello', 'world', 'How', 'are', 'you?']"
            ]
          },
          "metadata": {
            "tags": []
          },
          "execution_count": 62
        }
      ]
    },
    {
      "cell_type": "code",
      "metadata": {
        "id": "cLpyMbc__JeY",
        "colab_type": "code",
        "colab": {}
      },
      "source": [
        "# Example of union() transformation...\n",
        "\n",
        "# Let's define an input RDD to filter other RDDs from\n",
        "inputRDD = sc.textFile('movie_quotes.txt')\n",
        "\n",
        "# Next let's filter out 2 other RDDs\n",
        "fuckRDD = inputRDD.filter(lambda x: 'fuck' in x)\n",
        "youRDD = inputRDD.filter(lambda x: 'you' in x)"
      ],
      "execution_count": 0,
      "outputs": []
    },
    {
      "cell_type": "code",
      "metadata": {
        "id": "dq2QCD9GEGId",
        "colab_type": "code",
        "outputId": "452cfbf3-3cc0-4833-8167-24d93874596c",
        "colab": {
          "base_uri": "https://localhost:8080/",
          "height": 67
        }
      },
      "source": [
        "fuckRDD.collect()"
      ],
      "execution_count": 64,
      "outputs": [
        {
          "output_type": "execute_result",
          "data": {
            "text/plain": [
              "[\"13.I'm not gonna die. Because today, I'm going to kill the motherfucker!\",\n",
              " \"15.You stupid fucking cunt. You, Williamson, I'm talking to you, shithead. You just cost me $6,000. Six thousand dollars, and one Cadillac.\",\n",
              " \"19.I'm just a fucked-up girl who's lookin for my own peace of mind; don't assign me yours.\"]"
            ]
          },
          "metadata": {
            "tags": []
          },
          "execution_count": 64
        }
      ]
    },
    {
      "cell_type": "code",
      "metadata": {
        "id": "qfRYKKohE20Y",
        "colab_type": "code",
        "outputId": "e2279a26-626c-471c-f791-dff0b4e9eb3e",
        "colab": {
          "base_uri": "https://localhost:8080/",
          "height": 134
        }
      },
      "source": [
        "youRDD.collect()"
      ],
      "execution_count": 65,
      "outputs": [
        {
          "output_type": "execute_result",
          "data": {
            "text/plain": [
              "['7.May the Force be with you.--Star Wars, 1977',\n",
              " \"8.Fasten your seatbelts. It's going to be a bumpy night.--All About Eve, 1950\",\n",
              " \"9.Love means never having to say you're sorry.--Love Story, 1970\",\n",
              " '10.Get your stinking paws off me, you damned dirty ape.--Planet of the Apes, 1968',\n",
              " \"15.You stupid fucking cunt. You, Williamson, I'm talking to you, shithead. You just cost me $6,000. Six thousand dollars, and one Cadillac.\",\n",
              " \"19.I'm just a fucked-up girl who's lookin for my own peace of mind; don't assign me yours.\",\n",
              " '20.Sit your five-dollar ass down before I make change']"
            ]
          },
          "metadata": {
            "tags": []
          },
          "execution_count": 65
        }
      ]
    },
    {
      "cell_type": "code",
      "metadata": {
        "id": "8B3-zfhNDfia",
        "colab_type": "code",
        "outputId": "3f363590-fb0a-40ba-eccb-88b059041a03",
        "colab": {
          "base_uri": "https://localhost:8080/",
          "height": 185
        }
      },
      "source": [
        "# next lets union or join the fuckRDD to the youRDD\n",
        "combinedRDD = fuckRDD.union(youRDD)\n",
        "\n",
        "# Let's see it\n",
        "combinedRDD.collect()"
      ],
      "execution_count": 66,
      "outputs": [
        {
          "output_type": "execute_result",
          "data": {
            "text/plain": [
              "[\"13.I'm not gonna die. Because today, I'm going to kill the motherfucker!\",\n",
              " \"15.You stupid fucking cunt. You, Williamson, I'm talking to you, shithead. You just cost me $6,000. Six thousand dollars, and one Cadillac.\",\n",
              " \"19.I'm just a fucked-up girl who's lookin for my own peace of mind; don't assign me yours.\",\n",
              " '7.May the Force be with you.--Star Wars, 1977',\n",
              " \"8.Fasten your seatbelts. It's going to be a bumpy night.--All About Eve, 1950\",\n",
              " \"9.Love means never having to say you're sorry.--Love Story, 1970\",\n",
              " '10.Get your stinking paws off me, you damned dirty ape.--Planet of the Apes, 1968',\n",
              " \"15.You stupid fucking cunt. You, Williamson, I'm talking to you, shithead. You just cost me $6,000. Six thousand dollars, and one Cadillac.\",\n",
              " \"19.I'm just a fucked-up girl who's lookin for my own peace of mind; don't assign me yours.\",\n",
              " '20.Sit your five-dollar ass down before I make change']"
            ]
          },
          "metadata": {
            "tags": []
          },
          "execution_count": 66
        }
      ]
    },
    {
      "cell_type": "markdown",
      "metadata": {
        "id": "Huk_6c4_FmJN",
        "colab_type": "text"
      },
      "source": [
        "**RDD Actions:**\n",
        "\n",
        "After transformations, we usually need to do some action in the RDD. Remember RDDs are inherently lazy and must be actioned to derive any outputs. \n",
        "<br>The Actions we would use here are:\n",
        "1. **collect() :_** returns all elemnets in the RDD\n",
        "2. **take(N) :_** returns the N number of elements from the RDD\n",
        "3. **first() :_** returns the first element and is similar to take(1)\n",
        "4. **count() :_** returns the total number of elements in the RDD\n"
      ]
    },
    {
      "cell_type": "markdown",
      "metadata": {
        "id": "hN2JOuLkIUYZ",
        "colab_type": "text"
      },
      "source": [
        "**Map and Collect :**\n",
        "\n",
        "The main method by which you can manipulate data in PySpark is using map(). The map() transformation takes in a function and applies it to each element in the RDD. It can be used to do any number of things, from fetching the website associated with each URL in our collection to just squaring the numbers. In this simple exercise, you'll use map() transformation to cube each element in an RDD"
      ]
    },
    {
      "cell_type": "code",
      "metadata": {
        "id": "u-oDR4CRHana",
        "colab_type": "code",
        "outputId": "c642f6a1-b17b-48ca-e361-a236bb4e7c5e",
        "colab": {
          "base_uri": "https://localhost:8080/",
          "height": 34
        }
      },
      "source": [
        "rdd = sc.parallelize(range(0,101,10))\n",
        "\n",
        "# use map to cube each element in rdd\n",
        "cubed = rdd.map(lambda x: x**3)\n",
        "cubed.collect()"
      ],
      "execution_count": 67,
      "outputs": [
        {
          "output_type": "execute_result",
          "data": {
            "text/plain": [
              "[0, 1000, 8000, 27000, 64000, 125000, 216000, 343000, 512000, 729000, 1000000]"
            ]
          },
          "metadata": {
            "tags": []
          },
          "execution_count": 67
        }
      ]
    },
    {
      "cell_type": "markdown",
      "metadata": {
        "id": "qR8-5ZAdLAbd",
        "colab_type": "text"
      },
      "source": [
        "**Filter and Count:**\n",
        "\n",
        "The RDD transformation filter() returns a new RDD containing only the elements that satisfy a particular function. It is useful for filtering large datasets based on a keyword. For this exercise, you'll filter out lines containing keyword Spark from fileRDD RDD which consists of lines of text from the README.md file. Next, you'll count the total number of lines containing the keyword Spark and finally print the first 4 lines of the filtered RDD."
      ]
    },
    {
      "cell_type": "code",
      "metadata": {
        "id": "ukAOFhomKufT",
        "colab_type": "code",
        "outputId": "cb33b4fc-fe71-442b-cf66-34702045bf2c",
        "colab": {
          "base_uri": "https://localhost:8080/",
          "height": 202
        }
      },
      "source": [
        "# Let's grab the spark README.md file using wget\n",
        "!rm README.md* -f\n",
        "!wget https://raw.githubusercontent.com/carloapp2/SparkPOT/master/README.md"
      ],
      "execution_count": 68,
      "outputs": [
        {
          "output_type": "stream",
          "text": [
            "--2020-03-20 00:28:48--  https://raw.githubusercontent.com/carloapp2/SparkPOT/master/README.md\n",
            "Resolving raw.githubusercontent.com (raw.githubusercontent.com)... 151.101.0.133, 151.101.64.133, 151.101.128.133, ...\n",
            "Connecting to raw.githubusercontent.com (raw.githubusercontent.com)|151.101.0.133|:443... connected.\n",
            "HTTP request sent, awaiting response... 200 OK\n",
            "Length: 3624 (3.5K) [text/plain]\n",
            "Saving to: ‘README.md’\n",
            "\n",
            "\rREADME.md             0%[                    ]       0  --.-KB/s               \rREADME.md           100%[===================>]   3.54K  --.-KB/s    in 0s      \n",
            "\n",
            "2020-03-20 00:28:48 (104 MB/s) - ‘README.md’ saved [3624/3624]\n",
            "\n"
          ],
          "name": "stdout"
        }
      ]
    },
    {
      "cell_type": "code",
      "metadata": {
        "id": "7-jqddAALjXH",
        "colab_type": "code",
        "outputId": "8f4f264b-7047-4508-f2d7-89bb013f0844",
        "colab": {
          "base_uri": "https://localhost:8080/",
          "height": 101
        }
      },
      "source": [
        "file_rdd = sc.textFile('README.md')\n",
        "file_rdd.take(5)"
      ],
      "execution_count": 69,
      "outputs": [
        {
          "output_type": "execute_result",
          "data": {
            "text/plain": [
              "['# Apache Spark',\n",
              " '',\n",
              " 'Spark is a fast and general cluster computing system for Big Data. It provides',\n",
              " 'high-level APIs in Scala, Java, and Python, and an optimized engine that',\n",
              " 'supports general computation graphs for data analysis. It also supports a']"
            ]
          },
          "metadata": {
            "tags": []
          },
          "execution_count": 69
        }
      ]
    },
    {
      "cell_type": "code",
      "metadata": {
        "id": "LvOgF3DfMA7Y",
        "colab_type": "code",
        "outputId": "1d310fca-7fdc-4b5f-ba2b-d78e0dbaeb1a",
        "colab": {
          "base_uri": "https://localhost:8080/",
          "height": 336
        }
      },
      "source": [
        "# Create filter() transformation to select only the lines containing the keyword Spark.\n",
        "fileRDD_filter = file_rdd.filter(lambda x: 'Spark' in x)\n",
        "fileRDD_filter.collect()"
      ],
      "execution_count": 70,
      "outputs": [
        {
          "output_type": "execute_result",
          "data": {
            "text/plain": [
              "['# Apache Spark',\n",
              " 'Spark is a fast and general cluster computing system for Big Data. It provides',\n",
              " 'rich set of higher-level tools including Spark SQL for SQL and structured',\n",
              " 'and Spark Streaming for stream processing.',\n",
              " 'You can find the latest Spark documentation, including a programming',\n",
              " '## Building Spark',\n",
              " 'Spark is built using [Apache Maven](http://maven.apache.org/).',\n",
              " 'To build Spark and its example programs, run:',\n",
              " '[\"Building Spark\"](http://spark.apache.org/docs/latest/building-spark.html).',\n",
              " 'The easiest way to start using Spark is through the Scala shell:',\n",
              " 'Spark also comes with several sample programs in the `examples` directory.',\n",
              " '    ./bin/run-example SparkPi',\n",
              " '    MASTER=spark://host:7077 ./bin/run-example SparkPi',\n",
              " 'Testing first requires [building Spark](#building-spark). Once Spark is built, tests',\n",
              " '[run all automated tests](https://cwiki.apache.org/confluence/display/SPARK/Contributing+to+Spark#ContributingtoSpark-AutomatedTesting).',\n",
              " 'Spark uses the Hadoop core library to talk to HDFS and other Hadoop-supported',\n",
              " 'Hadoop, you must build Spark against the same version that your cluster runs.',\n",
              " 'for guidance on building a Spark application that works with a particular',\n",
              " 'in the online documentation for an overview on how to configure Spark.']"
            ]
          },
          "metadata": {
            "tags": []
          },
          "execution_count": 70
        }
      ]
    },
    {
      "cell_type": "code",
      "metadata": {
        "id": "oNJ0LNdvMppc",
        "colab_type": "code",
        "outputId": "e96e25d7-c29d-49df-f519-23aadda6f033",
        "colab": {
          "base_uri": "https://localhost:8080/",
          "height": 34
        }
      },
      "source": [
        "print(\"The total number of lines with the keyword Spark is\", fileRDD_filter.count())"
      ],
      "execution_count": 71,
      "outputs": [
        {
          "output_type": "stream",
          "text": [
            "The total number of lines with the keyword Spark is 19\n"
          ],
          "name": "stdout"
        }
      ]
    },
    {
      "cell_type": "markdown",
      "metadata": {
        "id": "UcsoKgIqWIbf",
        "colab_type": "text"
      },
      "source": [
        "**<h3>Pair-RDDs in PySpark:</h3>**\n",
        "\n",
        "Working with RDDs of key/Value pairs, which are a common data type for many operations in Spark.\n",
        "<br>Real life datasets are usually Key/Value pairs. Each row is a key that maps to one or more values.\n",
        "<br>In order to deal with this kind of data set, Pyspark provides a special kind of data structure called _Pair-RDDs._ In Pair-RDDs, the key refers to the identifier, while the value refers to the data.\n"
      ]
    },
    {
      "cell_type": "markdown",
      "metadata": {
        "id": "ePdqYunkX3WB",
        "colab_type": "text"
      },
      "source": [
        "**Creating Pair-RDDs:-**\n",
        "\n",
        "Two common ways to create Pair-RDDs\n",
        "1. From a list of Key/Value tuples\n",
        "2. From a regular RDD\n",
        "\n",
        "Irrespective of the method, the first step to create Pair-RDD is getting the data into Key/Value form."
      ]
    },
    {
      "cell_type": "markdown",
      "metadata": {
        "id": "k-qUiHFuZi2h",
        "colab_type": "text"
      },
      "source": [
        "Example 1: Creating a Pair-RDD from a list of tuples"
      ]
    },
    {
      "cell_type": "code",
      "metadata": {
        "id": "SgUrYbueXqls",
        "colab_type": "code",
        "colab": {}
      },
      "source": [
        "# A list of tuples\n",
        "my_tuple = [('Sam',23),('Tim',46),('May',33),('John', 54)]\n",
        "\n",
        "# Creating a Pair RDD\n",
        "pairRDD_tuple = sc.parallelize(my_tuple)"
      ],
      "execution_count": 0,
      "outputs": []
    },
    {
      "cell_type": "code",
      "metadata": {
        "id": "26li9l7aZGi3",
        "colab_type": "code",
        "colab": {
          "base_uri": "https://localhost:8080/",
          "height": 34
        },
        "outputId": "f648f9a0-ac73-4bb9-a27f-32547f98dec1"
      },
      "source": [
        "# Let's see the first element\n",
        "pairRDD_tuple.first()"
      ],
      "execution_count": 73,
      "outputs": [
        {
          "output_type": "execute_result",
          "data": {
            "text/plain": [
              "('Sam', 23)"
            ]
          },
          "metadata": {
            "tags": []
          },
          "execution_count": 73
        }
      ]
    },
    {
      "cell_type": "code",
      "metadata": {
        "id": "gA5v7i9gZLz8",
        "colab_type": "code",
        "colab": {
          "base_uri": "https://localhost:8080/",
          "height": 34
        },
        "outputId": "72dc2ca4-6416-4caa-89b5-20431bfc9a2f"
      },
      "source": [
        "type(pairRDD_tuple)"
      ],
      "execution_count": 74,
      "outputs": [
        {
          "output_type": "execute_result",
          "data": {
            "text/plain": [
              "pyspark.rdd.RDD"
            ]
          },
          "metadata": {
            "tags": []
          },
          "execution_count": 74
        }
      ]
    },
    {
      "cell_type": "markdown",
      "metadata": {
        "id": "rzQZHBrNZqf_",
        "colab_type": "text"
      },
      "source": [
        "Example 2: Creating a Pair-RDD from a regular RDD"
      ]
    },
    {
      "cell_type": "code",
      "metadata": {
        "id": "3gg_ZHt6Zuja",
        "colab_type": "code",
        "colab": {
          "base_uri": "https://localhost:8080/",
          "height": 34
        },
        "outputId": "dc9ecaf8-04b0-4a86-833f-545fa6c45a8c"
      },
      "source": [
        "my_list = ['Sam 23','Tim 46','May 33','John 54']\n",
        "regular_rdd = sc.parallelize(my_list)\n",
        "regular_rdd.take(1)"
      ],
      "execution_count": 78,
      "outputs": [
        {
          "output_type": "execute_result",
          "data": {
            "text/plain": [
              "['Sam 23']"
            ]
          },
          "metadata": {
            "tags": []
          },
          "execution_count": 78
        }
      ]
    },
    {
      "cell_type": "code",
      "metadata": {
        "id": "gtyodwnma3N8",
        "colab_type": "code",
        "colab": {
          "base_uri": "https://localhost:8080/",
          "height": 34
        },
        "outputId": "2dc81bf5-7ea2-4454-9487-b039deb7c734"
      },
      "source": [
        "# Now let's create a pair RDD drom the regualr_rdd\n",
        "pairRDD_regular = regular_rdd.map(lambda x: (x.split(' ')[0], int(x.split(' ')[1])))\n",
        "pairRDD_regular.collect()"
      ],
      "execution_count": 80,
      "outputs": [
        {
          "output_type": "execute_result",
          "data": {
            "text/plain": [
              "[('Sam', 23), ('Tim', 46), ('May', 33), ('John', 54)]"
            ]
          },
          "metadata": {
            "tags": []
          },
          "execution_count": 80
        }
      ]
    },
    {
      "cell_type": "markdown",
      "metadata": {
        "id": "qb7p079Cb-As",
        "colab_type": "text"
      },
      "source": [
        "**Transformations on Pair-RDDs:**\n",
        "\n",
        "Pair-RDDs are RDDS, so all transformations applicable to regular RDDs are applicable to them.\n",
        "<Br>Since Pair-RDDs contain tuples, we need to pass functions that operate on Key/Value pairs.\n",
        "<br>A few special operations are available for this kind, such as:\n",
        "1. reduceByKey(func): Combines values with the same key.\n",
        "2. groupByKey(): Group values with the same key.\n",
        "3. sortByKey(): Return an RDD sorted by the key.\n",
        "4. join(): Join two Pair-RDDs based on their key.\n",
        "\n",
        "**reduceByKey() Transformation:**\n",
        "\n",
        "This is the most popular Pair-RDD transformation, which combines values of the same key using a function.\n",
        "<br>reduceByKey() runs several parallel operations, one for each key in the dataset. reduceByKey() returns a new RDD consisting of each key and the reduced value for that key."
      ]
    },
    {
      "cell_type": "markdown",
      "metadata": {
        "id": "RXorl2BlfrNb",
        "colab_type": "text"
      },
      "source": [
        "For example let's combine or add the goals scored for each player in the list of tuples below"
      ]
    },
    {
      "cell_type": "code",
      "metadata": {
        "id": "Q2vFnUBBcMC5",
        "colab_type": "code",
        "colab": {
          "base_uri": "https://localhost:8080/",
          "height": 34
        },
        "outputId": "de28de80-c9ef-46b0-a415-79817e82f653"
      },
      "source": [
        "tup_list = [('Messi',23), ('Ronaldo',34), ('Neymar',22), ('Messi',24)]\n",
        "\n",
        "# Next we create a regular RDD and chain it to the reduceByKey() transformation\n",
        "# In one line of code, creating an RDD with total goals scored per player.\n",
        "tup_list_reduceByKey = sc.parallelize(tup_list).reduceByKey(lambda x,y: x + y)\n",
        "\n",
        "# Finally display all key-value pairs of the new RDD\n",
        "tup_list_reduceByKey.collect()"
      ],
      "execution_count": 81,
      "outputs": [
        {
          "output_type": "execute_result",
          "data": {
            "text/plain": [
              "[('Messi', 47), ('Ronaldo', 34), ('Neymar', 22)]"
            ]
          },
          "metadata": {
            "tags": []
          },
          "execution_count": 81
        }
      ]
    },
    {
      "cell_type": "markdown",
      "metadata": {
        "id": "c8s21qf2hjA7",
        "colab_type": "text"
      },
      "source": [
        "**sortByKey() Transformation:**\n",
        "\n",
        "Sorting of data is important for many applications. We can sort Pair-RDDs as long as there's an order defined in the keys.\n",
        "<br>This transformation returns an RDD, sorted by keys in ascending or descending order."
      ]
    },
    {
      "cell_type": "markdown",
      "metadata": {
        "id": "IMe3MZB1jYEL",
        "colab_type": "text"
      },
      "source": [
        "Using the previous example, let's sort the last RDD by descending number of goals scored per player."
      ]
    },
    {
      "cell_type": "code",
      "metadata": {
        "id": "j7kG88CfjliZ",
        "colab_type": "code",
        "colab": {
          "base_uri": "https://localhost:8080/",
          "height": 34
        },
        "outputId": "0f1ac215-909a-4573-8c25-d8a39606539a"
      },
      "source": [
        "# First let's reverse the RDD making goals scored the key, player name the value\n",
        "tup_list_reduceByKey_reversed = tup_list_reduceByKey.map(lambda x: (x[1], x[0]))\n",
        "\n",
        "# Now let's sort it by descending order\n",
        "tup_list_reduceByKey_reversed.sortByKey(ascending=False).collect()"
      ],
      "execution_count": 82,
      "outputs": [
        {
          "output_type": "execute_result",
          "data": {
            "text/plain": [
              "[(47, 'Messi'), (34, 'Ronaldo'), (22, 'Neymar')]"
            ]
          },
          "metadata": {
            "tags": []
          },
          "execution_count": 82
        }
      ]
    },
    {
      "cell_type": "markdown",
      "metadata": {
        "id": "ttkYF2Qvk1YX",
        "colab_type": "text"
      },
      "source": [
        "**groupByKey() Transformation:**\n",
        "\n",
        "This allows us to group the data by key. It groups all the values with the same key in the Pair-RDD. For example grouping all of the airports for a particular country together."
      ]
    },
    {
      "cell_type": "code",
      "metadata": {
        "id": "PHbKmg9ImN_V",
        "colab_type": "code",
        "colab": {
          "base_uri": "https://localhost:8080/",
          "height": 67
        },
        "outputId": "eeca95b3-fa2f-4762-afc2-8f2a422099ea"
      },
      "source": [
        "# Example of groupByKey() transformation\n",
        "\n",
        "airports_tups = [('US','JFK'), ('UK','LHR'), ('FR','CDG'), ('US','SFO')]\n",
        "\n",
        "airports_tups_groupd = sc.parallelize(airports_tups).groupByKey().collect()\n",
        "\n",
        "for cont, airport in airports_tups_groupd:\n",
        "    print(cont,list(airport))"
      ],
      "execution_count": 87,
      "outputs": [
        {
          "output_type": "stream",
          "text": [
            "US ['JFK', 'SFO']\n",
            "UK ['LHR']\n",
            "FR ['CDG']\n"
          ],
          "name": "stdout"
        }
      ]
    },
    {
      "cell_type": "markdown",
      "metadata": {
        "id": "e8U5Zpb3prpo",
        "colab_type": "text"
      },
      "source": [
        "**join() Transformation:**\n",
        "\n",
        "This joins two Pair-RDDs based on their key"
      ]
    },
    {
      "cell_type": "code",
      "metadata": {
        "id": "yLqtblDtqMXZ",
        "colab_type": "code",
        "colab": {}
      },
      "source": [
        "# First let's create 3 lists of players, goals and countries\n",
        "players = ['Messi','Ronaldo','Neymar']\n",
        "goals_scored = [34, 32, 24]\n",
        "origin_country = ['Argentina','Portugal','Brazil']\n",
        "\n",
        "# Next using zip to zip 2 lists per time from above together to form 2 Pair-RDDs\n",
        "players_goal_rdd = sc.parallelize(list(zip(players,goals_scored)))\n",
        "players_country_rdd = sc.parallelize(list(zip(players, origin_country)))"
      ],
      "execution_count": 0,
      "outputs": []
    },
    {
      "cell_type": "code",
      "metadata": {
        "id": "Jcrvlvbhs627",
        "colab_type": "code",
        "colab": {
          "base_uri": "https://localhost:8080/",
          "height": 67
        },
        "outputId": "bb23c2a2-bd25-4a43-f31d-182494e0d365"
      },
      "source": [
        "# Next let's join the 2 Pair-RDDs based on their key to get an RDD that shows,\n",
        "# The name as key and goals scored and country as values for each player above.\n",
        "\n",
        "players_goal_rdd.join(players_country_rdd).collect()"
      ],
      "execution_count": 97,
      "outputs": [
        {
          "output_type": "execute_result",
          "data": {
            "text/plain": [
              "[('Ronaldo', (32, 'Portugal')),\n",
              " ('Messi', (34, 'Argentina')),\n",
              " ('Neymar', (24, 'Brazil'))]"
            ]
          },
          "metadata": {
            "tags": []
          },
          "execution_count": 97
        }
      ]
    },
    {
      "cell_type": "code",
      "metadata": {
        "id": "z-fpNEyBt6Sm",
        "colab_type": "code",
        "colab": {}
      },
      "source": [
        ""
      ],
      "execution_count": 0,
      "outputs": []
    }
  ]
}