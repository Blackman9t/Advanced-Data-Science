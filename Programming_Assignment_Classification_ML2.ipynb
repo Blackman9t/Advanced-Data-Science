{
  "nbformat": 4,
  "nbformat_minor": 0,
  "metadata": {
    "kernelspec": {
      "name": "python3",
      "display_name": "Python 3"
    },
    "language_info": {
      "codemirror_mode": {
        "name": "ipython",
        "version": 3
      },
      "file_extension": ".py",
      "mimetype": "text/x-python",
      "name": "python",
      "nbconvert_exporter": "python",
      "pygments_lexer": "ipython3",
      "version": "3.5.4"
    },
    "colab": {
      "name": "Programming_Assignment_Classification_ML2.ipynb",
      "provenance": [],
      "collapsed_sections": [],
      "include_colab_link": true
    },
    "accelerator": "GPU"
  },
  "cells": [
    {
      "cell_type": "markdown",
      "metadata": {
        "id": "view-in-github",
        "colab_type": "text"
      },
      "source": [
        "<a href=\"https://colab.research.google.com/github/Blackman9t/Advanced-Data-Science/blob/master/Programming_Assignment_Classification_ML2.ipynb\" target=\"_parent\"><img src=\"https://colab.research.google.com/assets/colab-badge.svg\" alt=\"Open In Colab\"/></a>"
      ]
    },
    {
      "cell_type": "markdown",
      "metadata": {
        "id": "iqmG-JamYssN",
        "colab_type": "text"
      },
      "source": [
        "This is the second assignment for the Coursera course \"Advanced Machine Learning and Signal Processing\"\n",
        "\n",
        "\n",
        "Just execute all cells one after the other and you are done - just note that in the last one you have to update your email address (the one you've used for coursera) and obtain a submission token, you get this from the programming assignment directly on coursera.\n",
        "\n",
        "Please fill in the sections labelled with \"###YOUR_CODE_GOES_HERE###\""
      ]
    },
    {
      "cell_type": "code",
      "metadata": {
        "id": "YjFJ17VuYssR",
        "colab_type": "code",
        "outputId": "bea88415-2ef5-42d0-8fd8-fc9742c0bc83",
        "colab": {
          "base_uri": "https://localhost:8080/",
          "height": 286
        }
      },
      "source": [
        "!wget https://github.com/IBM/coursera/raw/master/coursera_ml/a2.parquet"
      ],
      "execution_count": 108,
      "outputs": [
        {
          "output_type": "stream",
          "text": [
            "--2020-02-21 17:47:35--  https://github.com/IBM/coursera/raw/master/coursera_ml/a2.parquet\n",
            "Resolving github.com (github.com)... 192.30.253.113\n",
            "Connecting to github.com (github.com)|192.30.253.113|:443... connected.\n",
            "HTTP request sent, awaiting response... 302 Found\n",
            "Location: https://raw.githubusercontent.com/IBM/coursera/master/coursera_ml/a2.parquet [following]\n",
            "--2020-02-21 17:47:36--  https://raw.githubusercontent.com/IBM/coursera/master/coursera_ml/a2.parquet\n",
            "Resolving raw.githubusercontent.com (raw.githubusercontent.com)... 151.101.0.133, 151.101.64.133, 151.101.128.133, ...\n",
            "Connecting to raw.githubusercontent.com (raw.githubusercontent.com)|151.101.0.133|:443... connected.\n",
            "HTTP request sent, awaiting response... 200 OK\n",
            "Length: 59032 (58K) [application/octet-stream]\n",
            "Saving to: ‘a2.parquet.6’\n",
            "\n",
            "a2.parquet.6        100%[===================>]  57.65K  --.-KB/s    in 0.02s   \n",
            "\n",
            "2020-02-21 17:47:37 (2.30 MB/s) - ‘a2.parquet.6’ saved [59032/59032]\n",
            "\n"
          ],
          "name": "stdout"
        }
      ]
    },
    {
      "cell_type": "markdown",
      "metadata": {
        "id": "9Ms6aP1WjjVU",
        "colab_type": "text"
      },
      "source": [
        "Let's first load spark dependencies in Colab"
      ]
    },
    {
      "cell_type": "code",
      "metadata": {
        "id": "KZYrHVtZjr4i",
        "colab_type": "code",
        "outputId": "cc5cfad0-e99a-443e-aa7d-7e269fa02173",
        "colab": {
          "base_uri": "https://localhost:8080/",
          "height": 50
        }
      },
      "source": [
        "!apt-get install openjdk-8-jdk-headless -qq > /dev/null\n",
        "!wget -q http://apache.osuosl.org/spark/spark-2.4.5/spark-2.4.5-bin-hadoop2.7.tgz\n",
        "!tar xf spark-2.4.5-bin-hadoop2.7.tgz\n",
        "\n",
        "!pip install -q findspark\n",
        "!pip install pyspark\n",
        "# Set up required environment variables\n",
        "\n",
        "import os\n",
        "os.environ[\"JAVA_HOME\"] = \"/usr/lib/jvm/java-8-openjdk-amd64\"\n",
        "os.environ[\"SPARK_HOME\"] = \"/content/spark-2.4.5-bin-hadoop2.7\""
      ],
      "execution_count": 109,
      "outputs": [
        {
          "output_type": "stream",
          "text": [
            "Requirement already satisfied: pyspark in /usr/local/lib/python3.6/dist-packages (2.4.5)\n",
            "Requirement already satisfied: py4j==0.10.7 in /usr/local/lib/python3.6/dist-packages (from pyspark) (0.10.7)\n"
          ],
          "name": "stdout"
        }
      ]
    },
    {
      "cell_type": "markdown",
      "metadata": {
        "id": "i2MUb6qokA17",
        "colab_type": "text"
      },
      "source": [
        "Next we instantiate a SparkContext object called sc"
      ]
    },
    {
      "cell_type": "code",
      "metadata": {
        "id": "tlKC_PRXkImd",
        "colab_type": "code",
        "outputId": "d8b31e2d-14fe-48fa-fd0d-064d8412f9d2",
        "colab": {
          "base_uri": "https://localhost:8080/",
          "height": 34
        }
      },
      "source": [
        "from pyspark import SparkConf, SparkContext\n",
        "# Set up spark Configuration Object if none exists, otherwise display error msg.\n",
        "try:\n",
        "    conf = SparkConf().setMaster('local').setAppName('app')\n",
        "    sc = SparkContext(conf=conf)\n",
        "    print('Spark Session Created Successfully!')\n",
        "except Exception as e:\n",
        "    print(e)\n"
      ],
      "execution_count": 110,
      "outputs": [
        {
          "output_type": "stream",
          "text": [
            "Cannot run multiple SparkContexts at once; existing SparkContext(app=app, master=local) created by __init__ at <ipython-input-3-e1d1c3853876>:5 \n"
          ],
          "name": "stdout"
        }
      ]
    },
    {
      "cell_type": "code",
      "metadata": {
        "id": "gQ9CQJFBlNrp",
        "colab_type": "code",
        "outputId": "8514700c-720a-44a3-f6ee-9f19af46d7fa",
        "colab": {
          "base_uri": "https://localhost:8080/",
          "height": 191
        }
      },
      "source": [
        "# Let's see the SparkContext\n",
        "sc"
      ],
      "execution_count": 111,
      "outputs": [
        {
          "output_type": "execute_result",
          "data": {
            "text/html": [
              "\n",
              "        <div>\n",
              "            <p><b>SparkContext</b></p>\n",
              "\n",
              "            <p><a href=\"http://bb2842ae4310:4040\">Spark UI</a></p>\n",
              "\n",
              "            <dl>\n",
              "              <dt>Version</dt>\n",
              "                <dd><code>v2.4.5</code></dd>\n",
              "              <dt>Master</dt>\n",
              "                <dd><code>local</code></dd>\n",
              "              <dt>AppName</dt>\n",
              "                <dd><code>app</code></dd>\n",
              "            </dl>\n",
              "        </div>\n",
              "        "
            ],
            "text/plain": [
              "<SparkContext master=local appName=app>"
            ]
          },
          "metadata": {
            "tags": []
          },
          "execution_count": 111
        }
      ]
    },
    {
      "cell_type": "markdown",
      "metadata": {
        "id": "_jR692RAlca1",
        "colab_type": "text"
      },
      "source": [
        "Next we create a Spark Session to connect to the Spark Context Obj"
      ]
    },
    {
      "cell_type": "code",
      "metadata": {
        "id": "ibOtk90XljbD",
        "colab_type": "code",
        "outputId": "6bfd1ec6-17bc-4e16-e853-5e1281a754e6",
        "colab": {
          "base_uri": "https://localhost:8080/",
          "height": 214
        }
      },
      "source": [
        "from pyspark.sql import SparkSession\n",
        "\n",
        "spark = SparkSession.builder.appName('app').getOrCreate()\n",
        "spark"
      ],
      "execution_count": 112,
      "outputs": [
        {
          "output_type": "execute_result",
          "data": {
            "text/html": [
              "\n",
              "            <div>\n",
              "                <p><b>SparkSession - in-memory</b></p>\n",
              "                \n",
              "        <div>\n",
              "            <p><b>SparkContext</b></p>\n",
              "\n",
              "            <p><a href=\"http://bb2842ae4310:4040\">Spark UI</a></p>\n",
              "\n",
              "            <dl>\n",
              "              <dt>Version</dt>\n",
              "                <dd><code>v2.4.5</code></dd>\n",
              "              <dt>Master</dt>\n",
              "                <dd><code>local</code></dd>\n",
              "              <dt>AppName</dt>\n",
              "                <dd><code>app</code></dd>\n",
              "            </dl>\n",
              "        </div>\n",
              "        \n",
              "            </div>\n",
              "        "
            ],
            "text/plain": [
              "<pyspark.sql.session.SparkSession at 0x7f1fafe3f2b0>"
            ]
          },
          "metadata": {
            "tags": []
          },
          "execution_count": 112
        }
      ]
    },
    {
      "cell_type": "markdown",
      "metadata": {
        "id": "e9vx6hxEYssW",
        "colab_type": "text"
      },
      "source": [
        "Now it’s time to have a look at the recorded sensor data. You should see data similar to the one exemplified below….\n"
      ]
    },
    {
      "cell_type": "code",
      "metadata": {
        "id": "_1UYeilCYssX",
        "colab_type": "code",
        "outputId": "a09d7834-4877-420b-8423-ecd2d712fcd6",
        "colab": {
          "base_uri": "https://localhost:8080/",
          "height": 202
        }
      },
      "source": [
        "df=spark.read.load('a2.parquet')\n",
        "df.show(5)  # This shows the first 5 rows of df as a table"
      ],
      "execution_count": 113,
      "outputs": [
        {
          "output_type": "stream",
          "text": [
            "+-----+-----------+-------------------+-------------------+-------------------+\n",
            "|CLASS|   SENSORID|                  X|                  Y|                  Z|\n",
            "+-----+-----------+-------------------+-------------------+-------------------+\n",
            "|    0|         26| 380.66434005495194| -139.3470983812975|-247.93697521077704|\n",
            "|    0|         29| 104.74324299209692| -32.27421440203938|-25.105013725863852|\n",
            "|    0| 8589934658| 118.11469236129976| 45.916682927433534| -87.97203782706572|\n",
            "|    0|34359738398| 246.55394030642543|-0.6122810693132044|-398.18662513951506|\n",
            "|    0|17179869241|-190.32584900181487|  234.7849657520335|-206.34483804019288|\n",
            "+-----+-----------+-------------------+-------------------+-------------------+\n",
            "only showing top 5 rows\n",
            "\n"
          ],
          "name": "stdout"
        }
      ]
    },
    {
      "cell_type": "code",
      "metadata": {
        "id": "1-QOoU8Imr_W",
        "colab_type": "code",
        "outputId": "b4050049-21dc-4065-a368-f20cc99bfea3",
        "colab": {
          "base_uri": "https://localhost:8080/",
          "height": 101
        }
      },
      "source": [
        "df.take(5) # This shows the first five lines of the dataframe wrapped in a Row object."
      ],
      "execution_count": 114,
      "outputs": [
        {
          "output_type": "execute_result",
          "data": {
            "text/plain": [
              "[Row(CLASS=0, SENSORID=26, X=380.66434005495194, Y=-139.3470983812975, Z=-247.93697521077704),\n",
              " Row(CLASS=0, SENSORID=29, X=104.74324299209692, Y=-32.27421440203938, Z=-25.105013725863852),\n",
              " Row(CLASS=0, SENSORID=8589934658, X=118.11469236129976, Y=45.916682927433534, Z=-87.97203782706572),\n",
              " Row(CLASS=0, SENSORID=34359738398, X=246.55394030642543, Y=-0.6122810693132044, Z=-398.18662513951506),\n",
              " Row(CLASS=0, SENSORID=17179869241, X=-190.32584900181487, Y=234.7849657520335, Z=-206.34483804019288)]"
            ]
          },
          "metadata": {
            "tags": []
          },
          "execution_count": 114
        }
      ]
    },
    {
      "cell_type": "markdown",
      "metadata": {
        "id": "p2qmfekCnqw_",
        "colab_type": "text"
      },
      "source": [
        "Next we add the df as a temp table in our session catalog to be able to use SQL queries on it"
      ]
    },
    {
      "cell_type": "code",
      "metadata": {
        "id": "hjHinaxcms1l",
        "colab_type": "code",
        "outputId": "7eab5372-b668-4194-acb9-d339dccae277",
        "colab": {
          "base_uri": "https://localhost:8080/",
          "height": 454
        }
      },
      "source": [
        "df.createOrReplaceTempView(\"df\")\n",
        "spark.sql(\"SELECT * from df\").show()"
      ],
      "execution_count": 115,
      "outputs": [
        {
          "output_type": "stream",
          "text": [
            "+-----+-----------+-------------------+-------------------+-------------------+\n",
            "|CLASS|   SENSORID|                  X|                  Y|                  Z|\n",
            "+-----+-----------+-------------------+-------------------+-------------------+\n",
            "|    0|         26| 380.66434005495194| -139.3470983812975|-247.93697521077704|\n",
            "|    0|         29| 104.74324299209692| -32.27421440203938|-25.105013725863852|\n",
            "|    0| 8589934658| 118.11469236129976| 45.916682927433534| -87.97203782706572|\n",
            "|    0|34359738398| 246.55394030642543|-0.6122810693132044|-398.18662513951506|\n",
            "|    0|17179869241|-190.32584900181487|  234.7849657520335|-206.34483804019288|\n",
            "|    0|25769803830| 178.62396382387422| -47.07529438881511|  84.38310769821979|\n",
            "|    0|25769803831|  85.03128805189493|-4.3024316644854546|-1.1841857567516714|\n",
            "|    0|34359738411| 26.786262674736566| -46.33193951911338| 20.880756008396055|\n",
            "|    0| 8589934592|-16.203752396859194| 51.080957032176954| -96.80526656416971|\n",
            "|    0|25769803852|   47.2048142440404|  -78.2950899652916| 181.99604091494786|\n",
            "|    0|34359738369| 15.608872398939273| -79.90322809181754|  69.62150711098005|\n",
            "|    0|         19|-4.8281721129789315| -67.38050508399905| 221.24876396496404|\n",
            "|    0|         54| -98.40725712852762|-19.989364074314732|  -302.695196085276|\n",
            "|    0|17179869313| 22.835845394816594|   17.1633660118843| 32.877914832011385|\n",
            "|    0|34359738454|  84.20178070080324| -32.81572075916947| -48.63517643958031|\n",
            "|    0|          0|  56.54732521345129| -7.980106018032676|  95.05162719436447|\n",
            "|    0|17179869201|  -57.6008655247749|  5.135393798773895| 236.99158698947267|\n",
            "|    0|17179869308| -65.59264738389012| -48.92660057215126| -61.58970715383383|\n",
            "|    0|25769803790|  34.82337351291005|  9.483542084393937|  197.6066372962772|\n",
            "|    0|25769803825|  39.80573823439121|-0.7955236412785212| -79.66652640650325|\n",
            "+-----+-----------+-------------------+-------------------+-------------------+\n",
            "only showing top 20 rows\n",
            "\n"
          ],
          "name": "stdout"
        }
      ]
    },
    {
      "cell_type": "code",
      "metadata": {
        "id": "0RsAV10WxbrQ",
        "colab_type": "code",
        "outputId": "f6622d79-7d58-4d32-b3b1-5e48e1b37a18",
        "colab": {
          "base_uri": "https://localhost:8080/",
          "height": 34
        }
      },
      "source": [
        "spark.catalog.listTables()"
      ],
      "execution_count": 116,
      "outputs": [
        {
          "output_type": "execute_result",
          "data": {
            "text/plain": [
              "[Table(name='df', database=None, description=None, tableType='TEMPORARY', isTemporary=True)]"
            ]
          },
          "metadata": {
            "tags": []
          },
          "execution_count": 116
        }
      ]
    },
    {
      "cell_type": "markdown",
      "metadata": {
        "id": "IIU8TOdcYssb",
        "colab_type": "text"
      },
      "source": [
        "Please create a VectorAssembler which consumes columns X, Y and Z and produces a column “features”\n"
      ]
    },
    {
      "cell_type": "code",
      "metadata": {
        "id": "Tz2TwTISYssc",
        "colab_type": "code",
        "colab": {}
      },
      "source": [
        "from pyspark.ml.feature import VectorAssembler\n",
        "vectorAssembler = VectorAssembler(inputCols = ['X','Y','Z'], outputCol = 'features')"
      ],
      "execution_count": 0,
      "outputs": []
    },
    {
      "cell_type": "markdown",
      "metadata": {
        "id": "8CKit38L4IMQ",
        "colab_type": "text"
      },
      "source": [
        "Let's see the count of each category in the label column."
      ]
    },
    {
      "cell_type": "code",
      "metadata": {
        "id": "xBaSC5zq4Nij",
        "colab_type": "code",
        "outputId": "9d2a73f3-6a46-45c2-83a5-c32ea86ce450",
        "colab": {
          "base_uri": "https://localhost:8080/",
          "height": 134
        }
      },
      "source": [
        "from pyspark.sql.functions import col\n",
        "df.groupBy(\"CLASS\") \\\n",
        "    .count() \\\n",
        "    .orderBy(col(\"CLASS\").desc()) \\\n",
        "    .show()"
      ],
      "execution_count": 118,
      "outputs": [
        {
          "output_type": "stream",
          "text": [
            "+-----+-----+\n",
            "|CLASS|count|\n",
            "+-----+-----+\n",
            "|    1| 1416|\n",
            "|    0| 1626|\n",
            "+-----+-----+\n",
            "\n"
          ],
          "name": "stdout"
        }
      ]
    },
    {
      "cell_type": "code",
      "metadata": {
        "id": "5KWdzsWl4gz_",
        "colab_type": "code",
        "outputId": "bede73bb-fcd5-48d2-dabb-eeea66690b61",
        "colab": {
          "base_uri": "https://localhost:8080/",
          "height": 34
        }
      },
      "source": [
        "# Let's confirm total rows in our data\n",
        "df.count()"
      ],
      "execution_count": 119,
      "outputs": [
        {
          "output_type": "execute_result",
          "data": {
            "text/plain": [
              "3042"
            ]
          },
          "metadata": {
            "tags": []
          },
          "execution_count": 119
        }
      ]
    },
    {
      "cell_type": "markdown",
      "metadata": {
        "id": "IC1iR5C5Yssf",
        "colab_type": "text"
      },
      "source": [
        "Please instantiate a classifier from the SparkML package and assign it to the classifier variable. Make sure to either\n",
        "1.\tRename the “CLASS” column to “label” or\n",
        "2.\tSpecify the label-column correctly to be “CLASS”\n"
      ]
    },
    {
      "cell_type": "code",
      "metadata": {
        "id": "KsAQVdW_uRZA",
        "colab_type": "code",
        "colab": {
          "base_uri": "https://localhost:8080/",
          "height": 202
        },
        "outputId": "2ff7f44d-5f89-4740-c5a6-0f625a2a7d30"
      },
      "source": [
        "df = df.withColumn('label', col('CLASS'))\n",
        "df.show(5)"
      ],
      "execution_count": 120,
      "outputs": [
        {
          "output_type": "stream",
          "text": [
            "+-----+-----------+-------------------+-------------------+-------------------+-----+\n",
            "|CLASS|   SENSORID|                  X|                  Y|                  Z|label|\n",
            "+-----+-----------+-------------------+-------------------+-------------------+-----+\n",
            "|    0|         26| 380.66434005495194| -139.3470983812975|-247.93697521077704|    0|\n",
            "|    0|         29| 104.74324299209692| -32.27421440203938|-25.105013725863852|    0|\n",
            "|    0| 8589934658| 118.11469236129976| 45.916682927433534| -87.97203782706572|    0|\n",
            "|    0|34359738398| 246.55394030642543|-0.6122810693132044|-398.18662513951506|    0|\n",
            "|    0|17179869241|-190.32584900181487|  234.7849657520335|-206.34483804019288|    0|\n",
            "+-----+-----------+-------------------+-------------------+-------------------+-----+\n",
            "only showing top 5 rows\n",
            "\n"
          ],
          "name": "stdout"
        }
      ]
    },
    {
      "cell_type": "code",
      "metadata": {
        "id": "OznqFPMj3C5x",
        "colab_type": "code",
        "colab": {}
      },
      "source": [
        "df.createOrReplaceTempView(\"df\")"
      ],
      "execution_count": 0,
      "outputs": []
    },
    {
      "cell_type": "markdown",
      "metadata": {
        "id": "C3oc_FpLC1BC",
        "colab_type": "text"
      },
      "source": [
        "Next let's split the data into Training and Testing sets"
      ]
    },
    {
      "cell_type": "code",
      "metadata": {
        "id": "Kmj0AZBzCw_R",
        "colab_type": "code",
        "colab": {}
      },
      "source": [
        "splits = df.randomSplit([0.75, 0.25])\n",
        "df_train = splits[0]\n",
        "df_test = splits[1]"
      ],
      "execution_count": 0,
      "outputs": []
    },
    {
      "cell_type": "code",
      "metadata": {
        "id": "G4MrK3KNDlLG",
        "colab_type": "code",
        "outputId": "e15b4935-e6bf-466c-c97a-59ac1b903837",
        "colab": {
          "base_uri": "https://localhost:8080/",
          "height": 202
        }
      },
      "source": [
        "df_train.show(5)"
      ],
      "execution_count": 123,
      "outputs": [
        {
          "output_type": "stream",
          "text": [
            "+-----+--------+-------------------+------------------+-------------------+-----+\n",
            "|CLASS|SENSORID|                  X|                 Y|                  Z|label|\n",
            "+-----+--------+-------------------+------------------+-------------------+-----+\n",
            "|    0|       0|-104.60513286125266| -54.0262751326433| 345.25976930323344|    0|\n",
            "|    0|       0|  56.54732521345129|-7.980106018032676|  95.05162719436447|    0|\n",
            "|    0|       1|-122.39060867226797| 46.13548501249578|-45.727305937345506|    0|\n",
            "|    0|       1| 15.798748332829806|-86.21159407546875|   85.2514617870864|    0|\n",
            "|    0|       2|-60.287010425683505|18.442246406638773|  88.30025324517945|    0|\n",
            "+-----+--------+-------------------+------------------+-------------------+-----+\n",
            "only showing top 5 rows\n",
            "\n"
          ],
          "name": "stdout"
        }
      ]
    },
    {
      "cell_type": "code",
      "metadata": {
        "id": "Z9iECDGMDqtN",
        "colab_type": "code",
        "outputId": "cd92d738-2b25-4d14-96b2-4a25c349dd5c",
        "colab": {
          "base_uri": "https://localhost:8080/",
          "height": 202
        }
      },
      "source": [
        "df_test.show(5)"
      ],
      "execution_count": 124,
      "outputs": [
        {
          "output_type": "stream",
          "text": [
            "+-----+--------+-------------------+-------------------+-------------------+-----+\n",
            "|CLASS|SENSORID|                  X|                  Y|                  Z|label|\n",
            "+-----+--------+-------------------+-------------------+-------------------+-----+\n",
            "|    0|       2| -258.1817814050372|   66.8675617595676| 433.50053814326026|    0|\n",
            "|    0|       3| 137.48274121419482|  -93.9756133320119| -220.9712437858673|    0|\n",
            "|    0|       8| 222.41256717917048|-128.85606064795286| 113.38920172986577|    0|\n",
            "|    0|      12|-100.92615080557411| -7.468076698886018|  92.98407815956433|    0|\n",
            "|    0|      12| -42.61570566672431|-40.091552927743706|-6.7322444416323926|    0|\n",
            "+-----+--------+-------------------+-------------------+-------------------+-----+\n",
            "only showing top 5 rows\n",
            "\n"
          ],
          "name": "stdout"
        }
      ]
    },
    {
      "cell_type": "markdown",
      "metadata": {
        "id": "DrlT6h8iHFu9",
        "colab_type": "text"
      },
      "source": [
        "### Logistic Regression Classifier"
      ]
    },
    {
      "cell_type": "markdown",
      "metadata": {
        "id": "0pX0aP4g2USM",
        "colab_type": "text"
      },
      "source": [
        "First Let's try the Logistic Regression algorithm"
      ]
    },
    {
      "cell_type": "code",
      "metadata": {
        "id": "sqRGsSicYssg",
        "colab_type": "code",
        "colab": {}
      },
      "source": [
        "from pyspark.ml.classification import LogisticRegression\n",
        "\n",
        "classifier = LogisticRegression(maxIter=10, regParam=0.3, elasticNetParam=0.8)"
      ],
      "execution_count": 0,
      "outputs": []
    },
    {
      "cell_type": "markdown",
      "metadata": {
        "id": "EgIInNBDYssj",
        "colab_type": "text"
      },
      "source": [
        "Let’s train and evaluate…\n"
      ]
    },
    {
      "cell_type": "code",
      "metadata": {
        "id": "yxkWLmjCYssk",
        "colab_type": "code",
        "colab": {}
      },
      "source": [
        "from pyspark.ml import Pipeline\n",
        "pipeline = Pipeline(stages=[vectorAssembler, classifier])"
      ],
      "execution_count": 0,
      "outputs": []
    },
    {
      "cell_type": "code",
      "metadata": {
        "id": "6_1WkhaLYsso",
        "colab_type": "code",
        "colab": {}
      },
      "source": [
        "logReg_model = pipeline.fit(df_train)"
      ],
      "execution_count": 0,
      "outputs": []
    },
    {
      "cell_type": "code",
      "metadata": {
        "id": "HDV89pT4Yssr",
        "colab_type": "code",
        "colab": {}
      },
      "source": [
        "prediction = logReg_model.transform(df_train)"
      ],
      "execution_count": 0,
      "outputs": []
    },
    {
      "cell_type": "code",
      "metadata": {
        "id": "BvXe7z7kYssu",
        "colab_type": "code",
        "outputId": "7b7c2701-12fd-4820-c530-e11bc978df5e",
        "colab": {
          "base_uri": "https://localhost:8080/",
          "height": 202
        }
      },
      "source": [
        "prediction.show(5)"
      ],
      "execution_count": 129,
      "outputs": [
        {
          "output_type": "stream",
          "text": [
            "+-----+--------+-------------------+------------------+-------------------+-----+--------------------+--------------------+--------------------+----------+\n",
            "|CLASS|SENSORID|                  X|                 Y|                  Z|label|            features|       rawPrediction|         probability|prediction|\n",
            "+-----+--------+-------------------+------------------+-------------------+-----+--------------------+--------------------+--------------------+----------+\n",
            "|    0|       0|-104.60513286125266| -54.0262751326433| 345.25976930323344|    0|[-104.60513286125...|[0.11955840033344...|[0.52985404688191...|       0.0|\n",
            "|    0|       0|  56.54732521345129|-7.980106018032676|  95.05162719436447|    0|[56.5473252134512...|[0.11955840033344...|[0.52985404688191...|       0.0|\n",
            "|    0|       1|-122.39060867226797| 46.13548501249578|-45.727305937345506|    0|[-122.39060867226...|[0.11955840033344...|[0.52985404688191...|       0.0|\n",
            "|    0|       1| 15.798748332829806|-86.21159407546875|   85.2514617870864|    0|[15.7987483328298...|[0.11955840033344...|[0.52985404688191...|       0.0|\n",
            "|    0|       2|-60.287010425683505|18.442246406638773|  88.30025324517945|    0|[-60.287010425683...|[0.11955840033344...|[0.52985404688191...|       0.0|\n",
            "+-----+--------+-------------------+------------------+-------------------+-----+--------------------+--------------------+--------------------+----------+\n",
            "only showing top 5 rows\n",
            "\n"
          ],
          "name": "stdout"
        }
      ]
    },
    {
      "cell_type": "code",
      "metadata": {
        "id": "O2j-mFOzYssy",
        "colab_type": "code",
        "outputId": "3af17772-88d1-4556-ee25-a21e48563df6",
        "colab": {
          "base_uri": "https://localhost:8080/",
          "height": 34
        }
      },
      "source": [
        "from pyspark.ml.evaluation import MulticlassClassificationEvaluator\n",
        "binEval = MulticlassClassificationEvaluator().setMetricName(\"accuracy\") .setPredictionCol(\"prediction\").setLabelCol(\"label\")\n",
        "    \n",
        "binEval.evaluate(prediction) "
      ],
      "execution_count": 130,
      "outputs": [
        {
          "output_type": "execute_result",
          "data": {
            "text/plain": [
              "0.5298540468819106"
            ]
          },
          "metadata": {
            "tags": []
          },
          "execution_count": 130
        }
      ]
    },
    {
      "cell_type": "markdown",
      "metadata": {
        "id": "_sNBkRPyBqqo",
        "colab_type": "text"
      },
      "source": [
        "Let's evaluate the test data set so we know if we're under or over fitting"
      ]
    },
    {
      "cell_type": "code",
      "metadata": {
        "id": "f0_WR1XKB37Y",
        "colab_type": "code",
        "outputId": "2d4a65b9-2202-4732-d30d-8d19aadb4cc8",
        "colab": {
          "base_uri": "https://localhost:8080/",
          "height": 34
        }
      },
      "source": [
        "prediction = logReg_model.transform(df_test)\n",
        "binEval.evaluate(prediction)"
      ],
      "execution_count": 131,
      "outputs": [
        {
          "output_type": "execute_result",
          "data": {
            "text/plain": [
              "0.5480153649167734"
            ]
          },
          "metadata": {
            "tags": []
          },
          "execution_count": 131
        }
      ]
    },
    {
      "cell_type": "markdown",
      "metadata": {
        "id": "PsHqwOKGFQTo",
        "colab_type": "text"
      },
      "source": [
        "No, over fitting so let's try Support Vector Machines"
      ]
    },
    {
      "cell_type": "markdown",
      "metadata": {
        "id": "mqSCTRerHRlw",
        "colab_type": "text"
      },
      "source": [
        "### SVM Classifier"
      ]
    },
    {
      "cell_type": "markdown",
      "metadata": {
        "id": "N03HoDNWGOvT",
        "colab_type": "text"
      },
      "source": [
        "Next we import the SVM Classifier"
      ]
    },
    {
      "cell_type": "code",
      "metadata": {
        "id": "JBH8v-cwGTM4",
        "colab_type": "code",
        "colab": {}
      },
      "source": [
        "from pyspark.ml.classification import LinearSVC\n",
        "\n",
        "# Then we define the classifier\n",
        "classifier = LinearSVC(maxIter=10, regParam=0.1)"
      ],
      "execution_count": 0,
      "outputs": []
    },
    {
      "cell_type": "code",
      "metadata": {
        "id": "looUGUdrlQYM",
        "colab_type": "code",
        "colab": {}
      },
      "source": [
        "# Let's randomly split the data again\n",
        "splits = df.randomSplit([0.75, 0.25])\n",
        "df_train = splits[0]\n",
        "df_test = splits[1]"
      ],
      "execution_count": 0,
      "outputs": []
    },
    {
      "cell_type": "markdown",
      "metadata": {
        "id": "Jvc5_oloKIM1",
        "colab_type": "text"
      },
      "source": [
        "Next we train the NB classifier with the training set using the pipeline object we created earlier"
      ]
    },
    {
      "cell_type": "code",
      "metadata": {
        "id": "TJZLZBbkKS0V",
        "colab_type": "code",
        "colab": {}
      },
      "source": [
        "pipeline = Pipeline(stages=[vectorAssembler, classifier])\n",
        "svc_model = pipeline.fit(df_train)"
      ],
      "execution_count": 0,
      "outputs": []
    },
    {
      "cell_type": "code",
      "metadata": {
        "id": "-B2p_BRVXEdJ",
        "colab_type": "code",
        "colab": {}
      },
      "source": [
        "prediction = svc_model.transform(df_train)"
      ],
      "execution_count": 0,
      "outputs": []
    },
    {
      "cell_type": "code",
      "metadata": {
        "id": "cMTtM-MYXGoT",
        "colab_type": "code",
        "outputId": "66342840-9eb6-43b1-a4e8-0b21ad6897e5",
        "colab": {
          "base_uri": "https://localhost:8080/",
          "height": 202
        }
      },
      "source": [
        "prediction.show(5)"
      ],
      "execution_count": 136,
      "outputs": [
        {
          "output_type": "stream",
          "text": [
            "+-----+--------+-------------------+------------------+-------------------+-----+--------------------+--------------------+----------+\n",
            "|CLASS|SENSORID|                  X|                 Y|                  Z|label|            features|       rawPrediction|prediction|\n",
            "+-----+--------+-------------------+------------------+-------------------+-----+--------------------+--------------------+----------+\n",
            "|    0|       0|  56.54732521345129|-7.980106018032676|  95.05162719436447|    0|[56.5473252134512...|[0.99764249963728...|       0.0|\n",
            "|    0|       1|-122.39060867226797| 46.13548501249578|-45.727305937345506|    0|[-122.39060867226...|[0.99764249963728...|       0.0|\n",
            "|    0|       1| 15.798748332829806|-86.21159407546875|   85.2514617870864|    0|[15.7987483328298...|[0.99764249963728...|       0.0|\n",
            "|    0|       2| -258.1817814050372|  66.8675617595676| 433.50053814326026|    0|[-258.18178140503...|[0.99764249963728...|       0.0|\n",
            "|    0|       2|-60.287010425683505|18.442246406638773|  88.30025324517945|    0|[-60.287010425683...|[0.99764249963728...|       0.0|\n",
            "+-----+--------+-------------------+------------------+-------------------+-----+--------------------+--------------------+----------+\n",
            "only showing top 5 rows\n",
            "\n"
          ],
          "name": "stdout"
        }
      ]
    },
    {
      "cell_type": "code",
      "metadata": {
        "id": "ySXu31gGXbcT",
        "colab_type": "code",
        "outputId": "cb74183f-dc40-4966-e2f2-6175e3195092",
        "colab": {
          "base_uri": "https://localhost:8080/",
          "height": 34
        }
      },
      "source": [
        "binEval.evaluate(prediction) "
      ],
      "execution_count": 137,
      "outputs": [
        {
          "output_type": "execute_result",
          "data": {
            "text/plain": [
              "0.539612676056338"
            ]
          },
          "metadata": {
            "tags": []
          },
          "execution_count": 137
        }
      ]
    },
    {
      "cell_type": "markdown",
      "metadata": {
        "id": "zx2tWSLDXflq",
        "colab_type": "text"
      },
      "source": [
        "Let's evaluate the test data"
      ]
    },
    {
      "cell_type": "code",
      "metadata": {
        "id": "mN19h9mbXj0h",
        "colab_type": "code",
        "outputId": "561aa8d6-4e05-4b68-a88c-d11aa6d93e78",
        "colab": {
          "base_uri": "https://localhost:8080/",
          "height": 34
        }
      },
      "source": [
        "prediction = svc_model.transform(df_test)\n",
        "binEval.evaluate(prediction) "
      ],
      "execution_count": 138,
      "outputs": [
        {
          "output_type": "execute_result",
          "data": {
            "text/plain": [
              "0.5194805194805194"
            ]
          },
          "metadata": {
            "tags": []
          },
          "execution_count": 138
        }
      ]
    },
    {
      "cell_type": "markdown",
      "metadata": {
        "id": "5p4ZLhHgbsee",
        "colab_type": "text"
      },
      "source": [
        "### Decision Tree Classifier"
      ]
    },
    {
      "cell_type": "code",
      "metadata": {
        "id": "s5SnpkWvYut0",
        "colab_type": "code",
        "colab": {}
      },
      "source": [
        "from pyspark.ml.classification import DecisionTreeClassifier"
      ],
      "execution_count": 0,
      "outputs": []
    },
    {
      "cell_type": "code",
      "metadata": {
        "id": "GK3NvDqhlXlt",
        "colab_type": "code",
        "colab": {}
      },
      "source": [
        "# Let's randomly split the data againsplits = df.randomSplit([0.75, 0.25])\n",
        "df_train = splits[0]\n",
        "df_test = splits[1]"
      ],
      "execution_count": 0,
      "outputs": []
    },
    {
      "cell_type": "code",
      "metadata": {
        "id": "3UWmq7xKe9pz",
        "colab_type": "code",
        "colab": {}
      },
      "source": [
        "classifier = DecisionTreeClassifier(labelCol=\"label\", featuresCol=\"features\")"
      ],
      "execution_count": 0,
      "outputs": []
    },
    {
      "cell_type": "code",
      "metadata": {
        "id": "TSMSUa5xe9mR",
        "colab_type": "code",
        "colab": {}
      },
      "source": [
        "# Chain vectorAssembler and dt_classifier in a Pipeline\n",
        "pipeline = Pipeline(stages=[vectorAssembler, classifier])"
      ],
      "execution_count": 0,
      "outputs": []
    },
    {
      "cell_type": "code",
      "metadata": {
        "id": "8qlBGKopgB7s",
        "colab_type": "code",
        "colab": {}
      },
      "source": [
        "# Train model.\n",
        "dt_model = pipeline.fit(df_train)"
      ],
      "execution_count": 0,
      "outputs": []
    },
    {
      "cell_type": "code",
      "metadata": {
        "id": "8GjUElRogkVC",
        "colab_type": "code",
        "colab": {}
      },
      "source": [
        "# Make predictions.\n",
        "predictions = dt_model.transform(df_test)"
      ],
      "execution_count": 0,
      "outputs": []
    },
    {
      "cell_type": "code",
      "metadata": {
        "id": "B0Njqsj7gkPM",
        "colab_type": "code",
        "colab": {
          "base_uri": "https://localhost:8080/",
          "height": 202
        },
        "outputId": "a6e0cc68-90ca-4ba9-ef71-2a7c9e5a4fb4"
      },
      "source": [
        "predictions.show(5)"
      ],
      "execution_count": 145,
      "outputs": [
        {
          "output_type": "stream",
          "text": [
            "+-----+--------+-------------------+-------------------+------------------+-----+--------------------+-------------+-----------+----------+\n",
            "|CLASS|SENSORID|                  X|                  Y|                 Z|label|            features|rawPrediction|probability|prediction|\n",
            "+-----+--------+-------------------+-------------------+------------------+-----+--------------------+-------------+-----------+----------+\n",
            "|    0|       0|-104.60513286125266|  -54.0262751326433|345.25976930323344|    0|[-104.60513286125...|  [498.0,0.0]|  [1.0,0.0]|       0.0|\n",
            "|    0|       6|   70.5415741207817| -33.17977745901177| 52.41411079917531|    0|[70.5415741207817...|  [497.0,0.0]|  [1.0,0.0]|       0.0|\n",
            "|    0|      11| -56.73574214427017|  81.98727523527324|-17.89860240383493|    0|[-56.735742144270...|  [498.0,0.0]|  [1.0,0.0]|       0.0|\n",
            "|    0|      11|   44.2794452012794|-61.434629776826256|  140.920688562067|    0|[44.2794452012794...|  [497.0,0.0]|  [1.0,0.0]|       0.0|\n",
            "|    0|      18| -130.8978806432276|  -22.8382162488068| 87.25076412253149|    0|[-130.89788064322...|  [498.0,0.0]|  [1.0,0.0]|       0.0|\n",
            "+-----+--------+-------------------+-------------------+------------------+-----+--------------------+-------------+-----------+----------+\n",
            "only showing top 5 rows\n",
            "\n"
          ],
          "name": "stdout"
        }
      ]
    },
    {
      "cell_type": "code",
      "metadata": {
        "id": "qh9gbPGMhAVF",
        "colab_type": "code",
        "colab": {
          "base_uri": "https://localhost:8080/",
          "height": 34
        },
        "outputId": "61500a0e-3db8-46f1-bb32-9ecfc188573e"
      },
      "source": [
        "# Select (prediction, true label) and compute test error\n",
        "evaluator = MulticlassClassificationEvaluator(\n",
        "    labelCol=\"label\", predictionCol=\"prediction\", metricName=\"accuracy\")\n",
        "accuracy = evaluator.evaluate(predictions)\n",
        "print(\"Test Error = %g\" % (1.0 - accuracy))"
      ],
      "execution_count": 146,
      "outputs": [
        {
          "output_type": "stream",
          "text": [
            "Test Error = 0.00779221\n"
          ],
          "name": "stdout"
        }
      ]
    },
    {
      "cell_type": "code",
      "metadata": {
        "id": "EVWYr_1thsrw",
        "colab_type": "code",
        "colab": {
          "base_uri": "https://localhost:8080/",
          "height": 34
        },
        "outputId": "01aa7fe0-702c-47fd-a48f-10c0bc11306a"
      },
      "source": [
        "binEval.evaluate(predictions)"
      ],
      "execution_count": 147,
      "outputs": [
        {
          "output_type": "execute_result",
          "data": {
            "text/plain": [
              "0.9922077922077922"
            ]
          },
          "metadata": {
            "tags": []
          },
          "execution_count": 147
        }
      ]
    },
    {
      "cell_type": "markdown",
      "metadata": {
        "id": "i3N3iDCQiJSQ",
        "colab_type": "text"
      },
      "source": [
        "Let's try our DT Model on the Test data set"
      ]
    },
    {
      "cell_type": "code",
      "metadata": {
        "id": "7OWMzbDlgkHd",
        "colab_type": "code",
        "colab": {
          "base_uri": "https://localhost:8080/",
          "height": 34
        },
        "outputId": "f7b8be23-05a5-4ce7-b7a2-db9b05704d66"
      },
      "source": [
        "predictions = dt_model.transform(df_test)\n",
        "binEval.evaluate(predictions)"
      ],
      "execution_count": 148,
      "outputs": [
        {
          "output_type": "execute_result",
          "data": {
            "text/plain": [
              "0.9922077922077922"
            ]
          },
          "metadata": {
            "tags": []
          },
          "execution_count": 148
        }
      ]
    },
    {
      "cell_type": "markdown",
      "metadata": {
        "id": "upr_yL5fivBt",
        "colab_type": "text"
      },
      "source": [
        "### We have seen no overfitting in all three models. but Clearly with 99% accuracy on both Test and Training sets, the Decision Tree classifier is best"
      ]
    },
    {
      "cell_type": "code",
      "metadata": {
        "id": "b2h8XnnIYss2",
        "colab_type": "code",
        "colab": {}
      },
      "source": [
        "!rm -Rf a2_m2.json"
      ],
      "execution_count": 0,
      "outputs": []
    },
    {
      "cell_type": "code",
      "metadata": {
        "id": "Qd3ld879Yss5",
        "colab_type": "code",
        "colab": {}
      },
      "source": [
        "prediction = prediction.repartition(1)\n",
        "prediction.write.json('a2_m2.json')"
      ],
      "execution_count": 0,
      "outputs": []
    },
    {
      "cell_type": "code",
      "metadata": {
        "id": "y2zliTzUYss8",
        "colab_type": "code",
        "colab": {
          "base_uri": "https://localhost:8080/",
          "height": 202
        },
        "outputId": "a0cdec09-fad0-4027-ee39-df60b648b2d3"
      },
      "source": [
        "!rm -f rklib.py\n",
        "!wget https://raw.githubusercontent.com/IBM/coursera/master/rklib.py"
      ],
      "execution_count": 151,
      "outputs": [
        {
          "output_type": "stream",
          "text": [
            "--2020-02-21 17:48:26--  https://raw.githubusercontent.com/IBM/coursera/master/rklib.py\n",
            "Resolving raw.githubusercontent.com (raw.githubusercontent.com)... 151.101.0.133, 151.101.64.133, 151.101.128.133, ...\n",
            "Connecting to raw.githubusercontent.com (raw.githubusercontent.com)|151.101.0.133|:443... connected.\n",
            "HTTP request sent, awaiting response... 200 OK\n",
            "Length: 2540 (2.5K) [text/plain]\n",
            "Saving to: ‘rklib.py’\n",
            "\n",
            "\rrklib.py              0%[                    ]       0  --.-KB/s               \rrklib.py            100%[===================>]   2.48K  --.-KB/s    in 0s      \n",
            "\n",
            "2020-02-21 17:48:26 (73.2 MB/s) - ‘rklib.py’ saved [2540/2540]\n",
            "\n"
          ],
          "name": "stdout"
        }
      ]
    },
    {
      "cell_type": "code",
      "metadata": {
        "id": "HuUtx7GBYss_",
        "colab_type": "code",
        "colab": {}
      },
      "source": [
        "import zipfile\n",
        "\n",
        "def zipdir(path, ziph):\n",
        "    for root, dirs, files in os.walk(path):\n",
        "        for file in files:\n",
        "            ziph.write(os.path.join(root, file))\n",
        "\n",
        "zipf = zipfile.ZipFile('a2_m2.json.zip', 'w', zipfile.ZIP_DEFLATED)\n",
        "zipdir('a2_m2.json', zipf)\n",
        "zipf.close()"
      ],
      "execution_count": 0,
      "outputs": []
    },
    {
      "cell_type": "code",
      "metadata": {
        "id": "ImHfzixuYstC",
        "colab_type": "code",
        "colab": {}
      },
      "source": [
        "!base64 a2_m2.json.zip > a2_m2.json.zip.base64"
      ],
      "execution_count": 0,
      "outputs": []
    },
    {
      "cell_type": "code",
      "metadata": {
        "id": "EfYOgZ_2YstG",
        "colab_type": "code",
        "colab": {
          "base_uri": "https://localhost:8080/",
          "height": 84
        },
        "outputId": "5fc178cc-1da0-4378-b41c-51c9482a1118"
      },
      "source": [
        "from rklib import submit\n",
        "key = \"J3sDL2J8EeiaXhILFWw2-g\"\n",
        "part = \"G4P6f\"\n",
        "email = \"sisokels@gmail.com\"\n",
        "token = \"qzcPyVtngusv8lKS\"\n",
        "\n",
        "with open('a2_m2.json.zip.base64', 'r') as myfile:\n",
        "    data=myfile.read()\n",
        "submit(email, token, key, part, [part], data)"
      ],
      "execution_count": 154,
      "outputs": [
        {
          "output_type": "stream",
          "text": [
            "Submission successful, please check on the coursera grader page for the status\n",
            "-------------------------\n",
            "{\"elements\":[{\"itemId\":\"LTL4F\",\"id\":\"f_F-qCtuEei_fRLwaVDk3g~LTL4F~X0qVJlTSEeq9CwoGlXh86w\",\"courseId\":\"f_F-qCtuEei_fRLwaVDk3g\"}],\"paging\":{},\"linked\":{}}\n",
            "-------------------------\n"
          ],
          "name": "stdout"
        }
      ]
    }
  ]
}