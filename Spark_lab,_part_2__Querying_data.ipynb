{
  "nbformat": 4,
  "nbformat_minor": 0,
  "metadata": {
    "kernelspec": {
      "display_name": "Python 3.6 with Spark",
      "name": "python36",
      "language": "python3"
    },
    "language_info": {
      "mimetype": "text/x-python",
      "nbconvert_exporter": "python",
      "version": "3.6.8",
      "name": "python",
      "pygments_lexer": "ipython3",
      "file_extension": ".py",
      "codemirror_mode": {
        "version": 3,
        "name": "ipython"
      }
    },
    "colab": {
      "name": "Spark lab, part 2_ Querying data.ipynb",
      "provenance": [],
      "include_colab_link": true
    }
  },
  "cells": [
    {
      "cell_type": "markdown",
      "metadata": {
        "id": "view-in-github",
        "colab_type": "text"
      },
      "source": [
        "<a href=\"https://colab.research.google.com/github/Blackman9t/Advanced-Data-Science/blob/master/Spark_lab%2C_part_2__Querying_data.ipynb\" target=\"_parent\"><img src=\"https://colab.research.google.com/assets/colab-badge.svg\" alt=\"Open In Colab\"/></a>"
      ]
    },
    {
      "cell_type": "markdown",
      "metadata": {
        "id": "v2sGMA40TZdt",
        "colab_type": "text"
      },
      "source": [
        "# Introduction to Spark lab, part 2: Querying data\n",
        "This notebook guides you through querying data with Spark, including how to create and use DataFrames, run SQL queries, apply functions to the results of SQL queries, join data from different data sources, and visualize data in graphs.\n",
        "\n",
        "This notebook uses pySpark, the Python API for Spark. Some knowledge of Python is recommended. This notebook runs on Python 3.6 with Spark.\n",
        "\n",
        "If you are new to Spark, see the first module in this series: <a href=\"https://dataplatform.cloud.ibm.com/exchange/public/entry/view/95811fca38af4ccbea8acf8658bedcfc\" target=\"_blank\" rel=\"noopener noreferrer\">Introduction to Spark, part 1: Basic Concepts</a>."
      ]
    },
    {
      "cell_type": "markdown",
      "metadata": {
        "id": "ic3BhvnfTZdw",
        "colab_type": "text"
      },
      "source": [
        "## Table of contents\n",
        "\n",
        "1. [Prepare the environment and the data](#getstarted)<br>\n",
        "     1.1 [Enable SQL processing](#sqlprocessing)<br>\n",
        "     1.2 [Download the data](#download)<br>\n",
        "     1.3 [Create a DataFrame](#createdf)<br>\n",
        "     1.4 [Create a table](#createtab)<br>\n",
        "2. [Run SQL queries](#runsql)<br>\n",
        "    2.1 [Display query results with a pandas DataFrame](#pandas)<br>\n",
        "    2.2 [Run a group by query](#groupby)<br>\n",
        "    2.3 [Run a subselect query](#subselect)<br>\n",
        "    2.4 [Return nested JSON field values](#nested)<br>\n",
        "3. [Convert RDDs to DataFrames](#convertrdd)<br>\n",
        "    3.1 [Create a simple RDD](#simplerdd)<br>\n",
        "    3.2 [Apply a schema](#apply)<br>\n",
        "    3.3 [Create rows with named columns](#namedcol)<br>\n",
        "    3.4 [Join tables](#join)<br>\n",
        "4. [Create SQL functions](#sqlfuncs)<br>\n",
        "5. [Convert a pandas DataFrame to a Spark DataFrame](#sparkdf)<br>\n",
        "    5.1 [Get a new data set](#ufo)<br>\n",
        "    5.2 [Create a pandas DataFrame](#ufopandas)<br>\n",
        "    5.3 [Convert to a Spark DataFrame](#sparkufo)<br>\n",
        "    5.4 [Run an SQL statement](#runufo)<br>\n",
        "6. [Visualize data](#viz)<br>\n",
        "    6.1 [Create a chart using Pandas](#vizchart)<br>\n",
        "    6.2 [Aggregate the data](#vizagg)<br>\n",
        "    6.3 [Create a chart using Spark SQL](#vizchart2)<br>\n",
        "7. [Summary and next steps](#nextsteps)"
      ]
    },
    {
      "cell_type": "markdown",
      "metadata": {
        "id": "gK8VGn_OTZdx",
        "colab_type": "text"
      },
      "source": [
        "<a id=\"getstarted\"></a>\n",
        "## 1. Prepare the environment and the data\n",
        "Before you can run SQL queries on data in a Spark environment, you need to enable SQL processing and then move the data to the structured format of a DataFrame."
      ]
    },
    {
      "cell_type": "markdown",
      "metadata": {
        "id": "0l65eWTgTZdy",
        "colab_type": "text"
      },
      "source": [
        "<a id=\"sqlprocessing\"></a>\n",
        "### 1.1 Enable SQL processing\n",
        "The preferred method to enable SQL processing with Spark 2.0 is to use the new SparkSession object, but you can also create a SQLContext object. \n",
        "\n",
        "Use the predefined Spark Context, `sc`, which contains the connection information for Spark, to create an SQLContext:"
      ]
    },
    {
      "cell_type": "markdown",
      "metadata": {
        "id": "LlSOErY-1qaq",
        "colab_type": "text"
      },
      "source": [
        "First let's install spark related dependencies"
      ]
    },
    {
      "cell_type": "code",
      "metadata": {
        "id": "6pHpAa9g1gfq",
        "colab_type": "code",
        "colab": {
          "base_uri": "https://localhost:8080/",
          "height": 235
        },
        "outputId": "86c1a062-6012-4b1d-fa24-2a2f29647a95"
      },
      "source": [
        "!apt-get install openjdk-8-jdk-headless -qq > /dev/null\n",
        "!wget -q http://apache.osuosl.org/spark/spark-2.4.5/spark-2.4.5-bin-hadoop2.7.tgz\n",
        "!tar xf spark-2.4.5-bin-hadoop2.7.tgz\n",
        "\n",
        "!pip install -q findspark\n",
        "!pip install pyspark\n",
        "# Set up required environment variables\n",
        "\n",
        "import os\n",
        "os.environ[\"JAVA_HOME\"] = \"/usr/lib/jvm/java-8-openjdk-amd64\"\n",
        "os.environ[\"SPARK_HOME\"] = \"/content/spark-2.4.5-bin-hadoop2.7\""
      ],
      "execution_count": 2,
      "outputs": [
        {
          "output_type": "stream",
          "text": [
            "Collecting pyspark\n",
            "\u001b[?25l  Downloading https://files.pythonhosted.org/packages/9a/5a/271c416c1c2185b6cb0151b29a91fff6fcaed80173c8584ff6d20e46b465/pyspark-2.4.5.tar.gz (217.8MB)\n",
            "\u001b[K     |████████████████████████████████| 217.8MB 59kB/s \n",
            "\u001b[?25hCollecting py4j==0.10.7\n",
            "\u001b[?25l  Downloading https://files.pythonhosted.org/packages/e3/53/c737818eb9a7dc32a7cd4f1396e787bd94200c3997c72c1dbe028587bd76/py4j-0.10.7-py2.py3-none-any.whl (197kB)\n",
            "\u001b[K     |████████████████████████████████| 204kB 46.9MB/s \n",
            "\u001b[?25hBuilding wheels for collected packages: pyspark\n",
            "  Building wheel for pyspark (setup.py) ... \u001b[?25l\u001b[?25hdone\n",
            "  Created wheel for pyspark: filename=pyspark-2.4.5-py2.py3-none-any.whl size=218257927 sha256=1203c62278b50a251ec0faa60d321d1dc6df4ca1ad456a0b9f02a8e041cddaa4\n",
            "  Stored in directory: /root/.cache/pip/wheels/bf/db/04/61d66a5939364e756eb1c1be4ec5bdce6e04047fc7929a3c3c\n",
            "Successfully built pyspark\n",
            "Installing collected packages: py4j, pyspark\n",
            "Successfully installed py4j-0.10.7 pyspark-2.4.5\n"
          ],
          "name": "stdout"
        }
      ]
    },
    {
      "cell_type": "markdown",
      "metadata": {
        "id": "EGOY7eTg1zjc",
        "colab_type": "text"
      },
      "source": [
        "Next, let's initialise a Spark Context(sc) if one does not already exist."
      ]
    },
    {
      "cell_type": "code",
      "metadata": {
        "id": "OGYBQUPn12bz",
        "colab_type": "code",
        "colab": {
          "base_uri": "https://localhost:8080/",
          "height": 34
        },
        "outputId": "a9661876-c9a3-4977-fdb6-0a4ee4dd1875"
      },
      "source": [
        "from pyspark import SparkConf, SparkContext\n",
        "\n",
        "try:\n",
        "    conf = SparkConf().setMaster('local').setAppName('My_App')\n",
        "    sc = SparkContext(conf=conf)\n",
        "    print('Spark Context Initialised Successfully')\n",
        "except Exception as e:\n",
        "    print(e)"
      ],
      "execution_count": 3,
      "outputs": [
        {
          "output_type": "stream",
          "text": [
            "Spark Context Initialised Successfully\n"
          ],
          "name": "stdout"
        }
      ]
    },
    {
      "cell_type": "code",
      "metadata": {
        "id": "QmsJp1NB2rrn",
        "colab_type": "code",
        "colab": {
          "base_uri": "https://localhost:8080/",
          "height": 191
        },
        "outputId": "83e42c24-59c0-44f6-8eba-1aa42604953b"
      },
      "source": [
        "# Lets see the SparkContext Objec\n",
        "sc"
      ],
      "execution_count": 4,
      "outputs": [
        {
          "output_type": "execute_result",
          "data": {
            "text/html": [
              "\n",
              "        <div>\n",
              "            <p><b>SparkContext</b></p>\n",
              "\n",
              "            <p><a href=\"http://7b3cee34695d:4040\">Spark UI</a></p>\n",
              "\n",
              "            <dl>\n",
              "              <dt>Version</dt>\n",
              "                <dd><code>v2.4.5</code></dd>\n",
              "              <dt>Master</dt>\n",
              "                <dd><code>local</code></dd>\n",
              "              <dt>AppName</dt>\n",
              "                <dd><code>My_App</code></dd>\n",
              "            </dl>\n",
              "        </div>\n",
              "        "
            ],
            "text/plain": [
              "<SparkContext master=local appName=My_App>"
            ]
          },
          "metadata": {
            "tags": []
          },
          "execution_count": 4
        }
      ]
    },
    {
      "cell_type": "markdown",
      "metadata": {
        "id": "LG8lXVcQ2pDS",
        "colab_type": "text"
      },
      "source": [
        "Next, let's create our Spark session wherein we will perform parallelized activities through the Spark context."
      ]
    },
    {
      "cell_type": "code",
      "metadata": {
        "id": "IfzvcDmm3EIP",
        "colab_type": "code",
        "colab": {
          "base_uri": "https://localhost:8080/",
          "height": 214
        },
        "outputId": "a892b561-6efb-43aa-b506-3bf548f0e04e"
      },
      "source": [
        "from pyspark.sql import SparkSession\n",
        "spark = SparkSession.builder.appName('My_App').getOrCreate()\n",
        "spark"
      ],
      "execution_count": 5,
      "outputs": [
        {
          "output_type": "execute_result",
          "data": {
            "text/html": [
              "\n",
              "            <div>\n",
              "                <p><b>SparkSession - in-memory</b></p>\n",
              "                \n",
              "        <div>\n",
              "            <p><b>SparkContext</b></p>\n",
              "\n",
              "            <p><a href=\"http://7b3cee34695d:4040\">Spark UI</a></p>\n",
              "\n",
              "            <dl>\n",
              "              <dt>Version</dt>\n",
              "                <dd><code>v2.4.5</code></dd>\n",
              "              <dt>Master</dt>\n",
              "                <dd><code>local</code></dd>\n",
              "              <dt>AppName</dt>\n",
              "                <dd><code>My_App</code></dd>\n",
              "            </dl>\n",
              "        </div>\n",
              "        \n",
              "            </div>\n",
              "        "
            ],
            "text/plain": [
              "<pyspark.sql.session.SparkSession at 0x7f1e7f085fd0>"
            ]
          },
          "metadata": {
            "tags": []
          },
          "execution_count": 5
        }
      ]
    },
    {
      "cell_type": "markdown",
      "metadata": {
        "id": "WPHSxZ9y3gJR",
        "colab_type": "text"
      },
      "source": [
        "For this notebook, let's create an sqlContext object too"
      ]
    },
    {
      "cell_type": "code",
      "metadata": {
        "id": "TsxdEyIwTZd0",
        "colab_type": "code",
        "outputId": "89352d9c-0154-46ce-996b-5645a04a4372",
        "colab": {
          "base_uri": "https://localhost:8080/",
          "height": 34
        }
      },
      "source": [
        "from pyspark.sql import SQLContext\n",
        "sqlContext = SQLContext(sc)\n",
        "sqlContext"
      ],
      "execution_count": 6,
      "outputs": [
        {
          "output_type": "execute_result",
          "data": {
            "text/plain": [
              "<pyspark.sql.context.SQLContext at 0x7f1e7e82a748>"
            ]
          },
          "metadata": {
            "tags": []
          },
          "execution_count": 6
        }
      ]
    },
    {
      "cell_type": "markdown",
      "metadata": {
        "id": "CIE-_SkOTZd4",
        "colab_type": "text"
      },
      "source": [
        "<a id=\"download\"></a>\n",
        "### 1.2 Download the data file\n",
        "\n",
        "You'll download a JSON file with data about world banks from GitHub. The data is adapted from this data set: <a href=\"http://data.worldbank.org/data-catalog/projects-portfolio\" target=\"_blank\" rel=\"noopener noreferrer\">http://data.worldbank.org/data-catalog/projects-portfolio</a>.\n",
        "\n",
        "Remove any files with the same name as the file that you're going to download and then download the file from a URL:"
      ]
    },
    {
      "cell_type": "code",
      "metadata": {
        "id": "qKTwGxVuTZd5",
        "colab_type": "code",
        "outputId": "a936217b-b0e4-49d8-9f6b-7cbbd8f29b49",
        "colab": {
          "base_uri": "https://localhost:8080/",
          "height": 202
        }
      },
      "source": [
        "!rm world_bank.json.gz -f\n",
        "!wget https://raw.githubusercontent.com/bradenrc/sparksql_pot/master/world_bank.json.gz"
      ],
      "execution_count": 7,
      "outputs": [
        {
          "output_type": "stream",
          "text": [
            "--2020-02-17 16:22:59--  https://raw.githubusercontent.com/bradenrc/sparksql_pot/master/world_bank.json.gz\n",
            "Resolving raw.githubusercontent.com (raw.githubusercontent.com)... 151.101.0.133, 151.101.64.133, 151.101.128.133, ...\n",
            "Connecting to raw.githubusercontent.com (raw.githubusercontent.com)|151.101.0.133|:443... connected.\n",
            "HTTP request sent, awaiting response... 200 OK\n",
            "Length: 446287 (436K) [application/octet-stream]\n",
            "Saving to: ‘world_bank.json.gz’\n",
            "\n",
            "\rworld_bank.json.gz    0%[                    ]       0  --.-KB/s               \rworld_bank.json.gz  100%[===================>] 435.83K  --.-KB/s    in 0.03s   \n",
            "\n",
            "2020-02-17 16:22:59 (12.2 MB/s) - ‘world_bank.json.gz’ saved [446287/446287]\n",
            "\n"
          ],
          "name": "stdout"
        }
      ]
    },
    {
      "cell_type": "markdown",
      "metadata": {
        "id": "BNp75nObTZd8",
        "colab_type": "text"
      },
      "source": [
        "<a id=\"createdf\"></a>\n",
        "### 1.3 Create a DataFrame \n",
        "\n",
        "Instead of creating an RDD to read the file, you'll create a Spark DataFrame. Unlike an RDD, a DataFrame creates a schema around the data, which supplies the necessary structure for SQL queries. A self-describing format like JSON is ideal for DataFrames, but many other file types are supported, including text (CSV) and Parquet.\n",
        "\n",
        "Create a DataFrame:"
      ]
    },
    {
      "cell_type": "code",
      "metadata": {
        "id": "lMGbM5oRTZd9",
        "colab_type": "code",
        "colab": {}
      },
      "source": [
        "example1_df = sqlContext.read.json(\"world_bank.json.gz\")"
      ],
      "execution_count": 0,
      "outputs": []
    },
    {
      "cell_type": "markdown",
      "metadata": {
        "id": "of91yPghTZd_",
        "colab_type": "text"
      },
      "source": [
        "Print the schema to see how Spark SQL inferred the shape of the data:"
      ]
    },
    {
      "cell_type": "code",
      "metadata": {
        "id": "bKqJCxvvTZeA",
        "colab_type": "code",
        "outputId": "c3451b54-5260-468e-d31b-4dadb5ce2920",
        "colab": {
          "base_uri": "https://localhost:8080/",
          "height": 1000
        }
      },
      "source": [
        "print (example1_df.printSchema())"
      ],
      "execution_count": 9,
      "outputs": [
        {
          "output_type": "stream",
          "text": [
            "root\n",
            " |-- _id: struct (nullable = true)\n",
            " |    |-- $oid: string (nullable = true)\n",
            " |-- approvalfy: string (nullable = true)\n",
            " |-- board_approval_month: string (nullable = true)\n",
            " |-- boardapprovaldate: string (nullable = true)\n",
            " |-- borrower: string (nullable = true)\n",
            " |-- closingdate: string (nullable = true)\n",
            " |-- country_namecode: string (nullable = true)\n",
            " |-- countrycode: string (nullable = true)\n",
            " |-- countryname: string (nullable = true)\n",
            " |-- countryshortname: string (nullable = true)\n",
            " |-- docty: string (nullable = true)\n",
            " |-- envassesmentcategorycode: string (nullable = true)\n",
            " |-- grantamt: long (nullable = true)\n",
            " |-- ibrdcommamt: long (nullable = true)\n",
            " |-- id: string (nullable = true)\n",
            " |-- idacommamt: long (nullable = true)\n",
            " |-- impagency: string (nullable = true)\n",
            " |-- lendinginstr: string (nullable = true)\n",
            " |-- lendinginstrtype: string (nullable = true)\n",
            " |-- lendprojectcost: long (nullable = true)\n",
            " |-- majorsector_percent: array (nullable = true)\n",
            " |    |-- element: struct (containsNull = true)\n",
            " |    |    |-- Name: string (nullable = true)\n",
            " |    |    |-- Percent: long (nullable = true)\n",
            " |-- mjsector_namecode: array (nullable = true)\n",
            " |    |-- element: struct (containsNull = true)\n",
            " |    |    |-- code: string (nullable = true)\n",
            " |    |    |-- name: string (nullable = true)\n",
            " |-- mjtheme: array (nullable = true)\n",
            " |    |-- element: string (containsNull = true)\n",
            " |-- mjtheme_namecode: array (nullable = true)\n",
            " |    |-- element: struct (containsNull = true)\n",
            " |    |    |-- code: string (nullable = true)\n",
            " |    |    |-- name: string (nullable = true)\n",
            " |-- mjthemecode: string (nullable = true)\n",
            " |-- prodline: string (nullable = true)\n",
            " |-- prodlinetext: string (nullable = true)\n",
            " |-- productlinetype: string (nullable = true)\n",
            " |-- project_abstract: struct (nullable = true)\n",
            " |    |-- cdata: string (nullable = true)\n",
            " |-- project_name: string (nullable = true)\n",
            " |-- projectdocs: array (nullable = true)\n",
            " |    |-- element: struct (containsNull = true)\n",
            " |    |    |-- DocDate: string (nullable = true)\n",
            " |    |    |-- DocType: string (nullable = true)\n",
            " |    |    |-- DocTypeDesc: string (nullable = true)\n",
            " |    |    |-- DocURL: string (nullable = true)\n",
            " |    |    |-- EntityID: string (nullable = true)\n",
            " |-- projectfinancialtype: string (nullable = true)\n",
            " |-- projectstatusdisplay: string (nullable = true)\n",
            " |-- regionname: string (nullable = true)\n",
            " |-- sector: array (nullable = true)\n",
            " |    |-- element: struct (containsNull = true)\n",
            " |    |    |-- Name: string (nullable = true)\n",
            " |-- sector1: struct (nullable = true)\n",
            " |    |-- Name: string (nullable = true)\n",
            " |    |-- Percent: long (nullable = true)\n",
            " |-- sector2: struct (nullable = true)\n",
            " |    |-- Name: string (nullable = true)\n",
            " |    |-- Percent: long (nullable = true)\n",
            " |-- sector3: struct (nullable = true)\n",
            " |    |-- Name: string (nullable = true)\n",
            " |    |-- Percent: long (nullable = true)\n",
            " |-- sector4: struct (nullable = true)\n",
            " |    |-- Name: string (nullable = true)\n",
            " |    |-- Percent: long (nullable = true)\n",
            " |-- sector_namecode: array (nullable = true)\n",
            " |    |-- element: struct (containsNull = true)\n",
            " |    |    |-- code: string (nullable = true)\n",
            " |    |    |-- name: string (nullable = true)\n",
            " |-- sectorcode: string (nullable = true)\n",
            " |-- source: string (nullable = true)\n",
            " |-- status: string (nullable = true)\n",
            " |-- supplementprojectflg: string (nullable = true)\n",
            " |-- theme1: struct (nullable = true)\n",
            " |    |-- Name: string (nullable = true)\n",
            " |    |-- Percent: long (nullable = true)\n",
            " |-- theme_namecode: array (nullable = true)\n",
            " |    |-- element: struct (containsNull = true)\n",
            " |    |    |-- code: string (nullable = true)\n",
            " |    |    |-- name: string (nullable = true)\n",
            " |-- themecode: string (nullable = true)\n",
            " |-- totalamt: long (nullable = true)\n",
            " |-- totalcommamt: long (nullable = true)\n",
            " |-- url: string (nullable = true)\n",
            "\n",
            "None\n"
          ],
          "name": "stdout"
        }
      ]
    },
    {
      "cell_type": "markdown",
      "metadata": {
        "id": "bCVx25dfTZeF",
        "colab_type": "text"
      },
      "source": [
        "Now look at the first two rows of data.\n",
        "\n",
        "You can run the simple command `print example1_df.take(2)`, however, for readability, run the following command to include a row of asterisks in between the data rows:"
      ]
    },
    {
      "cell_type": "code",
      "metadata": {
        "id": "8GzWo7hdTZeG",
        "colab_type": "code",
        "outputId": "18b916dc-1347-4970-e210-8bc8fdddd35d",
        "colab": {
          "base_uri": "https://localhost:8080/",
          "height": 104
        }
      },
      "source": [
        "for row in example1_df.take(2):\n",
        "    print (row)\n",
        "    print (\"*\" * 20)"
      ],
      "execution_count": 10,
      "outputs": [
        {
          "output_type": "stream",
          "text": [
            "Row(_id=Row($oid='52b213b38594d8a2be17c780'), approvalfy='1999', board_approval_month='November', boardapprovaldate='2013-11-12T00:00:00Z', borrower='FEDERAL DEMOCRATIC REPUBLIC OF ETHIOPIA', closingdate='2018-07-07T00:00:00Z', country_namecode='Federal Democratic Republic of Ethiopia!$!ET', countrycode='ET', countryname='Federal Democratic Republic of Ethiopia', countryshortname='Ethiopia', docty='Project Information Document,Indigenous Peoples Plan,Project Information Document', envassesmentcategorycode='C', grantamt=0, ibrdcommamt=0, id='P129828', idacommamt=130000000, impagency='MINISTRY OF EDUCATION', lendinginstr='Investment Project Financing', lendinginstrtype='IN', lendprojectcost=550000000, majorsector_percent=[Row(Name='Education', Percent=46), Row(Name='Education', Percent=26), Row(Name='Public Administration, Law, and Justice', Percent=16), Row(Name='Education', Percent=12)], mjsector_namecode=[Row(code='EX', name='Education'), Row(code='EX', name='Education'), Row(code='BX', name='Public Administration, Law, and Justice'), Row(code='EX', name='Education')], mjtheme=['Human development'], mjtheme_namecode=[Row(code='8', name='Human development'), Row(code='11', name='')], mjthemecode='8,11', prodline='PE', prodlinetext='IBRD/IDA', productlinetype='L', project_abstract=Row(cdata='The development objective of the Second Phase of General Education Quality Improvement Project for Ethiopia is to improve learning conditions in primary and secondary schools and strengthen institutions at different levels of educational administration. The project has six components. The first component is curriculum, textbooks, assessment, examinations, and inspection. This component will support improvement of learning conditions in grades KG-12 by providing increased access to teaching and learning materials and through improvements to the curriculum by assessing the strengths and weaknesses of the current curriculum. This component has following four sub-components: (i) curriculum reform and implementation; (ii) teaching and learning materials; (iii) assessment and examinations; and (iv) inspection. The second component is teacher development program (TDP). This component will support improvements in learning conditions in both primary and secondary schools by advancing the quality of teaching in general education through: (a) enhancing the training of pre-service teachers in teacher education institutions; and (b) improving the quality of in-service teacher training. This component has following three sub-components: (i) pre-service teacher training; (ii) in-service teacher training; and (iii) licensing and relicensing of teachers and school leaders. The third component is school improvement plan. This component will support the strengthening of school planning in order to improve learning outcomes, and to partly fund the school improvement plans through school grants. It has following two sub-components: (i) school improvement plan; and (ii) school grants. The fourth component is management and capacity building, including education management information systems (EMIS). This component will support management and capacity building aspect of the project. This component has following three sub-components: (i) capacity building for education planning and management; (ii) capacity building for school planning and management; and (iii) EMIS. The fifth component is improving the quality of learning and teaching in secondary schools and universities through the use of information and communications technology (ICT). It has following five sub-components: (i) national policy and institution for ICT in general education; (ii) national ICT infrastructure improvement plan for general education; (iii) develop an integrated monitoring, evaluation, and learning system specifically for the ICT component; (iv) teacher professional development in the use of ICT; and (v) provision of limited number of e-Braille display readers with the possibility to scale up to all secondary education schools based on the successful implementation and usage of the readers. The sixth component is program coordination, monitoring and evaluation, and communication. It will support institutional strengthening by developing capacities in all aspects of program coordination, monitoring and evaluation; a new sub-component on communications will support information sharing for better management and accountability. It has following three sub-components: (i) program coordination; (ii) monitoring and evaluation (M and E); and (iii) communication.'), project_name='Ethiopia General Education Quality Improvement Project II', projectdocs=[Row(DocDate='28-AUG-2013', DocType='PID', DocTypeDesc='Project Information Document (PID),  Vol.', DocURL='http://www-wds.worldbank.org/servlet/WDSServlet?pcont=details&eid=090224b081e545fb_1_0', EntityID='090224b081e545fb_1_0'), Row(DocDate='01-JUL-2013', DocType='IP', DocTypeDesc='Indigenous Peoples Plan (IP),  Vol.1 of 1', DocURL='http://www-wds.worldbank.org/servlet/WDSServlet?pcont=details&eid=000442464_20130920111729', EntityID='000442464_20130920111729'), Row(DocDate='22-NOV-2012', DocType='PID', DocTypeDesc='Project Information Document (PID),  Vol.', DocURL='http://www-wds.worldbank.org/servlet/WDSServlet?pcont=details&eid=090224b0817b19e2_1_0', EntityID='090224b0817b19e2_1_0')], projectfinancialtype='IDA', projectstatusdisplay='Active', regionname='Africa', sector=[Row(Name='Primary education'), Row(Name='Secondary education'), Row(Name='Public administration- Other social services'), Row(Name='Tertiary education')], sector1=Row(Name='Primary education', Percent=46), sector2=Row(Name='Secondary education', Percent=26), sector3=Row(Name='Public administration- Other social services', Percent=16), sector4=Row(Name='Tertiary education', Percent=12), sector_namecode=[Row(code='EP', name='Primary education'), Row(code='ES', name='Secondary education'), Row(code='BS', name='Public administration- Other social services'), Row(code='ET', name='Tertiary education')], sectorcode='ET,BS,ES,EP', source='IBRD', status='Active', supplementprojectflg='N', theme1=Row(Name='Education for all', Percent=100), theme_namecode=[Row(code='65', name='Education for all')], themecode='65', totalamt=130000000, totalcommamt=130000000, url='http://www.worldbank.org/projects/P129828/ethiopia-general-education-quality-improvement-project-ii?lang=en')\n",
            "********************\n",
            "Row(_id=Row($oid='52b213b38594d8a2be17c781'), approvalfy='2015', board_approval_month='November', boardapprovaldate='2013-11-04T00:00:00Z', borrower='GOVERNMENT OF TUNISIA', closingdate=None, country_namecode='Republic of Tunisia!$!TN', countrycode='TN', countryname='Republic of Tunisia', countryshortname='Tunisia', docty='Project Information Document,Integrated Safeguards Data Sheet,Integrated Safeguards Data Sheet,Project Information Document,Integrated Safeguards Data Sheet,Project Information Document', envassesmentcategorycode='C', grantamt=4700000, ibrdcommamt=0, id='P144674', idacommamt=0, impagency='MINISTRY OF FINANCE', lendinginstr='Specific Investment Loan', lendinginstrtype='IN', lendprojectcost=5700000, majorsector_percent=[Row(Name='Public Administration, Law, and Justice', Percent=70), Row(Name='Public Administration, Law, and Justice', Percent=30)], mjsector_namecode=[Row(code='BX', name='Public Administration, Law, and Justice'), Row(code='BX', name='Public Administration, Law, and Justice')], mjtheme=['Economic management', 'Social protection and risk management'], mjtheme_namecode=[Row(code='1', name='Economic management'), Row(code='6', name='Social protection and risk management')], mjthemecode='1,6', prodline='RE', prodlinetext='Recipient Executed Activities', productlinetype='L', project_abstract=None, project_name='TN: DTF Social Protection Reforms Support', projectdocs=[Row(DocDate='29-MAR-2013', DocType='PID', DocTypeDesc='Project Information Document (PID),  Vol.1 of 1', DocURL='http://www-wds.worldbank.org/servlet/WDSServlet?pcont=details&eid=000333037_20131024115616', EntityID='000333037_20131024115616'), Row(DocDate='29-MAR-2013', DocType='ISDS', DocTypeDesc='Integrated Safeguards Data Sheet (ISDS),  Vol.1 of 1', DocURL='http://www-wds.worldbank.org/servlet/WDSServlet?pcont=details&eid=000356161_20131024151611', EntityID='000356161_20131024151611'), Row(DocDate='29-MAR-2013', DocType='ISDS', DocTypeDesc='Integrated Safeguards Data Sheet (ISDS),  Vol.1 of 1', DocURL='http://www-wds.worldbank.org/servlet/WDSServlet?pcont=details&eid=000442464_20131031112136', EntityID='000442464_20131031112136'), Row(DocDate='29-MAR-2013', DocType='PID', DocTypeDesc='Project Information Document (PID),  Vol.1 of 1', DocURL='http://www-wds.worldbank.org/servlet/WDSServlet?pcont=details&eid=000333037_20131031105716', EntityID='000333037_20131031105716'), Row(DocDate='16-JAN-2013', DocType='ISDS', DocTypeDesc='Integrated Safeguards Data Sheet (ISDS),  Vol.1 of 1', DocURL='http://www-wds.worldbank.org/servlet/WDSServlet?pcont=details&eid=000356161_20130305113209', EntityID='000356161_20130305113209'), Row(DocDate='16-JAN-2013', DocType='PID', DocTypeDesc='Project Information Document (PID),  Vol.1 of 1', DocURL='http://www-wds.worldbank.org/servlet/WDSServlet?pcont=details&eid=000356161_20130305113716', EntityID='000356161_20130305113716')], projectfinancialtype='OTHER', projectstatusdisplay='Active', regionname='Middle East and North Africa', sector=[Row(Name='Public administration- Other social services'), Row(Name='General public administration sector')], sector1=Row(Name='Public administration- Other social services', Percent=70), sector2=Row(Name='General public administration sector', Percent=30), sector3=None, sector4=None, sector_namecode=[Row(code='BS', name='Public administration- Other social services'), Row(code='BZ', name='General public administration sector')], sectorcode='BZ,BS', source='IBRD', status='Active', supplementprojectflg='N', theme1=Row(Name='Other economic management', Percent=30), theme_namecode=[Row(code='24', name='Other economic management'), Row(code='54', name='Social safety nets')], themecode='54,24', totalamt=0, totalcommamt=4700000, url='http://www.worldbank.org/projects/P144674?lang=en')\n",
            "********************\n"
          ],
          "name": "stdout"
        }
      ]
    },
    {
      "cell_type": "markdown",
      "metadata": {
        "id": "mYsLHwanTZeJ",
        "colab_type": "text"
      },
      "source": [
        "<a id=\"createtab\"></a>\n",
        "### 1.4 Create a table \n",
        "\n",
        "SQL statements must be run against a table. Create a table that's a pointer to the DataFrame:"
      ]
    },
    {
      "cell_type": "code",
      "metadata": {
        "id": "fy9v3pCVTZeK",
        "colab_type": "code",
        "colab": {}
      },
      "source": [
        "example1_df.registerTempTable(\"world_bank\")"
      ],
      "execution_count": 0,
      "outputs": []
    },
    {
      "cell_type": "markdown",
      "metadata": {
        "id": "NPVkPXgwTZeM",
        "colab_type": "text"
      },
      "source": [
        "<a id=\"runsql\"></a>\n",
        "## 2. Run SQL queries\n",
        "\n",
        "You must define a new DataFrame for the results of the SQL query and put the SQL statement inside the `sqlContext.sql()` method.\n",
        "\n",
        "Run the following cell to select all columns from the table and print information about the resulting DataFrame and schema of the data:"
      ]
    },
    {
      "cell_type": "code",
      "metadata": {
        "id": "kx48B2FATZeN",
        "colab_type": "code",
        "outputId": "c77d6cbc-9f3a-412e-f1ba-8f8dc1632359",
        "colab": {
          "base_uri": "https://localhost:8080/",
          "height": 87
        }
      },
      "source": [
        "temp_df =  sqlContext.sql(\"select * from world_bank\")\n",
        "\n",
        "print (type(temp_df))\n",
        "print (\"*\" * 20)\n",
        "print (temp_df)"
      ],
      "execution_count": 12,
      "outputs": [
        {
          "output_type": "stream",
          "text": [
            "<class 'pyspark.sql.dataframe.DataFrame'>\n",
            "********************\n",
            "DataFrame[_id: struct<$oid:string>, approvalfy: string, board_approval_month: string, boardapprovaldate: string, borrower: string, closingdate: string, country_namecode: string, countrycode: string, countryname: string, countryshortname: string, docty: string, envassesmentcategorycode: string, grantamt: bigint, ibrdcommamt: bigint, id: string, idacommamt: bigint, impagency: string, lendinginstr: string, lendinginstrtype: string, lendprojectcost: bigint, majorsector_percent: array<struct<Name:string,Percent:bigint>>, mjsector_namecode: array<struct<code:string,name:string>>, mjtheme: array<string>, mjtheme_namecode: array<struct<code:string,name:string>>, mjthemecode: string, prodline: string, prodlinetext: string, productlinetype: string, project_abstract: struct<cdata:string>, project_name: string, projectdocs: array<struct<DocDate:string,DocType:string,DocTypeDesc:string,DocURL:string,EntityID:string>>, projectfinancialtype: string, projectstatusdisplay: string, regionname: string, sector: array<struct<Name:string>>, sector1: struct<Name:string,Percent:bigint>, sector2: struct<Name:string,Percent:bigint>, sector3: struct<Name:string,Percent:bigint>, sector4: struct<Name:string,Percent:bigint>, sector_namecode: array<struct<code:string,name:string>>, sectorcode: string, source: string, status: string, supplementprojectflg: string, theme1: struct<Name:string,Percent:bigint>, theme_namecode: array<struct<code:string,name:string>>, themecode: string, totalamt: bigint, totalcommamt: bigint, url: string]\n"
          ],
          "name": "stdout"
        }
      ]
    },
    {
      "cell_type": "markdown",
      "metadata": {
        "id": "i5x8ePyVTZeR",
        "colab_type": "text"
      },
      "source": [
        "The first `print` command shows that the DataFrame is a Spark DataFrame. The last `print` command shows the column names and data types of the DataFrame."
      ]
    },
    {
      "cell_type": "markdown",
      "metadata": {
        "id": "2D62BO4-TZeS",
        "colab_type": "text"
      },
      "source": [
        "<a id=\"pandas\"></a>\n",
        "### 2.1 Display query results with a pandas DataFrame\n",
        "The `print` command doesn't show the data in a useful format. Instead of creating a Spark DataFrame, use the pandas open-source data analytics library to create a pandas DataFrame that shows the data in a table. \n",
        "\n",
        "Import the pandas library and use the `.toPandas()` method to show the query results:"
      ]
    },
    {
      "cell_type": "code",
      "metadata": {
        "id": "CLcriPPaTZeU",
        "colab_type": "code",
        "outputId": "b4ad5da4-a8aa-40d3-9975-422d59f6bb65",
        "colab": {
          "base_uri": "https://localhost:8080/",
          "height": 106
        }
      },
      "source": [
        "import pandas as pd\n",
        "sqlContext.sql(\"select id, borrower from world_bank limit 2\").toPandas()"
      ],
      "execution_count": 49,
      "outputs": [
        {
          "output_type": "execute_result",
          "data": {
            "text/html": [
              "<div>\n",
              "<style scoped>\n",
              "    .dataframe tbody tr th:only-of-type {\n",
              "        vertical-align: middle;\n",
              "    }\n",
              "\n",
              "    .dataframe tbody tr th {\n",
              "        vertical-align: top;\n",
              "    }\n",
              "\n",
              "    .dataframe thead th {\n",
              "        text-align: right;\n",
              "    }\n",
              "</style>\n",
              "<table border=\"1\" class=\"dataframe\">\n",
              "  <thead>\n",
              "    <tr style=\"text-align: right;\">\n",
              "      <th></th>\n",
              "      <th>id</th>\n",
              "      <th>borrower</th>\n",
              "    </tr>\n",
              "  </thead>\n",
              "  <tbody>\n",
              "    <tr>\n",
              "      <th>0</th>\n",
              "      <td>P129828</td>\n",
              "      <td>FEDERAL DEMOCRATIC REPUBLIC OF ETHIOPIA</td>\n",
              "    </tr>\n",
              "    <tr>\n",
              "      <th>1</th>\n",
              "      <td>P144674</td>\n",
              "      <td>GOVERNMENT OF TUNISIA</td>\n",
              "    </tr>\n",
              "  </tbody>\n",
              "</table>\n",
              "</div>"
            ],
            "text/plain": [
              "        id                                 borrower\n",
              "0  P129828  FEDERAL DEMOCRATIC REPUBLIC OF ETHIOPIA\n",
              "1  P144674                    GOVERNMENT OF TUNISIA"
            ]
          },
          "metadata": {
            "tags": []
          },
          "execution_count": 49
        }
      ]
    },
    {
      "cell_type": "markdown",
      "metadata": {
        "id": "EOylxAa7TZeX",
        "colab_type": "text"
      },
      "source": [
        "<a id=\"groupby\"></a>\n",
        "### 2.2 Run a group by query\n",
        "\n",
        "You can make your SQL queries easier to read by using the `query` keyword and surrounding the SQL query with `\"\"\"` on separate lines. \n",
        "\n",
        "Calculate a count of projects by region:"
      ]
    },
    {
      "cell_type": "code",
      "metadata": {
        "id": "P0eqQoaDTZeY",
        "colab_type": "code",
        "outputId": "b5d6a101-d24c-45f0-fdf4-74a29b08046c",
        "colab": {
          "base_uri": "https://localhost:8080/",
          "height": 254
        }
      },
      "source": [
        "query = \"\"\"\n",
        "select\n",
        "    regionname ,\n",
        "    count(*) as project_count\n",
        "from world_bank\n",
        "group by regionname \n",
        "order by count(*) desc\n",
        "\"\"\"\n",
        "\n",
        "sqlContext.sql(query).toPandas()"
      ],
      "execution_count": 14,
      "outputs": [
        {
          "output_type": "execute_result",
          "data": {
            "text/html": [
              "<div>\n",
              "<style scoped>\n",
              "    .dataframe tbody tr th:only-of-type {\n",
              "        vertical-align: middle;\n",
              "    }\n",
              "\n",
              "    .dataframe tbody tr th {\n",
              "        vertical-align: top;\n",
              "    }\n",
              "\n",
              "    .dataframe thead th {\n",
              "        text-align: right;\n",
              "    }\n",
              "</style>\n",
              "<table border=\"1\" class=\"dataframe\">\n",
              "  <thead>\n",
              "    <tr style=\"text-align: right;\">\n",
              "      <th></th>\n",
              "      <th>regionname</th>\n",
              "      <th>project_count</th>\n",
              "    </tr>\n",
              "  </thead>\n",
              "  <tbody>\n",
              "    <tr>\n",
              "      <th>0</th>\n",
              "      <td>Africa</td>\n",
              "      <td>152</td>\n",
              "    </tr>\n",
              "    <tr>\n",
              "      <th>1</th>\n",
              "      <td>East Asia and Pacific</td>\n",
              "      <td>100</td>\n",
              "    </tr>\n",
              "    <tr>\n",
              "      <th>2</th>\n",
              "      <td>Europe and Central Asia</td>\n",
              "      <td>74</td>\n",
              "    </tr>\n",
              "    <tr>\n",
              "      <th>3</th>\n",
              "      <td>South Asia</td>\n",
              "      <td>65</td>\n",
              "    </tr>\n",
              "    <tr>\n",
              "      <th>4</th>\n",
              "      <td>Middle East and North Africa</td>\n",
              "      <td>54</td>\n",
              "    </tr>\n",
              "    <tr>\n",
              "      <th>5</th>\n",
              "      <td>Latin America and Caribbean</td>\n",
              "      <td>53</td>\n",
              "    </tr>\n",
              "    <tr>\n",
              "      <th>6</th>\n",
              "      <td>Other</td>\n",
              "      <td>2</td>\n",
              "    </tr>\n",
              "  </tbody>\n",
              "</table>\n",
              "</div>"
            ],
            "text/plain": [
              "                     regionname  project_count\n",
              "0                        Africa            152\n",
              "1         East Asia and Pacific            100\n",
              "2       Europe and Central Asia             74\n",
              "3                    South Asia             65\n",
              "4  Middle East and North Africa             54\n",
              "5   Latin America and Caribbean             53\n",
              "6                         Other              2"
            ]
          },
          "metadata": {
            "tags": []
          },
          "execution_count": 14
        }
      ]
    },
    {
      "cell_type": "markdown",
      "metadata": {
        "id": "IoRJlUD2TZel",
        "colab_type": "text"
      },
      "source": [
        "<a id=\"subselect\"></a>\n",
        "### 2.3 Run a subselect query\n",
        "You can run subselect queries.\n",
        "\n",
        "Calculate a count of projects by region again, but this time using a subselect:"
      ]
    },
    {
      "cell_type": "code",
      "metadata": {
        "id": "GbKpHnI0TZem",
        "colab_type": "code",
        "outputId": "e9afc3d7-94eb-46a5-e5b0-c702de627505",
        "colab": {
          "base_uri": "https://localhost:8080/",
          "height": 254
        }
      },
      "source": [
        "query = \"\"\"\n",
        "\n",
        "select * from\n",
        "    (select\n",
        "        regionname ,\n",
        "        count(*) as project_count\n",
        "    from world_bank\n",
        "    group by regionname \n",
        "    order by count(*) desc) table_alias\n",
        "\"\"\"\n",
        "\n",
        "sqlContext.sql(query).toPandas()"
      ],
      "execution_count": 50,
      "outputs": [
        {
          "output_type": "execute_result",
          "data": {
            "text/html": [
              "<div>\n",
              "<style scoped>\n",
              "    .dataframe tbody tr th:only-of-type {\n",
              "        vertical-align: middle;\n",
              "    }\n",
              "\n",
              "    .dataframe tbody tr th {\n",
              "        vertical-align: top;\n",
              "    }\n",
              "\n",
              "    .dataframe thead th {\n",
              "        text-align: right;\n",
              "    }\n",
              "</style>\n",
              "<table border=\"1\" class=\"dataframe\">\n",
              "  <thead>\n",
              "    <tr style=\"text-align: right;\">\n",
              "      <th></th>\n",
              "      <th>regionname</th>\n",
              "      <th>project_count</th>\n",
              "    </tr>\n",
              "  </thead>\n",
              "  <tbody>\n",
              "    <tr>\n",
              "      <th>0</th>\n",
              "      <td>Africa</td>\n",
              "      <td>152</td>\n",
              "    </tr>\n",
              "    <tr>\n",
              "      <th>1</th>\n",
              "      <td>East Asia and Pacific</td>\n",
              "      <td>100</td>\n",
              "    </tr>\n",
              "    <tr>\n",
              "      <th>2</th>\n",
              "      <td>Europe and Central Asia</td>\n",
              "      <td>74</td>\n",
              "    </tr>\n",
              "    <tr>\n",
              "      <th>3</th>\n",
              "      <td>South Asia</td>\n",
              "      <td>65</td>\n",
              "    </tr>\n",
              "    <tr>\n",
              "      <th>4</th>\n",
              "      <td>Middle East and North Africa</td>\n",
              "      <td>54</td>\n",
              "    </tr>\n",
              "    <tr>\n",
              "      <th>5</th>\n",
              "      <td>Latin America and Caribbean</td>\n",
              "      <td>53</td>\n",
              "    </tr>\n",
              "    <tr>\n",
              "      <th>6</th>\n",
              "      <td>Other</td>\n",
              "      <td>2</td>\n",
              "    </tr>\n",
              "  </tbody>\n",
              "</table>\n",
              "</div>"
            ],
            "text/plain": [
              "                     regionname  project_count\n",
              "0                        Africa            152\n",
              "1         East Asia and Pacific            100\n",
              "2       Europe and Central Asia             74\n",
              "3                    South Asia             65\n",
              "4  Middle East and North Africa             54\n",
              "5   Latin America and Caribbean             53\n",
              "6                         Other              2"
            ]
          },
          "metadata": {
            "tags": []
          },
          "execution_count": 50
        }
      ]
    },
    {
      "cell_type": "markdown",
      "metadata": {
        "id": "49fYvU4pTZeo",
        "colab_type": "text"
      },
      "source": [
        "<a id=\"nested\"></a>\n",
        "### 2.4 Return nested JSON field values\n",
        "With JSON data, you can select the values of nested fields with dot notation.\n",
        "\n",
        "Print the schema so that you can see that `sector.Name` is a nested field and then select its first two values:"
      ]
    },
    {
      "cell_type": "code",
      "metadata": {
        "id": "qPk6qTH0TZep",
        "colab_type": "code",
        "outputId": "6b335888-0b62-4713-92d9-01f0e570ff06",
        "colab": {
          "base_uri": "https://localhost:8080/",
          "height": 1000
        }
      },
      "source": [
        "example1_df.printSchema()\n",
        "\n",
        "sql = \"select sector.Name from world_bank limit 2\"\n",
        "sqlContext.sql(sql).show()"
      ],
      "execution_count": 16,
      "outputs": [
        {
          "output_type": "stream",
          "text": [
            "root\n",
            " |-- _id: struct (nullable = true)\n",
            " |    |-- $oid: string (nullable = true)\n",
            " |-- approvalfy: string (nullable = true)\n",
            " |-- board_approval_month: string (nullable = true)\n",
            " |-- boardapprovaldate: string (nullable = true)\n",
            " |-- borrower: string (nullable = true)\n",
            " |-- closingdate: string (nullable = true)\n",
            " |-- country_namecode: string (nullable = true)\n",
            " |-- countrycode: string (nullable = true)\n",
            " |-- countryname: string (nullable = true)\n",
            " |-- countryshortname: string (nullable = true)\n",
            " |-- docty: string (nullable = true)\n",
            " |-- envassesmentcategorycode: string (nullable = true)\n",
            " |-- grantamt: long (nullable = true)\n",
            " |-- ibrdcommamt: long (nullable = true)\n",
            " |-- id: string (nullable = true)\n",
            " |-- idacommamt: long (nullable = true)\n",
            " |-- impagency: string (nullable = true)\n",
            " |-- lendinginstr: string (nullable = true)\n",
            " |-- lendinginstrtype: string (nullable = true)\n",
            " |-- lendprojectcost: long (nullable = true)\n",
            " |-- majorsector_percent: array (nullable = true)\n",
            " |    |-- element: struct (containsNull = true)\n",
            " |    |    |-- Name: string (nullable = true)\n",
            " |    |    |-- Percent: long (nullable = true)\n",
            " |-- mjsector_namecode: array (nullable = true)\n",
            " |    |-- element: struct (containsNull = true)\n",
            " |    |    |-- code: string (nullable = true)\n",
            " |    |    |-- name: string (nullable = true)\n",
            " |-- mjtheme: array (nullable = true)\n",
            " |    |-- element: string (containsNull = true)\n",
            " |-- mjtheme_namecode: array (nullable = true)\n",
            " |    |-- element: struct (containsNull = true)\n",
            " |    |    |-- code: string (nullable = true)\n",
            " |    |    |-- name: string (nullable = true)\n",
            " |-- mjthemecode: string (nullable = true)\n",
            " |-- prodline: string (nullable = true)\n",
            " |-- prodlinetext: string (nullable = true)\n",
            " |-- productlinetype: string (nullable = true)\n",
            " |-- project_abstract: struct (nullable = true)\n",
            " |    |-- cdata: string (nullable = true)\n",
            " |-- project_name: string (nullable = true)\n",
            " |-- projectdocs: array (nullable = true)\n",
            " |    |-- element: struct (containsNull = true)\n",
            " |    |    |-- DocDate: string (nullable = true)\n",
            " |    |    |-- DocType: string (nullable = true)\n",
            " |    |    |-- DocTypeDesc: string (nullable = true)\n",
            " |    |    |-- DocURL: string (nullable = true)\n",
            " |    |    |-- EntityID: string (nullable = true)\n",
            " |-- projectfinancialtype: string (nullable = true)\n",
            " |-- projectstatusdisplay: string (nullable = true)\n",
            " |-- regionname: string (nullable = true)\n",
            " |-- sector: array (nullable = true)\n",
            " |    |-- element: struct (containsNull = true)\n",
            " |    |    |-- Name: string (nullable = true)\n",
            " |-- sector1: struct (nullable = true)\n",
            " |    |-- Name: string (nullable = true)\n",
            " |    |-- Percent: long (nullable = true)\n",
            " |-- sector2: struct (nullable = true)\n",
            " |    |-- Name: string (nullable = true)\n",
            " |    |-- Percent: long (nullable = true)\n",
            " |-- sector3: struct (nullable = true)\n",
            " |    |-- Name: string (nullable = true)\n",
            " |    |-- Percent: long (nullable = true)\n",
            " |-- sector4: struct (nullable = true)\n",
            " |    |-- Name: string (nullable = true)\n",
            " |    |-- Percent: long (nullable = true)\n",
            " |-- sector_namecode: array (nullable = true)\n",
            " |    |-- element: struct (containsNull = true)\n",
            " |    |    |-- code: string (nullable = true)\n",
            " |    |    |-- name: string (nullable = true)\n",
            " |-- sectorcode: string (nullable = true)\n",
            " |-- source: string (nullable = true)\n",
            " |-- status: string (nullable = true)\n",
            " |-- supplementprojectflg: string (nullable = true)\n",
            " |-- theme1: struct (nullable = true)\n",
            " |    |-- Name: string (nullable = true)\n",
            " |    |-- Percent: long (nullable = true)\n",
            " |-- theme_namecode: array (nullable = true)\n",
            " |    |-- element: struct (containsNull = true)\n",
            " |    |    |-- code: string (nullable = true)\n",
            " |    |    |-- name: string (nullable = true)\n",
            " |-- themecode: string (nullable = true)\n",
            " |-- totalamt: long (nullable = true)\n",
            " |-- totalcommamt: long (nullable = true)\n",
            " |-- url: string (nullable = true)\n",
            "\n",
            "+--------------------+\n",
            "|                Name|\n",
            "+--------------------+\n",
            "|[Primary educatio...|\n",
            "|[Public administr...|\n",
            "+--------------------+\n",
            "\n"
          ],
          "name": "stdout"
        }
      ]
    },
    {
      "cell_type": "markdown",
      "metadata": {
        "id": "zgy2oXM8TZet",
        "colab_type": "text"
      },
      "source": [
        "<a id=\"convertrdd\"></a>\n",
        "## 3. Convert RDDs to DataFrames\n",
        "If you want to run SQL queries on an existing RDD, you must convert the RDD to a DataFrame. The main difference between RDDs and DataFrames is whether the columns are named.\n",
        "\n",
        "You'll create an RDD and then convert it to a DataFrame in two different ways:\n",
        " - [Apply a schema](#apply)\n",
        " - [Create rows with named columns](#namedcol)"
      ]
    },
    {
      "cell_type": "markdown",
      "metadata": {
        "id": "8dUg9np1TZeu",
        "colab_type": "text"
      },
      "source": [
        "<a id=\"simplerdd\"></a>\n",
        "### 3.1 Create a simple RDD\n",
        "You'll create a simple RDD with an ID column and two columns of random numbers.\n",
        "\n",
        "First create a Python list of lists:"
      ]
    },
    {
      "cell_type": "code",
      "metadata": {
        "id": "7QvcYoVKTZev",
        "colab_type": "code",
        "colab": {
          "base_uri": "https://localhost:8080/",
          "height": 101
        },
        "outputId": "cca8e6b7-4c30-4364-f501-50f94dcc10d5"
      },
      "source": [
        "import random\n",
        "\n",
        "data_e2 = []\n",
        "for x in range(1,6):\n",
        "    random_int = int(random.random() * 10)\n",
        "    print(random_int)\n",
        "    data_e2.append([x, random_int, random_int^2])"
      ],
      "execution_count": 17,
      "outputs": [
        {
          "output_type": "stream",
          "text": [
            "7\n",
            "6\n",
            "4\n",
            "1\n",
            "2\n"
          ],
          "name": "stdout"
        }
      ]
    },
    {
      "cell_type": "code",
      "metadata": {
        "id": "tJh5qDNi_ZpI",
        "colab_type": "code",
        "colab": {
          "base_uri": "https://localhost:8080/",
          "height": 34
        },
        "outputId": "88404d31-e435-4e3d-8218-65cc7c2077e4"
      },
      "source": [
        "data_e2"
      ],
      "execution_count": 51,
      "outputs": [
        {
          "output_type": "execute_result",
          "data": {
            "text/plain": [
              "[[1, 7, 5], [2, 6, 4], [3, 4, 6], [4, 1, 3], [5, 2, 0]]"
            ]
          },
          "metadata": {
            "tags": []
          },
          "execution_count": 51
        }
      ]
    },
    {
      "cell_type": "markdown",
      "metadata": {
        "id": "wFroSxm-TZey",
        "colab_type": "text"
      },
      "source": [
        "Now create the RDD:"
      ]
    },
    {
      "cell_type": "code",
      "metadata": {
        "id": "zoc5WTVZTZey",
        "colab_type": "code",
        "outputId": "fea39569-4f89-46b4-f06f-c2fb05f53350",
        "colab": {
          "base_uri": "https://localhost:8080/",
          "height": 34
        }
      },
      "source": [
        "rdd_example2 = sc.parallelize(data_e2)\n",
        "print (rdd_example2.collect())"
      ],
      "execution_count": 18,
      "outputs": [
        {
          "output_type": "stream",
          "text": [
            "[[1, 7, 5], [2, 6, 4], [3, 4, 6], [4, 1, 3], [5, 2, 0]]\n"
          ],
          "name": "stdout"
        }
      ]
    },
    {
      "cell_type": "markdown",
      "metadata": {
        "id": "FcGxe7iwTZe1",
        "colab_type": "text"
      },
      "source": [
        "<a id=\"apply\"></a>\n",
        "### 3.2 Apply a schema\n",
        "You'll use the `StructField` method to create a schema object that's based on a string, apply the schema to the RDD to create a DataFrame, and then create a table to run SQL queries on.\n",
        "\n",
        "Define your schema columns as a string:"
      ]
    },
    {
      "cell_type": "code",
      "metadata": {
        "id": "Lp1t2VT9TZe2",
        "colab_type": "code",
        "colab": {}
      },
      "source": [
        "from pyspark.sql.types import *\n",
        "\n",
        "schemaString = \"ID VAL1 VAL2\""
      ],
      "execution_count": 0,
      "outputs": []
    },
    {
      "cell_type": "markdown",
      "metadata": {
        "id": "Iw-Y72ehTZe5",
        "colab_type": "text"
      },
      "source": [
        "Assign header information with the `StructField` method and create the schema with the `StructType` method:"
      ]
    },
    {
      "cell_type": "code",
      "metadata": {
        "id": "sF8QSMh-TZe6",
        "colab_type": "code",
        "colab": {
          "base_uri": "https://localhost:8080/",
          "height": 34
        },
        "outputId": "17625669-207e-4f84-d7eb-124d4d854825"
      },
      "source": [
        "fields = [StructField(field_name, StringType(), True) for field_name in schemaString.split()]\n",
        "print(fields)\n",
        "schema = StructType(fields)"
      ],
      "execution_count": 52,
      "outputs": [
        {
          "output_type": "stream",
          "text": [
            "[StructField(ID,StringType,true), StructField(VAL1,StringType,true), StructField(VAL2,StringType,true)]\n"
          ],
          "name": "stdout"
        }
      ]
    },
    {
      "cell_type": "markdown",
      "metadata": {
        "id": "H_WuxUWATZe9",
        "colab_type": "text"
      },
      "source": [
        "Apply the schema to the RDD with the `createDataFrame` method:"
      ]
    },
    {
      "cell_type": "code",
      "metadata": {
        "id": "HR-k_aJtTZe-",
        "colab_type": "code",
        "colab": {}
      },
      "source": [
        "schemaExample = sqlContext.createDataFrame(rdd_example2, schema)"
      ],
      "execution_count": 0,
      "outputs": []
    },
    {
      "cell_type": "markdown",
      "metadata": {
        "id": "n7IwsqlYTZfB",
        "colab_type": "text"
      },
      "source": [
        "Register the DataFrame as a table:"
      ]
    },
    {
      "cell_type": "code",
      "metadata": {
        "id": "ZDyF28kuTZfC",
        "colab_type": "code",
        "colab": {}
      },
      "source": [
        "schemaExample.registerTempTable(\"example2\")"
      ],
      "execution_count": 0,
      "outputs": []
    },
    {
      "cell_type": "markdown",
      "metadata": {
        "id": "NIeaX3OYTZfF",
        "colab_type": "text"
      },
      "source": [
        "View the data:"
      ]
    },
    {
      "cell_type": "code",
      "metadata": {
        "id": "v6P9TaFlTZfH",
        "colab_type": "code",
        "outputId": "b220854a-55a2-44b8-b370-36b4834c9dec",
        "colab": {
          "base_uri": "https://localhost:8080/",
          "height": 34
        }
      },
      "source": [
        "print (schemaExample.collect())"
      ],
      "execution_count": 23,
      "outputs": [
        {
          "output_type": "stream",
          "text": [
            "[Row(ID='1', VAL1='7', VAL2='5'), Row(ID='2', VAL1='6', VAL2='4'), Row(ID='3', VAL1='4', VAL2='6'), Row(ID='4', VAL1='1', VAL2='3'), Row(ID='5', VAL1='2', VAL2='0')]\n"
          ],
          "name": "stdout"
        }
      ]
    },
    {
      "cell_type": "markdown",
      "metadata": {
        "id": "CWE5Hgq0TZfM",
        "colab_type": "text"
      },
      "source": [
        "You can reference the columns names in DataFrames:"
      ]
    },
    {
      "cell_type": "code",
      "metadata": {
        "id": "_Y1BmjMPTZfN",
        "colab_type": "code",
        "outputId": "481eb2ba-e604-42bf-c2ae-e54699d8490c",
        "colab": {
          "base_uri": "https://localhost:8080/",
          "height": 50
        }
      },
      "source": [
        "for row in schemaExample.take(2):\n",
        "    print (row.ID, row.VAL1, row.VAL2)"
      ],
      "execution_count": 24,
      "outputs": [
        {
          "output_type": "stream",
          "text": [
            "1 7 5\n",
            "2 6 4\n"
          ],
          "name": "stdout"
        }
      ]
    },
    {
      "cell_type": "markdown",
      "metadata": {
        "id": "vWfQKKeMTZfQ",
        "colab_type": "text"
      },
      "source": [
        "Run a simple SQL query:"
      ]
    },
    {
      "cell_type": "code",
      "metadata": {
        "id": "Mg9beC7KTZfQ",
        "colab_type": "code",
        "outputId": "82877d00-e6ac-4bf3-997d-2328876ae24e",
        "colab": {
          "base_uri": "https://localhost:8080/",
          "height": 195
        }
      },
      "source": [
        "sqlContext.sql(\"select * from example2\").toPandas()"
      ],
      "execution_count": 25,
      "outputs": [
        {
          "output_type": "execute_result",
          "data": {
            "text/html": [
              "<div>\n",
              "<style scoped>\n",
              "    .dataframe tbody tr th:only-of-type {\n",
              "        vertical-align: middle;\n",
              "    }\n",
              "\n",
              "    .dataframe tbody tr th {\n",
              "        vertical-align: top;\n",
              "    }\n",
              "\n",
              "    .dataframe thead th {\n",
              "        text-align: right;\n",
              "    }\n",
              "</style>\n",
              "<table border=\"1\" class=\"dataframe\">\n",
              "  <thead>\n",
              "    <tr style=\"text-align: right;\">\n",
              "      <th></th>\n",
              "      <th>ID</th>\n",
              "      <th>VAL1</th>\n",
              "      <th>VAL2</th>\n",
              "    </tr>\n",
              "  </thead>\n",
              "  <tbody>\n",
              "    <tr>\n",
              "      <th>0</th>\n",
              "      <td>1</td>\n",
              "      <td>7</td>\n",
              "      <td>5</td>\n",
              "    </tr>\n",
              "    <tr>\n",
              "      <th>1</th>\n",
              "      <td>2</td>\n",
              "      <td>6</td>\n",
              "      <td>4</td>\n",
              "    </tr>\n",
              "    <tr>\n",
              "      <th>2</th>\n",
              "      <td>3</td>\n",
              "      <td>4</td>\n",
              "      <td>6</td>\n",
              "    </tr>\n",
              "    <tr>\n",
              "      <th>3</th>\n",
              "      <td>4</td>\n",
              "      <td>1</td>\n",
              "      <td>3</td>\n",
              "    </tr>\n",
              "    <tr>\n",
              "      <th>4</th>\n",
              "      <td>5</td>\n",
              "      <td>2</td>\n",
              "      <td>0</td>\n",
              "    </tr>\n",
              "  </tbody>\n",
              "</table>\n",
              "</div>"
            ],
            "text/plain": [
              "  ID VAL1 VAL2\n",
              "0  1    7    5\n",
              "1  2    6    4\n",
              "2  3    4    6\n",
              "3  4    1    3\n",
              "4  5    2    0"
            ]
          },
          "metadata": {
            "tags": []
          },
          "execution_count": 25
        }
      ]
    },
    {
      "cell_type": "markdown",
      "metadata": {
        "id": "F-N5bUbgTZfU",
        "colab_type": "text"
      },
      "source": [
        "<a id=\"namedcol\"></a>\n",
        "### 3.3 Create rows with named columns\n",
        "You'll create an RDD with named columns and then convert it to a DataFrame and a table.\n",
        "\n",
        "Create a new RDD and specify the names of the columns with the `map` method:"
      ]
    },
    {
      "cell_type": "code",
      "metadata": {
        "id": "683P8iIWTZfU",
        "colab_type": "code",
        "outputId": "663dce00-add3-47a0-d5c1-865ae8343647",
        "colab": {
          "base_uri": "https://localhost:8080/",
          "height": 34
        }
      },
      "source": [
        "from pyspark.sql import Row\n",
        "\n",
        "rdd_example3 = rdd_example2.map(lambda x: Row(id=x[0], val1=x[1], val2=x[2]))\n",
        "\n",
        "print (rdd_example3.collect())                                                         "
      ],
      "execution_count": 26,
      "outputs": [
        {
          "output_type": "stream",
          "text": [
            "[Row(id=1, val1=7, val2=5), Row(id=2, val1=6, val2=4), Row(id=3, val1=4, val2=6), Row(id=4, val1=1, val2=3), Row(id=5, val1=2, val2=0)]\n"
          ],
          "name": "stdout"
        }
      ]
    },
    {
      "cell_type": "markdown",
      "metadata": {
        "id": "4CPj793OTZfY",
        "colab_type": "text"
      },
      "source": [
        "Convert `rdd_example3` to a DataFrame and register an associated table:"
      ]
    },
    {
      "cell_type": "code",
      "metadata": {
        "id": "7SBoUfjuTZfZ",
        "colab_type": "code",
        "colab": {}
      },
      "source": [
        "df_example3 = rdd_example3.toDF()\n",
        "df_example3.registerTempTable(\"example3\")"
      ],
      "execution_count": 0,
      "outputs": []
    },
    {
      "cell_type": "code",
      "metadata": {
        "id": "frT9hmabBM5Y",
        "colab_type": "code",
        "colab": {
          "base_uri": "https://localhost:8080/",
          "height": 34
        },
        "outputId": "f60a92a6-ac69-43ef-b340-38e84f7ffe22"
      },
      "source": [
        "# let's sees what kind of data frame is df_example3\n",
        "type(df_example3)"
      ],
      "execution_count": 53,
      "outputs": [
        {
          "output_type": "execute_result",
          "data": {
            "text/plain": [
              "pyspark.sql.dataframe.DataFrame"
            ]
          },
          "metadata": {
            "tags": []
          },
          "execution_count": 53
        }
      ]
    },
    {
      "cell_type": "markdown",
      "metadata": {
        "id": "PEmFzv38TZfd",
        "colab_type": "text"
      },
      "source": [
        "Run a simple SQL query:"
      ]
    },
    {
      "cell_type": "code",
      "metadata": {
        "id": "bJV3t3WtTZfd",
        "colab_type": "code",
        "outputId": "f78cc7f1-b8a2-4084-8bd9-efe4d80bc8aa",
        "colab": {
          "base_uri": "https://localhost:8080/",
          "height": 195
        }
      },
      "source": [
        "sqlContext.sql(\"select * from example3\").toPandas()"
      ],
      "execution_count": 28,
      "outputs": [
        {
          "output_type": "execute_result",
          "data": {
            "text/html": [
              "<div>\n",
              "<style scoped>\n",
              "    .dataframe tbody tr th:only-of-type {\n",
              "        vertical-align: middle;\n",
              "    }\n",
              "\n",
              "    .dataframe tbody tr th {\n",
              "        vertical-align: top;\n",
              "    }\n",
              "\n",
              "    .dataframe thead th {\n",
              "        text-align: right;\n",
              "    }\n",
              "</style>\n",
              "<table border=\"1\" class=\"dataframe\">\n",
              "  <thead>\n",
              "    <tr style=\"text-align: right;\">\n",
              "      <th></th>\n",
              "      <th>id</th>\n",
              "      <th>val1</th>\n",
              "      <th>val2</th>\n",
              "    </tr>\n",
              "  </thead>\n",
              "  <tbody>\n",
              "    <tr>\n",
              "      <th>0</th>\n",
              "      <td>1</td>\n",
              "      <td>7</td>\n",
              "      <td>5</td>\n",
              "    </tr>\n",
              "    <tr>\n",
              "      <th>1</th>\n",
              "      <td>2</td>\n",
              "      <td>6</td>\n",
              "      <td>4</td>\n",
              "    </tr>\n",
              "    <tr>\n",
              "      <th>2</th>\n",
              "      <td>3</td>\n",
              "      <td>4</td>\n",
              "      <td>6</td>\n",
              "    </tr>\n",
              "    <tr>\n",
              "      <th>3</th>\n",
              "      <td>4</td>\n",
              "      <td>1</td>\n",
              "      <td>3</td>\n",
              "    </tr>\n",
              "    <tr>\n",
              "      <th>4</th>\n",
              "      <td>5</td>\n",
              "      <td>2</td>\n",
              "      <td>0</td>\n",
              "    </tr>\n",
              "  </tbody>\n",
              "</table>\n",
              "</div>"
            ],
            "text/plain": [
              "   id  val1  val2\n",
              "0   1     7     5\n",
              "1   2     6     4\n",
              "2   3     4     6\n",
              "3   4     1     3\n",
              "4   5     2     0"
            ]
          },
          "metadata": {
            "tags": []
          },
          "execution_count": 28
        }
      ]
    },
    {
      "cell_type": "markdown",
      "metadata": {
        "id": "YJ3YUNPQTZfi",
        "colab_type": "text"
      },
      "source": [
        "<a id=\"join\"></a>\n",
        "### 3.4 Join tables\n",
        "You can join tables.\n",
        "\n",
        "Join tables `example2` and `example3` on the ID column:"
      ]
    },
    {
      "cell_type": "code",
      "metadata": {
        "id": "PvIWClRUTZfk",
        "colab_type": "code",
        "outputId": "cf851e80-fafb-4d8a-e3b4-f14a30b920c6",
        "colab": {
          "base_uri": "https://localhost:8080/",
          "height": 118
        }
      },
      "source": [
        "query = \"\"\"\n",
        "select\n",
        "    *\n",
        "from\n",
        "    example2 e2\n",
        "inner join example3 e3 on\n",
        "    e2.ID = e3.id\n",
        "\"\"\"\n",
        "\n",
        "print (sqlContext.sql(query).toPandas())"
      ],
      "execution_count": 29,
      "outputs": [
        {
          "output_type": "stream",
          "text": [
            "  ID VAL1 VAL2  id  val1  val2\n",
            "0  5    2    0   5     2     0\n",
            "1  1    7    5   1     7     5\n",
            "2  3    4    6   3     4     6\n",
            "3  2    6    4   2     6     4\n",
            "4  4    1    3   4     1     3\n"
          ],
          "name": "stdout"
        }
      ]
    },
    {
      "cell_type": "markdown",
      "metadata": {
        "id": "FL9B-0TzTZfm",
        "colab_type": "text"
      },
      "source": [
        "Alternatively, you can join DataFrames with a Python command instead of an SQL query:"
      ]
    },
    {
      "cell_type": "code",
      "metadata": {
        "id": "yMLZqZLITZfn",
        "colab_type": "code",
        "outputId": "0a2fab05-70b6-4ce2-a80e-c4865e185ba6",
        "colab": {
          "base_uri": "https://localhost:8080/",
          "height": 101
        }
      },
      "source": [
        "df_example4 = df_example3.join(schemaExample, schemaExample[\"ID\"] == df_example3[\"id\"] )\n",
        "\n",
        "for row in df_example4.take(5):\n",
        "    print (row)"
      ],
      "execution_count": 30,
      "outputs": [
        {
          "output_type": "stream",
          "text": [
            "Row(id=5, val1=2, val2=0, ID='5', VAL1='2', VAL2='0')\n",
            "Row(id=1, val1=7, val2=5, ID='1', VAL1='7', VAL2='5')\n",
            "Row(id=3, val1=4, val2=6, ID='3', VAL1='4', VAL2='6')\n",
            "Row(id=2, val1=6, val2=4, ID='2', VAL1='6', VAL2='4')\n",
            "Row(id=4, val1=1, val2=3, ID='4', VAL1='1', VAL2='3')\n"
          ],
          "name": "stdout"
        }
      ]
    },
    {
      "cell_type": "markdown",
      "metadata": {
        "id": "y4tSvsGjTZfs",
        "colab_type": "text"
      },
      "source": [
        "<a id=\"sqlfuncs\"></a>\n",
        "## 4. Create SQL functions \n",
        "You can create functions that run in SQL queries. \n",
        "\n",
        "First, create a Python function and test it:"
      ]
    },
    {
      "cell_type": "code",
      "metadata": {
        "id": "XljHycx1TZft",
        "colab_type": "code",
        "outputId": "99c0d8e7-38e1-45bc-cd74-d3d2e7adc801",
        "colab": {
          "base_uri": "https://localhost:8080/",
          "height": 34
        }
      },
      "source": [
        "def simple_function(v):\n",
        "    return int(v * 10)\n",
        "\n",
        "#test the function\n",
        "print (simple_function(3))"
      ],
      "execution_count": 31,
      "outputs": [
        {
          "output_type": "stream",
          "text": [
            "30\n"
          ],
          "name": "stdout"
        }
      ]
    },
    {
      "cell_type": "markdown",
      "metadata": {
        "id": "vNfEQu9BTZf0",
        "colab_type": "text"
      },
      "source": [
        "Next, register the function as an SQL function with the `registerFunction` method:"
      ]
    },
    {
      "cell_type": "code",
      "metadata": {
        "id": "72jO4BSUTZf3",
        "colab_type": "code",
        "outputId": "8e099571-4187-49c9-ff4c-c3d5d50ebaaf",
        "colab": {
          "base_uri": "https://localhost:8080/",
          "height": 34
        }
      },
      "source": [
        "sqlContext.registerFunction(\"simple_function\", simple_function)"
      ],
      "execution_count": 32,
      "outputs": [
        {
          "output_type": "execute_result",
          "data": {
            "text/plain": [
              "<function __main__.simple_function>"
            ]
          },
          "metadata": {
            "tags": []
          },
          "execution_count": 32
        }
      ]
    },
    {
      "cell_type": "markdown",
      "metadata": {
        "id": "bmTJ-vi3TZf8",
        "colab_type": "text"
      },
      "source": [
        "Now run the function in an SQL Statement:"
      ]
    },
    {
      "cell_type": "code",
      "metadata": {
        "id": "iXwadKkjTZf-",
        "colab_type": "code",
        "outputId": "84cca21c-9eb5-4f51-f5fb-56f5a7da4fbf",
        "colab": {
          "base_uri": "https://localhost:8080/",
          "height": 195
        }
      },
      "source": [
        "query = \"\"\"\n",
        "select\n",
        "    ID,\n",
        "    VAL1,\n",
        "    VAL2,\n",
        "    simple_function(VAL1) as s_VAL1,\n",
        "    simple_function(VAL2) as s_VAL2\n",
        "from\n",
        " example2\n",
        "\"\"\"\n",
        "sqlContext.sql(query).toPandas()"
      ],
      "execution_count": 33,
      "outputs": [
        {
          "output_type": "execute_result",
          "data": {
            "text/html": [
              "<div>\n",
              "<style scoped>\n",
              "    .dataframe tbody tr th:only-of-type {\n",
              "        vertical-align: middle;\n",
              "    }\n",
              "\n",
              "    .dataframe tbody tr th {\n",
              "        vertical-align: top;\n",
              "    }\n",
              "\n",
              "    .dataframe thead th {\n",
              "        text-align: right;\n",
              "    }\n",
              "</style>\n",
              "<table border=\"1\" class=\"dataframe\">\n",
              "  <thead>\n",
              "    <tr style=\"text-align: right;\">\n",
              "      <th></th>\n",
              "      <th>ID</th>\n",
              "      <th>VAL1</th>\n",
              "      <th>VAL2</th>\n",
              "      <th>s_VAL1</th>\n",
              "      <th>s_VAL2</th>\n",
              "    </tr>\n",
              "  </thead>\n",
              "  <tbody>\n",
              "    <tr>\n",
              "      <th>0</th>\n",
              "      <td>1</td>\n",
              "      <td>7</td>\n",
              "      <td>5</td>\n",
              "      <td>7777777777</td>\n",
              "      <td>5555555555</td>\n",
              "    </tr>\n",
              "    <tr>\n",
              "      <th>1</th>\n",
              "      <td>2</td>\n",
              "      <td>6</td>\n",
              "      <td>4</td>\n",
              "      <td>6666666666</td>\n",
              "      <td>4444444444</td>\n",
              "    </tr>\n",
              "    <tr>\n",
              "      <th>2</th>\n",
              "      <td>3</td>\n",
              "      <td>4</td>\n",
              "      <td>6</td>\n",
              "      <td>4444444444</td>\n",
              "      <td>6666666666</td>\n",
              "    </tr>\n",
              "    <tr>\n",
              "      <th>3</th>\n",
              "      <td>4</td>\n",
              "      <td>1</td>\n",
              "      <td>3</td>\n",
              "      <td>1111111111</td>\n",
              "      <td>3333333333</td>\n",
              "    </tr>\n",
              "    <tr>\n",
              "      <th>4</th>\n",
              "      <td>5</td>\n",
              "      <td>2</td>\n",
              "      <td>0</td>\n",
              "      <td>2222222222</td>\n",
              "      <td>0</td>\n",
              "    </tr>\n",
              "  </tbody>\n",
              "</table>\n",
              "</div>"
            ],
            "text/plain": [
              "  ID VAL1 VAL2      s_VAL1      s_VAL2\n",
              "0  1    7    5  7777777777  5555555555\n",
              "1  2    6    4  6666666666  4444444444\n",
              "2  3    4    6  4444444444  6666666666\n",
              "3  4    1    3  1111111111  3333333333\n",
              "4  5    2    0  2222222222           0"
            ]
          },
          "metadata": {
            "tags": []
          },
          "execution_count": 33
        }
      ]
    },
    {
      "cell_type": "markdown",
      "metadata": {
        "id": "lRwBI_4HTZgB",
        "colab_type": "text"
      },
      "source": [
        "The values in the VAL1 and VAL2 columns look like strings (10 characters instead of a number multiplied by 10). That's because string is the default data type for columns in Spark DataFrames.\n",
        "\n",
        "Cast the values in the VAL1 and VAL2 columns to integers: "
      ]
    },
    {
      "cell_type": "code",
      "metadata": {
        "id": "fOl2pdUATZgC",
        "colab_type": "code",
        "outputId": "9ba3a94c-ab42-47b7-cbd3-fcc5734d2524",
        "colab": {
          "base_uri": "https://localhost:8080/",
          "height": 195
        }
      },
      "source": [
        "query = \"\"\"\n",
        "select\n",
        "    ID,\n",
        "    VAL1,\n",
        "    VAL2,\n",
        "    simple_function(cast(VAL1 as int)) as s_VAL1,\n",
        "    simple_function(cast(VAL2 as int)) as s_VAL2\n",
        "from\n",
        " example2\n",
        "\"\"\"\n",
        "sqlContext.sql(query).toPandas()"
      ],
      "execution_count": 34,
      "outputs": [
        {
          "output_type": "execute_result",
          "data": {
            "text/html": [
              "<div>\n",
              "<style scoped>\n",
              "    .dataframe tbody tr th:only-of-type {\n",
              "        vertical-align: middle;\n",
              "    }\n",
              "\n",
              "    .dataframe tbody tr th {\n",
              "        vertical-align: top;\n",
              "    }\n",
              "\n",
              "    .dataframe thead th {\n",
              "        text-align: right;\n",
              "    }\n",
              "</style>\n",
              "<table border=\"1\" class=\"dataframe\">\n",
              "  <thead>\n",
              "    <tr style=\"text-align: right;\">\n",
              "      <th></th>\n",
              "      <th>ID</th>\n",
              "      <th>VAL1</th>\n",
              "      <th>VAL2</th>\n",
              "      <th>s_VAL1</th>\n",
              "      <th>s_VAL2</th>\n",
              "    </tr>\n",
              "  </thead>\n",
              "  <tbody>\n",
              "    <tr>\n",
              "      <th>0</th>\n",
              "      <td>1</td>\n",
              "      <td>7</td>\n",
              "      <td>5</td>\n",
              "      <td>70</td>\n",
              "      <td>50</td>\n",
              "    </tr>\n",
              "    <tr>\n",
              "      <th>1</th>\n",
              "      <td>2</td>\n",
              "      <td>6</td>\n",
              "      <td>4</td>\n",
              "      <td>60</td>\n",
              "      <td>40</td>\n",
              "    </tr>\n",
              "    <tr>\n",
              "      <th>2</th>\n",
              "      <td>3</td>\n",
              "      <td>4</td>\n",
              "      <td>6</td>\n",
              "      <td>40</td>\n",
              "      <td>60</td>\n",
              "    </tr>\n",
              "    <tr>\n",
              "      <th>3</th>\n",
              "      <td>4</td>\n",
              "      <td>1</td>\n",
              "      <td>3</td>\n",
              "      <td>10</td>\n",
              "      <td>30</td>\n",
              "    </tr>\n",
              "    <tr>\n",
              "      <th>4</th>\n",
              "      <td>5</td>\n",
              "      <td>2</td>\n",
              "      <td>0</td>\n",
              "      <td>20</td>\n",
              "      <td>0</td>\n",
              "    </tr>\n",
              "  </tbody>\n",
              "</table>\n",
              "</div>"
            ],
            "text/plain": [
              "  ID VAL1 VAL2 s_VAL1 s_VAL2\n",
              "0  1    7    5     70     50\n",
              "1  2    6    4     60     40\n",
              "2  3    4    6     40     60\n",
              "3  4    1    3     10     30\n",
              "4  5    2    0     20      0"
            ]
          },
          "metadata": {
            "tags": []
          },
          "execution_count": 34
        }
      ]
    },
    {
      "cell_type": "markdown",
      "metadata": {
        "id": "_73o1ZCNTZgI",
        "colab_type": "text"
      },
      "source": [
        "That looks better!"
      ]
    },
    {
      "cell_type": "markdown",
      "metadata": {
        "collapsed": true,
        "id": "IuDwiOQMTZgL",
        "colab_type": "text"
      },
      "source": [
        "<a id=\"sparkdf\"></a>\n",
        "## 5. Convert a pandas DataFrame to a Spark DataFrame\n",
        "Although pandas DataFrames display data in a friendlier format, Spark DataFrames can be faster and more scalable.\n",
        "\n",
        "You'll get a new data set, create a pandas DataFrame for it, and then convert the pandas DataFrame to a Spark DataFrame."
      ]
    },
    {
      "cell_type": "markdown",
      "metadata": {
        "id": "ee9hMDoATZgM",
        "colab_type": "text"
      },
      "source": [
        "<a id=\"ufo\"></a>\n",
        "### 5.1 Get a new data set\n",
        "Get a data set about anonymous outdoor equipment purchase data:"
      ]
    },
    {
      "cell_type": "code",
      "metadata": {
        "id": "TaJkdv7JTZgO",
        "colab_type": "code",
        "outputId": "ac91d454-011b-4d83-9a27-de73cfc0cad3",
        "colab": {
          "base_uri": "https://localhost:8080/",
          "height": 202
        }
      },
      "source": [
        "!rm GoSales_Tx.csv -f\n",
        "!wget https://raw.githubusercontent.com/pmservice/wml-sample-models/master/spark/product-line-prediction/data/GoSales_Tx.csv"
      ],
      "execution_count": 35,
      "outputs": [
        {
          "output_type": "stream",
          "text": [
            "--2020-02-17 16:23:25--  https://raw.githubusercontent.com/pmservice/wml-sample-models/master/spark/product-line-prediction/data/GoSales_Tx.csv\n",
            "Resolving raw.githubusercontent.com (raw.githubusercontent.com)... 151.101.0.133, 151.101.64.133, 151.101.128.133, ...\n",
            "Connecting to raw.githubusercontent.com (raw.githubusercontent.com)|151.101.0.133|:443... connected.\n",
            "HTTP request sent, awaiting response... 200 OK\n",
            "Length: 2470333 (2.4M) [text/plain]\n",
            "Saving to: ‘GoSales_Tx.csv’\n",
            "\n",
            "\rGoSales_Tx.csv        0%[                    ]       0  --.-KB/s               \rGoSales_Tx.csv      100%[===================>]   2.36M  --.-KB/s    in 0.1s    \n",
            "\n",
            "2020-02-17 16:23:25 (16.4 MB/s) - ‘GoSales_Tx.csv’ saved [2470333/2470333]\n",
            "\n"
          ],
          "name": "stdout"
        }
      ]
    },
    {
      "cell_type": "markdown",
      "metadata": {
        "id": "eCq7Me2PTZgU",
        "colab_type": "text"
      },
      "source": [
        "<a id=\"ufopandas\"></a>\n",
        "### 5.2 Create a pandas DataFrame\n",
        "Create a pandas DataFrame of the data set with the `read_csv` method:"
      ]
    },
    {
      "cell_type": "code",
      "metadata": {
        "id": "4FFyNJ9KTZgW",
        "colab_type": "code",
        "outputId": "69266d10-e248-4026-aed7-4ac32239f680",
        "colab": {
          "base_uri": "https://localhost:8080/",
          "height": 195
        }
      },
      "source": [
        "pandas_df = pd.read_csv(\"./GoSales_Tx.csv\")\n",
        "pandas_df.head()"
      ],
      "execution_count": 36,
      "outputs": [
        {
          "output_type": "execute_result",
          "data": {
            "text/html": [
              "<div>\n",
              "<style scoped>\n",
              "    .dataframe tbody tr th:only-of-type {\n",
              "        vertical-align: middle;\n",
              "    }\n",
              "\n",
              "    .dataframe tbody tr th {\n",
              "        vertical-align: top;\n",
              "    }\n",
              "\n",
              "    .dataframe thead th {\n",
              "        text-align: right;\n",
              "    }\n",
              "</style>\n",
              "<table border=\"1\" class=\"dataframe\">\n",
              "  <thead>\n",
              "    <tr style=\"text-align: right;\">\n",
              "      <th></th>\n",
              "      <th>GENDER</th>\n",
              "      <th>AGE</th>\n",
              "      <th>MARITAL_STATUS</th>\n",
              "      <th>PROFESSION</th>\n",
              "      <th>PRODUCT_LINE</th>\n",
              "    </tr>\n",
              "  </thead>\n",
              "  <tbody>\n",
              "    <tr>\n",
              "      <th>0</th>\n",
              "      <td>M</td>\n",
              "      <td>27</td>\n",
              "      <td>Single</td>\n",
              "      <td>Professional</td>\n",
              "      <td>Personal Accessories</td>\n",
              "    </tr>\n",
              "    <tr>\n",
              "      <th>1</th>\n",
              "      <td>F</td>\n",
              "      <td>39</td>\n",
              "      <td>Single</td>\n",
              "      <td>Executive</td>\n",
              "      <td>Personal Accessories</td>\n",
              "    </tr>\n",
              "    <tr>\n",
              "      <th>2</th>\n",
              "      <td>M</td>\n",
              "      <td>39</td>\n",
              "      <td>Married</td>\n",
              "      <td>Student</td>\n",
              "      <td>Mountaineering Equipment</td>\n",
              "    </tr>\n",
              "    <tr>\n",
              "      <th>3</th>\n",
              "      <td>F</td>\n",
              "      <td>56</td>\n",
              "      <td>Single</td>\n",
              "      <td>Hospitality</td>\n",
              "      <td>Personal Accessories</td>\n",
              "    </tr>\n",
              "    <tr>\n",
              "      <th>4</th>\n",
              "      <td>M</td>\n",
              "      <td>45</td>\n",
              "      <td>Married</td>\n",
              "      <td>Retired</td>\n",
              "      <td>Golf Equipment</td>\n",
              "    </tr>\n",
              "  </tbody>\n",
              "</table>\n",
              "</div>"
            ],
            "text/plain": [
              "  GENDER  AGE MARITAL_STATUS    PROFESSION              PRODUCT_LINE\n",
              "0      M   27         Single  Professional      Personal Accessories\n",
              "1      F   39         Single     Executive      Personal Accessories\n",
              "2      M   39        Married       Student  Mountaineering Equipment\n",
              "3      F   56         Single   Hospitality      Personal Accessories\n",
              "4      M   45        Married       Retired            Golf Equipment"
            ]
          },
          "metadata": {
            "tags": []
          },
          "execution_count": 36
        }
      ]
    },
    {
      "cell_type": "markdown",
      "metadata": {
        "id": "mrWGtikUTZgb",
        "colab_type": "text"
      },
      "source": [
        "<a id=\"sparkufo\"></a>\n",
        "### 5.3 Convert to a Spark DataFrame\n",
        "Convert the pandas DataFrame to a Spark DataFrame with the `createDataFrame` method. Remember using the `createDataFrame` method to convert an RDD to a Spark DataFrame?"
      ]
    },
    {
      "cell_type": "code",
      "metadata": {
        "id": "oxZl0c14TZgb",
        "colab_type": "code",
        "colab": {}
      },
      "source": [
        "spark_df = sqlContext.createDataFrame(pandas_df)"
      ],
      "execution_count": 0,
      "outputs": []
    },
    {
      "cell_type": "markdown",
      "metadata": {
        "id": "uSi8lgn6TZgg",
        "colab_type": "text"
      },
      "source": [
        "Print the first two rows:"
      ]
    },
    {
      "cell_type": "code",
      "metadata": {
        "id": "ryUlnqwrTZgh",
        "colab_type": "code",
        "outputId": "ff7b5e2b-aea8-4e37-c964-4962052bc2b5",
        "colab": {
          "base_uri": "https://localhost:8080/",
          "height": 151
        }
      },
      "source": [
        "spark_df.show(2)"
      ],
      "execution_count": 38,
      "outputs": [
        {
          "output_type": "stream",
          "text": [
            "+------+---+--------------+------------+--------------------+\n",
            "|GENDER|AGE|MARITAL_STATUS|  PROFESSION|        PRODUCT_LINE|\n",
            "+------+---+--------------+------------+--------------------+\n",
            "|     M| 27|        Single|Professional|Personal Accessories|\n",
            "|     F| 39|        Single|   Executive|Personal Accessories|\n",
            "+------+---+--------------+------------+--------------------+\n",
            "only showing top 2 rows\n",
            "\n"
          ],
          "name": "stdout"
        }
      ]
    },
    {
      "cell_type": "markdown",
      "metadata": {
        "id": "XsjQLNjgTZgm",
        "colab_type": "text"
      },
      "source": [
        "Register the Spark DataFrame as a table:"
      ]
    },
    {
      "cell_type": "code",
      "metadata": {
        "id": "V4whelBtTZgn",
        "colab_type": "code",
        "colab": {}
      },
      "source": [
        "spark_df.registerTempTable(\"gosales_tx\")"
      ],
      "execution_count": 0,
      "outputs": []
    },
    {
      "cell_type": "markdown",
      "metadata": {
        "id": "ikLgb3j4TZgq",
        "colab_type": "text"
      },
      "source": [
        "<a id=\"runufo\"></a>\n",
        "### 5.4 Run an SQL statement\n",
        "Now run an SQL statement to print the first 10 rows of the table:"
      ]
    },
    {
      "cell_type": "code",
      "metadata": {
        "id": "USRH4dXiTZgr",
        "colab_type": "code",
        "outputId": "cc96922e-50b0-4dbf-92ea-7728dc3b0530",
        "colab": {
          "base_uri": "https://localhost:8080/",
          "height": 54
        }
      },
      "source": [
        "print(sqlContext.sql(\"select * from gosales_tx limit 10\").collect())"
      ],
      "execution_count": 40,
      "outputs": [
        {
          "output_type": "stream",
          "text": [
            "[Row(GENDER='M', AGE=27, MARITAL_STATUS='Single', PROFESSION='Professional', PRODUCT_LINE='Personal Accessories'), Row(GENDER='F', AGE=39, MARITAL_STATUS='Single', PROFESSION='Executive', PRODUCT_LINE='Personal Accessories'), Row(GENDER='M', AGE=39, MARITAL_STATUS='Married', PROFESSION='Student', PRODUCT_LINE='Mountaineering Equipment'), Row(GENDER='F', AGE=56, MARITAL_STATUS='Single', PROFESSION='Hospitality', PRODUCT_LINE='Personal Accessories'), Row(GENDER='M', AGE=45, MARITAL_STATUS='Married', PROFESSION='Retired', PRODUCT_LINE='Golf Equipment'), Row(GENDER='M', AGE=45, MARITAL_STATUS='Married', PROFESSION='Retired', PRODUCT_LINE='Golf Equipment'), Row(GENDER='M', AGE=39, MARITAL_STATUS='Married', PROFESSION='Student', PRODUCT_LINE='Camping Equipment'), Row(GENDER='M', AGE=49, MARITAL_STATUS='Married', PROFESSION='Student', PRODUCT_LINE='Camping Equipment'), Row(GENDER='F', AGE=49, MARITAL_STATUS='Married', PROFESSION='Retired', PRODUCT_LINE='Outdoor Protection'), Row(GENDER='M', AGE=47, MARITAL_STATUS='Married', PROFESSION='Retired', PRODUCT_LINE='Golf Equipment')]\n"
          ],
          "name": "stdout"
        }
      ]
    },
    {
      "cell_type": "markdown",
      "metadata": {
        "id": "dO4LRLo5TZgt",
        "colab_type": "text"
      },
      "source": [
        "<a id=\"viz\"></a>\n",
        "## 6. Visualize data\n",
        "It's easy to create charts from pandas DataFrames. You'll use the matplotlib library to create graphs and the NumPy package for computing.\n",
        "\n",
        "Import the libraries and specify to show graphs inline:"
      ]
    },
    {
      "cell_type": "code",
      "metadata": {
        "id": "gm1Ul0aWTZgw",
        "colab_type": "code",
        "colab": {}
      },
      "source": [
        "%matplotlib inline \n",
        "import matplotlib.pyplot as plt\n",
        "import numpy as np"
      ],
      "execution_count": 0,
      "outputs": []
    },
    {
      "cell_type": "markdown",
      "metadata": {
        "id": "P-RHLqhhTZgy",
        "colab_type": "text"
      },
      "source": [
        "Convert the Spark DataFrame with outdoor equipment purchase data to a pandas DataFrame: "
      ]
    },
    {
      "cell_type": "code",
      "metadata": {
        "id": "tYcMryEATZgz",
        "colab_type": "code",
        "colab": {}
      },
      "source": [
        "sales_df = spark_df.toPandas()"
      ],
      "execution_count": 0,
      "outputs": []
    },
    {
      "cell_type": "markdown",
      "metadata": {
        "id": "J20Fte8PTZg1",
        "colab_type": "text"
      },
      "source": [
        "<a id=\"vizchart\"></a>\n",
        "### 6.1 Create a chart using Pandas\n",
        "\n",
        "To create a chart, you call the `plot()` method and specify the type of chart, the columns for the X and Y axes, and, optionally, the size of the chart. \n",
        "\n",
        "For more information about plotting pandas DataFrames, see <a href=\"http://pandas.pydata.org/pandas-docs/stable/visualization.html\" target=\"_blank\" rel=\"noopener noreferrer\">Visualization</a>.\n",
        "\n",
        "Create a bar chart 12\" wide by 5\" high that shows the number of each gender:"
      ]
    },
    {
      "cell_type": "code",
      "metadata": {
        "id": "k1J8GbtdTZg2",
        "colab_type": "code",
        "outputId": "b6ef0e78-fabf-4d41-eb63-b2d28a7faee2",
        "colab": {
          "base_uri": "https://localhost:8080/",
          "height": 195
        }
      },
      "source": [
        "sales_df.head()"
      ],
      "execution_count": 43,
      "outputs": [
        {
          "output_type": "execute_result",
          "data": {
            "text/html": [
              "<div>\n",
              "<style scoped>\n",
              "    .dataframe tbody tr th:only-of-type {\n",
              "        vertical-align: middle;\n",
              "    }\n",
              "\n",
              "    .dataframe tbody tr th {\n",
              "        vertical-align: top;\n",
              "    }\n",
              "\n",
              "    .dataframe thead th {\n",
              "        text-align: right;\n",
              "    }\n",
              "</style>\n",
              "<table border=\"1\" class=\"dataframe\">\n",
              "  <thead>\n",
              "    <tr style=\"text-align: right;\">\n",
              "      <th></th>\n",
              "      <th>GENDER</th>\n",
              "      <th>AGE</th>\n",
              "      <th>MARITAL_STATUS</th>\n",
              "      <th>PROFESSION</th>\n",
              "      <th>PRODUCT_LINE</th>\n",
              "    </tr>\n",
              "  </thead>\n",
              "  <tbody>\n",
              "    <tr>\n",
              "      <th>0</th>\n",
              "      <td>M</td>\n",
              "      <td>27</td>\n",
              "      <td>Single</td>\n",
              "      <td>Professional</td>\n",
              "      <td>Personal Accessories</td>\n",
              "    </tr>\n",
              "    <tr>\n",
              "      <th>1</th>\n",
              "      <td>F</td>\n",
              "      <td>39</td>\n",
              "      <td>Single</td>\n",
              "      <td>Executive</td>\n",
              "      <td>Personal Accessories</td>\n",
              "    </tr>\n",
              "    <tr>\n",
              "      <th>2</th>\n",
              "      <td>M</td>\n",
              "      <td>39</td>\n",
              "      <td>Married</td>\n",
              "      <td>Student</td>\n",
              "      <td>Mountaineering Equipment</td>\n",
              "    </tr>\n",
              "    <tr>\n",
              "      <th>3</th>\n",
              "      <td>F</td>\n",
              "      <td>56</td>\n",
              "      <td>Single</td>\n",
              "      <td>Hospitality</td>\n",
              "      <td>Personal Accessories</td>\n",
              "    </tr>\n",
              "    <tr>\n",
              "      <th>4</th>\n",
              "      <td>M</td>\n",
              "      <td>45</td>\n",
              "      <td>Married</td>\n",
              "      <td>Retired</td>\n",
              "      <td>Golf Equipment</td>\n",
              "    </tr>\n",
              "  </tbody>\n",
              "</table>\n",
              "</div>"
            ],
            "text/plain": [
              "  GENDER  AGE MARITAL_STATUS    PROFESSION              PRODUCT_LINE\n",
              "0      M   27         Single  Professional      Personal Accessories\n",
              "1      F   39         Single     Executive      Personal Accessories\n",
              "2      M   39        Married       Student  Mountaineering Equipment\n",
              "3      F   56         Single   Hospitality      Personal Accessories\n",
              "4      M   45        Married       Retired            Golf Equipment"
            ]
          },
          "metadata": {
            "tags": []
          },
          "execution_count": 43
        }
      ]
    },
    {
      "cell_type": "code",
      "metadata": {
        "id": "9FlIWUi1TZg4",
        "colab_type": "code",
        "outputId": "e9838ee2-759b-42f6-daf3-fa96356a979c",
        "colab": {
          "base_uri": "https://localhost:8080/",
          "height": 106
        }
      },
      "source": [
        "sales_df_plot = (sales_df[\"GENDER\"]     # Select the \"GENDER\" column.\n",
        "                .value_counts()         # Count the number of each gender.\n",
        "                .to_frame(\"Count\")      # Since value_counts() returns a Pandas Series, convert it into a Pandas DataFrame. Also, rename the \"GENDER\" column as \"Count\".\n",
        "                .rename_axis(\"GENDER\")  # Rename the \"index\" of the DataFrame - M/F - as \"GENDER\".\n",
        "                .reset_index())         # Create the \"GENDER\" column.\n",
        "sales_df_plot"
      ],
      "execution_count": 44,
      "outputs": [
        {
          "output_type": "execute_result",
          "data": {
            "text/html": [
              "<div>\n",
              "<style scoped>\n",
              "    .dataframe tbody tr th:only-of-type {\n",
              "        vertical-align: middle;\n",
              "    }\n",
              "\n",
              "    .dataframe tbody tr th {\n",
              "        vertical-align: top;\n",
              "    }\n",
              "\n",
              "    .dataframe thead th {\n",
              "        text-align: right;\n",
              "    }\n",
              "</style>\n",
              "<table border=\"1\" class=\"dataframe\">\n",
              "  <thead>\n",
              "    <tr style=\"text-align: right;\">\n",
              "      <th></th>\n",
              "      <th>GENDER</th>\n",
              "      <th>Count</th>\n",
              "    </tr>\n",
              "  </thead>\n",
              "  <tbody>\n",
              "    <tr>\n",
              "      <th>0</th>\n",
              "      <td>M</td>\n",
              "      <td>35748</td>\n",
              "    </tr>\n",
              "    <tr>\n",
              "      <th>1</th>\n",
              "      <td>F</td>\n",
              "      <td>24504</td>\n",
              "    </tr>\n",
              "  </tbody>\n",
              "</table>\n",
              "</div>"
            ],
            "text/plain": [
              "  GENDER  Count\n",
              "0      M  35748\n",
              "1      F  24504"
            ]
          },
          "metadata": {
            "tags": []
          },
          "execution_count": 44
        }
      ]
    },
    {
      "cell_type": "code",
      "metadata": {
        "id": "w3EcOtYcTZhC",
        "colab_type": "code",
        "outputId": "161c0e48-ce68-44a4-b587-c844c2f281bf",
        "colab": {
          "base_uri": "https://localhost:8080/",
          "height": 351
        }
      },
      "source": [
        "sales_df_plot.plot.bar(x=\"GENDER\", y=\"Count\", rot=0, figsize=(12, 5))  # Set the rot as 0 if you don't want the x ticks be 90 degrees rotated."
      ],
      "execution_count": 45,
      "outputs": [
        {
          "output_type": "execute_result",
          "data": {
            "text/plain": [
              "<matplotlib.axes._subplots.AxesSubplot at 0x7f1e7e76e2b0>"
            ]
          },
          "metadata": {
            "tags": []
          },
          "execution_count": 45
        },
        {
          "output_type": "display_data",
          "data": {
            "image/png": "[encoded data removed]",
            "text/plain": [
              "<Figure size 864x360 with 1 Axes>"
            ]
          },
          "metadata": {
            "tags": []
          }
        }
      ]
    },
    {
      "cell_type": "markdown",
      "metadata": {
        "id": "_WMrX0myTZhE",
        "colab_type": "text"
      },
      "source": [
        "<a id=\"vizagg\"></a>\n",
        "### 6.2 Aggregate the data\n",
        "\n",
        "You can do the equivalent job in the previous subsection in Spark by aggregating the data by `GENDER`. Here are a few of the ways that you can do that:\n",
        "\n",
        " - Run an SQL query on the GENDER column to output the count of the GENDER, and then run a group by operation on the GENDER.\n",
        " - Create a simple Python function to aggregate by GENDER, and then run the function in an SQL query.\n",
        " - Run the `map()` method on the Spark Dataframe to append a new column that contains the aggregated count by GENDER. \n",
        " - Run the `groupBy()` and `count()` methods on the Spark Dataframe. This is the method you'll use."
      ]
    },
    {
      "cell_type": "code",
      "metadata": {
        "id": "hxmRmi36TZhF",
        "colab_type": "code",
        "colab": {}
      },
      "source": [
        "gender_df = spark_df.groupBy(\"GENDER\").count()"
      ],
      "execution_count": 0,
      "outputs": []
    },
    {
      "cell_type": "markdown",
      "metadata": {
        "id": "3Qt2TrdQTZhH",
        "colab_type": "text"
      },
      "source": [
        "Check to verify that you get the expected results:"
      ]
    },
    {
      "cell_type": "code",
      "metadata": {
        "id": "cvXxlz8qTZhI",
        "colab_type": "code",
        "outputId": "f27d63ee-06bf-4287-d140-88104876e2d1",
        "colab": {
          "base_uri": "https://localhost:8080/",
          "height": 0
        }
      },
      "source": [
        "gender_df.show()"
      ],
      "execution_count": 47,
      "outputs": [
        {
          "output_type": "stream",
          "text": [
            "+------+-----+\n",
            "|GENDER|count|\n",
            "+------+-----+\n",
            "|     F|24504|\n",
            "|     M|35748|\n",
            "+------+-----+\n",
            "\n"
          ],
          "name": "stdout"
        }
      ]
    },
    {
      "cell_type": "markdown",
      "metadata": {
        "id": "EAP6CRTcTZhL",
        "colab_type": "text"
      },
      "source": [
        "<a id=\"vizchart2\"></a>\n",
        "### 6.3 Create a chart using Spark SQL\n",
        "\n",
        "Now, run an SQL query to group by `GENDER` and order by `GENDER`. Then, create a pandas DataFrame for the results and create a chart of the count of each gender."
      ]
    },
    {
      "cell_type": "code",
      "metadata": {
        "id": "csmNIRwnTZhM",
        "colab_type": "code",
        "outputId": "c2970665-c7f6-4cea-f966-f6829c43620f",
        "colab": {
          "base_uri": "https://localhost:8080/",
          "height": 0
        }
      },
      "source": [
        "query = \"\"\"\n",
        "select\n",
        "    GENDER,\n",
        "    count(GENDER) as Count\n",
        "from gosales_tx\n",
        "group by GENDER\n",
        "order by GENDER desc\n",
        "\"\"\"\n",
        "spark_gender_df = sqlContext.sql(query).toPandas()\n",
        "spark_gender_df.plot.bar(x=\"GENDER\", y=\"Count\", rot=0, figsize=(12, 5));"
      ],
      "execution_count": 48,
      "outputs": [
        {
          "output_type": "display_data",
          "data": {
            "image/png": "[encoded data removed]",
            "text/plain": [
              "<Figure size 864x360 with 1 Axes>"
            ]
          },
          "metadata": {
            "tags": []
          }
        }
      ]
    },
    {
      "cell_type": "markdown",
      "metadata": {
        "id": "RBpXLtPTTZhO",
        "colab_type": "text"
      },
      "source": [
        "Now you have a chart that is equivalent of the one in section [6.1 Create a chart](#vizchart)."
      ]
    },
    {
      "cell_type": "markdown",
      "metadata": {
        "collapsed": true,
        "id": "UxVzN7_rTZhO",
        "colab_type": "text"
      },
      "source": [
        "<a id=\"nextsteps\"></a>\n",
        "## 7. Summary and next steps\n",
        "You've learned how to create DataFrames, convert between DataFrame types, and convert from RDDs. You know how to run SQL queries and create SQL functions. And you can visualize the data in charts. \n",
        "\n",
        "Go to the next notebook in this series: <a href=\"https://dataplatform.cloud.ibm.com/exchange/public/entry/view/5ad1c820f57809ddec9a040e37b4af08\" target=\"_blank\" rel=\"noopener noreferrer\">Introduction to Spark lab, part 3: Machine learning</a>.\n",
        "\n",
        "Dig deeper:\n",
        " - <a href=\"http://spark.apache.org/documentation.html\" target=\"_blank\" rel=\"noopener noreferrer\">Apache Spark documentation</a>\n",
        " - <a href=\"http://spark.apache.org/docs/latest/api/python/pyspark.html\" target=\"_blank\" rel=\"noopener noreferrer\">PySpark documentation</a>\n",
        " - <a href=\"http://pandas.pydata.org/pandas-docs/stable/index.html\" target=\"_blank\" rel=\"noopener noreferrer\">pandas</a>\n",
        " - <a href=\"http://matplotlib.org/\" target=\"_blank\" rel=\"noopener noreferrer\">matplotlib</a>\n",
        " - <a href=\"http://www.numpy.org/\" target=\"_blank\" rel=\"noopener noreferrer\">NumPy</a>"
      ]
    },
    {
      "cell_type": "markdown",
      "metadata": {
        "id": "tTIuT8DjTZhP",
        "colab_type": "text"
      },
      "source": [
        "### Authors\n",
        "Carlo Appugliese is a Spark and Hadoop evangelist at IBM.<br>\n",
        "Braden Callahan is a Big Data Technical Specialist for IBM.<br>\n",
        "Ross Lewis is a Big Data Technical Sales Specialist for IBM.<br>\n",
        "Mokhtar Kandil is a World Wide Big Data Technical Specialist for IBM.\n",
        "\n",
        "### Data citation\n",
        "\n",
        "The World Bank: Projects & Operations "
      ]
    },
    {
      "cell_type": "markdown",
      "metadata": {
        "collapsed": true,
        "id": "S7hbp3CkTZhP",
        "colab_type": "text"
      },
      "source": [
        "<hr>\n",
        "Copyright &copy; IBM Corp. 2017-2019. This notebook and its source code are released under the terms of the MIT License."
      ]
    },
    {
      "cell_type": "markdown",
      "metadata": {
        "id": "zBV4KBLhTZhQ",
        "colab_type": "text"
      },
      "source": [
        "<div style=\"background:#F5F7FA; height:110px; padding: 2em; font-size:14px;\">\n",
        "<span style=\"font-size:18px;color:#152935;\">Love this notebook? </span>\n",
        "<span style=\"font-size:15px;color:#152935;float:right;margin-right:40px;\">Don't have an account yet?</span><br>\n",
        "<span style=\"color:#5A6872;\">Share it with your colleagues and help them discover the power of Watson Studio!</span>\n",
        "<span style=\"border: 1px solid #3d70b2;padding:8px;float:right;margin-right:40px; color:#3d70b2;\"><a href=\"https://ibm.co/wsnotebooks\" target=\"_blank\" style=\"color: #3d70b2;text-decoration: none;\">Sign Up</a></span><br>\n",
        "</div>"
      ]
    }
  ]
}