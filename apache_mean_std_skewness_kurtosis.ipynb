{
  "nbformat": 4,
  "nbformat_minor": 0,
  "metadata": {
    "kernelspec": {
      "name": "python36",
      "display_name": "Python 3.6 with Spark",
      "language": "python3"
    },
    "language_info": {
      "mimetype": "text/x-python",
      "nbconvert_exporter": "python",
      "name": "python",
      "pygments_lexer": "ipython3",
      "version": "3.6.8",
      "file_extension": ".py",
      "codemirror_mode": {
        "version": 3,
        "name": "ipython"
      }
    },
    "colab": {
      "name": "apache_mean_std_skewness_kurtosis.ipynb",
      "provenance": [],
      "collapsed_sections": [
        "TkULQdmOoaoq",
        "XTgABhNQoaot",
        "HO9_WBMJoao7",
        "LBBeuY56oao8",
        "b_w8slRFoapS"
      ],
      "include_colab_link": true
    }
  },
  "cells": [
    {
      "cell_type": "markdown",
      "metadata": {
        "id": "view-in-github",
        "colab_type": "text"
      },
      "source": [
        "<a href=\"https://colab.research.google.com/github/Blackman9t/Advanced-Data-Science/blob/master/apache_mean_std_skewness_kurtosis.ipynb\" target=\"_parent\"><img src=\"https://colab.research.google.com/assets/colab-badge.svg\" alt=\"Open In Colab\"/></a>"
      ]
    },
    {
      "cell_type": "markdown",
      "metadata": {
        "id": "0ixRNvPQoanZ",
        "colab_type": "text"
      },
      "source": [
        "### We shall study some statistical moments in this notebook. These are:-\n",
        "\n",
        "1. Mean<br>\n",
        "2. Standard Deviation<br>\n",
        "3. Skewness<br>\n",
        "4. Kurtosis"
      ]
    },
    {
      "cell_type": "markdown",
      "metadata": {
        "id": "cQgCNh4poand",
        "colab_type": "text"
      },
      "source": [
        "**Note:**\n",
        "\n",
        "Esc + M changes a code cell to markdown cell<br>\n",
        "Esc + Y changes the markdown cell to code cell.\n",
        "    "
      ]
    },
    {
      "cell_type": "code",
      "metadata": {
        "id": "gzkPnAw4ovj_",
        "colab_type": "code",
        "outputId": "f017a66e-5620-44bf-8d39-33e5d4253bb6",
        "colab": {
          "base_uri": "https://localhost:8080/",
          "height": 235
        }
      },
      "source": [
        "!apt-get install openjdk-8-jdk-headless -qq > /dev/null\n",
        "!wget -q http://apache.osuosl.org/spark/spark-2.4.5/spark-2.4.5-bin-hadoop2.7.tgz\n",
        "!tar xf spark-2.4.5-bin-hadoop2.7.tgz\n",
        "\n",
        "!pip install -q findspark\n",
        "!pip install pyspark\n",
        "# Set up required environment variables\n",
        "\n",
        "import os\n",
        "os.environ[\"JAVA_HOME\"] = \"/usr/lib/jvm/java-8-openjdk-amd64\"\n",
        "os.environ[\"SPARK_HOME\"] = \"/content/spark-2.4.5-bin-hadoop2.7\""
      ],
      "execution_count": 1,
      "outputs": [
        {
          "output_type": "stream",
          "text": [
            "Collecting pyspark\n",
            "\u001b[?25l  Downloading https://files.pythonhosted.org/packages/9a/5a/271c416c1c2185b6cb0151b29a91fff6fcaed80173c8584ff6d20e46b465/pyspark-2.4.5.tar.gz (217.8MB)\n",
            "\u001b[K     |████████████████████████████████| 217.8MB 61kB/s \n",
            "\u001b[?25hCollecting py4j==0.10.7\n",
            "\u001b[?25l  Downloading https://files.pythonhosted.org/packages/e3/53/c737818eb9a7dc32a7cd4f1396e787bd94200c3997c72c1dbe028587bd76/py4j-0.10.7-py2.py3-none-any.whl (197kB)\n",
            "\u001b[K     |████████████████████████████████| 204kB 48.4MB/s \n",
            "\u001b[?25hBuilding wheels for collected packages: pyspark\n",
            "  Building wheel for pyspark (setup.py) ... \u001b[?25l\u001b[?25hdone\n",
            "  Created wheel for pyspark: filename=pyspark-2.4.5-py2.py3-none-any.whl size=218257927 sha256=bab2d1b5713fea40943f880b82d979b9114bef024dfc1dabc49fe0965f13fa3e\n",
            "  Stored in directory: /root/.cache/pip/wheels/bf/db/04/61d66a5939364e756eb1c1be4ec5bdce6e04047fc7929a3c3c\n",
            "Successfully built pyspark\n",
            "Installing collected packages: py4j, pyspark\n",
            "Successfully installed py4j-0.10.7 pyspark-2.4.5\n"
          ],
          "name": "stdout"
        }
      ]
    },
    {
      "cell_type": "code",
      "metadata": {
        "id": "paIs31nXo4w8",
        "colab_type": "code",
        "outputId": "1063ff6f-e9ee-42d2-8c93-79e5d214314f",
        "colab": {
          "base_uri": "https://localhost:8080/",
          "height": 34
        }
      },
      "source": [
        "from pyspark import SparkConf, SparkContext\n",
        "try:\n",
        "    conf = SparkConf().setMaster(\"local\").setAppName(\"My App\")\n",
        "    sc = SparkContext(conf = conf)\n",
        "    print('SparkContext Initialised Successfully!')\n",
        "except Exception as e:\n",
        "    print(e)"
      ],
      "execution_count": 2,
      "outputs": [
        {
          "output_type": "stream",
          "text": [
            "SparkContext Initialised Successfully!\n"
          ],
          "name": "stdout"
        }
      ]
    },
    {
      "cell_type": "code",
      "metadata": {
        "id": "IZZGh-k9oanl",
        "colab_type": "code",
        "outputId": "ec67167a-d393-4642-b168-ecf7d1092075",
        "colab": {
          "base_uri": "https://localhost:8080/",
          "height": 191
        }
      },
      "source": [
        "sc"
      ],
      "execution_count": 3,
      "outputs": [
        {
          "output_type": "execute_result",
          "data": {
            "text/html": [
              "\n",
              "        <div>\n",
              "            <p><b>SparkContext</b></p>\n",
              "\n",
              "            <p><a href=\"http://9bfb3cde9cad:4040\">Spark UI</a></p>\n",
              "\n",
              "            <dl>\n",
              "              <dt>Version</dt>\n",
              "                <dd><code>v2.4.5</code></dd>\n",
              "              <dt>Master</dt>\n",
              "                <dd><code>local</code></dd>\n",
              "              <dt>AppName</dt>\n",
              "                <dd><code>My App</code></dd>\n",
              "            </dl>\n",
              "        </div>\n",
              "        "
            ],
            "text/plain": [
              "<SparkContext master=local appName=My App>"
            ]
          },
          "metadata": {
            "tags": []
          },
          "execution_count": 3
        }
      ]
    },
    {
      "cell_type": "code",
      "metadata": {
        "id": "WGr5RXTDpAdg",
        "colab_type": "code",
        "outputId": "e1aa8bf3-0282-4b14-c3db-857c2f8f8f7f",
        "colab": {
          "base_uri": "https://localhost:8080/",
          "height": 214
        }
      },
      "source": [
        "# Next we set up a SparkSession\n",
        "from pyspark.sql import SparkSession\n",
        "spark = SparkSession.builder.appName('My App').getOrCreate()\n",
        "spark"
      ],
      "execution_count": 4,
      "outputs": [
        {
          "output_type": "execute_result",
          "data": {
            "text/html": [
              "\n",
              "            <div>\n",
              "                <p><b>SparkSession - in-memory</b></p>\n",
              "                \n",
              "        <div>\n",
              "            <p><b>SparkContext</b></p>\n",
              "\n",
              "            <p><a href=\"http://9bfb3cde9cad:4040\">Spark UI</a></p>\n",
              "\n",
              "            <dl>\n",
              "              <dt>Version</dt>\n",
              "                <dd><code>v2.4.5</code></dd>\n",
              "              <dt>Master</dt>\n",
              "                <dd><code>local</code></dd>\n",
              "              <dt>AppName</dt>\n",
              "                <dd><code>My App</code></dd>\n",
              "            </dl>\n",
              "        </div>\n",
              "        \n",
              "            </div>\n",
              "        "
            ],
            "text/plain": [
              "<pyspark.sql.session.SparkSession at 0x7f04d9858b00>"
            ]
          },
          "metadata": {
            "tags": []
          },
          "execution_count": 4
        }
      ]
    },
    {
      "cell_type": "markdown",
      "metadata": {
        "id": "47zfz7K4oann",
        "colab_type": "text"
      },
      "source": [
        "**The 1st Statistical Moment...**"
      ]
    },
    {
      "cell_type": "markdown",
      "metadata": {
        "id": "h76yfvJ4oano",
        "colab_type": "text"
      },
      "source": [
        "### Let's calculate the mean of a range of numbers"
      ]
    },
    {
      "cell_type": "code",
      "metadata": {
        "id": "rFBsKKl7oanp",
        "colab_type": "code",
        "outputId": "43637d59-1917-4b0a-da9f-ef00ba97eef6",
        "colab": {
          "base_uri": "https://localhost:8080/",
          "height": 34
        }
      },
      "source": [
        "rdd = sc.parallelize(range(100))\n",
        "n = float(rdd.count())\n",
        "summ = rdd.sum()\n",
        "mean = summ / float(n)\n",
        "print(mean)"
      ],
      "execution_count": 5,
      "outputs": [
        {
          "output_type": "stream",
          "text": [
            "49.5\n"
          ],
          "name": "stdout"
        }
      ]
    },
    {
      "cell_type": "markdown",
      "metadata": {
        "id": "hNic8ImGoanr",
        "colab_type": "text"
      },
      "source": [
        "**The 2nd Statistical Moment...**"
      ]
    },
    {
      "cell_type": "markdown",
      "metadata": {
        "id": "DyeiVeqDoanr",
        "colab_type": "text"
      },
      "source": [
        "### Knowing the mean, let's calculate the standard deviation(std)"
      ]
    },
    {
      "cell_type": "code",
      "metadata": {
        "id": "qVQKdq1toans",
        "colab_type": "code",
        "outputId": "755ad18f-abca-4c09-c0b6-bf39cfa5f215",
        "colab": {
          "base_uri": "https://localhost:8080/",
          "height": 34
        }
      },
      "source": [
        "std = ((rdd.map(lambda x: (x - mean)**2).sum())/n)**0.5\n",
        "std"
      ],
      "execution_count": 6,
      "outputs": [
        {
          "output_type": "execute_result",
          "data": {
            "text/plain": [
              "28.86607004772212"
            ]
          },
          "metadata": {
            "tags": []
          },
          "execution_count": 6
        }
      ]
    },
    {
      "cell_type": "markdown",
      "metadata": {
        "id": "Vbx9X6gDoanu",
        "colab_type": "text"
      },
      "source": [
        "### Let's increase the number range and see what happens to the mean and std"
      ]
    },
    {
      "cell_type": "code",
      "metadata": {
        "id": "ZvinXs4doanv",
        "colab_type": "code",
        "outputId": "187605e4-6f45-4b5d-9b50-dee8bc92907f",
        "colab": {
          "base_uri": "https://localhost:8080/",
          "height": 34
        }
      },
      "source": [
        "# First calculate the mean\n",
        "rdd = sc.parallelize([49] * 100 + [100])\n",
        "n = rdd.count()\n",
        "summ = rdd.sum()\n",
        "mean = summ / n\n",
        "print(mean)"
      ],
      "execution_count": 7,
      "outputs": [
        {
          "output_type": "stream",
          "text": [
            "49.504950495049506\n"
          ],
          "name": "stdout"
        }
      ]
    },
    {
      "cell_type": "code",
      "metadata": {
        "id": "gfaRcbekoanx",
        "colab_type": "code",
        "outputId": "a7d4a0b1-8117-4c83-8880-7333b980a87f",
        "colab": {
          "base_uri": "https://localhost:8080/",
          "height": 34
        }
      },
      "source": [
        "std = ((rdd.map(lambda x: (x - mean)**2).sum())/n)**0.5\n",
        "std"
      ],
      "execution_count": 8,
      "outputs": [
        {
          "output_type": "execute_result",
          "data": {
            "text/plain": [
              "5.0495049504950495"
            ]
          },
          "metadata": {
            "tags": []
          },
          "execution_count": 8
        }
      ]
    },
    {
      "cell_type": "markdown",
      "metadata": {
        "id": "AJKVLxCNoanz",
        "colab_type": "text"
      },
      "source": [
        "We can see that the mean stays the same relatvely, unlike the std which has changed to 5.0.<br>\n",
        "Thus the mean is more resistant to effects of outliers in a data, although the median is the most outlier resistant measure of central tendency.\n",
        "\n",
        "Note that **variance** is simply just the square of the _standard deviation._"
      ]
    },
    {
      "cell_type": "markdown",
      "metadata": {
        "id": "WSxb-oO0oanz",
        "colab_type": "text"
      },
      "source": [
        "What's the mean of the list below"
      ]
    },
    {
      "cell_type": "code",
      "metadata": {
        "id": "JbHtyXtkoan0",
        "colab_type": "code",
        "outputId": "97ae22ac-6a67-4684-8a4d-a713039029a9",
        "colab": {
          "base_uri": "https://localhost:8080/",
          "height": 50
        }
      },
      "source": [
        "x = [1,2,4,5,34,1,32,4,34,2,1,3]\n",
        "x = sc.parallelize(x)\n",
        "summ = x.sum()\n",
        "print(summ)\n",
        "mean = summ / float(x.count())\n",
        "mean"
      ],
      "execution_count": 9,
      "outputs": [
        {
          "output_type": "stream",
          "text": [
            "123\n"
          ],
          "name": "stdout"
        },
        {
          "output_type": "execute_result",
          "data": {
            "text/plain": [
              "10.25"
            ]
          },
          "metadata": {
            "tags": []
          },
          "execution_count": 9
        }
      ]
    },
    {
      "cell_type": "markdown",
      "metadata": {
        "id": "9zjrfSK8oan6",
        "colab_type": "text"
      },
      "source": [
        "What's the median of the list below"
      ]
    },
    {
      "cell_type": "code",
      "metadata": {
        "id": "ncfxK_Nfoan7",
        "colab_type": "code",
        "outputId": "7bb1cdc9-3748-4b3c-9f99-8a609e3da803",
        "colab": {
          "base_uri": "https://localhost:8080/",
          "height": 101
        }
      },
      "source": [
        "x = [1,2,4,5,34,1,32,4,34,2,1,3]\n",
        "x = sorted(x)\n",
        "print(x)\n",
        "if len(x) % 2 == 0:\n",
        "    print('Even List')\n",
        "    upper_ind = len(x) // 2\n",
        "    lower_ind = (len(x) // 2) - 1\n",
        "    print(x[lower_ind])\n",
        "    print(x[upper_ind])\n",
        "    median = (x[upper_ind] + x[lower_ind]) / 2.0\n",
        "    print(median)\n",
        "else:\n",
        "    print(\"Odd List\")\n",
        "    index = len(x) // 2\n",
        "    median = x[index]\n",
        "    print(median)"
      ],
      "execution_count": 10,
      "outputs": [
        {
          "output_type": "stream",
          "text": [
            "[1, 1, 1, 2, 2, 3, 4, 4, 5, 32, 34, 34]\n",
            "Even List\n",
            "3\n",
            "4\n",
            "3.5\n"
          ],
          "name": "stdout"
        }
      ]
    },
    {
      "cell_type": "markdown",
      "metadata": {
        "id": "tsgH7BKQoan9",
        "colab_type": "text"
      },
      "source": [
        "What's the standard deviation of these numbers"
      ]
    },
    {
      "cell_type": "code",
      "metadata": {
        "id": "ePrfTvRooan-",
        "colab_type": "code",
        "colab": {}
      },
      "source": [
        "x = [34,1,23,4,3,3,12,4,3,1]"
      ],
      "execution_count": 0,
      "outputs": []
    },
    {
      "cell_type": "code",
      "metadata": {
        "id": "6_gY0Yc6oaoA",
        "colab_type": "code",
        "outputId": "db525fa2-cedb-4cbd-d9bf-908bf07f1a69",
        "colab": {
          "base_uri": "https://localhost:8080/",
          "height": 34
        }
      },
      "source": [
        "# First calculate the mean\n",
        "rdd = sc.parallelize(x)\n",
        "n = rdd.count()\n",
        "summ = rdd.sum()\n",
        "mean = summ / float(n)\n",
        "print(mean)"
      ],
      "execution_count": 12,
      "outputs": [
        {
          "output_type": "stream",
          "text": [
            "8.8\n"
          ],
          "name": "stdout"
        }
      ]
    },
    {
      "cell_type": "code",
      "metadata": {
        "id": "KBo4_FmLoaoD",
        "colab_type": "code",
        "outputId": "37352623-fbba-40de-a522-1162dab9e90c",
        "colab": {
          "base_uri": "https://localhost:8080/",
          "height": 34
        }
      },
      "source": [
        "std = ((rdd.map(lambda j: (j - mean)**2).sum())/n)**0.5\n",
        "std"
      ],
      "execution_count": 13,
      "outputs": [
        {
          "output_type": "execute_result",
          "data": {
            "text/plain": [
              "10.562196741208714"
            ]
          },
          "metadata": {
            "tags": []
          },
          "execution_count": 13
        }
      ]
    },
    {
      "cell_type": "markdown",
      "metadata": {
        "id": "bMrY6PVNoaoG",
        "colab_type": "text"
      },
      "source": [
        "**The 3rd Statistical moment...**"
      ]
    },
    {
      "cell_type": "markdown",
      "metadata": {
        "id": "aL2a56XJoaoG",
        "colab_type": "text"
      },
      "source": [
        "**Skewness:**\n",
        "\n",
        "This basically tells us how asymmetrical the data is spread around the mean. if the histogram has a tail, we have a skew.<br>\n",
        "If the skew is on the right, it's positively skewed and left is negatively skewed. skew tells us about the asymmetry but not the shape.<br>\n",
        "Note that incase we have a long-tailed thin left skew and a short-tail thick right skew, they might cancel out and we optain a value close to zero for skewness.<br>\n",
        "So it is always wise to plot your data as well as calculate statistical moments.\n",
        "<img src='https://github.com/Blackman9t/Coursera_Capstone/blob/master/skewness.png?raw=true' width=800 height=800 alt='Skewness_formula'>"
      ]
    },
    {
      "cell_type": "code",
      "metadata": {
        "id": "xRSlj1AioaoH",
        "colab_type": "code",
        "outputId": "ff757c49-2233-45ea-8189-f0abd6ec7df4",
        "colab": {
          "base_uri": "https://localhost:8080/",
          "height": 34
        }
      },
      "source": [
        "# Let's calculate the mean of a range of numbers\n",
        "rdd = sc.parallelize(range(100))\n",
        "n = rdd.count()\n",
        "summ = rdd.sum()\n",
        "mean = summ / float(n)\n",
        "print(mean)"
      ],
      "execution_count": 36,
      "outputs": [
        {
          "output_type": "stream",
          "text": [
            "49.5\n"
          ],
          "name": "stdout"
        }
      ]
    },
    {
      "cell_type": "code",
      "metadata": {
        "id": "Qw1XUxuPoaoJ",
        "colab_type": "code",
        "outputId": "a0246025-6f7e-4c77-8abd-cf7593ee9a6c",
        "colab": {
          "base_uri": "https://localhost:8080/",
          "height": 34
        }
      },
      "source": [
        "# Let's calculate the Standard-deviation, now that we know the mean\n",
        "# first let's calculate the Variance, which is the square of the Standard-deviation\n",
        "\n",
        "variance = (rdd.map(lambda x:pow(x-mean,2)).sum()/n)\n",
        "variance"
      ],
      "execution_count": 37,
      "outputs": [
        {
          "output_type": "execute_result",
          "data": {
            "text/plain": [
              "833.25"
            ]
          },
          "metadata": {
            "tags": []
          },
          "execution_count": 37
        }
      ]
    },
    {
      "cell_type": "code",
      "metadata": {
        "id": "CG16tA-7oaoL",
        "colab_type": "code",
        "outputId": "cb6ef66d-9a0c-4e52-a47e-b8d82a46cab7",
        "colab": {
          "base_uri": "https://localhost:8080/",
          "height": 34
        }
      },
      "source": [
        "# Now to calculate the Standard-deviation, let's simply get the square-root of the variance\n",
        "std = pow(variance, 0.5)\n",
        "std"
      ],
      "execution_count": 38,
      "outputs": [
        {
          "output_type": "execute_result",
          "data": {
            "text/plain": [
              "28.86607004772212"
            ]
          },
          "metadata": {
            "tags": []
          },
          "execution_count": 38
        }
      ]
    },
    {
      "cell_type": "markdown",
      "metadata": {
        "id": "ehrxAgRooaoQ",
        "colab_type": "text"
      },
      "source": [
        "Now that we have the number of items(n), and the mean, the variance and standard deviation, let's calculate the skewness."
      ]
    },
    {
      "cell_type": "code",
      "metadata": {
        "id": "vzuK6-tFoaoQ",
        "colab_type": "code",
        "colab": {
          "base_uri": "https://localhost:8080/",
          "height": 34
        },
        "outputId": "b02a8556-b24d-48a5-bcf5-7bbfcd005121"
      },
      "source": [
        "skewness00 = rdd.map(lambda x: pow(x - mean, 3) / pow(std, 3)).sum()\n",
        "skewness00"
      ],
      "execution_count": 39,
      "outputs": [
        {
          "output_type": "execute_result",
          "data": {
            "text/plain": [
              "6.217248937900877e-15"
            ]
          },
          "metadata": {
            "tags": []
          },
          "execution_count": 39
        }
      ]
    },
    {
      "cell_type": "markdown",
      "metadata": {
        "id": "JLpyCksKoaoT",
        "colab_type": "text"
      },
      "source": [
        "Now let's normalise the skewness of these values of numbers"
      ]
    },
    {
      "cell_type": "code",
      "metadata": {
        "id": "c6_AYgvMoaoX",
        "colab_type": "code",
        "outputId": "43184764-b0be-4131-815d-5901f974563c",
        "colab": {
          "base_uri": "https://localhost:8080/",
          "height": 34
        }
      },
      "source": [
        "skewness = (1/n) * skewness00\n",
        "skewness"
      ],
      "execution_count": 40,
      "outputs": [
        {
          "output_type": "execute_result",
          "data": {
            "text/plain": [
              "6.217248937900877e-17"
            ]
          },
          "metadata": {
            "tags": []
          },
          "execution_count": 40
        }
      ]
    },
    {
      "cell_type": "markdown",
      "metadata": {
        "id": "bd6jYsG5oaoc",
        "colab_type": "text"
      },
      "source": [
        "**The 4th Statistical moment...**"
      ]
    },
    {
      "cell_type": "markdown",
      "metadata": {
        "id": "GE-aL8KRoaoc",
        "colab_type": "text"
      },
      "source": [
        "**Kurtosis:**\n",
        "\n",
        "This basically tells us something about the shape of our data when plotted using a histogram. It indicates the outlier content within the data.<br>\n",
        "The higher the Kurtosuis measure is, the more outliers are present and the longer the tails in the distribution of the histogram are.<br>\n",
        "\n",
        "The formula for calculating Kurtosis:\n",
        "<img src='https://github.com/Blackman9t/Coursera_Capstone/blob/master/kurtosis.png?raw=true' width=800 height=800 alt='Kurtosis_formula'>"
      ]
    },
    {
      "cell_type": "markdown",
      "metadata": {
        "id": "6ph8uD8qoaod",
        "colab_type": "text"
      },
      "source": [
        "Let's go ahead and calculate the kurtosis of the same number range 0 - 100"
      ]
    },
    {
      "cell_type": "code",
      "metadata": {
        "id": "IYonIpfCoaoe",
        "colab_type": "code",
        "outputId": "83d0bf9f-a17a-4f89-d01e-32959b509f8f",
        "colab": {
          "base_uri": "https://localhost:8080/",
          "height": 34
        }
      },
      "source": [
        "kurtosis = (rdd.map(lambda x: pow(x-mean, 4) / pow(std, 4)).sum()) / n\n",
        "kurtosis"
      ],
      "execution_count": 19,
      "outputs": [
        {
          "output_type": "execute_result",
          "data": {
            "text/plain": [
              "1.7997599759976"
            ]
          },
          "metadata": {
            "tags": []
          },
          "execution_count": 19
        }
      ]
    },
    {
      "cell_type": "markdown",
      "metadata": {
        "id": "hQtqRNJwoaof",
        "colab_type": "text"
      },
      "source": [
        "Kurtosis tells us about the relative number of outliers in our dataset and it reports on the shape of the histogram."
      ]
    },
    {
      "cell_type": "markdown",
      "metadata": {
        "id": "6dx4-xKooaog",
        "colab_type": "text"
      },
      "source": [
        "**What is the kurtosis of the following list?**"
      ]
    },
    {
      "cell_type": "code",
      "metadata": {
        "id": "kulvEs3koaog",
        "colab_type": "code",
        "colab": {}
      },
      "source": [
        "list1 = [34,1,23,4,3,3,12,4,3,1]"
      ],
      "execution_count": 0,
      "outputs": []
    },
    {
      "cell_type": "code",
      "metadata": {
        "id": "OMc9U4Bzoaok",
        "colab_type": "code",
        "outputId": "e8c43f57-c6d5-408a-bcf4-172f405b7f58",
        "colab": {
          "base_uri": "https://localhost:8080/",
          "height": 50
        }
      },
      "source": [
        "# To find the kurtosis, we need to deduce the mean and STD\n",
        "\n",
        "kdd = sc.parallelize(list1)\n",
        "n = float(kdd.count())\n",
        "summ = kdd.sum()\n",
        "print(summ)\n",
        "mean = summ / n\n",
        "mean"
      ],
      "execution_count": 21,
      "outputs": [
        {
          "output_type": "stream",
          "text": [
            "88\n"
          ],
          "name": "stdout"
        },
        {
          "output_type": "execute_result",
          "data": {
            "text/plain": [
              "8.8"
            ]
          },
          "metadata": {
            "tags": []
          },
          "execution_count": 21
        }
      ]
    },
    {
      "cell_type": "code",
      "metadata": {
        "id": "UEaFTcRfoaom",
        "colab_type": "code",
        "outputId": "43237929-ec67-4378-8ff2-ab9f15b98b8c",
        "colab": {
          "base_uri": "https://localhost:8080/",
          "height": 34
        }
      },
      "source": [
        "# Now we find the std\n",
        "\n",
        "variance = (kdd.map(lambda x: pow(x-mean,2)).sum()) / n\n",
        "std = pow(variance, 0.5)\n",
        "std"
      ],
      "execution_count": 22,
      "outputs": [
        {
          "output_type": "execute_result",
          "data": {
            "text/plain": [
              "10.562196741208714"
            ]
          },
          "metadata": {
            "tags": []
          },
          "execution_count": 22
        }
      ]
    },
    {
      "cell_type": "code",
      "metadata": {
        "id": "LKFJeZceoaop",
        "colab_type": "code",
        "outputId": "6cc421b6-a29c-42db-ec90-e4f808494afc",
        "colab": {
          "base_uri": "https://localhost:8080/",
          "height": 34
        }
      },
      "source": [
        "# Now to find kurtosis we simply do\n",
        "\n",
        "kurtosis = (kdd.map(lambda x: pow(x-mean, 4) / pow(std, 4)).sum()) / n\n",
        "kurtosis"
      ],
      "execution_count": 23,
      "outputs": [
        {
          "output_type": "execute_result",
          "data": {
            "text/plain": [
              "3.663124005193276"
            ]
          },
          "metadata": {
            "tags": []
          },
          "execution_count": 23
        }
      ]
    },
    {
      "cell_type": "markdown",
      "metadata": {
        "id": "TkULQdmOoaoq",
        "colab_type": "text"
      },
      "source": [
        "### Quiz\n",
        "What is the skewness of the following list?\n",
        "\n",
        "34,1,23,4,3,3,12,4,3,1\n",
        "\n",
        "Please enter at least three digits after the decimal"
      ]
    },
    {
      "cell_type": "code",
      "metadata": {
        "id": "Ud9UjxChoaor",
        "colab_type": "code",
        "outputId": "4187d63c-c1f9-4891-f9a9-63db3745b1ff",
        "colab": {
          "base_uri": "https://localhost:8080/",
          "height": 0
        }
      },
      "source": [
        "# Since the list is same as list1 above we simply do\n",
        "skewness  = (kdd.map(lambda x: pow(x-mean, 3) / pow(std, 3)).sum()) / n\n",
        "skewness"
      ],
      "execution_count": 24,
      "outputs": [
        {
          "output_type": "execute_result",
          "data": {
            "text/plain": [
              "1.4549069329914"
            ]
          },
          "metadata": {
            "tags": []
          },
          "execution_count": 24
        }
      ]
    },
    {
      "cell_type": "markdown",
      "metadata": {
        "id": "XTgABhNQoaot",
        "colab_type": "text"
      },
      "source": [
        "### Covariance, Correlation and Matrices"
      ]
    },
    {
      "cell_type": "markdown",
      "metadata": {
        "id": "pTsspqrroaou",
        "colab_type": "text"
      },
      "source": [
        "_Covariance_ and _Correlation_ tell us how two columns are interacting with each other.<br>\n",
        "**Covariance** is the measure of dependency between two columns in a data set.<br>\n",
        "If both columns totally correlate, the measure is +1. Incase the two columns are showing inverse dependency, the Covariance is -1.<br>\n",
        "Incase the two columns show no interaction atall, the Covariance is 0. Covariance can be calculated very easily.<br>\n",
        "See its'formula below:\n",
        "<img src= 'https://github.com/Blackman9t/Coursera_Capstone/blob/master/covariance.png?raw=true' width=800 height=800 alt='Covariance_formula'>"
      ]
    },
    {
      "cell_type": "markdown",
      "metadata": {
        "id": "h_6TYljOoaov",
        "colab_type": "text"
      },
      "source": [
        "**Correlation** basically takes the _Covariance_ and divides it by the product of the standard deviations of each column. \n",
        "<br> This results in a number between -1 and +1. See formula below:-\n",
        "\n",
        "<img src='https://github.com/Blackman9t/Coursera_Capstone/blob/master/correlation.png?raw=true' width=800 height=800 alt=\"correlation_formula\">"
      ]
    },
    {
      "cell_type": "markdown",
      "metadata": {
        "id": "58rPhUgNoaow",
        "colab_type": "text"
      },
      "source": [
        "_Covariance_ and _Correlation_ are very useful as they tell us the measure of dependence between pairs of data.\n",
        "\n",
        "Now how do we find the _Correlation_ and _Covaraince_ of multiple columns of data"
      ]
    },
    {
      "cell_type": "code",
      "metadata": {
        "id": "ZznrLLI1oaox",
        "colab_type": "code",
        "colab": {}
      },
      "source": [
        "import numpy as np\n",
        "column1 = sc.parallelize(range(100)) # Just a range of numbers from 0 - 99\n",
        "column2 = sc.parallelize(range(100,200))\n",
        "column3 = sc.parallelize(list(reversed(range(100))))  \n",
        "# Column3 is a reversed list of values from 99 to 0. it's cast into a list cos the reversed func returns a lazy, non-serialized object\n",
        "column4 = sc.parallelize(list(np.random.randint(100, size=100)))\n",
        "# column4 is made of 100 random numbers from 0 to 99."
      ],
      "execution_count": 0,
      "outputs": []
    },
    {
      "cell_type": "code",
      "metadata": {
        "id": "f7j0MnTloao0",
        "colab_type": "code",
        "outputId": "507d2802-fd95-4c09-e478-ca4d936bfe14",
        "colab": {
          "base_uri": "https://localhost:8080/",
          "height": 0
        }
      },
      "source": [
        "from pyspark.mllib.stat import Statistics\n",
        "data = column1.zip(column2).zip(column3).zip(column4)\\\n",
        ".map(lambda a_b_c_d : (a_b_c_d[0][0][0],a_b_c_d[0][0][1],a_b_c_d[0][1],a_b_c_d[1]) )\\\n",
        ".map(lambda a_b_c_d : [a_b_c_d[0],a_b_c_d[1],a_b_c_d[2],a_b_c_d[3]])\n",
        "data.take(10)"
      ],
      "execution_count": 26,
      "outputs": [
        {
          "output_type": "execute_result",
          "data": {
            "text/plain": [
              "[[0, 100, 99, 88],\n",
              " [1, 101, 98, 9],\n",
              " [2, 102, 97, 57],\n",
              " [3, 103, 96, 27],\n",
              " [4, 104, 95, 10],\n",
              " [5, 105, 94, 45],\n",
              " [6, 106, 93, 66],\n",
              " [7, 107, 92, 34],\n",
              " [8, 108, 91, 60],\n",
              " [9, 109, 90, 10]]"
            ]
          },
          "metadata": {
            "tags": []
          },
          "execution_count": 26
        }
      ]
    },
    {
      "cell_type": "markdown",
      "metadata": {
        "id": "gWfZ_Uuzoao4",
        "colab_type": "text"
      },
      "source": [
        "Now it looks more like a relational table of rows and columns. Remember data preparation is 80% of a Data Scientist work."
      ]
    },
    {
      "cell_type": "code",
      "metadata": {
        "id": "Dv6LrQzUoao5",
        "colab_type": "code",
        "outputId": "0b2dbd27-2b63-4ea7-e6a1-6d3b2dbddbab",
        "colab": {
          "base_uri": "https://localhost:8080/",
          "height": 0
        }
      },
      "source": [
        "# finally let's apply the corr function on the data\n",
        "Statistics.corr(data)"
      ],
      "execution_count": 27,
      "outputs": [
        {
          "output_type": "execute_result",
          "data": {
            "text/plain": [
              "array([[ 1.        ,  1.        , -1.        , -0.07228309],\n",
              "       [ 1.        ,  1.        , -1.        , -0.07228309],\n",
              "       [-1.        , -1.        ,  1.        ,  0.07228309],\n",
              "       [-0.07228309, -0.07228309,  0.07228309,  1.        ]])"
            ]
          },
          "metadata": {
            "tags": []
          },
          "execution_count": 27
        }
      ]
    },
    {
      "cell_type": "markdown",
      "metadata": {
        "id": "HO9_WBMJoao7",
        "colab_type": "text"
      },
      "source": [
        "### Summary:\n",
        "As we have seen, _Covariance_ explains the dependency of two columns in a data set,<br>\n",
        "_Correlation_ takes the _Covariance_ and further normalises it by the standard deviations of each columns, in other to create a comparable measure between -1 and 1.<br>\n",
        "The _Covariance_ matrix is a very powerful tool to display the dependencies between all columns in one single view."
      ]
    },
    {
      "cell_type": "markdown",
      "metadata": {
        "id": "LBBeuY56oao8",
        "colab_type": "text"
      },
      "source": [
        "### Quiz:\n",
        "What is the correlation between the two lists?\n",
        "\n",
        "1,2,3,4,5,6,7,8,9,10\n",
        "\n",
        "7,6,5,4,5,6,7,8,9,10\n",
        "\n",
        "Please enter at least three digits after the decimal"
      ]
    },
    {
      "cell_type": "code",
      "metadata": {
        "id": "lbV3oBPnoao9",
        "colab_type": "code",
        "colab": {}
      },
      "source": [
        "list1 = [1,2,3,4,5,6,7,8,9,10]\n",
        "list2 = [7,6,5,4,5,6,7,8,9,10]"
      ],
      "execution_count": 0,
      "outputs": []
    },
    {
      "cell_type": "code",
      "metadata": {
        "id": "WAPga4VkoapA",
        "colab_type": "code",
        "outputId": "b7a57f61-4a44-4b5a-ef75-1c8970e5fbc5",
        "colab": {
          "base_uri": "https://localhost:8080/",
          "height": 0
        }
      },
      "source": [
        "# First let's find the mean of both lists\n",
        "list1 = sc.parallelize(list1)\n",
        "list2 = sc.parallelize(list2)\n",
        "mean1 = list1.sum() / float(list1.count())\n",
        "mean2 = list2.sum() / float(list2.count())\n",
        "print(mean1,'and', mean2)"
      ],
      "execution_count": 29,
      "outputs": [
        {
          "output_type": "stream",
          "text": [
            "5.5 and 6.7\n"
          ],
          "name": "stdout"
        }
      ]
    },
    {
      "cell_type": "code",
      "metadata": {
        "id": "IFSgk_jUoapE",
        "colab_type": "code",
        "outputId": "0f1e185c-99d4-44a5-e61a-1db78c588fb2",
        "colab": {
          "base_uri": "https://localhost:8080/",
          "height": 0
        }
      },
      "source": [
        "# next let's zip both lists\n",
        "\n",
        "zipd = list1.zip(list2)\n",
        "zipd.take(5)"
      ],
      "execution_count": 30,
      "outputs": [
        {
          "output_type": "execute_result",
          "data": {
            "text/plain": [
              "[(1, 7), (2, 6), (3, 5), (4, 4), (5, 5)]"
            ]
          },
          "metadata": {
            "tags": []
          },
          "execution_count": 30
        }
      ]
    },
    {
      "cell_type": "code",
      "metadata": {
        "id": "TvuWm20QoapI",
        "colab_type": "code",
        "outputId": "26c3c2af-9714-4498-b9ca-3d69bf4cf6d9",
        "colab": {
          "base_uri": "https://localhost:8080/",
          "height": 0
        }
      },
      "source": [
        "# Now we find the covariance\n",
        "cov_ = (zipd.map(lambda x_y: (x_y[0] - mean1) * (x_y[1] - mean2)).sum()) / float(zipd.count())\n",
        "cov_"
      ],
      "execution_count": 31,
      "outputs": [
        {
          "output_type": "execute_result",
          "data": {
            "text/plain": [
              "3.65"
            ]
          },
          "metadata": {
            "tags": []
          },
          "execution_count": 31
        }
      ]
    },
    {
      "cell_type": "code",
      "metadata": {
        "id": "OM83LggQoapL",
        "colab_type": "code",
        "outputId": "2fb877b5-ae9b-49b0-9663-b107e5c7e7fe",
        "colab": {
          "base_uri": "https://localhost:8080/",
          "height": 0
        }
      },
      "source": [
        "# Next we need find the standard deviation of both lists\n",
        "std1 = ((list1.map(lambda x: (x - mean1)**2).sum()) / float(list1.count()))**0.5\n",
        "std2 = ((list2.map(lambda x: (x - mean2)**2).sum()) / float(list2.count()))**0.5\n",
        "print(std1,std2)"
      ],
      "execution_count": 32,
      "outputs": [
        {
          "output_type": "stream",
          "text": [
            "2.8722813232690143 1.7916472867168918\n"
          ],
          "name": "stdout"
        }
      ]
    },
    {
      "cell_type": "code",
      "metadata": {
        "id": "lMqAn_IgoapQ",
        "colab_type": "code",
        "outputId": "5266ccfb-cf9e-4ce9-e0c0-2ac4bd20a2c3",
        "colab": {
          "base_uri": "https://localhost:8080/",
          "height": 0
        }
      },
      "source": [
        "# So finally we find the correlation\n",
        "\n",
        "corr = cov_ / (std1 * std2)\n",
        "corr"
      ],
      "execution_count": 33,
      "outputs": [
        {
          "output_type": "execute_result",
          "data": {
            "text/plain": [
              "0.7092729120837249"
            ]
          },
          "metadata": {
            "tags": []
          },
          "execution_count": 33
        }
      ]
    },
    {
      "cell_type": "markdown",
      "metadata": {
        "id": "b_w8slRFoapS",
        "colab_type": "text"
      },
      "source": [
        "### Quiz\n",
        "What is the covariance between the two lists?\n",
        "\n",
        "1,2,3,4,5,6,7,8,9,10\n",
        "\n",
        "7,6,5,4,5,6,7,8,9,10\n",
        "\n",
        "Please enter at least three digits after the decimal"
      ]
    },
    {
      "cell_type": "code",
      "metadata": {
        "id": "2NkN8fIToapS",
        "colab_type": "code",
        "colab": {}
      },
      "source": [
        ""
      ],
      "execution_count": 0,
      "outputs": []
    }
  ]
}