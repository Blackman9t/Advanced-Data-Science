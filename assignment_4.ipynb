{
  "nbformat": 4,
  "nbformat_minor": 0,
  "metadata": {
    "colab": {
      "name": "assignment_4.ipynb",
      "provenance": [],
      "collapsed_sections": [],
      "authorship_tag": "ABX9TyMK5M0OUXI0AWBRQBjBYtiR",
      "include_colab_link": true
    },
    "kernelspec": {
      "name": "python3",
      "display_name": "Python 3"
    }
  },
  "cells": [
    {
      "cell_type": "markdown",
      "metadata": {
        "id": "view-in-github",
        "colab_type": "text"
      },
      "source": [
        "<a href=\"https://colab.research.google.com/github/Blackman9t/Advanced-Data-Science/blob/master/assignment_4.ipynb\" target=\"_parent\"><img src=\"https://colab.research.google.com/assets/colab-badge.svg\" alt=\"Open In Colab\"/></a>"
      ]
    },
    {
      "cell_type": "markdown",
      "metadata": {
        "id": "u5qjq799W8ji",
        "colab_type": "text"
      },
      "source": [
        "Welcome to Assignment 4. <br>This will be the most fun. Now we will prepare data for plotting.\n",
        "\n",
        "Just make sure you hit the play button on each cell from top to down. There are three functions you have to implement. Please also make sure than on each change on a function you hit the play button again on the corresponding cell to make it available to the rest of this notebook.\n",
        "\n",
        "Sampling is one of the most important things when it comes to visualization because often the data set gets so huge that you simply\n",
        "\n",
        "can't copy all data to a local Spark driver (Watson Studio is using a \"local\" Spark driver)\n",
        "can't throw all data at the plotting library\n"
      ]
    },
    {
      "cell_type": "markdown",
      "metadata": {
        "id": "9iusSTavXP0d",
        "colab_type": "text"
      },
      "source": [
        "First let's install pyspark dependencies"
      ]
    },
    {
      "cell_type": "code",
      "metadata": {
        "id": "aK3x7hBHXVNZ",
        "colab_type": "code",
        "outputId": "a0f90dca-d3fe-484f-8e51-7a861e35ac7a",
        "colab": {
          "base_uri": "https://localhost:8080/",
          "height": 235
        }
      },
      "source": [
        "!apt-get install openjdk-8-jdk-headless -qq > /dev/null\n",
        "!wget -q http://apache.osuosl.org/spark/spark-2.4.5/spark-2.4.5-bin-hadoop2.7.tgz\n",
        "!tar xf spark-2.4.5-bin-hadoop2.7.tgz\n",
        "\n",
        "!pip install -q findspark\n",
        "!pip install pyspark\n",
        "# Set up required environment variables\n",
        "\n",
        "import os\n",
        "os.environ[\"JAVA_HOME\"] = \"/usr/lib/jvm/java-8-openjdk-amd64\"\n",
        "os.environ[\"SPARK_HOME\"] = \"/content/spark-2.4.5-bin-hadoop2.7\""
      ],
      "execution_count": 1,
      "outputs": [
        {
          "output_type": "stream",
          "text": [
            "Collecting pyspark\n",
            "\u001b[?25l  Downloading https://files.pythonhosted.org/packages/9a/5a/271c416c1c2185b6cb0151b29a91fff6fcaed80173c8584ff6d20e46b465/pyspark-2.4.5.tar.gz (217.8MB)\n",
            "\u001b[K     |████████████████████████████████| 217.8MB 57kB/s \n",
            "\u001b[?25hCollecting py4j==0.10.7\n",
            "\u001b[?25l  Downloading https://files.pythonhosted.org/packages/e3/53/c737818eb9a7dc32a7cd4f1396e787bd94200c3997c72c1dbe028587bd76/py4j-0.10.7-py2.py3-none-any.whl (197kB)\n",
            "\u001b[K     |████████████████████████████████| 204kB 52.9MB/s \n",
            "\u001b[?25hBuilding wheels for collected packages: pyspark\n",
            "  Building wheel for pyspark (setup.py) ... \u001b[?25l\u001b[?25hdone\n",
            "  Created wheel for pyspark: filename=pyspark-2.4.5-py2.py3-none-any.whl size=218257927 sha256=c7536c3611d7bbace6cb9b9a2c1fe9536c75dcf29c7504aabf9f4a601a93efaa\n",
            "  Stored in directory: /root/.cache/pip/wheels/bf/db/04/61d66a5939364e756eb1c1be4ec5bdce6e04047fc7929a3c3c\n",
            "Successfully built pyspark\n",
            "Installing collected packages: py4j, pyspark\n",
            "Successfully installed py4j-0.10.7 pyspark-2.4.5\n"
          ],
          "name": "stdout"
        }
      ]
    },
    {
      "cell_type": "code",
      "metadata": {
        "id": "azge5-fyXVJ9",
        "colab_type": "code",
        "outputId": "e664293b-41ac-4851-cf9e-962eb8422a03",
        "colab": {
          "base_uri": "https://localhost:8080/",
          "height": 34
        }
      },
      "source": [
        "# Next let's initialise a Spaerk Context\n",
        "\n",
        "from pyspark import SparkConf, SparkContext\n",
        "try:\n",
        "    conf = SparkConf().setMaster(\"local\").setAppName(\"My App\")\n",
        "    sc = SparkContext(conf = conf)\n",
        "    print('SparkContext Initialised Successfully!')\n",
        "except Exception as e:\n",
        "    print(e)"
      ],
      "execution_count": 2,
      "outputs": [
        {
          "output_type": "stream",
          "text": [
            "SparkContext Initialised Successfully!\n"
          ],
          "name": "stdout"
        }
      ]
    },
    {
      "cell_type": "code",
      "metadata": {
        "id": "K5uzx6gLgYvN",
        "colab_type": "code",
        "outputId": "1500fa44-2899-477a-f200-1a0f2aec1eab",
        "colab": {
          "base_uri": "https://localhost:8080/",
          "height": 214
        }
      },
      "source": [
        "# Next, let's create our spark session\n",
        "\n",
        "from pyspark.sql import SparkSession\n",
        "spark = SparkSession.builder.appName('My App').getOrCreate()\n",
        "spark"
      ],
      "execution_count": 3,
      "outputs": [
        {
          "output_type": "execute_result",
          "data": {
            "text/html": [
              "\n",
              "            <div>\n",
              "                <p><b>SparkSession - in-memory</b></p>\n",
              "                \n",
              "        <div>\n",
              "            <p><b>SparkContext</b></p>\n",
              "\n",
              "            <p><a href=\"http://8cda9d9bf62d:4040\">Spark UI</a></p>\n",
              "\n",
              "            <dl>\n",
              "              <dt>Version</dt>\n",
              "                <dd><code>v2.4.5</code></dd>\n",
              "              <dt>Master</dt>\n",
              "                <dd><code>local</code></dd>\n",
              "              <dt>AppName</dt>\n",
              "                <dd><code>My App</code></dd>\n",
              "            </dl>\n",
              "        </div>\n",
              "        \n",
              "            </div>\n",
              "        "
            ],
            "text/plain": [
              "<pyspark.sql.session.SparkSession at 0x7fa8a8c8e940>"
            ]
          },
          "metadata": {
            "tags": []
          },
          "execution_count": 3
        }
      ]
    },
    {
      "cell_type": "markdown",
      "metadata": {
        "id": "fWipBQdlhXz6",
        "colab_type": "text"
      },
      "source": [
        "Now it is time to grab a PARQUET file and create a dataframe out of it. Using SparkSQL you can handle it like a database."
      ]
    },
    {
      "cell_type": "code",
      "metadata": {
        "id": "IOT5bbdMhZPY",
        "colab_type": "code",
        "outputId": "c2cba759-b94e-4762-b82d-3387b466720d",
        "colab": {
          "base_uri": "https://localhost:8080/",
          "height": 353
        }
      },
      "source": [
        "!wget https://github.com/IBM/coursera/blob/master/coursera_ds/washing.parquet?raw=true\n",
        "!mv washing.parquet?raw=true washing.parquet"
      ],
      "execution_count": 4,
      "outputs": [
        {
          "output_type": "stream",
          "text": [
            "--2020-02-17 20:16:23--  https://github.com/IBM/coursera/blob/master/coursera_ds/washing.parquet?raw=true\n",
            "Resolving github.com (github.com)... 140.82.114.3\n",
            "Connecting to github.com (github.com)|140.82.114.3|:443... connected.\n",
            "HTTP request sent, awaiting response... 302 Found\n",
            "Location: https://github.com/IBM/coursera/raw/master/coursera_ds/washing.parquet [following]\n",
            "--2020-02-17 20:16:23--  https://github.com/IBM/coursera/raw/master/coursera_ds/washing.parquet\n",
            "Reusing existing connection to github.com:443.\n",
            "HTTP request sent, awaiting response... 302 Found\n",
            "Location: https://raw.githubusercontent.com/IBM/coursera/master/coursera_ds/washing.parquet [following]\n",
            "--2020-02-17 20:16:23--  https://raw.githubusercontent.com/IBM/coursera/master/coursera_ds/washing.parquet\n",
            "Resolving raw.githubusercontent.com (raw.githubusercontent.com)... 151.101.0.133, 151.101.64.133, 151.101.128.133, ...\n",
            "Connecting to raw.githubusercontent.com (raw.githubusercontent.com)|151.101.0.133|:443... connected.\n",
            "HTTP request sent, awaiting response... 200 OK\n",
            "Length: 112048 (109K) [application/octet-stream]\n",
            "Saving to: ‘washing.parquet?raw=true’\n",
            "\n",
            "\rwashing.parquet?raw   0%[                    ]       0  --.-KB/s               \rwashing.parquet?raw 100%[===================>] 109.42K  --.-KB/s    in 0.04s   \n",
            "\n",
            "2020-02-17 20:16:24 (2.97 MB/s) - ‘washing.parquet?raw=true’ saved [112048/112048]\n",
            "\n"
          ],
          "name": "stdout"
        }
      ]
    },
    {
      "cell_type": "code",
      "metadata": {
        "id": "rXiJtPrjhhuy",
        "colab_type": "code",
        "outputId": "3ecd0ee0-c786-489b-fb47-79405cde27ea",
        "colab": {
          "base_uri": "https://localhost:8080/",
          "height": 286
        }
      },
      "source": [
        "df = spark.read.parquet('washing.parquet')\n",
        "df.createOrReplaceTempView('washing')  # this adds washing table to our session table catalog if it's not in or replaces if uts already in\n",
        "df.show(10)"
      ],
      "execution_count": 5,
      "outputs": [
        {
          "output_type": "stream",
          "text": [
            "+--------------------+--------------------+-----+--------+----------+---------+--------+-----+-----------+-------------+-------+\n",
            "|                 _id|                _rev|count|flowrate|fluidlevel|frequency|hardness|speed|temperature|           ts|voltage|\n",
            "+--------------------+--------------------+-----+--------+----------+---------+--------+-----+-----------+-------------+-------+\n",
            "|0d86485d0f88d1f9d...|1-57940679fb8a713...|    4|      11|acceptable|     null|      77| null|        100|1547808723923|   null|\n",
            "|0d86485d0f88d1f9d...|1-15ff3a0b304d789...|    2|    null|      null|     null|    null| 1046|       null|1547808729917|   null|\n",
            "|0d86485d0f88d1f9d...|1-97c2742b68c7b07...|    4|    null|      null|       71|    null| null|       null|1547808731918|    236|\n",
            "|0d86485d0f88d1f9d...|1-eefb903dbe45746...|   19|      11|acceptable|     null|      75| null|         86|1547808738999|   null|\n",
            "|0d86485d0f88d1f9d...|1-5f68b4c72813c25...|    7|    null|      null|       75|    null| null|       null|1547808740927|    235|\n",
            "|0d86485d0f88d1f9d...|1-cd4b6c57ddbe77e...|    5|    null|      null|     null|    null| 1014|       null|1547808744923|   null|\n",
            "|0d86485d0f88d1f9d...|1-a35b25b5bf43aaf...|   32|      11|acceptable|     null|      73| null|         84|1547808752028|   null|\n",
            "|0d86485d0f88d1f9d...|1-b717f7289a8476d...|   48|      11|acceptable|     null|      79| null|         84|1547808768065|   null|\n",
            "|0d86485d0f88d1f9d...|1-c2f1f8fcf178b2f...|   18|    null|      null|       73|    null| null|       null|1547808773944|    228|\n",
            "|0d86485d0f88d1f9d...|1-15033dd9eebb4a8...|   59|      11|acceptable|     null|      72| null|         96|1547808779093|   null|\n",
            "+--------------------+--------------------+-----+--------+----------+---------+--------+-----+-----------+-------------+-------+\n",
            "only showing top 10 rows\n",
            "\n"
          ],
          "name": "stdout"
        }
      ]
    },
    {
      "cell_type": "markdown",
      "metadata": {
        "id": "R1xptY5igueZ",
        "colab_type": "text"
      },
      "source": [
        "Please implement a function which returns a 10% sample of a given data frame:"
      ]
    },
    {
      "cell_type": "code",
      "metadata": {
        "id": "o5lpK7roWyGz",
        "colab_type": "code",
        "colab": {}
      },
      "source": [
        "def getSample(df,spark):\n",
        "    #TODO Please enter your code here, you are not required to use the template code below\n",
        "    #some reference: https://spark.apache.org/docs/latest/api/python/pyspark.sql.html#pyspark.sql.DataFrame\n",
        "    #https://spark.apache.org/docs/latest/api/sql/\n",
        "    #return df.#YOUR CODE GOES HERE(False,#YOUR CODE GOES HERE)\n",
        "    return df.rdd.sample(False, 0.1)"
      ],
      "execution_count": 0,
      "outputs": []
    },
    {
      "cell_type": "markdown",
      "metadata": {
        "id": "anzGwea2iuNT",
        "colab_type": "text"
      },
      "source": [
        "Now we want to create a histogram and boxplot. Please ignore the sampling for now and return a python list containing all temperature values from the data set"
      ]
    },
    {
      "cell_type": "code",
      "metadata": {
        "id": "mUPxFj1diu-j",
        "colab_type": "code",
        "colab": {}
      },
      "source": [
        "def getListForHistogramAndBoxPlot(df,spark):\n",
        "    #TODO Please enter your code here, you are not required to use the template code below\n",
        "    #some reference: https://spark.apache.org/docs/latest/api/python/pyspark.sql.html#pyspark.sql.DataFrame\n",
        "    #https://spark.apache.org/docs/latest/api/sql/\n",
        "    my_list = spark.sql(\"\"\"\n",
        "        SELECT temperature from washing where temperature is not null\n",
        "    \"\"\").rdd.map(lambda row: row.temperature).collect()\n",
        "    if not type(my_list)==list:\n",
        "        raise Exception('return type not a list')\n",
        "    return my_list"
      ],
      "execution_count": 0,
      "outputs": []
    },
    {
      "cell_type": "markdown",
      "metadata": {
        "id": "hEs9wJqJj2CF",
        "colab_type": "text"
      },
      "source": [
        "Finally we want to create a run chart. Please return two lists (encapsulated in a python tuple object) containing temperature and timestamp (ts) ordered by timestamp. Please refer to the following link to learn more about tuples in python: https://www.tutorialspoint.com/python/python_tuples.htm"
      ]
    },
    {
      "cell_type": "code",
      "metadata": {
        "id": "VHY6AeDYj2sg",
        "colab_type": "code",
        "colab": {}
      },
      "source": [
        "#please make sure you take only 10% of the data by sampling\n",
        "#please also ensure that you sample in a way that the timestamp samples and temperature samples correspond (=> call sample on an object still containing both dimensions)\n",
        "def getListsForRunChart(df,spark):\n",
        "    #TODO Please enter your code here, you are not required to use the template code below\n",
        "    #some reference: https://spark.apache.org/docs/latest/api/python/pyspark.sql.html#pyspark.sql.DataFrame\n",
        "    #https://spark.apache.org/docs/latest/api/sql/\n",
        "    double_tuple_rdd = spark.sql(\"\"\"\n",
        "        select temperature,ts from washing where temperature is not null order by ts asc\n",
        "    \"\"\").sample(False,0.1).rdd.map(lambda row : (row.ts,row.temperature))\n",
        "    result_array_ts = double_tuple_rdd.map(lambda ts_temperature: ts_temperature[0]).collect()\n",
        "    result_array_temperature = double_tuple_rdd.map(lambda ts_temperature: ts_temperature[1]).collect()\n",
        "    return (result_array_ts,result_array_temperature)"
      ],
      "execution_count": 0,
      "outputs": []
    },
    {
      "cell_type": "markdown",
      "metadata": {
        "id": "vWM_GkxkkpdX",
        "colab_type": "text"
      },
      "source": [
        "Now we gonna test the functions you've completed and visualize the data."
      ]
    },
    {
      "cell_type": "code",
      "metadata": {
        "id": "9cUTqPYhkp7P",
        "colab_type": "code",
        "colab": {}
      },
      "source": [
        "%matplotlib inline\n",
        "import matplotlib.pyplot as plt"
      ],
      "execution_count": 0,
      "outputs": []
    },
    {
      "cell_type": "code",
      "metadata": {
        "id": "GKqqKvFakywl",
        "colab_type": "code",
        "outputId": "8f7be951-d064-4300-8c40-e2f95dacf892",
        "colab": {
          "base_uri": "https://localhost:8080/",
          "height": 265
        }
      },
      "source": [
        "plt.hist(getListForHistogramAndBoxPlot(df,spark))\n",
        "plt.show()"
      ],
      "execution_count": 10,
      "outputs": [
        {
          "output_type": "display_data",
          "data": {
            "image/png": "[encoded data removed]",
            "text/plain": [
              "<Figure size 432x288 with 1 Axes>"
            ]
          },
          "metadata": {
            "tags": []
          }
        }
      ]
    },
    {
      "cell_type": "code",
      "metadata": {
        "id": "W2zfHcJtk15V",
        "colab_type": "code",
        "outputId": "f15f9694-36d4-4060-99b4-895f323f3e53",
        "colab": {
          "base_uri": "https://localhost:8080/",
          "height": 265
        }
      },
      "source": [
        "plt.boxplot(getListForHistogramAndBoxPlot(df,spark))\n",
        "plt.show()"
      ],
      "execution_count": 11,
      "outputs": [
        {
          "output_type": "display_data",
          "data": {
            "image/png": "[encoded data removed]",
            "text/plain": [
              "<Figure size 432x288 with 1 Axes>"
            ]
          },
          "metadata": {
            "tags": []
          }
        }
      ]
    },
    {
      "cell_type": "code",
      "metadata": {
        "id": "sBXn_N1xlDcs",
        "colab_type": "code",
        "colab": {}
      },
      "source": [
        "lists = getListsForRunChart(df,spark)"
      ],
      "execution_count": 0,
      "outputs": []
    },
    {
      "cell_type": "code",
      "metadata": {
        "id": "Fa352KE7lmzG",
        "colab_type": "code",
        "outputId": "c89364f7-e1bd-47ea-ed9c-34be0f7aa47d",
        "colab": {
          "base_uri": "https://localhost:8080/",
          "height": 279
        }
      },
      "source": [
        "plt.plot(lists[0],lists[1])\n",
        "plt.xlabel(\"time\")\n",
        "plt.ylabel(\"temperature\")\n",
        "plt.show()"
      ],
      "execution_count": 13,
      "outputs": [
        {
          "output_type": "display_data",
          "data": {
            "image/png": "[encoded data removed]",
            "text/plain": [
              "<Figure size 432x288 with 1 Axes>"
            ]
          },
          "metadata": {
            "tags": []
          }
        }
      ]
    },
    {
      "cell_type": "markdown",
      "metadata": {
        "id": "jAyQApEylv34",
        "colab_type": "text"
      },
      "source": [
        "Congratulations, you are done! The following code submits your solution to the grader. Again, please update your token from the grader's submission page on Coursera"
      ]
    },
    {
      "cell_type": "code",
      "metadata": {
        "id": "s5wCTt3ylwXG",
        "colab_type": "code",
        "outputId": "fb2652bb-e5b7-40ac-ab8b-aca1a0c1c1e2",
        "colab": {
          "base_uri": "https://localhost:8080/",
          "height": 202
        }
      },
      "source": [
        "!rm -f rklib.py\n",
        "!wget https://raw.githubusercontent.com/IBM/coursera/master/rklib.py"
      ],
      "execution_count": 14,
      "outputs": [
        {
          "output_type": "stream",
          "text": [
            "--2020-02-17 20:17:00--  https://raw.githubusercontent.com/IBM/coursera/master/rklib.py\n",
            "Resolving raw.githubusercontent.com (raw.githubusercontent.com)... 151.101.0.133, 151.101.64.133, 151.101.128.133, ...\n",
            "Connecting to raw.githubusercontent.com (raw.githubusercontent.com)|151.101.0.133|:443... connected.\n",
            "HTTP request sent, awaiting response... 200 OK\n",
            "Length: 2540 (2.5K) [text/plain]\n",
            "Saving to: ‘rklib.py’\n",
            "\n",
            "\rrklib.py              0%[                    ]       0  --.-KB/s               \rrklib.py            100%[===================>]   2.48K  --.-KB/s    in 0s      \n",
            "\n",
            "2020-02-17 20:17:00 (43.6 MB/s) - ‘rklib.py’ saved [2540/2540]\n",
            "\n"
          ],
          "name": "stdout"
        }
      ]
    },
    {
      "cell_type": "code",
      "metadata": {
        "id": "SmefgR6Fm-t6",
        "colab_type": "code",
        "colab": {}
      },
      "source": [
        "from rklib import submitAll\n",
        "import json\n",
        "\n",
        "key = \"S5PNoSHNEeisnA6YLL5C0g\"\n",
        "email = 'sisokels@gmail.com'\n",
        "token = '0QDiUuLEHdK7odqa'"
      ],
      "execution_count": 0,
      "outputs": []
    },
    {
      "cell_type": "code",
      "metadata": {
        "id": "C-ZsZMGwnYG7",
        "colab_type": "code",
        "outputId": "91669db4-aaa1-48c2-8ac4-009c3226a67f",
        "colab": {
          "base_uri": "https://localhost:8080/",
          "height": 104
        }
      },
      "source": [
        "parts_data = {}\n",
        "parts_data[\"iLdHs\"] = json.dumps(str(type(getListForHistogramAndBoxPlot(df,spark))))\n",
        "parts_data[\"xucEM\"] = json.dumps(len(getListForHistogramAndBoxPlot(df,spark)))\n",
        "parts_data[\"IyH7U\"] = json.dumps(str(type(getListsForRunChart(df,spark))))\n",
        "parts_data[\"MsMHO\"] = json.dumps(len(getListsForRunChart(df,spark)[0]))\n",
        "\n",
        "submitAll(email, token, key, parts_data)"
      ],
      "execution_count": 16,
      "outputs": [
        {
          "output_type": "stream",
          "text": [
            "Something went wrong, please have a look at the reponse of the grader\n",
            "-------------------------\n",
            "{\"errorCode\":\"invalidEmailOrToken\",\"message\":\"Invalid email or token.\",\"details\":{\"learnerMessage\":\"You used an invalid email or your token may have expired. Please make sure you have entered all fields correctly. Try generating a new token if the issue still persists.\"}}\n",
            "-------------------------\n"
          ],
          "name": "stdout"
        }
      ]
    }
  ]
}