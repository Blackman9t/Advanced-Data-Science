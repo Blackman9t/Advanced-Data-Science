{
  "nbformat": 4,
  "nbformat_minor": 0,
  "metadata": {
    "colab": {
      "name": "data_visualization_of_big_data.ipynb",
      "provenance": [],
      "authorship_tag": "ABX9TyOqcqeWtgU/E8MiUBarturz",
      "include_colab_link": true
    },
    "kernelspec": {
      "name": "python3",
      "display_name": "Python 3"
    },
    "accelerator": "GPU"
  },
  "cells": [
    {
      "cell_type": "markdown",
      "metadata": {
        "id": "view-in-github",
        "colab_type": "text"
      },
      "source": [
        "<a href=\"https://colab.research.google.com/github/Blackman9t/Advanced-Data-Science/blob/master/data_visualization_of_big_data.ipynb\" target=\"_parent\"><img src=\"https://colab.research.google.com/assets/colab-badge.svg\" alt=\"Open In Colab\"/></a>"
      ]
    },
    {
      "cell_type": "markdown",
      "metadata": {
        "id": "JDhWnhLqkwW_",
        "colab_type": "text"
      },
      "source": [
        "## Data Visualization of Big Data\n",
        "\n",
        "Since plotting more than 3 dimensions is hard, we'd learn how to reduce dimensionality as part of this course.<br>**Note that:**\n",
        "\n",
        "In 2 dimensional space data boundaries can be defined through lines and circles.<br>\n",
        "In 3 dimensional space as spheres and planes.<br>\n",
        "In more than 3 dimensions as hyper-spheres and hyper-planes... These are multidimensional spheres and planes which cannot be visualised anymore, are hard to imagine, but still do the job to separate multidimensional point clouds in multi-dimensional vector space from each other."
      ]
    },
    {
      "cell_type": "markdown",
      "metadata": {
        "id": "NPCR5FAplUkS",
        "colab_type": "text"
      },
      "source": [
        "### Plotting with Apache Spark and Python Matplotlib"
      ]
    },
    {
      "cell_type": "markdown",
      "metadata": {
        "id": "_SyE7RiIyA4s",
        "colab_type": "text"
      },
      "source": [
        "One important aspect when plotting is on data size. Know that plotting libraries run on a single machine and expect a rather small input datsset in the form of matrcs, vectors, rows and columns"
      ]
    },
    {
      "cell_type": "markdown",
      "metadata": {
        "id": "yZaYnH_Cymlg",
        "colab_type": "text"
      },
      "source": [
        "Too much data leads to either main memory problems or performance problems. The solution is sampling."
      ]
    },
    {
      "cell_type": "markdown",
      "metadata": {
        "id": "g3YSqCcCzGj2",
        "colab_type": "text"
      },
      "source": [
        "### Sampling:\n",
        "\n",
        "Sampling takes only a subset of your original data, but due to inherent randomness in selecting the values, it preserves most properties of the original dataframe.<br>Sampling reduces computational costs because at downstream data processing steps, only a fraction of data has to be considered"
      ]
    },
    {
      "cell_type": "markdown",
      "metadata": {
        "id": "u3qlZOWjntA4",
        "colab_type": "text"
      },
      "source": [
        "### Let's install spark related dependencies"
      ]
    },
    {
      "cell_type": "code",
      "metadata": {
        "id": "zxYRL13hmKOX",
        "colab_type": "code",
        "outputId": "529baa21-f481-4506-b7fb-c3bb3b39399a",
        "colab": {
          "base_uri": "https://localhost:8080/",
          "height": 235
        }
      },
      "source": [
        "!apt-get install openjdk-8-jdk-headless -qq > /dev/null\n",
        "!wget -q http://apache.osuosl.org/spark/spark-2.4.4/spark-2.4.4-bin-hadoop2.7.tgz\n",
        "!tar xf spark-2.4.4-bin-hadoop2.7.tgz\n",
        "\n",
        "!pip install -q findspark\n",
        "!pip install pyspark\n",
        "# Set up required environment variables\n",
        "\n",
        "import os\n",
        "os.environ[\"JAVA_HOME\"] = \"/usr/lib/jvm/java-8-openjdk-amd64\"\n",
        "os.environ[\"SPARK_HOME\"] = \"/content/spark-2.4.4-bin-hadoop2.7\""
      ],
      "execution_count": 1,
      "outputs": [
        {
          "output_type": "stream",
          "text": [
            "Collecting pyspark\n",
            "\u001b[?25l  Downloading https://files.pythonhosted.org/packages/87/21/f05c186f4ddb01d15d0ddc36ef4b7e3cedbeb6412274a41f26b55a650ee5/pyspark-2.4.4.tar.gz (215.7MB)\n",
            "\u001b[K     |████████████████████████████████| 215.7MB 62kB/s \n",
            "\u001b[?25hCollecting py4j==0.10.7\n",
            "\u001b[?25l  Downloading https://files.pythonhosted.org/packages/e3/53/c737818eb9a7dc32a7cd4f1396e787bd94200c3997c72c1dbe028587bd76/py4j-0.10.7-py2.py3-none-any.whl (197kB)\n",
            "\u001b[K     |████████████████████████████████| 204kB 47.8MB/s \n",
            "\u001b[?25hBuilding wheels for collected packages: pyspark\n",
            "  Building wheel for pyspark (setup.py) ... \u001b[?25l\u001b[?25hdone\n",
            "  Created wheel for pyspark: filename=pyspark-2.4.4-py2.py3-none-any.whl size=216130387 sha256=9de7979b125a3fdcd253f803681a967cddfe966392fdfc284bf6d1bcedd628eb\n",
            "  Stored in directory: /root/.cache/pip/wheels/ab/09/4d/0d184230058e654eb1b04467dbc1292f00eaa186544604b471\n",
            "Successfully built pyspark\n",
            "Installing collected packages: py4j, pyspark\n",
            "Successfully installed py4j-0.10.7 pyspark-2.4.4\n"
          ],
          "name": "stdout"
        }
      ]
    },
    {
      "cell_type": "code",
      "metadata": {
        "id": "_BfSCRPgksTj",
        "colab_type": "code",
        "outputId": "c2665e8b-2329-447d-ceb0-faf7edb13146",
        "colab": {
          "base_uri": "https://localhost:8080/",
          "height": 34
        }
      },
      "source": [
        "from pyspark import SparkConf, SparkContext\n",
        "try:\n",
        "    conf = SparkConf().setMaster(\"local\").setAppName(\"My App\")\n",
        "    sc = SparkContext(conf = conf)\n",
        "    print('SparkContext Initialised Successfully!')\n",
        "except Exception as e:\n",
        "    print(e)"
      ],
      "execution_count": 2,
      "outputs": [
        {
          "output_type": "stream",
          "text": [
            "SparkContext Initialised Successfully!\n"
          ],
          "name": "stdout"
        }
      ]
    },
    {
      "cell_type": "code",
      "metadata": {
        "id": "lawFjid7m__f",
        "colab_type": "code",
        "outputId": "086ce760-bc80-4cd1-b985-6ac397dafb82",
        "colab": {
          "base_uri": "https://localhost:8080/",
          "height": 191
        }
      },
      "source": [
        "sc"
      ],
      "execution_count": 3,
      "outputs": [
        {
          "output_type": "execute_result",
          "data": {
            "text/html": [
              "\n",
              "        <div>\n",
              "            <p><b>SparkContext</b></p>\n",
              "\n",
              "            <p><a href=\"http://e04b9c64d40e:4040\">Spark UI</a></p>\n",
              "\n",
              "            <dl>\n",
              "              <dt>Version</dt>\n",
              "                <dd><code>v2.4.4</code></dd>\n",
              "              <dt>Master</dt>\n",
              "                <dd><code>local</code></dd>\n",
              "              <dt>AppName</dt>\n",
              "                <dd><code>My App</code></dd>\n",
              "            </dl>\n",
              "        </div>\n",
              "        "
            ],
            "text/plain": [
              "<SparkContext master=local appName=My App>"
            ]
          },
          "metadata": {
            "tags": []
          },
          "execution_count": 3
        }
      ]
    },
    {
      "cell_type": "markdown",
      "metadata": {
        "id": "9nSwk-TmkwSX",
        "colab_type": "text"
      },
      "source": [
        "### Next, we set up a spark session"
      ]
    },
    {
      "cell_type": "code",
      "metadata": {
        "id": "njrrKvdqnYtk",
        "colab_type": "code",
        "outputId": "4dc9c4b3-3c1f-4e16-966c-059c6e4eaa7a",
        "colab": {
          "base_uri": "https://localhost:8080/",
          "height": 214
        }
      },
      "source": [
        "from pyspark.sql import SparkSession\n",
        "spark = SparkSession.builder.appName('My App').getOrCreate()\n",
        "spark"
      ],
      "execution_count": 4,
      "outputs": [
        {
          "output_type": "execute_result",
          "data": {
            "text/html": [
              "\n",
              "            <div>\n",
              "                <p><b>SparkSession - in-memory</b></p>\n",
              "                \n",
              "        <div>\n",
              "            <p><b>SparkContext</b></p>\n",
              "\n",
              "            <p><a href=\"http://e04b9c64d40e:4040\">Spark UI</a></p>\n",
              "\n",
              "            <dl>\n",
              "              <dt>Version</dt>\n",
              "                <dd><code>v2.4.4</code></dd>\n",
              "              <dt>Master</dt>\n",
              "                <dd><code>local</code></dd>\n",
              "              <dt>AppName</dt>\n",
              "                <dd><code>My App</code></dd>\n",
              "            </dl>\n",
              "        </div>\n",
              "        \n",
              "            </div>\n",
              "        "
            ],
            "text/plain": [
              "<pyspark.sql.session.SparkSession at 0x7f5fdba4b0b8>"
            ]
          },
          "metadata": {
            "tags": []
          },
          "execution_count": 4
        }
      ]
    },
    {
      "cell_type": "markdown",
      "metadata": {
        "id": "BzjN1_HKrAaF",
        "colab_type": "text"
      },
      "source": [
        "Now it is time to grab a PARQUET file and create a dataframe out of it. Using SparkSQL you can handle it like a database."
      ]
    },
    {
      "cell_type": "code",
      "metadata": {
        "id": "rfjrAobmq_M_",
        "colab_type": "code",
        "outputId": "0f5d0a74-7d9a-416d-cbfc-ce4f7bf76418",
        "colab": {
          "base_uri": "https://localhost:8080/",
          "height": 353
        }
      },
      "source": [
        "!wget https://github.com/IBM/coursera/blob/master/coursera_ds/washing.parquet?raw=true\n",
        "!mv washing.parquet?raw=true washing.parquet"
      ],
      "execution_count": 5,
      "outputs": [
        {
          "output_type": "stream",
          "text": [
            "--2020-01-20 10:10:39--  https://github.com/IBM/coursera/blob/master/coursera_ds/washing.parquet?raw=true\n",
            "Resolving github.com (github.com)... 140.82.118.4\n",
            "Connecting to github.com (github.com)|140.82.118.4|:443... connected.\n",
            "HTTP request sent, awaiting response... 302 Found\n",
            "Location: https://github.com/IBM/coursera/raw/master/coursera_ds/washing.parquet [following]\n",
            "--2020-01-20 10:10:39--  https://github.com/IBM/coursera/raw/master/coursera_ds/washing.parquet\n",
            "Reusing existing connection to github.com:443.\n",
            "HTTP request sent, awaiting response... 302 Found\n",
            "Location: https://raw.githubusercontent.com/IBM/coursera/master/coursera_ds/washing.parquet [following]\n",
            "--2020-01-20 10:10:40--  https://raw.githubusercontent.com/IBM/coursera/master/coursera_ds/washing.parquet\n",
            "Resolving raw.githubusercontent.com (raw.githubusercontent.com)... 151.101.0.133, 151.101.64.133, 151.101.128.133, ...\n",
            "Connecting to raw.githubusercontent.com (raw.githubusercontent.com)|151.101.0.133|:443... connected.\n",
            "HTTP request sent, awaiting response... 200 OK\n",
            "Length: 112048 (109K) [application/octet-stream]\n",
            "Saving to: ‘washing.parquet?raw=true’\n",
            "\n",
            "\rwashing.parquet?raw   0%[                    ]       0  --.-KB/s               \rwashing.parquet?raw 100%[===================>] 109.42K  --.-KB/s    in 0.01s   \n",
            "\n",
            "2020-01-20 10:10:40 (9.01 MB/s) - ‘washing.parquet?raw=true’ saved [112048/112048]\n",
            "\n"
          ],
          "name": "stdout"
        }
      ]
    },
    {
      "cell_type": "markdown",
      "metadata": {
        "id": "5qI23LbxroIz",
        "colab_type": "text"
      },
      "source": [
        "Now let's read the parquet file to a Spark DataFrame"
      ]
    },
    {
      "cell_type": "code",
      "metadata": {
        "id": "w3sD_P_orQTs",
        "colab_type": "code",
        "outputId": "71cb2626-168a-40e7-a3c5-887e45090333",
        "colab": {
          "base_uri": "https://localhost:8080/",
          "height": 454
        }
      },
      "source": [
        "df = spark.read.parquet('washing.parquet')\n",
        "df.show()"
      ],
      "execution_count": 6,
      "outputs": [
        {
          "output_type": "stream",
          "text": [
            "+--------------------+--------------------+-----+--------+----------+---------+--------+-----+-----------+-------------+-------+\n",
            "|                 _id|                _rev|count|flowrate|fluidlevel|frequency|hardness|speed|temperature|           ts|voltage|\n",
            "+--------------------+--------------------+-----+--------+----------+---------+--------+-----+-----------+-------------+-------+\n",
            "|0d86485d0f88d1f9d...|1-57940679fb8a713...|    4|      11|acceptable|     null|      77| null|        100|1547808723923|   null|\n",
            "|0d86485d0f88d1f9d...|1-15ff3a0b304d789...|    2|    null|      null|     null|    null| 1046|       null|1547808729917|   null|\n",
            "|0d86485d0f88d1f9d...|1-97c2742b68c7b07...|    4|    null|      null|       71|    null| null|       null|1547808731918|    236|\n",
            "|0d86485d0f88d1f9d...|1-eefb903dbe45746...|   19|      11|acceptable|     null|      75| null|         86|1547808738999|   null|\n",
            "|0d86485d0f88d1f9d...|1-5f68b4c72813c25...|    7|    null|      null|       75|    null| null|       null|1547808740927|    235|\n",
            "|0d86485d0f88d1f9d...|1-cd4b6c57ddbe77e...|    5|    null|      null|     null|    null| 1014|       null|1547808744923|   null|\n",
            "|0d86485d0f88d1f9d...|1-a35b25b5bf43aaf...|   32|      11|acceptable|     null|      73| null|         84|1547808752028|   null|\n",
            "|0d86485d0f88d1f9d...|1-b717f7289a8476d...|   48|      11|acceptable|     null|      79| null|         84|1547808768065|   null|\n",
            "|0d86485d0f88d1f9d...|1-c2f1f8fcf178b2f...|   18|    null|      null|       73|    null| null|       null|1547808773944|    228|\n",
            "|0d86485d0f88d1f9d...|1-15033dd9eebb4a8...|   59|      11|acceptable|     null|      72| null|         96|1547808779093|   null|\n",
            "|0d86485d0f88d1f9d...|1-753dae825f9a6c2...|   62|      11|acceptable|     null|      73| null|         88|1547808782113|   null|\n",
            "|0d86485d0f88d1f9d...|1-b168089f44f03f0...|   13|    null|      null|     null|    null| 1097|       null|1547808784940|   null|\n",
            "|0d86485d0f88d1f9d...|1-403b687c6be0dea...|   23|    null|      null|       80|    null| null|       null|1547808788955|    236|\n",
            "|0d86485d0f88d1f9d...|1-195551e0455a24b...|   72|      11|acceptable|     null|      77| null|         87|1547808792134|   null|\n",
            "|0d86485d0f88d1f9d...|1-060a39fc6c2ddee...|   26|    null|      null|       62|    null| null|       null|1547808797959|    233|\n",
            "|0d86485d0f88d1f9d...|1-2234514bffee465...|   27|    null|      null|       61|    null| null|       null|1547808800960|    226|\n",
            "|0d86485d0f88d1f9d...|1-4265898bb401db0...|   82|      11|acceptable|     null|      79| null|         96|1547808802154|   null|\n",
            "|0d86485d0f88d1f9d...|1-2fbf7ca9a0425a0...|   94|      11|acceptable|     null|      73| null|         90|1547808814186|   null|\n",
            "|0d86485d0f88d1f9d...|1-203c0ee6d7fbd21...|   97|      11|acceptable|     null|      77| null|         88|1547808817190|   null|\n",
            "|0d86485d0f88d1f9d...|1-47e1965db94fcab...|  104|      11|acceptable|     null|      75| null|         80|1547808824198|   null|\n",
            "+--------------------+--------------------+-----+--------+----------+---------+--------+-----+-----------+-------------+-------+\n",
            "only showing top 20 rows\n",
            "\n"
          ],
          "name": "stdout"
        }
      ]
    },
    {
      "cell_type": "code",
      "metadata": {
        "id": "K-17T9pUwa_h",
        "colab_type": "code",
        "outputId": "2292539e-28f9-40ad-cb7d-986fe4fe2592",
        "colab": {
          "base_uri": "https://localhost:8080/",
          "height": 34
        }
      },
      "source": [
        "print(\"Shape of the Dataset is {} rows, {} columns.\".format(df.count(), len(df.columns)))"
      ],
      "execution_count": 7,
      "outputs": [
        {
          "output_type": "stream",
          "text": [
            "Shape of the Dataset is 2058 rows, 11 columns.\n"
          ],
          "name": "stdout"
        }
      ]
    },
    {
      "cell_type": "code",
      "metadata": {
        "id": "zFvP1QoLtRkJ",
        "colab_type": "code",
        "outputId": "9d1ca845-5c8d-487a-ad9c-a9b4c53e042e",
        "colab": {
          "base_uri": "https://localhost:8080/",
          "height": 34
        }
      },
      "source": [
        "# Let's see if the washing table is now part of the tables in our spark session\n",
        "spark.catalog.listTables()"
      ],
      "execution_count": 8,
      "outputs": [
        {
          "output_type": "execute_result",
          "data": {
            "text/plain": [
              "[]"
            ]
          },
          "metadata": {
            "tags": []
          },
          "execution_count": 8
        }
      ]
    },
    {
      "cell_type": "markdown",
      "metadata": {
        "id": "5I5XlPJstiWc",
        "colab_type": "text"
      },
      "source": [
        "So let's add the washing table to our spark session tables so that we can use spark.sql() commands and methods on it"
      ]
    },
    {
      "cell_type": "code",
      "metadata": {
        "id": "AJTFuXQQsj_E",
        "colab_type": "code",
        "colab": {}
      },
      "source": [
        "df.createOrReplaceTempView('washing')"
      ],
      "execution_count": 0,
      "outputs": []
    },
    {
      "cell_type": "code",
      "metadata": {
        "id": "vPUY81A-u370",
        "colab_type": "code",
        "outputId": "25358107-5a76-4eb5-d5e8-1cedd9dc1e9e",
        "colab": {
          "base_uri": "https://localhost:8080/",
          "height": 34
        }
      },
      "source": [
        "spark.catalog.listTables()"
      ],
      "execution_count": 10,
      "outputs": [
        {
          "output_type": "execute_result",
          "data": {
            "text/plain": [
              "[Table(name='washing', database=None, description=None, tableType='TEMPORARY', isTemporary=True)]"
            ]
          },
          "metadata": {
            "tags": []
          },
          "execution_count": 10
        }
      ]
    },
    {
      "cell_type": "markdown",
      "metadata": {
        "id": "c4trJ3djwGEn",
        "colab_type": "text"
      },
      "source": [
        "Let's inspect the voltage column and select it's values except null values."
      ]
    },
    {
      "cell_type": "code",
      "metadata": {
        "id": "2FmlFZ8uvBK9",
        "colab_type": "code",
        "colab": {}
      },
      "source": [
        "voltage_vec = spark.sql(\"select voltage from washing where voltage is not null\")"
      ],
      "execution_count": 0,
      "outputs": []
    },
    {
      "cell_type": "code",
      "metadata": {
        "id": "plQf4D3_vx1o",
        "colab_type": "code",
        "outputId": "423b4980-ea5c-4cf7-fbfd-b0ab892cc0e1",
        "colab": {
          "base_uri": "https://localhost:8080/",
          "height": 470
        }
      },
      "source": [
        "print(voltage_vec.count(),'Rows.')\n",
        "voltage_vec.show()\n",
        "\n",
        "# this shows that of the 2048 rows in voltage columns, only 448 are not null or NaN."
      ],
      "execution_count": 12,
      "outputs": [
        {
          "output_type": "stream",
          "text": [
            "448 Rows.\n",
            "+-------+\n",
            "|voltage|\n",
            "+-------+\n",
            "|    236|\n",
            "|    235|\n",
            "|    228|\n",
            "|    236|\n",
            "|    233|\n",
            "|    226|\n",
            "|    235|\n",
            "|    220|\n",
            "|    225|\n",
            "|    239|\n",
            "|    230|\n",
            "|    236|\n",
            "|    244|\n",
            "|    235|\n",
            "|    234|\n",
            "|    224|\n",
            "|    225|\n",
            "|    223|\n",
            "|    236|\n",
            "|    226|\n",
            "+-------+\n",
            "only showing top 20 rows\n",
            "\n"
          ],
          "name": "stdout"
        }
      ]
    },
    {
      "cell_type": "code",
      "metadata": {
        "id": "NtlrhUG65iDQ",
        "colab_type": "code",
        "outputId": "afc22c7b-424b-41a7-ecd0-a1e64421d4a0",
        "colab": {
          "base_uri": "https://localhost:8080/",
          "height": 101
        }
      },
      "source": [
        "voltage_vec.take(5)"
      ],
      "execution_count": 13,
      "outputs": [
        {
          "output_type": "execute_result",
          "data": {
            "text/plain": [
              "[Row(voltage=236),\n",
              " Row(voltage=235),\n",
              " Row(voltage=228),\n",
              " Row(voltage=236),\n",
              " Row(voltage=233)]"
            ]
          },
          "metadata": {
            "tags": []
          },
          "execution_count": 13
        }
      ]
    },
    {
      "cell_type": "markdown",
      "metadata": {
        "id": "rlalKmcC6X-q",
        "colab_type": "text"
      },
      "source": [
        "This shows that the values are somehow wrapped in a row object. So let's get rid of those. As mentioned earlier, DataFrames are wrappers of the RDD, so we should now access the wrapped RDD in the RDD API inorder to extract the containing values in the row wrapper object."
      ]
    },
    {
      "cell_type": "code",
      "metadata": {
        "id": "tjDMtD237mFj",
        "colab_type": "code",
        "colab": {}
      },
      "source": [
        "voltage_vec = voltage_vec.rdd.map(lambda row: row.voltage)"
      ],
      "execution_count": 0,
      "outputs": []
    },
    {
      "cell_type": "code",
      "metadata": {
        "id": "z4jpoS3L8g5e",
        "colab_type": "code",
        "outputId": "f4d375f2-2dca-4c7c-8ce0-e2355cb510f0",
        "colab": {
          "base_uri": "https://localhost:8080/",
          "height": 34
        }
      },
      "source": [
        "# Let's see the first 10 numbers\n",
        "voltage_vec.take(10)"
      ],
      "execution_count": 15,
      "outputs": [
        {
          "output_type": "execute_result",
          "data": {
            "text/plain": [
              "[236, 235, 228, 236, 233, 226, 235, 220, 225, 239]"
            ]
          },
          "metadata": {
            "tags": []
          },
          "execution_count": 15
        }
      ]
    },
    {
      "cell_type": "markdown",
      "metadata": {
        "id": "Cl7ySl6i8p-m",
        "colab_type": "text"
      },
      "source": [
        "**Sampling the Data**\n",
        "Let's now Sample this data.\n",
        "This step is the most important. Imagine if this RDD has millions of rows of data. There is no way we can pass that volume to a plotting library, since plotting is only done on a single machine. So Sampling is the answer."
      ]
    },
    {
      "cell_type": "markdown",
      "metadata": {
        "id": "6a2PkvPHBUo9",
        "colab_type": "text"
      },
      "source": [
        "Let's use a random fraction of 10% in this case. But if we really have a lot of data, then 0.01 or 0.001 or even less percent will be appropriate.<br>\n",
        "As a rule of thumb, not more than 100 data points should be plotted"
      ]
    },
    {
      "cell_type": "code",
      "metadata": {
        "id": "CgtygyD58pGa",
        "colab_type": "code",
        "outputId": "6c742f2a-d49f-4d16-9b7d-95d169144e6c",
        "colab": {
          "base_uri": "https://localhost:8080/",
          "height": 622
        }
      },
      "source": [
        "sample_voltage_vec = voltage_vec.sample(False, 0.1).collect()  # We sample with just 10% of the data in this case.\n",
        "sample_voltage_vec"
      ],
      "execution_count": 16,
      "outputs": [
        {
          "output_type": "execute_result",
          "data": {
            "text/plain": [
              "[234,\n",
              " 236,\n",
              " 237,\n",
              " 239,\n",
              " 233,\n",
              " 229,\n",
              " 228,\n",
              " 227,\n",
              " 225,\n",
              " 238,\n",
              " 237,\n",
              " 221,\n",
              " 223,\n",
              " 236,\n",
              " 237,\n",
              " 223,\n",
              " 227,\n",
              " 232,\n",
              " 232,\n",
              " 224,\n",
              " 226,\n",
              " 236,\n",
              " 246,\n",
              " 229,\n",
              " 230,\n",
              " 226,\n",
              " 231,\n",
              " 232,\n",
              " 257,\n",
              " 223,\n",
              " 238,\n",
              " 234,\n",
              " 222,\n",
              " 220,\n",
              " 220,\n",
              " 231]"
            ]
          },
          "metadata": {
            "tags": []
          },
          "execution_count": 16
        }
      ]
    },
    {
      "cell_type": "markdown",
      "metadata": {
        "id": "4xH3awKjDKA_",
        "colab_type": "text"
      },
      "source": [
        "This looks fine, the sampled data is the subset of all voltage values coming from the cloud and couchDB NOsql database.<br>\n",
        "Now we have a meaningful array containing integer values reflecting the voltage of the power source of a washing machine in different points in time, accessible to a local spark driver in a python array...Let's plot it."
      ]
    },
    {
      "cell_type": "markdown",
      "metadata": {
        "id": "6U_4AGzJ3W-E",
        "colab_type": "text"
      },
      "source": [
        "### Boxplots:\n",
        "\n",
        "Boxplots show many statistical moments of your data at the same time:- mean, median, skew, standard deviation and outlier content. Boxplots tell us about the distribution of our data."
      ]
    },
    {
      "cell_type": "code",
      "metadata": {
        "id": "Hhz2BT1TERzh",
        "colab_type": "code",
        "outputId": "e21e0e67-a959-4d51-cc9a-df10871d897e",
        "colab": {
          "base_uri": "https://localhost:8080/",
          "height": 0
        }
      },
      "source": [
        "import matplotlib.pyplot as plt\n",
        "plt.figure(figsize=(8,6))\n",
        "plt.boxplot(sample_voltage_vec)\n",
        "plt.show()"
      ],
      "execution_count": 17,
      "outputs": [
        {
          "output_type": "display_data",
          "data": {
            "image/png": "[encoded data removed]",
            "text/plain": [
              "<Figure size 576x432 with 1 Axes>"
            ]
          },
          "metadata": {
            "tags": []
          }
        }
      ]
    },
    {
      "cell_type": "markdown",
      "metadata": {
        "id": "JZME-ZzEJvZ2",
        "colab_type": "text"
      },
      "source": [
        "### Run Charts:\n",
        "\n",
        "This is another way of visualizing data. Ideally Time-series data.\n",
        "<br>Run charts are the default charts we may have seen for plotting stock market data. And guess what... Stock market data is a Time-series data, just as IOT sensor data.<br>Run charts always define the x-axis as time and it runs from the left to the right.<br>On the y-axis we can see the observed values over time. Sometimes also multiple values. Cos we could plot multiple dimensions using different colors, especially if the value ranges of each dimension are similar."
      ]
    },
    {
      "cell_type": "markdown",
      "metadata": {
        "id": "b-WIULWHMJrG",
        "colab_type": "text"
      },
      "source": [
        "To create a Run chart we need to fetch an additional dimension from our data set, namely the time dimension."
      ]
    },
    {
      "cell_type": "code",
      "metadata": {
        "id": "8rjMpSjhMI1q",
        "colab_type": "code",
        "colab": {}
      },
      "source": [
        "# First we run the spark.sql select statement for the two cols we want to display.\n",
        "time_volt_vec = spark.sql('select voltage,ts from washing where voltage is not null order by ts asc')\n",
        "# Next we use the underlying rdd attribute to sample the data and choose the ts and voltage values.\n",
        "result_array = time_volt_vec.rdd.sample(False,0.1).map(lambda row: (row.ts, row.voltage))"
      ],
      "execution_count": 0,
      "outputs": []
    },
    {
      "cell_type": "code",
      "metadata": {
        "id": "CK44FPuIR20K",
        "colab_type": "code",
        "outputId": "69c264a1-3350-495b-d8b1-cc18309a03fb",
        "colab": {
          "base_uri": "https://localhost:8080/",
          "height": 185
        }
      },
      "source": [
        "# Lets see the first 10 values\n",
        "result_array.take(10)"
      ],
      "execution_count": 19,
      "outputs": [
        {
          "output_type": "execute_result",
          "data": {
            "text/plain": [
              "[(1547808725914, 223),\n",
              " (1547808734922, 234),\n",
              " (1547808755932, 224),\n",
              " (1547808767938, 224),\n",
              " (1547808776948, 235),\n",
              " (1547808779950, 220),\n",
              " (1547808800960, 226),\n",
              " (1547808909090, 239),\n",
              " (1547808924097, 225),\n",
              " (1547808927099, 234)]"
            ]
          },
          "metadata": {
            "tags": []
          },
          "execution_count": 19
        }
      ]
    },
    {
      "cell_type": "markdown",
      "metadata": {
        "id": "DKvaGe0_SZgT",
        "colab_type": "text"
      },
      "source": [
        "We've rightly received a list of tiples of timestamp(ts) and voltage values. Let's turn these into python arrays."
      ]
    },
    {
      "cell_type": "code",
      "metadata": {
        "id": "MtMzl0JoMBPN",
        "colab_type": "code",
        "outputId": "d1b02fa5-c8b3-42f3-ea62-69bb1c35fd00",
        "colab": {
          "base_uri": "https://localhost:8080/",
          "height": 34
        }
      },
      "source": [
        "voltage_array = result_array.map(lambda ts_voltage: ts_voltage[1]).collect()\n",
        "# Let's see the first 5 values\n",
        "voltage_array[:5]"
      ],
      "execution_count": 20,
      "outputs": [
        {
          "output_type": "execute_result",
          "data": {
            "text/plain": [
              "[223, 234, 224, 224, 235]"
            ]
          },
          "metadata": {
            "tags": []
          },
          "execution_count": 20
        }
      ]
    },
    {
      "cell_type": "code",
      "metadata": {
        "id": "SxkjlzhXVDCf",
        "colab_type": "code",
        "outputId": "b81e1859-a8a1-435f-8a0e-7e9f533e7581",
        "colab": {
          "base_uri": "https://localhost:8080/",
          "height": 34
        }
      },
      "source": [
        "ts_array = result_array.map(lambda ts_voltage: ts_voltage[0]).collect()\n",
        "# Let's see the first 5 values\n",
        "ts_array[:5]"
      ],
      "execution_count": 21,
      "outputs": [
        {
          "output_type": "execute_result",
          "data": {
            "text/plain": [
              "[1547808725914, 1547808734922, 1547808755932, 1547808767938, 1547808776948]"
            ]
          },
          "metadata": {
            "tags": []
          },
          "execution_count": 21
        }
      ]
    },
    {
      "cell_type": "markdown",
      "metadata": {
        "id": "Rs86T8W7Vctj",
        "colab_type": "text"
      },
      "source": [
        "With our time stamp and voltage arrays, now we plot the Run chart."
      ]
    },
    {
      "cell_type": "code",
      "metadata": {
        "id": "o_NUy7VAViJ3",
        "colab_type": "code",
        "outputId": "997f2fb0-4609-4f7c-bbdf-8f833cd4db28",
        "colab": {
          "base_uri": "https://localhost:8080/",
          "height": 388
        }
      },
      "source": [
        "plt.figure(figsize=(8,6))\n",
        "plt.plot(ts_array,voltage_array)\n",
        "plt.xlabel('Time')\n",
        "plt.ylabel('Voltage')\n",
        "plt.show()"
      ],
      "execution_count": 22,
      "outputs": [
        {
          "output_type": "display_data",
          "data": {
            "image/png": "[encoded data removed]",
            "text/plain": [
              "<Figure size 576x432 with 1 Axes>"
            ]
          },
          "metadata": {
            "tags": []
          }
        }
      ]
    },
    {
      "cell_type": "markdown",
      "metadata": {
        "id": "JPnatXRWiQP7",
        "colab_type": "text"
      },
      "source": [
        "But this time we want to only plot data worth of one hour. Therefore we first have to find out in which date range we have data available:"
      ]
    },
    {
      "cell_type": "code",
      "metadata": {
        "id": "UI5eApdciTQb",
        "colab_type": "code",
        "colab": {
          "base_uri": "https://localhost:8080/",
          "height": 118
        },
        "outputId": "2dc5adfc-fa58-4b30-8c37-6dd65d984175"
      },
      "source": [
        "spark.sql(\"select min(ts), max(ts) from washing\").show()"
      ],
      "execution_count": 33,
      "outputs": [
        {
          "output_type": "stream",
          "text": [
            "+-------------+-------------+\n",
            "|      min(ts)|      max(ts)|\n",
            "+-------------+-------------+\n",
            "|1547808720911|1547810064867|\n",
            "+-------------+-------------+\n",
            "\n"
          ],
          "name": "stdout"
        }
      ]
    },
    {
      "cell_type": "markdown",
      "metadata": {
        "id": "Qbui8NlHjF4o",
        "colab_type": "text"
      },
      "source": [
        "Now lets repeat the previous steps but only show data for hour. We've found out the low and high boundary of data available and we know that \"ts\" stand for \"timestamp\". Timestamp are the number of millisecons passed since the 1st of Jan. 1970"
      ]
    },
    {
      "cell_type": "code",
      "metadata": {
        "id": "XoNGVcD_i_vA",
        "colab_type": "code",
        "colab": {
          "base_uri": "https://localhost:8080/",
          "height": 279
        },
        "outputId": "db48dfe3-c170-4bdd-cca5-845fed23c215"
      },
      "source": [
        "result = spark.sql(\n",
        "\"\"\"\n",
        "select voltage,ts from washing \n",
        "    where voltage is not null and \n",
        "    ts > 1547808720911 and\n",
        "    ts <= 1547810064867+3600000\n",
        "    order by ts asc\n",
        "\"\"\")\n",
        "result_rdd = result.rdd.map(lambda row : (row.ts,row.voltage))\n",
        "result_array_ts = result_rdd.map(lambda ts_voltage: ts_voltage[0]).collect()\n",
        "result_array_voltage = result_rdd.map(lambda ts_voltage: ts_voltage[1]).collect()\n",
        "plt.plot(result_array_ts,result_array_voltage)\n",
        "plt.xlabel(\"time\")\n",
        "plt.ylabel(\"voltage\")\n",
        "plt.show()"
      ],
      "execution_count": 35,
      "outputs": [
        {
          "output_type": "display_data",
          "data": {
            "image/png": "[encoded data removed]",
            "text/plain": [
              "<Figure size 432x288 with 1 Axes>"
            ]
          },
          "metadata": {
            "tags": []
          }
        }
      ]
    },
    {
      "cell_type": "markdown",
      "metadata": {
        "id": "v_favZWBWfm7",
        "colab_type": "text"
      },
      "source": [
        "The run chart preserves the time domain, so we can see the time and volt relationships in time"
      ]
    },
    {
      "cell_type": "markdown",
      "metadata": {
        "id": "Gss-E9adYARv",
        "colab_type": "text"
      },
      "source": [
        "### Scatter Plots:\n",
        "Scatter plots don't draw lines, they put individual data points to a 2 or 3 dimensional vector space.<br>Each point is reflecting a row in a data set and,<br>Each dimension reflects a column. Scatter plots can be used to define classification boundaries between 2 IOT events for example. Or clusters of similar data, or detecting outliers from normal behavior. "
      ]
    },
    {
      "cell_type": "markdown",
      "metadata": {
        "id": "J1qyHdU4b_ik",
        "colab_type": "text"
      },
      "source": [
        "For this scatter plot, we want to plot the values for the hardness, temperature and flowrate dimensions of the washing table or Dataframe."
      ]
    },
    {
      "cell_type": "code",
      "metadata": {
        "id": "et1JzGW8X-aJ",
        "colab_type": "code",
        "colab": {}
      },
      "source": [
        "# First we run the spark.sql select statement for the three cols we want to display.\n",
        "result = spark.sql('select hardness,temperature,flowrate from washing where hardness is not null and temperature is not null and flowrate is not null')\n",
        "# Next we use the underlying rdd attribute to sample the data and choose the columns we need\n",
        "result_array = result.rdd.sample(False,0.1).map(lambda row: (row.hardness, row.temperature, row.flowrate))"
      ],
      "execution_count": 0,
      "outputs": []
    },
    {
      "cell_type": "code",
      "metadata": {
        "id": "jY7kf-BRoWyl",
        "colab_type": "code",
        "outputId": "f3a06b49-9a10-45dd-b64f-0883f28e0c31",
        "colab": {
          "base_uri": "https://localhost:8080/",
          "height": 185
        }
      },
      "source": [
        "# let's see the first 10 values\n",
        "result_array.take(10)"
      ],
      "execution_count": 24,
      "outputs": [
        {
          "output_type": "execute_result",
          "data": {
            "text/plain": [
              "[(73, 84, 11),\n",
              " (79, 96, 11),\n",
              " (80, 89, 11),\n",
              " (125, 88, 11),\n",
              " (72, 81, 11),\n",
              " (80, 80, 11),\n",
              " (75, 91, 11),\n",
              " (79, 86, 11),\n",
              " (72, 89, 11),\n",
              " (130, 94, 11)]"
            ]
          },
          "metadata": {
            "tags": []
          },
          "execution_count": 24
        }
      ]
    },
    {
      "cell_type": "markdown",
      "metadata": {
        "id": "kb6VN99uoqV3",
        "colab_type": "text"
      },
      "source": [
        "Next let's unpack the hardness, temperature and flowrate columns into separate arrays or lists"
      ]
    },
    {
      "cell_type": "code",
      "metadata": {
        "id": "CjpyW6bTozAL",
        "colab_type": "code",
        "outputId": "07f60ae7-fb74-412e-8825-54185ca6cd54",
        "colab": {
          "base_uri": "https://localhost:8080/",
          "height": 34
        }
      },
      "source": [
        "hardness_arr = result_array.map(lambda hardness_temperaure_flowrate: hardness_temperaure_flowrate[0]).collect()\n",
        "# Let's see the first 5 values\n",
        "hardness_arr[:5]"
      ],
      "execution_count": 25,
      "outputs": [
        {
          "output_type": "execute_result",
          "data": {
            "text/plain": [
              "[73, 79, 80, 125, 72]"
            ]
          },
          "metadata": {
            "tags": []
          },
          "execution_count": 25
        }
      ]
    },
    {
      "cell_type": "code",
      "metadata": {
        "id": "zvNFizidpWup",
        "colab_type": "code",
        "outputId": "8dc9313d-8f86-45d3-f3dc-8828bae70496",
        "colab": {
          "base_uri": "https://localhost:8080/",
          "height": 34
        }
      },
      "source": [
        "temp_arr = result_array.map(lambda hardness_temperaure_flowrate: hardness_temperaure_flowrate[1]).collect()\n",
        "# Let's see the first 5 values\n",
        "temp_arr[:5]"
      ],
      "execution_count": 26,
      "outputs": [
        {
          "output_type": "execute_result",
          "data": {
            "text/plain": [
              "[84, 96, 89, 88, 81]"
            ]
          },
          "metadata": {
            "tags": []
          },
          "execution_count": 26
        }
      ]
    },
    {
      "cell_type": "code",
      "metadata": {
        "id": "tMgju90bph_k",
        "colab_type": "code",
        "outputId": "5254d309-0d7d-432b-c7b2-b4d2456edf1d",
        "colab": {
          "base_uri": "https://localhost:8080/",
          "height": 34
        }
      },
      "source": [
        "flowrate_arr = result_array.map(lambda hardness_temperaure_flowrate: hardness_temperaure_flowrate[2]).collect()\n",
        "# Let's see the first 5 values\n",
        "flowrate_arr[:5]"
      ],
      "execution_count": 27,
      "outputs": [
        {
          "output_type": "execute_result",
          "data": {
            "text/plain": [
              "[11, 11, 11, 11, 11]"
            ]
          },
          "metadata": {
            "tags": []
          },
          "execution_count": 27
        }
      ]
    },
    {
      "cell_type": "markdown",
      "metadata": {
        "id": "HlXD14-dp-r0",
        "colab_type": "text"
      },
      "source": [
        "Now let's plot the 3D plot of our data\n"
      ]
    },
    {
      "cell_type": "code",
      "metadata": {
        "id": "EokUDxH0qDH4",
        "colab_type": "code",
        "outputId": "95a91ccc-6693-49b9-eaa8-fc27873738f0",
        "colab": {
          "base_uri": "https://localhost:8080/",
          "height": 466
        }
      },
      "source": [
        "from mpl_toolkits.mplot3d import Axes3D\n",
        "fig = plt.figure(figsize=(10,8))\n",
        "ax = fig.add_subplot(111, projection = '3d')\n",
        "ax.scatter(hardness_arr, temp_arr,flowrate_arr, c='r', marker='o')\n",
        "ax.set_xlabel('Hardness')\n",
        "ax.set_ylabel('Temperature')\n",
        "ax.set_zlabel('Flowrate')\n",
        "plt.show()"
      ],
      "execution_count": 28,
      "outputs": [
        {
          "output_type": "display_data",
          "data": {
            "image/png": "[encoded data removed]",
            "text/plain": [
              "<Figure size 720x576 with 1 Axes>"
            ]
          },
          "metadata": {
            "tags": []
          }
        }
      ]
    },
    {
      "cell_type": "markdown",
      "metadata": {
        "id": "b3mBAfrVlSIF",
        "colab_type": "text"
      },
      "source": [
        "You will notice that the individual points resemble in some sort of plane. But this is not a surprise. Actually we can draw the following conclusions from the plot:\n",
        "\n",
        "most of the data points are lying around hardness 60-80, temperature 80-100 and flowrate 80-100\n",
        "there are some outliers, especially when it comes to the range of hardness 100-200\n",
        "\n",
        "The data follows some narrow boundaries\n",
        "So lets double-check what's going on with hardness since it seems that it really sticks around 60-80 and very seldom creates values above that. We can use a histogram for that which bins together certain value ranges and counts the frequency of occurences of values within this range. Those frequencies are ordered and shown as a bar diagram, so let's plot it:"
      ]
    },
    {
      "cell_type": "markdown",
      "metadata": {
        "id": "oskfAbBItTE7",
        "colab_type": "text"
      },
      "source": [
        "### Histograms\n",
        "\n",
        "Using Histograms, we can get an idea of the distribution of values within a single dimension. we can find regions of high and low value concentration within that particular dimension.<br>.Let's quickly plot the hardness array"
      ]
    },
    {
      "cell_type": "code",
      "metadata": {
        "id": "Ysycba2nuGZy",
        "colab_type": "code",
        "outputId": "a59c806e-80f3-4eb9-b434-ec82483811ae",
        "colab": {
          "base_uri": "https://localhost:8080/",
          "height": 281
        }
      },
      "source": [
        "plt.hist(hardness_arr, color='r', edgecolor='black', linewidth=2)\n",
        "plt.title('Hardness Histogram', color='y')\n",
        "plt.show()"
      ],
      "execution_count": 29,
      "outputs": [
        {
          "output_type": "display_data",
          "data": {
            "image/png": "[encoded data removed]",
            "text/plain": [
              "<Figure size 432x288 with 1 Axes>"
            ]
          },
          "metadata": {
            "tags": []
          }
        }
      ]
    },
    {
      "cell_type": "markdown",
      "metadata": {
        "id": "sAYOorITuUyY",
        "colab_type": "text"
      },
      "source": [
        "As with the scatter plot, we can see that hardness values are concentrated around 80, with a very low amount of exceptions."
      ]
    },
    {
      "cell_type": "code",
      "metadata": {
        "id": "piCmXqyOvFyS",
        "colab_type": "code",
        "outputId": "cbdcc6eb-953b-44ac-901e-05c02f9a116f",
        "colab": {
          "base_uri": "https://localhost:8080/",
          "height": 281
        }
      },
      "source": [
        "# Let's plot temperature\n",
        "plt.hist(temp_arr, color='blue', edgecolor='black', linewidth=2)\n",
        "plt.title('Temperature Histogram',color='y')\n",
        "plt.show()"
      ],
      "execution_count": 30,
      "outputs": [
        {
          "output_type": "display_data",
          "data": {
            "image/png": "[encoded data removed]",
            "text/plain": [
              "<Figure size 432x288 with 1 Axes>"
            ]
          },
          "metadata": {
            "tags": []
          }
        }
      ]
    },
    {
      "cell_type": "markdown",
      "metadata": {
        "id": "Ko8AkxH_vxy5",
        "colab_type": "text"
      },
      "source": [
        "Temperature on the other hand is very evenly distributed with a peak around 100"
      ]
    },
    {
      "cell_type": "code",
      "metadata": {
        "id": "SuvqAv8twjqi",
        "colab_type": "code",
        "outputId": "21384981-b3b4-47f1-c4df-82cbc2d570f9",
        "colab": {
          "base_uri": "https://localhost:8080/",
          "height": 281
        }
      },
      "source": [
        "# Let's plot flowrate\n",
        "plt.hist(flowrate_arr, color='magenta', edgecolor='black', linewidth=2)\n",
        "plt.title('Flowrate Histogram',color='y')\n",
        "plt.show()"
      ],
      "execution_count": 31,
      "outputs": [
        {
          "output_type": "display_data",
          "data": {
            "image/png": "[encoded data removed]",
            "text/plain": [
              "<Figure size 432x288 with 1 Axes>"
            ]
          },
          "metadata": {
            "tags": []
          }
        }
      ]
    },
    {
      "cell_type": "markdown",
      "metadata": {
        "id": "lMHZHTnhwvtt",
        "colab_type": "text"
      },
      "source": [
        "Just as we observed from the scatter plot, all values in the flowrate are 1. This is a unimodal distribution with only one value"
      ]
    },
    {
      "cell_type": "markdown",
      "metadata": {
        "id": "yTVt7h3Jw-NV",
        "colab_type": "text"
      },
      "source": [
        "## Summary:\n",
        "\n",
        "Low dimensional Data can be plotted using charts. we can easily visualize 1, 2 or 3 dimensional data at the same time.<br>\n",
        "Many statistical moments and properties can be visually represented using plots.\n",
        "<br>.Every plot has its clear purpose, but playing around with diff plots helps us to get more insight about our data set.\n",
        "\n",
        "We can look at the [ibm_notebook](https://github.com/IBM/coursera/blob/master/coursera_ds/a0_m4_exercice3.1_spark2.3_python3.5_cos.ipynb) for this exercise."
      ]
    },
    {
      "cell_type": "code",
      "metadata": {
        "id": "_s2AUioiw8wK",
        "colab_type": "code",
        "colab": {}
      },
      "source": [
        ""
      ],
      "execution_count": 0,
      "outputs": []
    }
  ]
}